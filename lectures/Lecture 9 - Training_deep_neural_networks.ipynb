{
 "cells": [
  {
   "cell_type": "markdown",
   "metadata": {
    "id": "ulmQi19ISz5K"
   },
   "source": [
    "# Training Deep Neural Networks\n",
    "\n",
    "- Reading: Geron ch. 11"
   ]
  },
  {
   "cell_type": "markdown",
   "metadata": {
    "id": "Grn6CA1RSz5Q",
    "tags": []
   },
   "source": [
    "### Setup"
   ]
  },
  {
   "cell_type": "markdown",
   "metadata": {
    "id": "8LCioUnWSz5Q"
   },
   "source": [
    "Requires Python 3.7 or above:"
   ]
  },
  {
   "cell_type": "code",
   "execution_count": 1,
   "metadata": {
    "executionInfo": {
     "elapsed": 256,
     "status": "ok",
     "timestamp": 1700145358343,
     "user": {
      "displayName": "Fabian Slonimczyk",
      "userId": "03641987333157587017"
     },
     "user_tz": -180
    },
    "id": "KvZU-qoGSz5R"
   },
   "outputs": [],
   "source": [
    "import sys\n",
    "assert sys.version_info >= (3, 7)"
   ]
  },
  {
   "cell_type": "code",
   "execution_count": 2,
   "metadata": {},
   "outputs": [
    {
     "name": "stdout",
     "output_type": "stream",
     "text": [
      "Note: you may need to restart the kernel to use updated packages.\n"
     ]
    }
   ],
   "source": [
    "%pip install --q --user numpy --upgrade"
   ]
  },
  {
   "cell_type": "markdown",
   "metadata": {
    "id": "UOArDI8OSz5S"
   },
   "source": [
    "And TensorFlow ≥ 2.8:"
   ]
  },
  {
   "cell_type": "code",
   "execution_count": 4,
   "metadata": {
    "executionInfo": {
     "elapsed": 3,
     "status": "ok",
     "timestamp": 1700145359859,
     "user": {
      "displayName": "Fabian Slonimczyk",
      "userId": "03641987333157587017"
     },
     "user_tz": -180
    },
    "id": "mPAaCIZLSz5T"
   },
   "outputs": [
    {
     "name": "stdout",
     "output_type": "stream",
     "text": [
      "2.14.0\n"
     ]
    }
   ],
   "source": [
    "from packaging import version\n",
    "import tensorflow as tf\n",
    "print(tf.__version__)\n",
    "assert version.parse(tf.__version__) >= version.parse(\"2.8.0\")"
   ]
  },
  {
   "cell_type": "markdown",
   "metadata": {
    "id": "eT-xx-iCSz5T"
   },
   "source": [
    "Define the default font sizes to make the figures prettier:"
   ]
  },
  {
   "cell_type": "code",
   "execution_count": 5,
   "metadata": {
    "executionInfo": {
     "elapsed": 2,
     "status": "ok",
     "timestamp": 1700145361287,
     "user": {
      "displayName": "Fabian Slonimczyk",
      "userId": "03641987333157587017"
     },
     "user_tz": -180
    },
    "id": "YYFZ13NXSz5U"
   },
   "outputs": [],
   "source": [
    "import matplotlib.pyplot as plt\n",
    "\n",
    "plt.rc('font', size=14)\n",
    "plt.rc('axes', labelsize=14, titlesize=14)\n",
    "plt.rc('legend', fontsize=14)\n",
    "plt.rc('xtick', labelsize=10)\n",
    "plt.rc('ytick', labelsize=10)"
   ]
  },
  {
   "cell_type": "code",
   "execution_count": 6,
   "metadata": {
    "executionInfo": {
     "elapsed": 3,
     "status": "ok",
     "timestamp": 1700145363092,
     "user": {
      "displayName": "Fabian Slonimczyk",
      "userId": "03641987333157587017"
     },
     "user_tz": -180
    },
    "id": "7Gn6-T3GSz5U"
   },
   "outputs": [],
   "source": [
    "from pathlib import Path\n",
    "\n",
    "IMAGES_PATH = Path() / \"images\" / \"deep\"\n",
    "IMAGES_PATH.mkdir(parents=True, exist_ok=True)\n",
    "\n",
    "def save_fig(fig_id, tight_layout=True, fig_extension=\"png\", resolution=300):\n",
    "    path = IMAGES_PATH / f\"{fig_id}.{fig_extension}\"\n",
    "    if tight_layout:\n",
    "        plt.tight_layout()\n",
    "    plt.savefig(path, format=fig_extension, dpi=resolution)"
   ]
  },
  {
   "cell_type": "markdown",
   "metadata": {
    "id": "3_7Ez5rkdu64"
   },
   "source": [
    "Training a deep neural network is a complicated affair. Here are some\n",
    "of the problems you could run into:\n",
    "\n",
    "- Gradients growing ever smaller or larger,\n",
    "when flowing backward through the DNN during training.\n",
    "\n",
    "- You might not have enough training data for such a large network, or it might be\n",
    "too costly to label.\n",
    "\n",
    "- Training may be extremely slow.\n",
    "\n",
    "- A model with millions of parameters would severely risk overfitting the training\n",
    "set, especially if there are not enough training instances or if they are too noisy."
   ]
  },
  {
   "cell_type": "markdown",
   "metadata": {
    "id": "G2XKU7UUegaA"
   },
   "source": [
    "## The Vanishing/Exploding Gradients Problems\n",
    "\n",
    "- The backpropagation algorithm's second phase works by going from the output layer to the input layer, propagating the error gradient along the way.\n",
    "\n",
    "- Once the algorithm has computed the gradient of the cost function with regard to each parameter in the network, it uses these gradients to update each parameter with a gradient descent step.\n",
    "\n",
    "- **Unfortunately, gradients often get smaller and smaller as the algorithm progresses down to the lower layers.**\n",
    "\n",
    "- As a result, the gradient descent update leaves the lower layers' connection weights virtually unchanged, and training never converges to a good solution. The *vanishing gradients problem*.\n",
    "\n",
    "- In some cases, the opposite can happen: the gradients can grow bigger and bigger until layers get insanely large weight updates and the algorithm diverges. This is *the exploding gradients problem*.\n"
   ]
  },
  {
   "cell_type": "markdown",
   "metadata": {
    "id": "f5mNHEKMfMm_"
   },
   "source": [
    "- Xavier Glorot and Yoshua Bengio (2010) found a few suspects for the unstable gradients problem, including the combination of the popular sigmoid (logistic) activation function and the weight initialization technique that was most popular at\n",
    "the time (i.e., a normal distribution with a mean of 0 and a standard deviation of 1).\n",
    "\n",
    "- In short, the problem is due to the variance of the outputs of each layer becoming much greater than the variance of its inputs. Going forward in the network, the variance keeps increasing after each layer until the activation function saturates at the top layers.\n",
    "\n",
    "- When inputs become large, the sigmoid function saturates at 0 or 1, with a derivative extremely close to 0. Thus, when\n",
    "backpropagation kicks in it has virtually no gradient to propagate back through the\n",
    "network, and what little gradient exists keeps getting diluted as backpropagation\n",
    "progresses down through the top layers, so there is really nothing left for the lower\n",
    "layers."
   ]
  },
  {
   "cell_type": "code",
   "execution_count": 7,
   "metadata": {
    "colab": {
     "base_uri": "https://localhost:8080/",
     "height": 475
    },
    "executionInfo": {
     "elapsed": 1313,
     "status": "ok",
     "timestamp": 1700145416027,
     "user": {
      "displayName": "Fabian Slonimczyk",
      "userId": "03641987333157587017"
     },
     "user_tz": -180
    },
    "id": "PEXLXDWqSz5V",
    "outputId": "f115e8c5-6c37-4a87-ce49-67060cf151d1"
   },
   "outputs": [
    {
     "data": {
      "image/png": "[encoded data removed]",
      "text/plain": [
       "<Figure size 432x288 with 1 Axes>"
      ]
     },
     "metadata": {
      "needs_background": "light"
     },
     "output_type": "display_data"
    }
   ],
   "source": [
    "import numpy as np\n",
    "\n",
    "def sigmoid(z):\n",
    "    return 1 / (1 + np.exp(-z))\n",
    "\n",
    "z = np.linspace(-5, 5, 200)\n",
    "\n",
    "plt.plot([-5, 5], [0, 0], 'k-')\n",
    "plt.plot([-5, 5], [1, 1], 'k--')\n",
    "plt.plot([0, 0], [-0.2, 1.2], 'k-')\n",
    "plt.plot([-5, 5], [-3/4, 7/4], 'g--')\n",
    "plt.plot(z, sigmoid(z), \"b-\", linewidth=2,\n",
    "         label=r\"$\\sigma(z) = \\dfrac{1}{1+e^{-z}}$\")\n",
    "props = dict(facecolor='black', shrink=0.1)\n",
    "plt.annotate('Saturating', xytext=(3.5, 0.7), xy=(5, 1), arrowprops=props,\n",
    "             fontsize=14, ha=\"center\")\n",
    "plt.annotate('Saturating', xytext=(-3.5, 0.3), xy=(-5, 0), arrowprops=props,\n",
    "             fontsize=14, ha=\"center\")\n",
    "plt.annotate('Linear', xytext=(2, 0.2), xy=(0, 0.5), arrowprops=props,\n",
    "             fontsize=14, ha=\"center\")\n",
    "plt.grid(True)\n",
    "plt.axis([-5, 5, -0.2, 1.2])\n",
    "plt.xlabel(\"$z$\")\n",
    "plt.legend(loc=\"upper left\", fontsize=16)\n",
    "\n",
    "save_fig(\"sigmoid_saturation_plot\")\n",
    "plt.show()"
   ]
  },
  {
   "cell_type": "markdown",
   "metadata": {
    "id": "LepPUd7XgpU1"
   },
   "source": [
    "### Glorot and He Initialization\n",
    "\n",
    "- Glorot and Bengio pointed out that we need the signal to flow properly in both\n",
    "directions: in the forward direction when making predictions, and in the reverse\n",
    "direction when backpropagating gradients.\n",
    "\n",
    "- For the signal to flow properly, the authors argue that we need the variance of the outputs of each layer to be equal to the\n",
    "variance of its inputs, and we need the gradients to have equal variance before and\n",
    "after flowing through a layer in the reverse direction.\n",
    "\n",
    "- It is actually **not possible** to guarantee **both** unless the layer has an equal number of inputs (the **fan-in**) and outputs (the **fan-out**), but Glorot and Bengio proposed a good compromise that has proven to work very well in practice:\n",
    "\n",
    "- **Xavier/Glorot Initialization**: the connection weights of each layer must be initialized randomly with:\n",
    "\n",
    "Normal distribution with mean 0 and variance\n",
    " $$\\sigma^2=\\frac{1}{fan_{AVG}}=\\frac{2}{fan_{IN}+fan_{OUT}}$$ or,\n",
    "\n",
    " Uniform distribution between $-r$ and $+r=\\sqrt{\\frac{3}{fan_{AVG}}}$\n",
    "\n",
    " - Some papers have provided similar strategies for different activation functions:\n",
    "\n",
    " ![image.png](data:image/png;base64,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)"
   ]
  },
  {
   "cell_type": "markdown",
   "metadata": {
    "id": "aj2sufVejGFi"
   },
   "source": [
    "- By default, `Keras` uses Glorot initialization with a uniform distribution.\n",
    "\n",
    "- You can switch to He initialization by setting `kernel_initializer=\"he_uniform\"` or `kernel_initializer=\"he_normal\"`."
   ]
  },
  {
   "cell_type": "code",
   "execution_count": 9,
   "metadata": {
    "executionInfo": {
     "elapsed": 410,
     "status": "ok",
     "timestamp": 1700145559063,
     "user": {
      "displayName": "Fabian Slonimczyk",
      "userId": "03641987333157587017"
     },
     "user_tz": -180
    },
    "id": "Y4pDcJqMSz5W"
   },
   "outputs": [],
   "source": [
    "dense = tf.keras.layers.Dense(50, activation=\"relu\",\n",
    "                              kernel_initializer=\"he_normal\")"
   ]
  },
  {
   "cell_type": "markdown",
   "metadata": {
    "id": "BGR7799-kpsL"
   },
   "source": [
    "- Any of the initializations listed in the table and more can be obtained using the `VarianceScaling` initializer.\n",
    "\n",
    "- For example, if you want He initialization\n",
    "with a uniform distribution and based on fanavg (rather than fanin), you can use the\n",
    "following code:"
   ]
  },
  {
   "cell_type": "code",
   "execution_count": 10,
   "metadata": {
    "executionInfo": {
     "elapsed": 230,
     "status": "ok",
     "timestamp": 1700145712367,
     "user": {
      "displayName": "Fabian Slonimczyk",
      "userId": "03641987333157587017"
     },
     "user_tz": -180
    },
    "id": "_JIl-bTwSz5X"
   },
   "outputs": [],
   "source": [
    "he_avg_init = tf.keras.initializers.VarianceScaling(scale=2., mode=\"fan_avg\",\n",
    "                                                    distribution=\"uniform\")\n",
    "dense = tf.keras.layers.Dense(50, activation=\"sigmoid\",\n",
    "                              kernel_initializer=he_avg_init)"
   ]
  },
  {
   "cell_type": "markdown",
   "metadata": {
    "id": "0jEImf4qSz5X"
   },
   "source": [
    "### Nonsaturating Activation Functions\n",
    "\n",
    "- The problems with unstable gradients were in part due to a poor choice of activation function.\n",
    "\n",
    "- Activation functions other than the sigmoid behave much better in deep neural\n",
    "networks.\n",
    "\n",
    "  - In particular, the ReLU activation function, mostly because it does not\n",
    "saturate for positive values, and also because it is very fast to compute.\n",
    "\n",
    "- Unfortunately, the ReLU activation function suffers from a problem known as the **dying ReLUs**:\n",
    "  - During training, some neurons effectively “die”, meaning they stop outputting anything other than 0.\n",
    "  \n",
    "  - A neuron dies when the input of the ReLU function is negative for all instances in the training set.\n",
    "  \n",
    "  - When this happens, it just keeps outputting zeros, and gradient descent does not affect it anymore because the gradient of the ReLU function is zero when its input is negative.\n",
    "\n",
    "- A variant of the ReLU function, such as\n",
    "the leaky ReLU, often works better."
   ]
  },
  {
   "cell_type": "markdown",
   "metadata": {
    "id": "geBwjVDCSz5X"
   },
   "source": [
    "#### Leaky ReLU\n",
    "\n",
    "- $\\text{LeakyReLU}_\\alpha(z)=\\max(\\alpha z, z)$\n",
    "- The hyperparameter $\\alpha < 1$ defines how much the function \"leaks\": it is the slope of the function for z < 0."
   ]
  },
  {
   "cell_type": "code",
   "execution_count": 8,
   "metadata": {
    "colab": {
     "base_uri": "https://localhost:8080/",
     "height": 352
    },
    "executionInfo": {
     "elapsed": 1076,
     "status": "ok",
     "timestamp": 1700149558321,
     "user": {
      "displayName": "Fabian Slonimczyk",
      "userId": "03641987333157587017"
     },
     "user_tz": -180
    },
    "id": "mmcTz0QNSz5X",
    "outputId": "be5afa46-a618-4ee4-b406-86bd8e4c7432"
   },
   "outputs": [
    {
     "data": {
      "image/png": "[encoded data removed]",
      "text/plain": [
       "<Figure size 432x288 with 1 Axes>"
      ]
     },
     "metadata": {
      "needs_background": "light"
     },
     "output_type": "display_data"
    }
   ],
   "source": [
    "def leaky_relu(z, alpha):\n",
    "    return np.maximum(alpha * z, z)\n",
    "\n",
    "z = np.linspace(-5, 5, 200)\n",
    "plt.plot(z, leaky_relu(z, 0.1),\n",
    "         \"b-\", linewidth=2,\n",
    "         label=r\"$\\mathrm{LeakyReLU}_\\alpha(z) = \\max(\\alpha z, z)$\")\n",
    "plt.plot([-5, 5], [0, 0], 'k-');\n",
    "plt.plot([0, 0], [-1, 3.7], 'k-');\n",
    "plt.grid(True);\n",
    "props = dict(facecolor='black', shrink=0.1);\n",
    "plt.annotate('Leak', xytext=(-3.5, 0.5), xy=(-5, -0.3),\n",
    "             arrowprops=props,\n",
    "             fontsize=14, ha=\"center\")\n",
    "plt.xlabel(\"$z$\");\n",
    "plt.axis([-5, 5, -1, 3.7]);\n",
    "plt.gca().set_aspect(\"equal\");\n",
    "plt.legend();\n",
    "\n",
    "save_fig(\"leaky_relu_plot\");\n",
    "plt.show();"
   ]
  },
  {
   "cell_type": "markdown",
   "metadata": {
    "id": "06B1idV20FAw"
   },
   "source": [
    "- Having a slope for $z < 0$ ensures that leaky ReLUs never die; they can go into a long coma, but they have a chance to eventually wake up."
   ]
  },
  {
   "cell_type": "code",
   "execution_count": 15,
   "metadata": {
    "executionInfo": {
     "elapsed": 285,
     "status": "ok",
     "timestamp": 1700149711420,
     "user": {
      "displayName": "Fabian Slonimczyk",
      "userId": "03641987333157587017"
     },
     "user_tz": -180
    },
    "id": "frY7p9s4Sz5Y"
   },
   "outputs": [],
   "source": [
    "leaky_relu = tf.keras.layers.LeakyReLU(alpha=0.2)  # defaults to alpha=0.3\n",
    "dense = tf.keras.layers.Dense(50, activation=leaky_relu,\n",
    "                              kernel_initializer=\"he_normal\")"
   ]
  },
  {
   "cell_type": "markdown",
   "metadata": {
    "id": "c63D-GIt0caY"
   },
   "source": [
    "- In the *parametric leaky ReLU* (PReLU), $\\alpha$ is a trainable parameter."
   ]
  },
  {
   "cell_type": "code",
   "execution_count": 16,
   "metadata": {
    "executionInfo": {
     "elapsed": 247,
     "status": "ok",
     "timestamp": 1700149932090,
     "user": {
      "displayName": "Fabian Slonimczyk",
      "userId": "03641987333157587017"
     },
     "user_tz": -180
    },
    "id": "huB1LDdISz5Y"
   },
   "outputs": [],
   "source": [
    "model = tf.keras.models.Sequential([\n",
    "    # [...]  # more layers\n",
    "    tf.keras.layers.Dense(50, kernel_initializer=\"he_normal\"),  # no activation\n",
    "    tf.keras.layers.PReLU(),  # activation as a separate layer\n",
    "    # [...]  # more layers\n",
    "])"
   ]
  },
  {
   "cell_type": "markdown",
   "metadata": {
    "id": "9r2t1ttISz5Y"
   },
   "source": [
    "#### ELU\n",
    "\n",
    "- ReLU, leaky ReLU, and PReLU all suffer from the fact that they are **not smooth functions**\n",
    "\n",
    "-  Their derivatives abruptly change (at $z=0$).\n",
    "\n",
    "- Now we will look at some **smooth variants of the ReLU activation function**."
   ]
  },
  {
   "cell_type": "markdown",
   "metadata": {
    "id": "EfKQMt4f1zfA"
   },
   "source": [
    "- Clevert et al. (2015) proposed an activation function called the *exponential linear unit* (ELU), that outperformed all the ReLU variants in the authors' experiment.\n",
    "\n",
    "$$\\mathrm{ELU}_\\alpha(z)=\\cases{\\alpha (\\exp(z)-1) \\quad \\text{  if  } z < 0 \\\\\n",
    "  z \\qquad \\qquad \\qquad \\text{  if  } z \\geq 0} $$"
   ]
  },
  {
   "cell_type": "markdown",
   "metadata": {
    "id": "gyPcOa8_Sz5Y"
   },
   "source": [
    "\n",
    "Implementing ELU in TensorFlow is trivial, just specify the activation function when building each layer, and use He initialization:"
   ]
  },
  {
   "cell_type": "code",
   "execution_count": null,
   "metadata": {
    "id": "aUx6rOG1Sz5Z"
   },
   "outputs": [],
   "source": [
    "dense = tf.keras.layers.Dense(50, activation=\"elu\",\n",
    "                              kernel_initializer=\"he_normal\")"
   ]
  },
  {
   "cell_type": "markdown",
   "metadata": {
    "id": "87YZ5fdqSz5Z",
    "tags": []
   },
   "source": [
    "#### SELU\n",
    "\n",
    "- Klambauer et al. (2017) introduced the scaled ELU (SELU) activation function:\n",
    "\n",
    "- A scaled variant of the ELU (about 1.05 times ELU, using α ≈ 1.67).\n",
    "\n",
    "- If you build a neural network composed exclusively of a stack of dense layers\n",
    "(i.e., an MLP), and if all hidden layers use the SELU activation function, then the\n",
    "network will self-normalize: the output of each layer will tend to preserve a mean of 0\n",
    "and a standard deviation of 1 during training, which solves the vanishing/exploding gradients problem."
   ]
  },
  {
   "cell_type": "code",
   "execution_count": 9,
   "metadata": {
    "colab": {
     "base_uri": "https://localhost:8080/",
     "height": 391
    },
    "executionInfo": {
     "elapsed": 1262,
     "status": "ok",
     "timestamp": 1700151166083,
     "user": {
      "displayName": "Fabian Slonimczyk",
      "userId": "03641987333157587017"
     },
     "user_tz": -180
    },
    "id": "UIW_cfyiSz5Z",
    "outputId": "e359c5bc-c7ef-456b-c860-2a87d91d7251"
   },
   "outputs": [
    {
     "data": {
      "image/png": "[encoded data removed]",
      "text/plain": [
       "<Figure size 432x288 with 1 Axes>"
      ]
     },
     "metadata": {
      "needs_background": "light"
     },
     "output_type": "display_data"
    }
   ],
   "source": [
    "# Complement of the error function (~ 1 - normal cdf)\n",
    "from scipy.special import erfc\n",
    "\n",
    "# alpha and scale to self normalize with mean 0 and standard deviation 1\n",
    "alpha_0_1 = -np.sqrt(2 / np.pi) / (erfc(1 / np.sqrt(2)) * np.exp(1 / 2) - 1)\n",
    "scale_0_1 = (\n",
    "    (1 - erfc(1 / np.sqrt(2)) * np.sqrt(np.e))\n",
    "    * np.sqrt(2 * np.pi)\n",
    "    * (\n",
    "        2 * erfc(np.sqrt(2)) * np.e ** 2\n",
    "        + np.pi * erfc(1 / np.sqrt(2)) ** 2 * np.e\n",
    "        - 2 * (2 + np.pi) * erfc(1 / np.sqrt(2)) * np.sqrt(np.e)\n",
    "        + np.pi\n",
    "        + 2\n",
    "    ) ** (-1 / 2)\n",
    ")\n",
    "\n",
    "def elu(z, alpha=1):\n",
    "    return np.where(z < 0, alpha * (np.exp(z) - 1), z)\n",
    "\n",
    "def selu(z, scale=scale_0_1, alpha=alpha_0_1):\n",
    "    return scale * elu(z, alpha)\n",
    "\n",
    "z = np.linspace(-5, 5, 200)\n",
    "plt.plot(z, elu(z), \"b-\", linewidth=2, label=r\"ELU$_\\alpha(z) = \\alpha (e^z - 1)$ if $z < 0$, else $z$\")\n",
    "plt.plot(z, selu(z), \"r--\", linewidth=2, label=r\"SELU$(z) = 1.05 \\, $ELU$_{1.67}(z)$\")\n",
    "plt.plot([-5, 5], [0, 0], 'k-')\n",
    "plt.plot([-5, 5], [-1, -1], 'k:', linewidth=2)\n",
    "plt.plot([-5, 5], [-1.758, -1.758], 'k:', linewidth=2)\n",
    "plt.plot([0, 0], [-2.2, 3.2], 'k-')\n",
    "plt.grid(True)\n",
    "plt.axis([-5, 5, -2.2, 3.2])\n",
    "plt.xlabel(\"$z$\")\n",
    "plt.gca().set_aspect(\"equal\")\n",
    "plt.legend()\n",
    "\n",
    "save_fig(\"elu_selu_plot\")\n",
    "plt.show()"
   ]
  },
  {
   "cell_type": "markdown",
   "metadata": {
    "id": "OHHa4MfeSz5Z"
   },
   "source": [
    "Using SELU is straightforward:"
   ]
  },
  {
   "cell_type": "code",
   "execution_count": 18,
   "metadata": {
    "executionInfo": {
     "elapsed": 472,
     "status": "ok",
     "timestamp": 1700151190839,
     "user": {
      "displayName": "Fabian Slonimczyk",
      "userId": "03641987333157587017"
     },
     "user_tz": -180
    },
    "id": "Sa8OCA-aSz5Z"
   },
   "outputs": [],
   "source": [
    "dense = tf.keras.layers.Dense(50, activation=\"selu\",\n",
    "                              kernel_initializer=\"lecun_normal\")"
   ]
  },
  {
   "cell_type": "markdown",
   "metadata": {
    "id": "fgOXofHUSz5Z"
   },
   "source": [
    "**An example of a self-regularized network using SELU**\n",
    "\n",
    "Let's create a neural net for Fashion MNIST with 100 hidden layers, using the SELU activation function:"
   ]
  },
  {
   "cell_type": "code",
   "execution_count": 10,
   "metadata": {
    "id": "_Sco4ex3Sz5a"
   },
   "outputs": [],
   "source": [
    "tf.random.set_seed(42)\n",
    "model = tf.keras.Sequential()\n",
    "model.add(tf.keras.layers.Flatten(input_shape=[28, 28]))\n",
    "for layer in range(100):\n",
    "    model.add(tf.keras.layers.Dense(100, activation=\"selu\",\n",
    "                                    kernel_initializer=\"lecun_normal\"))\n",
    "model.add(tf.keras.layers.Dense(10, activation=\"softmax\"))"
   ]
  },
  {
   "cell_type": "code",
   "execution_count": 11,
   "metadata": {
    "id": "3y_oFf7_Sz5a"
   },
   "outputs": [],
   "source": [
    "model.compile(loss=\"sparse_categorical_crossentropy\",\n",
    "              optimizer=tf.keras.optimizers.SGD(learning_rate=0.001),\n",
    "              metrics=[\"accuracy\"])"
   ]
  },
  {
   "cell_type": "markdown",
   "metadata": {
    "id": "btXJgImUSz5a"
   },
   "source": [
    "Now let's train it. Do not forget to scale the inputs to mean 0 and standard deviation 1:"
   ]
  },
  {
   "cell_type": "code",
   "execution_count": 12,
   "metadata": {
    "colab": {
     "base_uri": "https://localhost:8080/"
    },
    "executionInfo": {
     "elapsed": 1383,
     "status": "ok",
     "timestamp": 1700159786092,
     "user": {
      "displayName": "Fabian Slonimczyk",
      "userId": "03641987333157587017"
     },
     "user_tz": -180
    },
    "id": "0XnDz5iqSz5a",
    "outputId": "c208f0bf-eee3-4ca2-f79e-58529b72cf55"
   },
   "outputs": [],
   "source": [
    "fashion_mnist = tf.keras.datasets.fashion_mnist.load_data()\n",
    "(X_train_full, y_train_full), (X_test, y_test) = fashion_mnist\n",
    "X_train, y_train = X_train_full[:-5000], y_train_full[:-5000]\n",
    "X_valid, y_valid = X_train_full[-5000:], y_train_full[-5000:]\n",
    "X_train, X_valid, X_test = X_train / 255, X_valid / 255, X_test / 255"
   ]
  },
  {
   "cell_type": "code",
   "execution_count": 13,
   "metadata": {
    "executionInfo": {
     "elapsed": 280,
     "status": "ok",
     "timestamp": 1700159793038,
     "user": {
      "displayName": "Fabian Slonimczyk",
      "userId": "03641987333157587017"
     },
     "user_tz": -180
    },
    "id": "oRHeAcqjSz5a"
   },
   "outputs": [],
   "source": [
    "class_names = [\"T-shirt/top\", \"Trouser\", \"Pullover\", \"Dress\", \"Coat\",\n",
    "               \"Sandal\", \"Shirt\", \"Sneaker\", \"Bag\", \"Ankle boot\"]"
   ]
  },
  {
   "cell_type": "code",
   "execution_count": 14,
   "metadata": {
    "id": "BlhgLk4ASz5a"
   },
   "outputs": [],
   "source": [
    "pixel_means = X_train.mean(axis=0, keepdims=True)\n",
    "pixel_stds = X_train.std(axis=0, keepdims=True)\n",
    "X_train_scaled = (X_train - pixel_means) / pixel_stds\n",
    "X_valid_scaled = (X_valid - pixel_means) / pixel_stds\n",
    "X_test_scaled = (X_test - pixel_means) / pixel_stds"
   ]
  },
  {
   "cell_type": "code",
   "execution_count": 15,
   "metadata": {
    "id": "0kGq7sdKSz5a",
    "outputId": "093afbd3-c985-4e71-83e1-957f2e5ab1ba"
   },
   "outputs": [
    {
     "name": "stdout",
     "output_type": "stream",
     "text": [
      "Epoch 1/5\n",
      "1719/1719 [==============================] - 28s 13ms/step - loss: 1.8522 - accuracy: 0.2775 - val_loss: 1.4154 - val_accuracy: 0.4212\n",
      "Epoch 2/5\n",
      "1719/1719 [==============================] - 21s 12ms/step - loss: 1.1189 - accuracy: 0.5558 - val_loss: 0.9340 - val_accuracy: 0.6264\n",
      "Epoch 3/5\n",
      "1719/1719 [==============================] - 22s 13ms/step - loss: 0.9667 - accuracy: 0.6336 - val_loss: 1.1361 - val_accuracy: 0.5576\n",
      "Epoch 4/5\n",
      "1719/1719 [==============================] - 22s 13ms/step - loss: 0.9452 - accuracy: 0.6490 - val_loss: 0.9074 - val_accuracy: 0.6338\n",
      "Epoch 5/5\n",
      "1719/1719 [==============================] - 21s 12ms/step - loss: 0.7754 - accuracy: 0.7141 - val_loss: 0.9138 - val_accuracy: 0.6670\n"
     ]
    }
   ],
   "source": [
    "history = model.fit(X_train_scaled, y_train, epochs=5,\n",
    "                    validation_data=(X_valid_scaled, y_valid))"
   ]
  },
  {
   "cell_type": "markdown",
   "metadata": {
    "id": "QRO9L1i0Sz5b"
   },
   "source": [
    "The network managed to learn, despite how deep it is. "
   ]
  },
  {
   "cell_type": "markdown",
   "metadata": {
    "id": "1BS1PfKtSz5g"
   },
   "source": [
    "#### GELU, Swish and Mish\n",
    "\n",
    "- GELU was introduced in a 2016 paper by Dan Hendrycks and Kevin Gimpel.\n",
    "\n",
    "- Another smooth variant of the ReLU activation function ($\\Phi()$ is the normal cdf).\n",
    "\n",
    "$$\\mathrm{GELU}(z)= z\\cdot \\Phi(z)$$"
   ]
  },
  {
   "cell_type": "code",
   "execution_count": 20,
   "metadata": {
    "colab": {
     "base_uri": "https://localhost:8080/",
     "height": 365
    },
    "executionInfo": {
     "elapsed": 928,
     "status": "ok",
     "timestamp": 1700151539365,
     "user": {
      "displayName": "Fabian Slonimczyk",
      "userId": "03641987333157587017"
     },
     "user_tz": -180
    },
    "id": "Ge9mnMX4Sz5g",
    "outputId": "f67ed26c-0010-454c-bb7f-6be89ce382a5"
   },
   "outputs": [
    {
     "data": {
      "image/png": "[encoded data removed]",
      "text/plain": [
       "<Figure size 432x288 with 1 Axes>"
      ]
     },
     "metadata": {
      "needs_background": "light"
     },
     "output_type": "display_data"
    }
   ],
   "source": [
    "def swish(z, beta=1):\n",
    "    return z * sigmoid(beta * z)\n",
    "\n",
    "def approx_gelu(z):\n",
    "    return swish(z, beta=1.702)\n",
    "\n",
    "def softplus(z):\n",
    "    return np.log(1 + np.exp(z))\n",
    "\n",
    "def mish(z):\n",
    "    return z * np.tanh(softplus(z))\n",
    "\n",
    "z = np.linspace(-4, 2, 200)\n",
    "\n",
    "beta = 0.6\n",
    "plt.plot(z, approx_gelu(z), \"b-\", linewidth=2,\n",
    "         label=r\"GELU$(z) = z\\,\\Phi(z)$\")\n",
    "plt.plot(z, swish(z), \"r--\", linewidth=2,\n",
    "         label=r\"Swish$(z) = z\\,\\sigma(z)$\")\n",
    "plt.plot(z, swish(z, beta), \"r:\", linewidth=2,\n",
    "         label=fr\"Swish$_{{\\beta={beta}}}(z)=z\\,\\sigma({beta}\\,z)$\")\n",
    "plt.plot(z, mish(z), \"g:\", linewidth=3,\n",
    "         label=fr\"Mish$(z) = z\\,\\tanh($softplus$(z))$\")\n",
    "plt.plot([-4, 2], [0, 0], 'k-')\n",
    "plt.plot([0, 0], [-2.2, 3.2], 'k-')\n",
    "plt.grid(True)\n",
    "plt.axis([-4, 2, -1, 2])\n",
    "plt.gca().set_aspect(\"equal\")\n",
    "plt.xlabel(\"$z$\")\n",
    "plt.legend(loc=\"upper left\")\n",
    "\n",
    "save_fig(\"gelu_swish_mish_plot\")\n",
    "plt.show()"
   ]
  },
  {
   "cell_type": "markdown",
   "metadata": {
    "id": "9H-BPa4LSz5g"
   },
   "source": [
    "## Batch Normalization\n",
    "\n",
    "- Although using He initialization along with ReLU can significantly reduce the danger of the vanishing/exploding gradients at the beginning of training, it doesn't guarantee that they won't come back during training!\n",
    "\n",
    "- A technique called **batch normalization** (BN) addresses these problems.\n",
    "\n",
    "- The technique consists of adding an operation in the model just before or after the activation function of each hidden layer.\n",
    "\n",
    "- This operation simply zero-centers and normalizes each input, then scales and shifts the result using two new parameter vectors per layer: one for scaling,\n",
    "the other for shifting.\n",
    "\n",
    "- In other words, the operation lets the model learn the optimal scale and mean of each of the layer's inputs.\n",
    "\n",
    "- In order to zero-center and normalize the inputs, the algorithm evaluates the mean and standard deviation of the input over the current mini-batch."
   ]
  },
  {
   "cell_type": "markdown",
   "metadata": {
    "id": "a-MC6GkoJU0Y"
   },
   "source": [
    "#### **Batch normalization algorithm**\n",
    "\n",
    "1. $\\boldsymbol{\\mu}_B = \\frac{1}{m_B}\\sum_{i=1}^{m_B} \\mathbf{x}^{(i)}$\n",
    "\n",
    "2. $\\boldsymbol{\\sigma}_B^2 = \\frac{1}{m_B}\\sum_{i=1}^{m_B} \\left(\\mathbf{x}^{(i)}-\\boldsymbol{\\mu}_B\\right)^2$\n",
    "\n",
    "3. $\\hat{\\mathbf{x}}^{(i)} = \\frac{\\mathbf{x}^{(i)}-\\boldsymbol{\\mu}_B}{\\sqrt{\\boldsymbol{\\sigma}_B+ɛ}}$\n",
    "\n",
    "4. $\\mathbf{z}^{(i)} = \\boldsymbol{\\gamma}⊗ \\hat{\\mathbf{x}}^{(i)} + \\boldsymbol{\\beta}$"
   ]
  },
  {
   "cell_type": "markdown",
   "metadata": {
    "id": "CydbMV3ML_Rn"
   },
   "source": [
    "- Most implementations of batch normalization estimate the final $\\boldsymbol{\\mu, \\sigma}$ statistics during training by using a moving average of the layer's input means and standard deviations.\n",
    "\n",
    "- To sum up, four parameter vectors are learned in each batch-normalized layer: $\\boldsymbol{\\gamma}$ (the output scale vector) and $\\boldsymbol{\\beta}$ (the output offset vector) are learned through regular backpropagation, and $\\boldsymbol{\\mu}$ (the final input mean vector) and $\\boldsymbol{\\sigma}$ (the final input standard deviation vector) are estimated using an exponential moving average.\n",
    "\n",
    "\n",
    "- As with most things with Keras, implementing batch normalization is straightforward and intuitive. Just add a `BatchNormalization` layer before or after each hidden layer's activation function"
   ]
  },
  {
   "cell_type": "code",
   "execution_count": 21,
   "metadata": {
    "executionInfo": {
     "elapsed": 240,
     "status": "ok",
     "timestamp": 1700156167168,
     "user": {
      "displayName": "Fabian Slonimczyk",
      "userId": "03641987333157587017"
     },
     "user_tz": -180
    },
    "id": "F9CnEG_eSz5h"
   },
   "outputs": [],
   "source": [
    "# clear the name counters and set the random seed\n",
    "tf.keras.backend.clear_session()\n",
    "tf.random.set_seed(42)"
   ]
  },
  {
   "cell_type": "code",
   "execution_count": 22,
   "metadata": {
    "executionInfo": {
     "elapsed": 363,
     "status": "ok",
     "timestamp": 1700156168849,
     "user": {
      "displayName": "Fabian Slonimczyk",
      "userId": "03641987333157587017"
     },
     "user_tz": -180
    },
    "id": "MDyeGbgUSz5h"
   },
   "outputs": [],
   "source": [
    "model = tf.keras.Sequential([\n",
    "    tf.keras.layers.Flatten(input_shape=[28, 28]),\n",
    "    # Add batch normalization\n",
    "    tf.keras.layers.BatchNormalization(),\n",
    "    tf.keras.layers.Dense(300, activation=\"relu\",\n",
    "                          kernel_initializer=\"he_normal\"),\n",
    "    # Add batch normalization\n",
    "    tf.keras.layers.BatchNormalization(),\n",
    "    tf.keras.layers.Dense(100, activation=\"relu\",\n",
    "                          kernel_initializer=\"he_normal\"),\n",
    "    # Add batch normalization\n",
    "    tf.keras.layers.BatchNormalization(),\n",
    "    tf.keras.layers.Dense(10, activation=\"softmax\")\n",
    "])"
   ]
  },
  {
   "cell_type": "code",
   "execution_count": 23,
   "metadata": {
    "colab": {
     "base_uri": "https://localhost:8080/"
    },
    "executionInfo": {
     "elapsed": 247,
     "status": "ok",
     "timestamp": 1700156172062,
     "user": {
      "displayName": "Fabian Slonimczyk",
      "userId": "03641987333157587017"
     },
     "user_tz": -180
    },
    "id": "EgwxqWToSz5h",
    "outputId": "54d37e23-d24d-4b58-b702-a804279ef613"
   },
   "outputs": [
    {
     "name": "stdout",
     "output_type": "stream",
     "text": [
      "Model: \"sequential\"\n",
      "_________________________________________________________________\n",
      " Layer (type)                Output Shape              Param #   \n",
      "=================================================================\n",
      " flatten (Flatten)           (None, 784)               0         \n",
      "                                                                 \n",
      " batch_normalization (Batch  (None, 784)               3136      \n",
      " Normalization)                                                  \n",
      "                                                                 \n",
      " dense (Dense)               (None, 300)               235500    \n",
      "                                                                 \n",
      " batch_normalization_1 (Bat  (None, 300)               1200      \n",
      " chNormalization)                                                \n",
      "                                                                 \n",
      " dense_1 (Dense)             (None, 100)               30100     \n",
      "                                                                 \n",
      " batch_normalization_2 (Bat  (None, 100)               400       \n",
      " chNormalization)                                                \n",
      "                                                                 \n",
      " dense_2 (Dense)             (None, 10)                1010      \n",
      "                                                                 \n",
      "=================================================================\n",
      "Total params: 271346 (1.04 MB)\n",
      "Trainable params: 268978 (1.03 MB)\n",
      "Non-trainable params: 2368 (9.25 KB)\n",
      "_________________________________________________________________\n"
     ]
    }
   ],
   "source": [
    "model.summary()"
   ]
  },
  {
   "cell_type": "code",
   "execution_count": null,
   "metadata": {
    "id": "YF-iPTR5Sz5h",
    "outputId": "8327e6eb-3628-4470-e3fa-15a613090686"
   },
   "outputs": [
    {
     "data": {
      "text/plain": [
       "[('batch_normalization/gamma:0', True),\n",
       " ('batch_normalization/beta:0', True),\n",
       " ('batch_normalization/moving_mean:0', False),\n",
       " ('batch_normalization/moving_variance:0', False)]"
      ]
     },
     "execution_count": 28,
     "metadata": {},
     "output_type": "execute_result"
    }
   ],
   "source": [
    "[(var.name, var.trainable) for var in model.layers[1].variables]"
   ]
  },
  {
   "cell_type": "code",
   "execution_count": null,
   "metadata": {
    "id": "bXgxwdpbSz5h",
    "outputId": "d8191e82-3d97-43cd-e2e7-30497ec2520e"
   },
   "outputs": [
    {
     "name": "stdout",
     "output_type": "stream",
     "text": [
      "Epoch 1/2\n",
      "1719/1719 [==============================] - 3s 2ms/step - loss: 0.5559 - accuracy: 0.8094 - val_loss: 0.4016 - val_accuracy: 0.8558\n",
      "Epoch 2/2\n",
      "1719/1719 [==============================] - 3s 1ms/step - loss: 0.4083 - accuracy: 0.8561 - val_loss: 0.3676 - val_accuracy: 0.8650\n"
     ]
    },
    {
     "data": {
      "text/plain": [
       "<keras.callbacks.History at 0x7fa5d11505b0>"
      ]
     },
     "execution_count": 29,
     "metadata": {},
     "output_type": "execute_result"
    }
   ],
   "source": [
    "# extra code – just show that the model works! 😊\n",
    "model.compile(loss=\"sparse_categorical_crossentropy\", optimizer=\"sgd\",\n",
    "              metrics=\"accuracy\")\n",
    "model.fit(X_train, y_train, epochs=2, validation_data=(X_valid, y_valid))"
   ]
  },
  {
   "cell_type": "markdown",
   "metadata": {
    "id": "dD79jWPKSz5i"
   },
   "source": [
    "- Sometimes applying BN before the activation function works better (there's a debate on this topic).\n",
    "\n",
    "- Moreover, the layer before a `BatchNormalization` layer does not need to have bias terms, since the `BatchNormalization` layer has the offset parameter (so you can set `use_bias=False` when creating those layers):"
   ]
  },
  {
   "cell_type": "code",
   "execution_count": 24,
   "metadata": {
    "executionInfo": {
     "elapsed": 260,
     "status": "ok",
     "timestamp": 1700156340726,
     "user": {
      "displayName": "Fabian Slonimczyk",
      "userId": "03641987333157587017"
     },
     "user_tz": -180
    },
    "id": "uwUsvubNSz5i"
   },
   "outputs": [],
   "source": [
    "# clear the name counters and set the random seed\n",
    "tf.keras.backend.clear_session()\n",
    "tf.random.set_seed(42)"
   ]
  },
  {
   "cell_type": "code",
   "execution_count": 25,
   "metadata": {
    "executionInfo": {
     "elapsed": 236,
     "status": "ok",
     "timestamp": 1700156341991,
     "user": {
      "displayName": "Fabian Slonimczyk",
      "userId": "03641987333157587017"
     },
     "user_tz": -180
    },
    "id": "XZExVIqhSz5i"
   },
   "outputs": [],
   "source": [
    "model = tf.keras.Sequential([\n",
    "    tf.keras.layers.Flatten(input_shape=[28, 28]),\n",
    "    tf.keras.layers.Dense(300, kernel_initializer=\"he_normal\", use_bias=False),\n",
    "    tf.keras.layers.BatchNormalization(),\n",
    "    # BN before activation\n",
    "    tf.keras.layers.Activation(\"relu\"),\n",
    "    tf.keras.layers.Dense(100, kernel_initializer=\"he_normal\", use_bias=False),\n",
    "    tf.keras.layers.BatchNormalization(),\n",
    "    tf.keras.layers.Activation(\"relu\"),\n",
    "    tf.keras.layers.Dense(10, activation=\"softmax\")\n",
    "])"
   ]
  },
  {
   "cell_type": "markdown",
   "metadata": {
    "id": "ws0QfJ2YSz5j"
   },
   "source": [
    "### Gradient Clipping\n",
    "\n",
    "- Another technique to mitigate the exploding gradients problem is to clip the gradients during backpropagation so that they never exceed some threshold.\n",
    "\n",
    "- This is called *gradient clipping*\n",
    "\n",
    "- This technique is generally used in recurrent neural networks, where using batch normalization is tricky."
   ]
  },
  {
   "cell_type": "markdown",
   "metadata": {
    "id": "ateDd56TSz5j"
   },
   "source": [
    "All `tf.keras.optimizers` accept `clipnorm` or `clipvalue` arguments:"
   ]
  },
  {
   "cell_type": "code",
   "execution_count": null,
   "metadata": {
    "id": "VceNM9w0Sz5j"
   },
   "outputs": [],
   "source": [
    "optimizer = tf.keras.optimizers.SGD(clipvalue=1.0)\n",
    "model.compile(loss=\"sparse_categorical_crossentropy\", optimizer=optimizer)"
   ]
  },
  {
   "cell_type": "code",
   "execution_count": null,
   "metadata": {
    "id": "dJOr4509Sz5j"
   },
   "outputs": [],
   "source": [
    "optimizer = tf.keras.optimizers.SGD(clipnorm=1.0)\n",
    "model.compile(loss=\"sparse_categorical_crossentropy\", optimizer=optimizer)"
   ]
  },
  {
   "cell_type": "markdown",
   "metadata": {
    "id": "R4_uXzBzSz5j"
   },
   "source": [
    "## Reusing Pretrained Layers\n",
    "\n",
    "- It is generally not a good idea to train a very large DNN from scratch without first\n",
    "trying to find an existing neural network that accomplishes a similar task to the one\n",
    "you are trying to tackle.\n",
    "\n",
    "- If you find such as neural network, then you can generally reuse most of its layers, except for the top ones.\n",
    "\n",
    "- This technique is called **transfer learning**. It will not only speed up training considerably, but also requires significantly less training data."
   ]
  },
  {
   "cell_type": "markdown",
   "metadata": {
    "id": "8tDyai8pX-Zv"
   },
   "source": [
    "![image.png](data:image/png;base64,iVBORw0KGgoAAAANSUhEUgAAA0EAAAHdCAYAAADbxnLIAAAgAElEQVR4Aey9D5gVxZ3u7+MYBx10RAITQBxlDLMCgVXUMY6RVVCIgJAQRUUlBIUFxFFA0aA7KuKgI/+EiEgIICKCCARc2IRsxg2JrEEDe8HFvcRLvFx/c925yl3JT3Llbuo+b5Fvn5qePn+6T3ef7j5vPU9Pd1d/q7rrU1V96p2qrjpF0ZEACZAACZAACZAACZAACZBAERE4pYjSyqSSAAmQAAmQAAmQAAmQAAmQgHIUQZ9++inRkAAJkAAJkAAJkAAJkAAJkEBiCJgax1EEnXLKKYobGbAMsAywDLAMsAywDLAMsAywDLAMJKkMfPHFF1rUpRVBiZF8TAgJkAAJkAAJkAAJkAAJkEDRE4CYE5c6Eh+ldC+QccpDEiABEiABEiABEiABEiABEog1AYqgWGcfH54ESIAESIAESIAESIAESMAtAYogt8RoTwIkQAIkQAIkQAIkQAIkEGsCFEGxzj4+PAmQAAmQAAmQAAmQAAmQgFsCFEFuidGeBEiABEiABEiABEiABEgg1gQogmKdfXx4EiABEiABEiABEiABEiABtwQogtwSoz0JkAAJkAAJkAAJkAAJkECsCVAExTr7+PAkQAIkQAIkQAIkQAIkQAJuCVAEuSVGexIgARIgARIgARIgARIggVgToAiKdfbx4aNMoLm5WVVXV6tDhw5F+TH5bCRAAiRAAiRAAiRQdAQogoouy5ngsAhQBIVFmvchARIgARIgARIgAXcEKILc8aI1CeRMYPz48QoVbOjQoTmHoSEJkAAJkAAJkAAJkEDwBCiCgmfMOxQhgb1796qSkhItglDJduzYUYQUmGQSIAESIAESIAESiCYBiqBo5gufKuYEamtrLQGESoZvg06cOBHzVPHxSYAESIAESIAESCAZBCiCkpGPTEWECKxbt66VAEIlw7ZgwYIIPSUfhQRIgARIgARIgASKlwBFUPHmPVMeAIHjx4+ryspKRxFUXl6uWlpaArgroyQBEiABEiABEiABEnBDgCLIDS3akkAWAitXrnQUQOwNygKOl0mABEiABEiABEggRAIUQSHC5q2ST6CmpiajCKqqquK3QckvBkwhCZAACZAACZBAxAlQBEU8g/h48SGwZs2ajAJIeoMaGhrikyg+KQmQAAmQAAmQAAkkkABFUAIzlUkKn8CxY8dUt27dchJB+DYIC6nSkQAJkAAJkAAJkAAJFIYARVBhuPOuCSMwa9asnASQ9AZhIVU6EiABEiABEiABEiCBwhCgCCoMd941QQSamppUaWmpKxGEhVSXLl2aIApMCgmQAAmQAAmQAAnEhwBFUHzyik8aQQL79+93LYCkNwj7nTt3RjBVfCQSIAESIAESIAESSDYBiqBk5y9TFzCBsWPHuuoBMgUQjkeMGBHwEzJ6EiABEiABEiABEiABOwGKIDsRnpOACwJ1dXUKQsi+DR48uJU4qq2tbWODMPg2CAus0pEACZAACZAACZAACYRHgCIoPNa8UxERwHdCZq8PFlGlIwESIAESIAESIAESiAYBiqBo5AOfImEEKIISlqFMDgmQAAmQAAmQQKIIUAQlKjuZmKgQoAiKSk7wOUiABEiABEiABEigLQGKoLZM6EMCeROgCMobISMgARIgARIgARIggcAIUAQFhpYRFzMBiqBizn2mnQRIgARIgARIIOoEKIKinkN8vlgSoAiKZbbxoUmABEiABEiABIqEAEVQkWQ0kxkuAYqgcHnzbiRAAiRAAiRAAiTghgBFkBtatCWBHAlQBOUIimYkQAIkQAIkQAIkUAACFEEFgM5bJp8ARVDy85gpJAESIAESIAESiC8BiqD45h2fPMIEKIIinDl8NBIgARIgARIggaInQBFU9EWAAIIgQBEUBFXGSQIkQAIkQAIkQAL+EKAI8ocjYyGBVgQoglrh4AkJkAAJkAAJkAAJRIoARVCksoMPkxQCFEFJyUmmgwRIgARIgARIIIkEKIKSmKtMU8EJUAQVPAv4ACRAAiRAAiRAAiSQlgBFUFo0vEAC3glQBHlnx5AkQAIkQAIkQAIkEDQBiqCgCTP+oiRAEVSU2c5EkwAJkAAJkAAJxIQARVBMMoqPGS8CFEHxyi8+LQmQAAmQAAmQQHERoAgqrvyOTGp3796tJk6cqAYMGKAqKytVWVmZQmHkFg8GpaWlOt9qamrU2LFj1Y4dOyJTtvggJEACJEACJEACJJCNAEVQNkK87iuB5uZmNXToUIqdBAq+2tpadejQIV/LCyMjARIgARIgARIggSAIUAQFQZVxpiXQr1+/VgKoc9fuavgdE9SMxpfUnJVbuMWEAfJr1Pip6sLq3q3yE716x48fT5v/vEACJEACJEACJEACUSBAERSFXCiSZ5g1a5bVYO5z2VVq3ms71dYDLdxizuCFrW+rq64fZuUthsfRkQAJkAAJkAAJkECUCVAERTl3EvRs+GYEhQ0ben4ofpIn/sZNf9zK4zVr1iSo9DIpJEACJEACJEACSSNAEZS0HI1oemQYHHoMKICSJ4AkT4fe9gMthCoqKjgsLqJ1MY6PtXfv3jg+Np+ZBEiABEggwgQogiKcOUl4tD179ihsKGinlpSoZdvfoQiK+fA3ETxO+1ff/r1qd8aZOr8x+x8dCeRLAJOplJeXq/379+cbFcOTAAmQAAmQgEWAIshCwYMgCDQ2NipsKGj4Dsip4Uy/ZPUMfWvISJ3fyPOjR48GUawYZxERGDNmjC5PAwcOLKJUM6kkQAIkQAJBE6AICppwkcc/fvx4hQ0FbeT3J1MEJbgXSMSs+W0QhzEV+Qsgz+RjPTG8O2TDpBsnTpzIM1YGJwESIAESIAGlf1uEwylyYO5NlWT685gEciGARgs2lKPbJj9IEVQEIqjuqeetRmtTU1MuxYQ2JOBIQN4dIoKwZ5lyREVPEiABEiABlwRMjUMR5BIezbMToAhK1lA36e3JtKcIyl4vaJGdwOHDh1VpaaklqEUIjRo1KntgWpAACZAACZBAFgIUQVkA8XJ+BCiCKILyK0EMXawERo8e3UYAiRDauXNnsWJhukmABEiABHwiQBHkE0hG40yAIogiyLlk0JcE0hPYtWtXWgGEH63evXvz26D0+HiFBEiABEggBwIUQTlAool3AhRBFEHeSw9DFiOB48ePq/79+2cUQfjhWrp0aTHiYZpJgARIgAR8IkAR5BNIRuNMIC4iaNUv96uH5v1Y3f3wHL3NfflNTuLgcRIHfhPkXBfom50ABNDgwYOzCiD8cHXs2JFTsGdHSgsSIAESIIE0BCiC0oChtz8E4iCC/nbWM+r00lJ1emk71bPvpap7VbVuhPW78hq1/p3DrsXQ/U8vUQibafKAfK8hftwn33iCCE8R5E/dKcZYGhoachJA+OHCNmXKlGLExDSTAAmQAAn4QIAiyAeIjCI9gaiLoFVN+3VjCsLn1bcPWaIC03mjcniZ1lvCBiEwJE6vzybhg9xTBKWvD7ySmUBlZaUrEYTZ49B7REcCJEACJEACbglQBLklRntXBKIugsZMfUQ3uhpf/QdLAEEgbN7XrHuEKs6r1MduRANFENcJclVJaKwJrFu3zpUAwo8XtgULFpAgCZAACZAACbgmQBHkGhkDuCEQdRF0QXVvPQTOSeRMrp/XRiChwth7h6QxhjiuHX5Lm4ac2MNu5NhJ6tKrr9PD73B+8SVXKFOAOcVviqpM8TuloRB+7AlyU0NoCwLozXHbCyT1rry8XLW0tBAkCZAACZAACbgigN8Rcakj8VFKN+iMUx6SgCsCURZB6O1BBbjx1nGteoFEOECc4PrUJxdZ13Euokbs4IcN50vf3K0Gfed2fY7JFbCt2LlXX4NN18oq/S0P/KfUz1Poafrq17qpje8dsWzs8ZsiCPEjLOLCfcz45XkKvacIclVFaKyUmj17ti7TUpfc7idOnEiOJEACJEACJOCKAH5rxKWOxIciyCDBQy8EoiyCXtqxRze87KJDRITTdVQYu7002CScKVrED3unsPUvvqb9sU9n4xSfU1zmvQp5TBHkpaYUd5jm5mZ1+PBhx03qF/YYMudkd+TIkeIGyNSTAAmQAAm4JoDfFXGpI/GhCDJI8NALAYqg1DpBTsIFs8/B/wcznqAI8lLAGCbxBFA/ZGtqakp8eplAEiABEiCBcAjgt0Vc6kh8KIIMEjz0QoAiKLMIsvf+oELae5rYE+Sl5DFMUgiIAMKeIigpucp0kAAJkEDhCVAEFT4PEv0EURZB+A4HFWD4HRN0L4x9CNmSLb/W1/HtjlyDvV2kwA+b2DiJFrvYEVu7v1P8TvE52ZlxFvKYw+ESXaVDT5zUL+wpgkLHzxuSAAmQQGIJ4HdFXOpIfNgTZJDgoRcCURZBEApnnFmmrhx4oyVgTPHw5PKNWtw8uuQV67qT+JBGmoR1Ei245hRWJmcY+8Bj+h5ONk7xOdnJ/Qu9pwjyUlMYJh0BqV/YUwSlo0R/EiABEiABtwTwuyIudSQ+FEEGCR56IRB1EXT5gBvU2R06WrOzmQLixlt/oEpKTlNrfnUwMBG06I2mVkLLSdxQBHkpeQyTFAIUQUnJSaaDBEiABKJFgCIoWvmRuKeJugiqX3pydjYIHpmmGkIIvUAQQIO/d6clgOCPniNMTS1iSWaQQ0USvzv+sgDrq785ZPnhGmxGjZ9q+eF+WPfn9NJShQkSnOJHT5FMuS3xY49nGz7mHisu81qhj9kTlLhqXNAEUQQVFD9vTgIkQAKJJUARlNisjUbCoi6CIBgwMxtExeml7VRVr356Q8XAoqYiTkRYYE0hXIMdFlrFuj/ndqrQfmIj6/jgWr8rr1G3THhAixVpzHWvqlZ9Lr9KtT+7XN/3b2c9Y4kZiR/rB8EGvVQX9OzdKn7cB/Himc345f6F3lMERaPuJeUppN5gz+FwSclVpoMESIAECk8AvyviUkfiw+FwBgkeeiEQBxEE0YAFTR+a92MtiO5+eI7CQqlOYgI9M/hGCMIJa/vIOYasmfYQQvC75+E5egFVXENlQ+/N/U8v0dcw4QImXzDDSXz4RmjqkwsVepqwQKo9fvQyTZz1jIIdrptxFPqYIshLTWGYdAQogtKRoT8JkAAJkEA+BCiC8qHHsFkJxEUEhSEcUNnsYiaM+4Z9D4qgrNWCBi4IUAS5gEVTEiABEiCBnAlQBOWMioZeCFAEZV8nKGyREvT9KIK81BSGSUeAIigdGfqTAAmQAAnkQ4AiKB96DJuVAEUQRVDWQkIDEshAgCIoAxxeIgESIAES8EyAIsgzOgbMhQBFUEoEYSjcnJVbIvX9ThC9QuwJyqVm0CZXAhRBuZKiHQmQAAmQgBsCFEFuaNHWNQGKoJQICkJwRDFOiiDX1YQBMhCgCMoAh5dIgARIgAQ8E6AI8oyOAXMhQBFEEZRLOaENCaQjQBGUjgz9SYAESIAE8iFAEZQPPYbNSsAUQbJeThR7L/hM/om1CT9s0NOB4+Wye/furGWEBiSQiQBFUCY6vEYCJEACJOCVAEWQV3IMlxOB+vp6hQ0F7arrhyf+exiKqRY1/I4Jlghqbm7OqZzQiATSEaAISkeG/iRAAiRAAvkQoAjKhx7DZiWwcuVKhQ0F7ZyOnSiCDvjX4xJVwdWzb3+d3+Xl5VnLBw1IIBsBiqBshHidBEiABEjACwGKIC/UGCZnAocOHVLYpCEz77WdFEIJFkLLtr+jTi0p0fnd0NCQczmhIQmkIyDvDuybmprSmdGfBEiABEiABFwRoAhyhYvGXgkMHjxYN4wvrO6t1v/2DxRCCRRCm/c1q7411+h87tevn9eiwnAk0IoARVArHDwhARIgARLwiQBFkE8gGU1mAgcPHlSlpaW6gXxJ7bXq1bd/TyGUICG08b0j6qrrh+n8LSkp4YQImauDb1fRyzp9+nQF0Ynhh6Zg4PEpseCB92Lv3r3VxIkT1ebNm9Xx48d9Kx+MiARIgARIID0BiqD0bHjFZwKvv/66QgMZha5jRReFWcRe2Pq2Qg9CVL9v4XNl/oZp+c/eU/c+Pl99rfsFVoNz8eLFPpccRmcncOzYMTVlyhSrPlHwxEPw5JJPFRUVWgzZ85znJEACJEAC/hKgCPKXJ2PLQmDHjh2qY8eOVoMZBRDfkHTu2p1bzBh85fSTPXvSsCsrK9OTYGQpArycJwEIoNraWqsO1dTUqKVLl+rvZQ4fPqy4xYvB3r17db0ZMGCAlaeoUwsWLMizpDA4CZAACZBAJgIUQZno8FogBNBIq6ysbPWDLw1p7uP5H20MxUJjji54AjNnzrTqzogRI4K/Ie8QGgFM/GAOa8S7ko4ESIAESCAYAhRBwXBlrFkIHD16VP/3s66uTo0aNUrhv6BJ2vCNhinoqqurE5U+5BUa4PiOAb0QLS0tWXKcl/0gAKEpjWRMNoJeIbpkEdi1a5dCryreH6NHj05W4pgaEiABEogQAYqgCGUGHyU5BPAfXVMEYa0kOhLIhwAWnpXJRdCTSgGUD81oh922bZv1/mAPa7Tzik9HAiQQXwIUQfHNOz55hAlQBEU4c2L6aLNnz7YaxphkhC7ZBOQbIfSW05EACZAACfhPgCLIf6aMkQT0R+rsCWJB8JPA0KFDtQjCUClOo+wn2WjGhd5jvEO45lY084dPRQIkEH8CFEHxz0OmIIIE2BMUwUyJ+SNVVVXpRnH//v1jnhI+fi4E9uzZY4neXOxpQwIkQAIk4I4ARZA7XrQmgZwIUATlhIlGLgjIjIoYJkWXfAKYGU56k5OfWqaQBEiABMInQBEUPnPesQgIUAQVQSaHnESKoJCBF/h2FEEFzgDengRIIPEEKIISn8VMYCEIUAQVgnqy70kRlOz8taeOIshOhOckQAIk4C8BiiB/eTI2EtAEKIJYEPwmQBHkN9Fox0cRFO384dORAAnEnwBFUPzzMLYpwI/85s2b1eLFi1V9fX2itrFjx1rj+VHJsLBo0tKIfFu3bp06dOhQbMtgnB6cIihOuZX/s1IE5c+QMZAACZBAJgIUQZno8FogBLAi+sCBA1uJBBREbvFlgBnLduzYEUh5YaQnCcRFBO3cuVOtXr1ai/4NGzaoTz75hFnogQBFkAdoDEICJEACLghQBLmARdP8CcyaNauV2DmnYyfV57Kr1HUjbuUWMwaX1l6nOnft3io/J06cqE6cOJF/QWEMbQhEXQR9/PHHqqamRp122mmqV69eCrPYtW/fXm8QQ24dhNSgQYPcBnNlj/iDvoerBzKMKYIMGDwkARIggQAIUAQFAJVROhOYOXOm1WBGA3rhxia19UALt5gzWLb9HXX1kJFW3o4ZM8a5ANA3LwJRF0EQEx06dFD79u2z0vn555+rYcOGaWH0wQcfWP65HGD4qPkDlUsYtzbS++w2XBj2FEFhUOY9SIAEipmA+RtzihMI08DpOv1IIBcC5g/6hdV9KHxiLnycxGvNdd+2hNDu3btzKRa0cUEgyiIIvUD4rbjvvvvapOjdd9/V1yBq3DiKIK4T5Ka80JYESIAE3BIwNQ5FkFt6tM+ZwJQpU3RD6KxzzlUvbn+HIiiBImj1W+9bw+NGjRqVc9mgYW4EoiyCNm3apOv39u3bHRPTpUsXNWTIEOsafnjsosj0u/POO3V88JNNAuN82rRpOr527dqpTp066fMvvvhCTHQYe/ymqPrwww+teCV+7KPkzH8cRem5+CwkQAIkkBQC5nvf8RfANEhKopmO8Ai0tLQobKWlpbrRMePZlyiAEiiApGdozk+2WI1LTpTgbz2LsgiSb/3STYIAAdS9e3cLCH5X7CLF9MPQuXHjxumyhIlUsImDXc+ePfXkC/BH7xP8amtrlQghMy4JZ4og2CEs7LDZ7yFhCrmnCCokfd6bBEigGAjg/S8udSQ+SukfCOOUhyTgisCaNWsUNhS0jp27UAAlWACJELqwurfO74qKCldlhcaZCURZBEnPTboU2K/jfZBJBCEeU7SY8TqFxYQM8JeeKCcbp/hghy2KjiIoirnCZyIBEkgSAfP97/hLYBokKeFMSzgEpk+frrChHGEGOGkoc5/cCSFGjT/5n3nkORpydP4QoAg6yRHlyi6gMDwO/s8995w2crKhCPKnHDIWEiABEkgKAfxWiEsdiQ97ggwSPPRCAIuGysKht01+kCKoCHqC7n18vm6Q4uXS1NTkpdgwjAMBiqCTUDIJHBFHmWxMtLDDFkXHnqAo5gqfiQRIIEkEzPe/4y+BaZCkhDMt4RCgCEpuj0+63ry6p56nCAqgekVZBMk3QZglzslhmmw33wQhDqeeG/jjN0nEjtxLbMU/k42Ekbii+htHEWTmFI9JgARIwH8C5vufIsh/vkUfI0UQRVDRVwKfAERZBC1btkyLE3MCAzPZ/fv3b7UoqZNIsfuJsDHjwbHdDn6yBtnChQu1uZONU3ywwxZFRxEUxVzhM5EACSSJgPn+d/wlMA2SlHCmJRwCFEEUQeGUtOTfJcoiSNYCkm9yzNxA79Bpp53Wag0h/K5Ir43Y2v2cRAts7XbwGzny5GK9W7du1dE52TjFBztsUXQUQVHMFT4TCZBAkgiY73/HXwLTIEkJZ1rCIUARRBEUTklL/l2iLIJAHzO0dejQQR04cMDKjM8//1xhKBzW88HaPOLat2+vp8CWc1m3xxRGs2fP1gLls88+EzO9x28Sen7E7du3T8ePe+N+cPb4MSW2TLkt4bCHOEN89nuYNoU6pggqFHnelwRIoFgImBqHIqhYcj3EdCZVBGGSB1SedN/FwF9sim1CCH4TFEwFi7oIQo9Pr169tLDo0aOHHv4GYYJtw4YNraBMnjxZ1x8Mk+vbt69e9wfCxRRBso4P1gTCGkAfffSRjgP1DhvuNWDAAC2AcGyKLHv8EGG4j/mDh8gGDRqk/ez3aPWwBTqhCCoQeN6WBEigaAiYvwkUQUWT7eElNCoiCAU9nRixXxPxkovAycUm3X0zhXVz7dKrr9MNOaTD3O5/+kcZRZqbe7ixpQgKpn5FXQQh1V9++aXauXOnwjdCEDQQP069LLDD0DUMn8PaPjhHGPtsghBCiGft2rXaBvdAGccCqatXr7buIYukCnl7/LiOBVhNkQVbPBue0X4PiaeQe4qgQtLnvUmABIqBAH5PxKWOxOcvPzjGKQ9JwBWBOIqgRxauUtcOvyWjgHAjlIIWQf2uvEZBCM19+c1W26pf7s+YBjfCxo0tRZCrKpKzcRxEUM6JycMQP1p2MZNHdJENShEU2azhg5EACSSEAEVQQjIyqsmIowjKpcEfJRF0QXVvdcuEBwoieJxYUQQFUxspgk5ypQgKpnwxVhIgARIoNgIUQcWW4yGnN44iyEngvPr2ITX45rv0UJyLL7lCXT7gBn1sioCN7x1xtLH3BD25fKOqOK/Simv++l9YAga2uIZ4YYdennM7VahMQ9tgb7+H+VxhH1MEBVPJKIJOcqUICqZ8MVYSIAESKDYCFEHFluMhpzcJIggC5PTSdur00lIFAVTVq58WMKg8IjDWv3NY+zvZmAJl+jMvqpKS01T3qmotcM7u0FFhe2nHHh0XbM84s8y61ufyq1TZ2eU6zKI33rLuJ/fF/qtf66Z+MOMJx2umXVjHFEHBVDKKoJNcMRTO/u1QMMQLGyuHwxWWP+9OAiSQfAIUQcnP44KmMO4iCOIGIqT92eVqyZZdltDA8DNTBI2Z+ogWSU42IoIkrkHfud2KB9/tdOhUoa658bvaD7aIF9/3bN7XrP1W7Nyr/cY+8JgVzhQ0sEd4hL3n4Tm6B8m8HvYxRVAwVY4iKBiuUY2VIiiqOcPnIgESSAoBiqCk5GRE0xElEYRhYxheZt9QCUSoQDCIEMFx/YuvaQHywNNLWgkQ0wZ2Pfteqq4ceKOjjcT96JJXdFyL3mhqZYdJGLpeUKX97PGKgLE/o/hDKEm68AzosYIthuuJiBLbsPYUQcFURoqgYLhGNVaKoKjmDJ+LBEggKQQogpKSkxFNR5REEIaWQWTYN7vAMIUIhpnhOr73MUWEaQN/DGGzT04gNtjDRuIy48Gx2NmPTTv7M5rX7MfD77hHPzNmubNfC+OcIiiYyigiCGvm0CWfwP79+3U9Li0tTX5imUISIAESKAABiqACQC+mW0ZJBIkYsQsBu8DIRZSYNojPHgf8xEbuK+ewddrMMNme0X7dPMcQO8Q/fMw9FEEJqmxYGBT5Wl5enqBUMSnpCKxbt07nd3V1dToT+pMACZAACeRBAL+p4lJH4sN1ggwSPPRCICkiKFtPECpStp4gEUH29Xzk3C8RhHjwPNnWOjKFk5/H7AnyUlOyh5k5c6bOV+QtFiSlSzaB0aNH6/weM2ZMshPK1JEACZBAgQhQBBUIfLHcNu4iCDPDoZLMXr6xVa+KCBoRD/guxy46xAZ72ElcMhOchDX3Esb0wzGeQeKxX7Ofr2o62RM0avzUVs9stwvqnCIomNq9Y8cOSwShXtEll8Dx48cVhsGh3q9cuTK5CWXKSIAESKCABCiCCgi/GG4ddxE0Z+UW3RCpveGmVhMN2MUKvjfCtNfmZARiI+IF6wGhwt1vm2TBFCMSxvTDsRsR9NC8H2e9jz1+P88pgoKp2WgY9+t3cnr2srIyhW9G6JJJYNasWboOQwg1NzcnM5FMFQmQAAkUmABFUIEzIOm3j7sIgqjpWlmlGyTo6YEogohBzw8qj4gH+OHcyUZEEGwxMx0mUYAfFkNFfBNnPWN9v+NWBOG+42Y8oeN5ZNEqNfyOCTp+CDL7ED551qD3FEHB1WpTCFVUVKi9e/cGdzPGXBACs2fP1u8SvE8aGxsL8gy8KQmQAAkUAwGKoGLI5QKmMe4iCIJh6Zu7tbjBej5Y6BQLpmKomSmCYId1fJxsTBGEtYIwYQFECsJDECE+mcnNrQiCiEIvFO6L9YwQL9YhwuQIQYuddPFTBAVb4Q4dOqQggFB+SkpKVFOPu4MAACAASURBVF1dndqzZ0+wN2XsgRI4ePCgwjdfkq/IW3wTREcCJEACJBAcAbxrxaWOxIcTIxgkeOiFQFREULoGO/1bfBdLFEFeaoq7MFhDpqamxuoxwIucWzIYQNhiONyJEyfcFQpakwAJkAAJuCJAEeQKF43dEqAI8l9kRF24UQS5rSXe7NFIXrNmjcK6QWg4UwTFWwT1799f1dfX81svb9WBoUiABEjANQGKINfIGMANAYogiiA35YW23gjgWyH0DiVxM8Ud1s5JYhqPHTvmLeMZigRIgARIwDMBiiDP6BgwFwIUQRRBuZQT2pBAOgKmCGpqakpnRn8SIAESIAEScEWAIsgVLhq7JUARRBHktszQngRMAhRBJg0ekwAJkAAJ+EWAIsgvkozHkQBFEEWQY8GgJwnkSIAiKEdQNCMBEiABEnBFgCLIFS4auyVAEUQR5LbM0J4ETAIUQSYNHpMACZAACfhFgCLIL5KMx5HAlClTFDYUtKG3jfd9Ouaoz5RWjM9366QHrZnKsP4JHQnkQ4AiKB96DEsCJEACJJCOAEVQOjL094XA0qVLFTYUtPMv+iuKoAPJ7xnqd+U1Or9LS0sVZi2jI4F8CFAE5UOPYUmABEiABNIRoAhKR4b+vhDA6vbYpCEz5ydbKIQSLISWbX9HnfqXNWsWLFjgSxliJMVNQN4d2HN2uOIuC0w9CZAACfhJgCLIT5qMKy2Bfv36aSH0rSEjKYISLIKG3DJW53N5eXnassALJOCGAEWQG1q0JQESIAESyJUARVCupGiXF4HFixfrxjF6CWbOX0EhlEAhNPflbardGWfqfJ45c2Ze5YWBcyfQ3NysXn/9dVVfX5/IzRRBmGglienEIrBHjhzJPdNpSQIkQAIkkDcBiqC8ETKCXAicOHFCDRw40BJC+Hh+43tHKIYSIIY272tWE37YYAmg/v3781ugXCpFnjaYdGLEiBGq5C/DD02xwONT9Lsmbhyqq6vV7NmzWX/yrBsMTgIkQAK5EKAIyoUSbXwhcOzYMUsIoeCddc65qua6b6tR4+9Tkx5rVHVPPc8tJgzufXy+umXCAwrDGzt27mI1OCGA0DNBFywB9Bxg4glp5FdWVmpBJFPScz9WxYXB6NGjFcSP5CX2GD7MehRsHWLsJEACJID3rbjUkfgopV/MxikPSSAvAugRamxsVPhmxPzR53E8/3Mt+YYG+axZs/gf7LxqR26BN2/ebNUdNJY5WUBu3KJutXfvXjVx4kRVVlam8xfCqKWlJeqP7fh8+/fvVyinK1eutDYId5RVDvtzREZPEiCBAhCgCCoAdN5SKfQK4UcR347gP7YYKjdgwIDEbDIRhIgENGiSlD6kBfmG/END5+jRoyzWIRDYvXu31UgeNWoURWcIzMO+BcRQx44dtRBCL1Ec3OHDh/U/QezvPXn/2ffdunVT48ePp4CPQ+byGUkgwQQoghKcuUxa4QjgP57mDz+EAh0J5EMA/0GXIXAQ1fhHAl0yCWzbts16f0AURdXJd2nmu06OIXT69OljbRdeeKE655xzrHSJHYQT0ktHAiRAAmETwHtIXOpIfDgcziDBQxLInQBFUO6saJkbAVl0GC9trsGUG7M4W0mvSlRnWkSvpIhyETQQPnfffbd6+eWXtbCBuLFvKMeXXHJJGzHEMh3n0spnJ4F4EqAIime+8akjToAiKOIZFMPHw/BDaWxiAWK6ZBOA+EF+Dx48OFIJxdBXTFNufteJHp/HHntMbdmypY3osYsgOV+4cKG69tpr1amnnqrTiVkOMdshvieiIwESIIEwCFAEhUGZ9yg6AhRBRZflgScYM+/hhY2Z4OiST2DHjh06v9G7EhWHIZnmTHadO3dWjz/+eM7CRwSQuX/hhRfUxRdfrNOK8o2JIZB2OhIgARIImgBFUNCEGX9REqAIKspsDzTRED94YWNSCrrkE0BvH/Lb/JEuZKoxZXdFRYX1TFdddZXasGFDXgJIxBB6kG6++WZ12mmn6fjRK0QhVMjc5r1JoDgImO9XfhNUHHnOVIZAgCIoBMhFdguKoOLKcMy4FhURhEk4evfurZ8HkxtgOnwRMPY9vgeaNm2aGjp0qJ4UAb1FF110kaqpqVHf+9731IMPPqjeeOONNuF/+tOfKvQKff3rX9f3QY8Qh8YVV5lnakkgbAIUQWET5/2KggBFUFFkc6iJpAgKFXfBbxYlEYTprNFYaNeunVqyZEkbAQMhhO+EMAOcCLdMewic2267zVEMYSbN7t2763gw9O748eMFzws+AAmQQDIJUAQlM1+ZqgIToAgqcAYk8PYUQQnM1AxJiooI2rlzpyVs0Itj7/l59dVX1dVXX23ZoFGB75iw8CtmgsOiqWvWrNG9R5j4wJxQAXawMePcunWrmj9/vjXzXFRnx8uQdbxEAiQQEwIUQTHJKD5mvAhQBMUrv+LwtBRBccgl/54xKiIIwkWEjSlWcAyBc/3111sCCFNmo0coU+8NZpeT6b8RL4bX2YfH4VujG264QccL0URHAiRAAkEQoAgKgirjzEoAP6BjxozRMw1haAQKIrd4MUCDBw3zUaNGqddff12dOHEia77TwDuBJIog1Hk0mjM5XDd/qDLZJulaFEQQJkOQtYDq6upa9dhAAN1///3WFNeYvRCLp+bi8I0ReorknQ8hZQosfB/07LPPWnHjXnQkQAIk4DcB87eFEyP4TZfxtSGAH/ba2lrrx09+BLmPlwByyi80gqK8un2bwhgzjyiIIOR7OtFiv2Y/d8Kdi00hRNAHH3ygv3/B8xXKRUEECfsuXbq0WgMIIuW5556zBBImQYCwceuwQCoYY7OLrNdee02vI4RrnBHRLVnakwAJ5ELAfMc7vu1Ng1wipA0JpCOA/xLKFKunlpSobw0Zqeqeel7Ne22nWv6z97jFjMHCjb9UMxpfUtd/d4z6yumluiGDXr1du3alKwL0z4NA3ETQnXfeqTZt2pQxxfh9SSeqJKA0xOU86P2XX36pZzLDsxXy9y8KIqiqqkozuPvuu62eGkxnvXr1amtIG2aN8yKAJB+lRwjvjh//+Met7jNnzhx9f+TD7t27JQj3JEACJOALAfMdTxHkC1JG4kSgpaVFfyyLAtel+4UKDeitB1q4JYTBC1vfVudf9Fe6wYIx/GjA0flLIG4iKJfU430QNRGEHg5Zr8b8gcwlPX7aFFoEyWKtYIAZ22S4GiZCgCiCP7Z8/+kBASX/HMN02ubaQ5hQAZMn4D74joiOBEiABPwkgHeLuNSR+CilXz7GKQ9JwBMBmWL1nI6d1eq33qf4SYj4MYXsK7s+0AIXLxV8TE3nL4G4iSCUA1PgoHGLIZPwx1TLMizWtPnkk090GLHDVMk9e/Zs8zuEHibTBuvWmE7uPW7cONWjRw8dHvFg5rFM7qOPPtLPBiGEOLAVyhVaBA0ePFinH9NeiwACP0yRLSJx4MCBvuBpbGy0eGONIbnf+vXrrQkSkBdYQJaOBEiABPwiYL7jHd/2poFfN2U8xUMAPUDY5OPamfNXUAAlUACJGJrzky1WY4Yrvvtbz+MsgtBbgIYzhsihIY1zERqmCBoyZIguP7DD1MywFbEkNCUuCBwcQwDhdwp2X3zxhTbDOcQP7oGZGjF8C+fYMjl8e4INQ+IQRyF//wopgjC7m6T/b/7mbyxRgglQ7r33Xuva8uXLM+HM+dqRI0esODErnIggCOdJkyZZ1zhBQs5IaUgCJJADAfMdTxGUAzCauCOAHy1sKGj4bkQay9wndyhg564nFzrk8BV3dSWbdZxF0IQJE1SHDh3aJBHvBRFBH3/8sX5P2IUKrps/VE5xSa8QRBGcGa/c1B6P+MseYRHOjMO8r9iFtS+kCDLvjSFqN910k8IaQWCISRDABZufE6HIkLg+ffpYIghTZz/88MPW/TAsj44ESIAE/CJgvuMpgvyiyngsAg0NDQobClq/K6+hCEpwL5AI2+tG3Go1WrAmCJ0/BKIigiBSBg0a1GZDHRdBgxSb5zU1NWrkyJFtQJg227dv12HQa2M6u3iB4LHHhZ4jxLV27Vod1IxX4rLHI/6yRw/QsGHD5NQqw5ZHyAemEAn51vqbPjB02r7yla9Y/ujl98vJ2kH4Bkh6gjDs8fHHH7fuh2FzdCRAAiTgFwG848SljsSH3wQZJHjohQC+BZLvgUZ+fzJFUBGIoHHTU42WPXv2eCk2DONAICoiCGIBgsK+2YWHed6+fXs9bM2eLNNGhsfJkDaxtYsXxAU/04mN+Jvxip3YyLm5X7ZsmerUqZNCb5Q4xIGtUK6QIghpRq8LZm5DfqPsyZBm4YJZ4fx0uA/iRs+TKYLmzZtniSDJXz/vy7hIgASKl4D5jnd825sGxYuJKfdKYOzYsQobytFtkx+kCCoCEYRpz5Hf2PA9Bp0/BKIigtI1RJHf5jXz3Dw2aZj+6USK3R9h0m1yfzNeuZ89HvHH8DcM1bNP5y33ELuw94UWQU7pxTOhTmO5A3w35KejCPKTJuMiARLIhQDe8+JSR+LDniCDBA+9EKAISu63PzL8zb6nCPJSU7KHibsIss/ghhSbYkVESraeIISRSREgYMwNs7vZ4xWyEr+cyx4z1YngSbe3f6ckYYPcR1EEBZleiqAg6TJuEiABJwJ454tLHYkPRZBBgodeCFAEUQR5KTcM05ZAnEVQr1692nzHgxTiB0h6bzATGM6zfRPUt29fx7hMYma84p9OBJkiyjxGHNjgV4iFOimCtuneOQ6HkxLMPQmQgN8E8I4XlzoSH4oggwQPvRCgCKII8lJuGKYtgTiLIEw4gCFn9l4eU6y8++67WnSg18W0s4sXTIKA3hvTxk7LjFeu2eMR/3R7xGH+QKazC8qfIogiKKiyxXhJgAROEjDf8RRBLBW+E0iqCML3TXNWbsn4jRNsivE7KA6H870a6QjjLILQu4MfG1n/B2sATZ48WftJTxDW5pGFUWFnru9j/lDBH2sOYfgUeo9wjgU8IbSkxwb2Eq/kBkWQkIjmnsPhopkvfCoSSDIB87eFIijJOV2gtEVBBEGspBMjTtdyETioOOnilG9kYINNzsPaz335zazPFuSzUAQFU9niLIJAZO7cuapLly66TmA/c+ZMLXpMsfLBBx9ooYTrEDpYABV25g8V4oKIQqMZvUuYLQ52iOezzz7T8GFvxgtPiiCNJrJ/KIIimzV8MBJILAHzt4UiKLHZXLiERUEEQaykEyNO12Cbi8DJxSbdfYMSIS/t2KO++rVuadMb1H3NeCmCgqlvURBBwaSMsToRKORwuGPHjum1gvAMYW1YSwrvy0xTZEMQ05EACZCAXwTwzhGXOhIffhNkkOChFwJxFEEQEq/+5lDGHpxchVKYImjpm7tV+7PLdUMizPuaAgjHFEFeakr2MBRB2RklyaIQIgjiB+u6lZSUWO8RvEvC3Co6dVQ7N69SP39jpXrztZfUkmcebXV/9Bhhim46EiABEsiXAN5t4lJH4kMRZJDgoRcCcRRB6OExv/fZvK9ZYYjZ3Q/PUWMfeEw9uXyj/lG29wRBPNlt7GIEcT265BXd03TPw3N0XKaIQJyL3nhLbXzviKp/8TX1gxlPqOnPvKjPTTun457fuFQ/V1WvfnrvZBOGH0WQl5qSPQxFUHZGSbIohAgaPHhwK8ERpviRe51/bok6vvh8vR1b2F39ekZFm2eqqKhQLS0tichuDNPEd22ZHGzswzsz2Uf1Wi5pjeqz87mSSYAiKJn5GplUxVEEoVKIwFn/zmEloqLivErV78prVNlfelvEBsLi/qd/pEpKTlN2G8QlwgNx9fxGf3V6aamOp3tVtf5xHzl2kmUD+wt69lanl7ZTF1T3tu5de8NNlo3EZ+4nznpGnXFmmSWwzPuadmEcUwQFU/0ogoLhGtVYwxZBmAoc742SU09RL4051xIiIkgKtf/i+fPVvz3RVR34u65q8992UhVnnaqf02ndKXwTJoIh3V6+G3Ob7xAqQQgRMM8WL2ywRcl54ZFLWqOURj5L8gmY9cqxhpkGycfBFPpNIO4iCOIGdWDwzXdZvTHopYGfKYIgfiCWcA1CQ2xgJ8JD4kJPkPhdPuAGHderb58cfgd7CC05hx3OMcxNwjjtz+1UoZ8R1/Bc5n2d7IP0owjyuxadjI8iKBiuUY01bBG0dOlS/d644oLTIyOARHgdaeimRRCE0Pja9vo5R4wY0SbrPvzwQ30N7790G2y8OAgVxOm3Q5xxFEFeeOSSVohxTKJCRwJhEDDrtGPtNg3CeCDeI1kEoiSCMKTNvg36zu36h80UBSjzInDQA4MeG/M6jk2bh+b9WJ9jb9rBBpv4OcWF54ENhr7Z45Vw2UQNeoHQO7Vi514dRzZ7iTeoPUVQMHWYIigYrlGNNWwRJI3aWy87M3Ii6OO551ki6KmbztHvTHwbZHdYOyrdgrfin2l9KXt85vmmTZv0zIWmnx/H+v1fX58xKvktyWgU8kUvPHJJq5TDkJPD2xUpAZRJcakj8eE3QQYJHnohECURJD8kTntTEOC6iCD08Nx46zhLyIidaYOeGpyv+dXBVnZyHwmDWduGj7mnlQ2GyMEO3xLBzoxXwmUSNRA+GAaHXqZc7MUmyD1FkJeakj0MRVB2RkmyKJQIuqOmLLYiyJ7/8g62+0fpHM8Yx54gLwxzSStFkBeyDOOVAMqkuNSR+FAEGSR46IVAlESQU8PfSWCgUogIMo/N8KY/jrGZ13Fs98d5n8uv0nEjftngn+l+uOYUP+5x6dXXKfv3Qpns7c8YxDlFkJeakj1Mv34nJ7yorq7ObkyL2BPANxeo95gEIAwnjc+kiyCks0ePHmrt2rV6fal27dopDJHDht4lrFGF9ad69erValiW8JG8wHn37t0VFgLG9N5YrwqL/WIab+ltyhYn4kIeDxkyRC/2i/hwjvhk4V+xgb84fNc0btw4/ZzwRzinb6RgL89tfgvVv3//k78pW7dKlOq+++7T8YgHenrEzil+iVfs8bxYsFgWPMZzyYZeODic47mxIQ/A+eabb7bW98IiyRJG9hL/ihUrrLjxPFggmY4E8iWAciYudSQ+FEEGCR56IUARlBJHqGwycQJ6j8zt/qeXuO4JwqxxiBO9SyKosIfQgj+OpYcpCLGTLk6KIC81JXuY0aNHWw2E5ubm7AFoEWsCs2fP1vntNOwriIRJo7YYRBAW4kUDH2mGiPn888+1CFq2bJkeTgc/iCC8R7dv365xCx9hL+douEMwbN26VTfsEQbh4SCCMsUJG9j37dtX20H4Ii4ICYgxEVOwwSYOognXN2zYoJ8XAgjXnYQBnh/XsMAwHNKK9MPPXHcJ5WzkyJHaBt/kwAZiBQLGKX5JPwJ8/PHHWgSCKRY8xnNLGLAQAYZ7Qvw899xzeka8adOm6ecYNGiQvi/C4p6wk+GLuIDngR+EGvyRbogiOhLIlwDKlbjUkfhQBBkkeOiFQNxFEL61yTYcDsIGFSnbcDjEZR8OZxcSiAfixfTHOfxNPxxDOJlCSo7leXB+zY3fbRPOHo/f5xRBXmpK9jBr1qzR5QBlAQ0QuuQSOH78uKqqqtL53dDQEEpCpVFbDCIIdSibQ8PerGvCR8LZz+Evftg7OXucsDHvIWFEuEBYiY0884EDB3QYCAHTQUigB8nuIEAQFsIDDkILPTDwq62ttczht3DhQiXxQwSazh6/pBU2CIf4kD5xEFvmfeGPczsb+GETZ8YrfuitM23En3sSyJeAWa5SpdCI1TQwvHlIAjkRiLsIQq8KJkaQWd9EMKBeiFgRkYKeGbmOPWywiR9mgutaWaWwVpD42fdmvHJN4pfzbHu39tnic3udIiinquHaCA1jGRJXWlqq9u7d6zoOBogHgenTp+t3R3l5eWjr4UjjkyIoVUbwPpZGu/CRq/Zz+IufhBFbc2/GCX/7OfzQkwJ/ES44xgaHHhAcS++K9lRKoVcFQsbJoafJ7OVBT9KECRMUxMWXX36pe28Q57vvvmvFj14X09njl7TCxjw2wyBOk4X9HLbwwybOKS4IMNigV42OBPwkYJa9VCk07mAaGN48JIGcCMRdBImgMKfIlhndcA0CAdNZY10fc4pssUH9ERExpX6efpFLOPGfv/4XChvOYW+/Ls8g9tn2bu2zxef2OkVQTlXDk9HRo0cVBBDKCQQRXfIIQNwif7FNnDgxtARK47PYRRB6QsBCGt7SiBc+kiH2c/iLn4QR23Rx4jry2W5v95fyYN5D4pa93FvOzT2+u8FQNTgM34PAQU8S4sWzYagcjiG+JB77M4m/xGueQ5wgvNk7Jb1eMjQQ4WBjjxd+2MSZ8YofxJnY4bsjuwAUO+5JwC0Bs+ylSqERi2lgePOQBHIiEHcRhNnXOnQ6uWI5enEuvuQKfY4Z2UyxcsuEB/RL2m6D+iMiAjPByfc66F3CcDUsiAoBteiNJoqgnEoUjRobG60GAdZKOXToEKEkgAC+88LQN0yEgPcG9pghLiwnjc9iFUH4HgXDycAeH977IYKyxYm8xf3swsDuDxtscJJP4mffayPbH3xfhokb4JBGiBYICfQEYcgdhrPhWx24XOMXO4SBkMI3RIgDQ/lwjp4m+OG7KHF4Vnta5fnFxoxX/LCHmEK+wB7fQ8lkC6YNj0nALQGUJ3GpI/H5SwU1TnlIAq4IREEEzVm5pZVgEVGCvdM1iBv4i92rvzmksAbQHVMfUZPr56lVv9yv96YNbNH7Y7cxhZLEh3CYsADX8F2PrO+D6/Z7w8/pGSUup71be6c48vFjT5CrKuLJWBoKeIGXlJSogQMHqrq6Ot3AwDVu8WGAD8iHDh1q9fAhTyGADh486KlseA0kZcovEfTHReerbdO+rn40/q/UK5N7qn+fV+l56u1c1wmypx0szUYOrks67bYQPfgOxvyuBWFh7xTOKR7xkzDZ4kS85j3kmTBEDf4QJ2Ij6ZB7yMQB9r3EYe6lpwczuEGY7Nu3T1/GN0EY5obeIfQWwUn8MilCuvjFTu4D0YNn7NSpk95jCJ580yQ2TmmFn6TNvL+Ese8hsiCCED8dCeRLwCx7FEH50mT4NgSiIILyadAzbIslBnNlQRHUphoE4oEPnOUbIWlIcH+yQRVXDhjqiHdmS0tLIGUmU6TSqPVDBEEATbrpG3oIFoZhYRvyrb9W7/5dD09CKAwRBHEABqZDORI/4SPX7efwFz8Jky1OhDHvIXHL8C80+MUGdnCYPQ7HImS0Z5Y/MiMcZoMzvxvCOYQQ8kcEl8Qv3xCli1rSKtcxo50MuRM/+94prfCTtMHeHq89DpzLzHNO1+hHAm4ImGWPIsgNOdrmRIAiyL2IyFVsRNWOIiinquGbEf5Ti+EuUteStpdGEvaDBw9OZDrRqMN/6zH5RaGcND79EEHbp3+9lQASIfTNKy5VH829wLUQCkMEQRzcdtttFn6ZVU0EjfARA/s5/MVPwmSLE2FQrsUe5+gFwncv6abIxnNhaBtsIG5MB/GUziEP8DymuIHIQlwYFidhET/uDQEn02pLnGKDc0mrXEPciAc9S7iGDcPu0vWsSTip33IuU8PjOcSZ94Uf0iDD98SGexLwQgDlT1zqSHw4HM4gwUMvBKRBhoLmNDQsqg15Ppd38UYR5KWmMEw6AtJIwh69X3TBEJBGrR8iCEPgRPjY92/PqoqkCJLeBXwzg94RNLIhEMAFTvgIffu5aSNhssWJMCjXuA/uieFzECA4l14gsYGdOExAAMEh4bDGD4ahyZA2sTP3kydP1veSGedwTYQe4oL4EgfhgjhxTwwRdIrfnn4RL+AmG8JDHH300Uc6apwLG7kX/LCJwz91cI6eJTBBWJwjfeADfwg0rhMkxLjPh4BZ9lKl0IjRNDC8eUgCORGgCPIuJuIqxCiCcqoaNMqRAH6DZKMIyhGaBzNp1Pohgt6oc+4JgiA6NOfC0EQQ0mRvdKMM2f0EF75hwTWIDMyUho/xpczZw9nPEYf4SRj4ZYoT1zGJwNq1a/V9cW807s3eE9jA3/7MsMFzwh/CBr02ppBBONOhNwW25kQFuI5hcOmmnkY6cN0pfkkr4oDYwzc69ufGkD3UXRFeuL/JBmHhh810EELwAxekCWINHCG0EBeY0ZGAHwRMjUMR5AdRxtGKAEUQRVCrAsETEnBJQAQQ9vYGlMuoaJ6BABqdYOyHCMIkCBj6Zu8FenR0b9cC6Pji85XX4XAZkstLPhJAb49dyEj0KFPprokN9yRQKAIon+JSR+LD4XAGCR56IUARRBHkpdwwDAkIAfxIyUYRJFT83/spgiBc5n//4lYi6Pvf7qv+Y+H5FEH+Z13BY8SwPCzAit4z08kkC+bQPvM6j0mg0AQoggqdAwm/vymCsJZOXId48blzF3N3z3zKarRiSlY6EsiHgAgg7CmC8iGZOazfImj5hOpWIujuoX09CSD2BGXOtyhcxZA5fKeDb4vwTZVMDY46i4kS6EggqgQogqKaMwl5Lvywyo9rzXXfpgg6kLuYiKvwGnLLWEsEYQFIOhLIhwBFUD70cg8r72k/hsNBuNTf2quVCMIU2fD3snE4XO75WChLTGCAb5TwzQ7KEr4zwmKxdCQQZQIUQVHOnQQ8Gz7WxIaC1u6MM9Wrb/+eQijBQmjzvmbVsXMXnd+YUYiOBPIlQBGUL8HcwvstgiYOa71OEL4P4nC43PKCViRAAuEQoAgKh3PR3uXEiRMKG1ZAR2EbOXYyRVCCRdD4vwyFw6KPhw8fLtpyz4T7R4AiyD+WmWLyWwQNHfDXrXqCIIJ+9uBF7AnKlAm8RgIkECoBiqBQcRfvzZYuXapF0KklJWrm/BUUQgkUQnNf3qa+cnqpzmdMmUoXPIFDhw7p6Wn79eunKisrNXtTNPA4NalCVFmUlZUp5F9dXZ3avHlzwRZM9VME/XHR+W0EEETQ3Dt7UQQF9aG/mgAAIABJREFU/1rgHUiABHIkQBGUIyia5U9AeoPQUF64sYlCKEFCaPnP3rMEEHqBCrnyff4lNR4xYJIAsI5q457P5U2A4cPyQtQfP0XQf2u4wFEEjfc4OQK/CYrHO4lPSQJxI0ARFLcci/Hzbtu2TZWUlOhGW9lZZ6u77n9UNa7dodb/9g8URDEURBvfO6LF7Ljpj6tzOnbW+Yr8XbNmTYxLaTweHT0G6EEQoXFOx06qz+VXqW8NGamuG3ErtxgxuOya61Xnrt2tvESe1tbWqrAnFfFTBO2t7+EoggZ88xL2BMXjFcOnJIGiIEARVBTZHJ1EYiXobt26tfrBl4Yc997+cxwVbh07dlQQunTBEjD/mdDtgovUDxet5j8RYvhPBPvsj3N+skWLVwwZRp2urq5Wx44dC7YwGbH7KYK8zACXKQx7goyM4iEJkIBvBPCuFZc6Eh8ulmqQ4KFfBDDUY8GCBfo/hVFpwPM5vAswNNZmz56tjh496lcRYTxpCOzdu1eVl5frRvLFl1zBXtQEiB+7GMK3dZhJE+8krLMWlqMICos070MCJBAVAhRBUcmJIn6OI0eO6JnEMJtYUrZ169a16u1qbGxMTNrMPCriYht60jE8SgQQhk9xGGly19xC7578YwbCNwxHERQGZd6DBEggSgQogqKUG3yWxBDAR+vSiMF+5cqViUkbE1IYAg0NDVaZmtbwAofAJbAXyOwVQk8f3h2YNS4MRxEUBmXegwRIIEoEKIKilBt8lsQQoAhKTFZGJiFDhw7VjWLMrohJKcwGM4+T1ytU99TzOr8xfXYYjiIoDMq8BwmQQJQIUARFKTf4LIkhQBGUmKyMTELw7RVe2N0uvIgCKOG9QBC1c1Zu0fmNpQXCcBRBYVDmPUiABKJEgCIoSrnBZ0kMAYqgxGRlZBIii6FiKmz2/CSv58eepy9uf0eLIPNHOsjCSBEUJF3GTQIkEEUC5vuVs8NFMYf4TLEkQBEUy2yL9ENTBCVf+JhCCAsQ4wfa/JEOsoBSBAVJl3GTAAlEkYD5fqUIimIO8ZliSYAiKJbZFumHpgiiCAqygGLZAjQIrq1u52lB00zr/OR77X80dFMH/q6r3u6/7iz9nIMHDw4SB+MmARIoAgIUQUWQyUxi+AQogsJnnvQ7UgRRBAVZxnfv3m31PD0/uoNqfva8SIihL57vrv7tiZMCaPkdHdU5Z5yqnxOzJdKRAAmQQD4EKILyoceweRHA+kA7duxQy5cvVxiKkaQNixyicsk2YsSIRKUPebV06VK1efNmdejQobzKAQPnRiCJIggf/982+cGs3zjBBrbmcLGkH4c9HA6lcPTo0dY7S95dUdyjLnBx5tzeG7QiARJITwDvN3GpI/FRSr8QjVMekkDeBHbt2qUGDhwYix/bKDYAovhMNTU1WtDmXTgYQVoCURBBmUSL/Zr93Em0QNygPDtdM/1gk4tYMsO4Od68r1mLrMn189QPZjyhHl3yioKfmzj8ti2ECDpx4oSaPn26Kisri+T7uaSkROEfSvgHGh0JkAAJ5EsAvy3iUkfiQxFkkOChHwTMIRdRbMzzmVK9V15YoGePLhgCURBBmUSL/Zr93Ekk5GKDcCiLsHWKww+/uS+/2abRf+3wWwK7Xy7PXAgRZJZcDOmN2sbeHzOHeEwCJJAvAfy2iEsdiQ9FkEGCh/kSOHjwoMKaF9K4rrnu2+rumU+pJ5dvVPjB5xYvBsi3SY81qm8NGalOLSnR+Yr/IKOnz0/3ySeftBpKuHr1anXgwAE/bxGLuOImgh5ZuEplExJREUFLtuxS42Y8oXuDHpr3Y9Wzb39dnu9+eE7BhFChRVAsKgUfkgRIgATyIEARlAc8Bs2dAP6DJ424czp2Vo1rdxSscZHLf2Fp4+4j9IUbf6kX8cQLpWPHjr4OV9m5c6dukN58880KW69evfT5kiVLci+ACbCU+lPIdYIyiZZM19LVp1zDoFzBNl08fvuv2LlXlzHcd82vDoZ2XzMdFEEJqLRMAgmQQKQJUARFOnuS83B1dXW6UXHWOeeqF7a+XZBGhdnA4LE7kZMLr9Vvva86d+2u83nUqFG+Fd6FCxeq9u3bt4oPYqhLly6t/JJ+EjcRZBc4EBODvnO7qjivUpeRr36tm+paWaWPzfK1ZMuvtV3Z2eXq9NJSdfElV2gbUwS9+ptDbWzQgyPxwBbx3//0EtWz76Xq3E4V6owzy1TtDTepje8dsezE3mmPH0dsq365Pyd7pzjy8aMISnqNZvpIgAQKTYAiqNA5kPD7t7S0KGylpaW6QfFAwwsFaVDk0xhh2NwFE4bISePRr++DJk+erPr379+qpmB2utNOO83yw5A59AzBf8OGDerLL7+0rsHPHD730UcfabvPPvtMYcPwOtg899xz6sMPP7TC4QDfRODa3Llz21xrZRjCSdxF0KVXX6c6dKpQYx94TA+BxeQDInCkjuHbnNNL22m7qU8uVDjHMDWUKVMESVwQPvUvvmaJqYmzntHvFxFgGI73yKJVOp6RYyfpeCCM5H7p9lKOIZrS2QTtTxEUQqXiLUiABIqaAEVQUWd/8Ilft26dwoaC1rFzl4LPuBR0w4Xxt6gLq3vr/Mb3X364AQMG6GFwZlwjR460hBGEC3qFhgwZou68807VqVMnNWHCBG0O8YOy9+6771rBIZIgoD7//HPVs2dP1bdvXx0OcWKWO3EzZ87U8SLOQYMG6d6oDz74QC6Hvo+SCII4sW/o5QFrqQMiRHCOb25wzeytgb9pg3OIDic7+IkIcooLzwIb9Po4xQs/bGY84mfucY8bb/2B7kWS+5nXwzymCAq9ivGGJEACRUYAvwniUkfiw4kRDBI89EIA061iQ0EbMOx7VgMpzMYE75V7T44frEZ+f7LOb+T54cOHvRSbVmEgcNAbA4denPvuu0+LmGXLlmk/iCQRPfBAj1C7du30ta1bt+pngeARh7jwXZFcQ2+QuC+++EIfogcIQgn3g0PPEp4DPUKFclESQcjbdJuUIVPgoPcF9vbva0wbhJOhcnY7hBVRMvXJRTouDImTe61/57D2wxA6+NnjFTszHvEz9/2uvEb3TmHoHHqbIK7M62EeUwQVqqbxviRAAsVCAL8J4lJH4kMRZJDgoRcCWDRUFg6VRkyYDQneK1wBBN6YMQ4vFmwQE/k6icvco2cGDgIG/pg8QRyGt8EPDkLJ/u2Q9OygRwh2H3/8sQS19hBatbW11jkOevToYYmxVhdCOomSCHKqV3bhYZ6bx2ZYu7/ksWmDY/jDFsf2MGJrhs1kI/FIOKe99CwhTnyj5GQTtB9FUEgVi7chARIoWgJ4x4tLHYkPRZBBgodeCFAEhS9Cgm6cZYu/7qnndaMVL5d8RZAMZxs2bJjChjjRG2P22MAP3w2hhwcbhsWJ8Jk2bZo1bE7Kr/QcQfzADt8bQTiZvUWwQW+RxIk9epek90niCnNPEdRaBCHfnTaUz3xFEOJArxDix+Kp2cp8ENcpgsKsXbwXCZBAMRLAO15c6kh8KIIMEjz0QoAiiCLIS7mRMNu3b9cNUUx8AJECIQJxIhMfYOgbZo5D7465zZ49W0cB4YSZ5EwH4YNJEOAw3A3fAuFFiJ4e3AcO3xWhJ8iME8fmBAvaMMQ/SRBBm/c1txIUdrEiosZuB3/pwZEw9m+S5NwvEST3ybbWURACCHFSBIVYuXgrEiCBoiRAEVSU2R5eoimCKILyKW0QKx06dLCiEMEiw9/QQwPxks5BMIkggo0Mn4O4Mh0mToCYEnGEFyN6h6Lk4iyCMCECmC56oymjCOpeVe1oZ4ogzPbmFJcpRkTAmH44NuOxX7Ofy0QPmFXOfi2Mc4qgKNU+PgsJkEASCeA3QVzqSHzYE2SQ4KEXAhRBFEFeyo2EGTduXKtvc9auXasbsvCHk5nepAdHwslwObzgVqxYId5KepbQo2MOf8PQOIgtGe4G8YTvgkwncZp+5jGmgsdMiEG5OIsgLD5aUnKaQq+KuU6PCA0RFYO/d5fOX9hJb5AsXCo9QZgQARMXXD7gBoUJESQs9vPX/0KfuxVBS9/cbd0P8cxZuUWvUYTyU6jJESiCgqpJjJcESIAEThKgCGJJCJRAUkVQukaW2SATG2m8mdeSfOznN0EYkiaCBwUVwgViBcPVMCQOwgSCBVNdY7gahr7hWCY7wJTX6CmCP779gS2G1EEEIR70LGHIHPwQTmaKQy8QZofDdcSL74zsoshecTATHl6o+J5o79699st5n8dZBKG83zLhAc2n/dnlqs/lV+mZ4LCgKZhJfYDgqerVT/thIVWsI4S1hSB6zHqEniUspAp/xHVBdW+9vpCs6yN1T+KVPe5lxiP+EGOYWQ5xyQKumKkOaxmJTdh7iqC8qwwjIAESIIGMBCiCMuLhxXwJREUEpWv8oGFjv2Y/d2r8pGtkmbZi49ToMu3yOX5pxx7dcJOGIhpuaNDZpxjO5x5uw/opghYuXNhmcgUMhcMwOJm+GkIIogV+6Mkxv9tBDxGGuKEHCesJYZ0fxAkHO3xThOuYLtvsGcL1ffv26UkYEC96nLL1BIkIQvkpKSnRYmjz5s35ViErfBREEHpI0pVn+zX7OcoRelWwWOodUx/RC6aiB8YpPtjBZnL9PLXql/v1HvGZZRH+EEMIjym40QskvUdO90ZY2NrjgT96p7Do6t0Pz9EbjiUu855hHlMEWUWfByRAAiQQCAH8XotLHYkPh8MZJHjohQBFkPN/nv1qTKGxCOGDxp0sNIlKPfjmu1o1GP26Xy7x+CmCvJS5QoUxRRDyQLaGhgZfHikKIiiX/KeNP0NgKYJ8qTaMhARIgATSEqAISouGF/wgEEcRhN4VcyFGp0YdRAcqj9M18RMb7MXP7z2+iTD/Y72qab/Cx+Vnd+jYyt/v+2aKjyIoJYBECI0ePTrvhWMpgvwRF5nKbpSuUQT58QvEOEiABEggPQGKoPRseMUHAnEUQRAt9iEzGC6D7wNwbeqTC5V8wG02miBGnGzsIggiC8NuJC4M65F4cF9cwznsMMwH65QseuMty0Zs0+3l2wuET2cTpD9FUFsRhBdtaWmpHrJ3/PhxTzWLIogiyFPBYSASIAESIAFHAhRBjljo6ReBOIogVApTuNz/9I/0R9f4EBsfasuH27ATMYEeGfg72ZhxTX/mRT1LFnprsBgjemywiWCBLT72lmv4UBsfbGNmrVyF0I23/kA/hzkLlzxnGHuKIGcRhPKCrVu3bloMNTc3u6pmFEEUQa4KDI1JgARIgAQyEsBvsrjUkfjwmyCDBA+9EIi7CIK4gQjBjFZLtuyyRI/0toioGDP1ES08nGxEBElcmLhAwqEXCJMaXHPjd7UfbFEp8a2PDHOTKYLxQbmEc9pjMgQINjwvns/JJgw/UwT169dPTxCAGdOSvmEmOhE6uezLysr0Gka59gxRBFEEeXkHMwwJkAAJkIAzAYogZy709YlAlEQQJhBAD4t9QyUQoQKRYJ5jliicP/D0klaiQsSKiIqefS9VVw680dFG4sZQOcRlXzASa6J0vaBKh7XHK/GbzyR+5h7XZcNzZPumyQzr97EpguSZuE/lj50FxM3u3buz1jiKIIqgrIWEBiRAAiRAAjkTwO+xuNSR+LAnyCDBQy8EoiSCMLQMIsO+oRKIUIEgMM/xPQ7O7UPL7GIFQ9jsvS9iI3FLXHbRIXbwN49NO/OZTH85Rs/Rk8s3qnsenqNni4PgK9Q02RRB6QUP8tHcysvL1eLFi9WJEyeyVi8RQRiSKfnOfXKF0eLNv9JlBdOt05EACZAACfhPAL/H4lJH4kMRZJDgoRcCURJBIkbsDUe7wDDP04kSu78ZRuIXG7mvnMPWaUM4sZE4ZO8Uv1yz77F2Cuyn1M8rSGPZFEFY7DTpw+AkfW6Hw0EAYVrtXJ3E37lr94Lkq72c8TxYAYZJUlCPIX7pSIAESIAE/CeAd6y41JH4UAQZJHjohQBFUKqXSQSOfTienKNRKTb2BqYbEYShcLAfPuaegjSWTRHU1NTkpdjEMky6dYKQF+ZWUVGhJ0Y4cuSIq3Rimm2J55VdHxQkb+3lkufBCSF8Z4j8xj8S6EiABEiABPwngHesuNSR+FAEGSR46IVA3EUQpqtGJTEnPHASK5iM4MZbx7VqmIqgwR5hJK5M3+tIGHvjEs8g8div2c8xoQLszQkY7DZBnlMEtRY9yAtsmCJ71qxZ6tixY16qklq+fLmOB3HdOim4taeCLBuMOzfRhDr8te4X6PyePXu2p/LCQCRAAiRAApkJ4PdUXOpIfCiCDBI89EIg7iJIhqTU3nCTNVsbGnJ2sYLvjTDttczoZtqIeJm//he6UYO1f9I1Bu3xih0qqsQjfun2Mhxu4qxn0t4nXVg//CmC2oqgUaNGuRr65lTXMIscZttDWWh3xpnqha1vFyR//SgjjCOzGJLZJyGc3U6l7lR26EcCJEACJNCWAEVQWyb08ZFA3EUQRE3Xyird8MQsbhBFEDGYeACVRxpz8MO5k40pXjD0DZMowA8TGSA+iBUZuuZWBGHa7HEzntDxYA2i4XdM0PFj2u1MPU7y3EHsKYJSIqh3797KzyGBR48eVYgTZe2cjp3Vwo2/tMpgEHnJODOLlSD43HX/ozp/kceNjY0+vo0ZFQmQAAmQgEkA71lxqSPxYU+QQYKHXgjEXQShkbP0zd1a3EBYYNFSzM41avzUViIIdhAkTjamCMJaQRA86DVC5YMgQnyPLFylG7NuRRB6fTA9N4bjYUO8EGJYWyiIBloucVIEnaKGDh2qxU8us765rVcHDx5U+K4I5ecrp5dq4TvvtZ0Fy+9cygRtMosp9Oqh9+ecjp0sAYTeQzoSIAESIIHgCFAEBceWMSuloiKC2AjL3Ajzk08xi6Dq6mq1c+fOwOs+JmGQ2eLwEpftrHPOVZg9jlt8GEDISv5hjymxZ86cmdO06YEXNN6ABEiABBJMAO9ccakj8WFPkEGCh14IUASFJz78FDL5xFWsIgjf7GALy+FegwcPbtWANhvTPE6JwzixWLlyZVhFiPchARIggaImQBFU1NkffOIpgiiCgi9lxXsHDLdDz9P06dN1rytEkaxblJS9KWAwMURS0iXpwLC3uro6tW3btlBFdPHWGqacBEiABE4SoAhiSQiUAEUQRVCgBYyRJ56AKYL8nGQi8eCYQBIgARIggYwEKIIy4uHFfAlQBFEE5VuGGL64CVAEFXf+M/UkQAIkEBQBiqCgyDJeTYAiiCKIVYEE8iFAEZQPPYYlARIgARJIR4AiKB0Z+vtCgCKIIsiXgsRIipYARVDRZj0TTgIkQAKBEqAIChQvIzdF0Kjx93EtkwPJF0XmYo979+5lJSCBvAhQBOWFj4FJgARIgATSEKAISgOG3v4QqK+vV9hQ0K66fjhFUBGIoCG3jLWmbW5ubvanIDGWoiVAEVS0Wc+EkwAJkECgBCiCAsXLyDHtKzYUtHZnnKnW//YPFEIJFkKb9zWrjp276PzGYp50JJAvAYqgfAkyPAmQAAmQgBMBiiAnKvTzjYAsIFlRUaEbxrdMeIAiKMEiaMIPG3Q+l5aWqoMHD/pWjoo1ItSf5cuXq82bN6s///nP6sR//ll9+X//U/3pxMntvvvu07xNoYC69l8OvG/ZiC38pB6KPc43btqUky3C4H4Sn+yd4oWt03PAFmv9yP1l72SL+J3ShzBzn3m2zXMgHU7py5UF4nVKX7rnQDrscbthkS5e8zmQ3//55z8Xa/FnukmABEggUAJ434pLHYmPUvrHyjjlIQl4IrB48WJdlk4tKVEz56+gEEqgEJr78jbd24eXysyZMz2VEwZKEdi9e7eqrKzU9abDuR3Vx//xpzbb+En3thEUnTpXqH/a8y9tbOGHa8gf2XC+Yu2GnGwRBvezP4dTvLB1eg7Y9vpGX+v+5nM4PbNT+hDmsdkNbZ4D6XBKn1O86Z7ZKX1Ir9NzIB32uNPF68QiXbxOnP/XH79Uo0ePVt26ddN7LJJLRwIkQAIkkB8BvG/FpY7EhyLIIMHDfAjgR3vgwIG68QMhhI/nN753hGIoAWIIQ+DQA4Thjnih4D/k6MGg807g8OHDqqysTPMsKSlRDz1a36bRbxcjST1HmZJt49//vGg5TLl/hsVh1KhRikLIe/1iSBIgARIAAYogloPQCBw7dkwNGDDA+iE/p2Nn9a0hIxWGyNU99Ty3mDEYM/URnX/yDZAIIE6GkH+VmjVrlq4nVV/v2aa3IaliJ126RABhX8wi6L998r/VI/WzrffnlClT8i9ojIEESIAEipgARVARZ34hko4egurqauuH3Gzg8Dj1H+84ssDQraNHjxaiWCXunjKj4utvFm/Ph4gisy4UswgSHpdedoV+f+K7OzoSIAESIAHvBPD7Ii51JD62riLDm4ck4JkAGsqzZ89WVVVVFEPGUB+zsRenY3ynMH36dMUeIM9Vok3An/3yLbX5H/6xaId+SYMfe7MuUAT9Sc1/4SXNpGPHjm3KDT1IgARIgARyJ0ARlDsrWgZAAD1DmEWsqakpUduCBQtaNd4wUUDS0oh8Y8+P/5UCs4H9fw6TIJjCoJiOKYLaTogBgfzyq6/5X/gYIwmQAAkUEQGKoCLKbCY1PAIQPGbjbeXKleHdnHeKNYE//p//yx4gQwSa9Yg9QSlB9Mmx/xPrcs6HJwESIIFCE6AIKnQO8P6JJEARlMhsDSVRn/7/X+Ysgv71v/9P1fj8C2rw0OHqm1dfo847//zEbaYIwlTTSUtj9cW9dP493tCofr7rnZzzvvnzP4VSHnkTEiABEkgqAYqgpOYs01VQAhRBBcUf25tjiOGDP3xMbW/6TdbGMNbKObu8vFWPoykYeBzPiUb6/vWlOYuh2BZ0PjgJkAAJRIAARVAEMoGPkDwCFEHJy9MwUlRRcXIx02kPP5pWBH306R/VjTd9xxI/mGp+1Pj79BTz9S++puas3MItRgywePRtkx5UX+t+gZWnmPlt2epX05YBfBOGhVkhmulIgARIgAS8EaAI8saNoUggIwGKoIx4eDENAem9ySSCGuYvthrL3S68SK17+/dcdDgBiw5j8ejbJj9o5e3ppaUKawOlmwSj1zf66oWJ0xQlepMACZAACWQhQBGUBRAvk4AXAhRBXqgxTDYR9M/7/0116dpNN5QhgFa/9T4FUAIE0FYjDTOefUmdWlKi83ji1PvTiiApK6w1JEACJEAC3ghQBHnjxlAkkJEARVBGPLyYhoA0bJ16gjAJAiYFgM1Z55xLAWQIB1NEJOF40mONOp9LSkrUr/e+7yiEpKykKUr0JgESIAESyEKAIigLIF4OngDWCjp8+HCitnXr1ulGjDRUGhsbE5U+5Bfyjc5fAlJenETQU42ptacm/LCBPUAJFkEQchdW99HvkPtmzKQI8reaMTYSIAES0AQoglgQQidw4sQJtWbNGjVw4EAlH4JL44/7eM1oVV5ermpra9XixYspinyoSXV1dbrhi5nf7N+CYBps1A8MlVr/2z9QBCVcBEHoIr8xW5y9LOBc3pU+FDtGQQIkQAJFSQDvUXGpI/FRSr9ojVMekkBeBPbu3auqq6utH3D5Iec+XuLHKb8qKyvVrl278iofDKxUyx+d1wmq+npPXW8urO5NAZRwAYSeoMa1O3R+Yxp0JxGENZPwT6SouD/96U9q+9//vXp27lw18Z571LXXDFBVlRdY28Vf76muuapW3TLqe2r2E0+oX+/apfAPMToSIAESKBQBiqBCkS/C+6KBXFZWpn/Yv3J6qRp+xwSFKX1f3P4OG3UxbNT95Bf/ovMP0zOXnXW2zld8w/D6668XYen2L8npRJB8D9Tn8qtYX2JYX9x+q7T8Z+/pOoUfaScRFJUpsv9w+LCqf+wx9Y2Le1mCxxQ/mY4v++tL1LzGRvXpp5/6V4EYEwmQAAnkSIAiKEdQNMufgNkDhLVM3DYKaN8SWWb4rzWELV4o+O80vxfyXl8ogqJbzsN8B2UTQRBGhXbvv/++Qg+PXej0+auL1Z1jxqinn5qjFsyfr7fHZs1SPxj7fXX5JZe2sUcP0b//+78XOjm8PwmQQJERoAgqsgwvVHLxDRAKG7a7Zz4V2cZ8mI2cpN0Liz7K1L6YCILOGwGKIIogvBuiLoI2b9qk/rrPNyxBU3vlN9WMadPUi0uXqk2bNqlt27al3V5atkz97YQJql+fPqnwNVeqpT96Qf3xj3/0VnEYigRIgARcEqAIcgmM5u4IYMw3tqqqKi2AhtwylgIowUN5bp10crFHTJjQ3NzsrrDQWhOgCKIIirII+t17v1PDhnzbEi81/S/TPT6ZRE+6a1u2bFEPTp+u+hhD6a6/7jqFIXZ0JEACJBA0AYqgoAkXefw7d+5U2FDQMFzqlV0fUAQlWARh1XusYYP8Hjx4cJGXfvfJzzQ7XBK/CcKw2NsmP5j1nQCbYhtCG8WeoD2//W2rb3/uvH1M1l6fdALI9MdIgRsGDmolrH5/6PfuKxBDkAAJkIALAhRBLmDR1D2BhoYGhQ0F7bJrrs/a2EnaELFiTM91I27V+Y08b2lpcV9oijgEmGFzWicoCiIok2ixX7OfO9UFiBuk1+ma6QebXMSSGcbt8dI3d6vpz76o7pj6iN6v+uX+rM/l9h5u7LOJoPGT7lUQzWG59w+8bwmg6qqL1MMPzUw73A3D4Z5rbNTD46ZMmqSwPTRjhnr2mWfU2rVrHcMhzCMPP6z69j45RK625kp+JxRW5vI+JFCkBPDbIi51JD6cItsgwUMvBMaOHauwoaBhFjE3jQDaxnNYEL75Qn5j27Nnj5diU7RhhFtURVAm0WK/Zj93qs+52CAcuMDWKQ4//Oa+/KY6vbRUVfXqpy6+5Ap9jHPMYLl5X3Ng98307NlEkJSVMCoLvtO5prZW99R884oaRyGDoW0xl7RmAAAgAElEQVSPzpqlhg75tuNkCebkCYOuvS7tELqFCxdaQujO22/nNNphZDDvQQJFSgDvUXGpI/GhCDJI8NALAVMEBdmIydSY4LVwxVTdU89bIqipqclLsSnaMNKwTYIIevU3h9RLO/ZkFBBREUF41vXvHLaedcXOvapDpwpdju9/+keWf5jvkiiJoEcf+aEWQJj1bfWqVW16cpa+8IK6+ptXWcPZIHgwacL377pLf/OD736wPpA5kQJsIJjsPUM//elP1ZNPPKEuurCHju8nK1YU7fuACScBEgiWAEVQsHyLPnaKoHAFSJiNtHT3ogjyXu2TJILSlQ/TPyoiyHwmOb52+C1aBKE3SPzC3EdFBP3Hf/yH1bMzedKkNgLotddes3pupLfnwWnTFRZPdXLbtm614oM9psc2vw/C8fr169VNQ4dpEYTrdCRAAiQQBAGKoCCoMk6LAEUQRZBVGHiQlQDWWMJLOQk9QXaBs+ZXB9Wg79yuKs6r1Gn86te6qa6VJ2eNNMXFki2/1nZlZ5frYWkYngYmZk8yem4Ql2nz0LwfW2IFtoj//qeXqJ59L1XndqpQZ5xZpmpvuElh8g7zfumO5fkhhtLZBOkfFRH0kx+vsHqB7L02GzZsUMO+faPVAwTx8/vfZ5/QALO/ff/Ou6xwWD/IFELoDZrz1FPW9d1v785ad2hAAiRAAm4JUAS5JUZ7VwQogiiCXBWYIjc+ePCgevCHj6ntTb9RWAzT3KIwMYIIA6fGv/2a/fzSq6/TQ8zGPvCYenL5RvXoklf09zf4EZL4Tn6b007bTX1yocL5uBlPtBFBEheET/2Lr1liauKsZ3Rccm8ImEcWrdLxjBw7SccDYST3y7S/8dZx2h7hMtkFdS0qIgg9MeixweQGplB544031J1j7tDXevaoUhs3vO669s5+/AlL6NQ/9net4kcP042Dh+jrEEx0JEACJOA3AYogv4kyvlYEkiqCcpn5SmywD6qhFMV4i3U43OHDh1VNTU3ek0FEeZ0gERcQJ/YNPTOmoBFblNElW3bpa2ZvDfxNG5yjpwZx2O3gB9t0ceFZYINeH6d44YfNjEf8nPaYDEF6rCDYnGyC9ssmgsKYHe7Xu3ZpEYLZ4NatW2eJFEyC8Mwzz1jf7SxftqzVe9/NycMPPaTvge+NsNCqCC3co+Hppy2R9Lvf/c5NtLQlARIggawE8JsgLnUkPpwYwSDBQy8EoiKC0IBKJ0bs1+znTo0d2KDyOF0TP7HBXvyC2JtT++Ij7kI12iRtxSyCUCawodzv3bvXS5VRcRBBkk6nvZQDKf84R+8LbDEkTq5jb9rgXISH3Q5hpR5NfXKRjgtD4iQuTGoAGwyPc4pX7Mx4xM9pL/e4fMANkZ0dDr2EQbun/zIkbeTw4a3EyapVq6xeGqwVlI/Dt0My8xyEkCm2XnnlFXXZJZdqIYRJFOhIgARIwE8C+E0QlzoSH4oggwQPvRCIigjK1PixX7OfOzWS7I23TDbSeHOyydcP/wE3p/Ztf3a5bgz2ufyqgjXeKIJOCiGUo9raWtdiKA4iyKnc2uuEeW4em2Ht/mCGzbTBsVknJQz25maGFZtM8divyTlmhsP3Q/2uvKbNc4hNGPtsPUFhiKBhQ76tBYi5JhAmLcD3OjJ72+/ey7+H5rV166wenxnTplmCC/e6ffSt1rVcvjfy8jvFMCRAAsVJAL8b4lJH4kMRZJDgoRcCcRRBmNbX/C+zU4MnXSPLtBUb7E1/P4/tU/si7lsmPKAbjYWa2pciKCWC8IItKSlR48ePV83NzTlVIYqg3EQQRIrThjogdc9e10wxZb+Gc0yagLWCMD121BdLDUMEXfz1nlqAmMPU1qxZo64b8Dfa/9prBuRUprMZYR0iudfwoUMtEfT666+rB2fMsETQ9r//+2xR8ToJkAAJ5EyAIihnVDT0QiCOIsipcWT3S9fIMu3EJkgRZN5PjiHiULELNbUvRVBrEYS8wFZZWZlVCG3evFnbNsxf3GpSBDR44zwxgtQF+8xs4i9lV1jZ7eAv9cgeRsKa+3Q2ZjymvRzf8/AczX9K/bzA/nEh98q2L3RP0L++/74lPsxZ4TAUTqbCvu/ee738LDiGkV6nyy+51BJBmzZtUk88/rh1v7VrXnEMS08SIAES8EIAvwniUkfiw54ggwQPvRCIowiyN5TwfQIaVfgPMa6lm9oXH3M72UjjDY0ec2pfiQs9N9Iggi3ixzA3mU7Y7dS+iAtxF2pqX4ogZxGEPMEU2CtXrkxblZI6RTbqBtK/6I0mq6yjnNrFSveqakc7hJV6hNnenOKSOuQUr1wz4xE/2aPnBz1AhRxKKs+CfTYR9E97/kVhNsGg3D/v3m2JD5msAPtFCxdZ/k8/Nce320+85x4dLyZhkPthquwF8xdY91u0YIFv92NEJEACJIDfBHGpI/GhCDJI8NALgSSIIEzHi4oCUZFpat+SktMcbaTxhoaNObUvhI4MXbNP7YthPpgaGJM5uJ3aF6INz1uoqX1NEbRo0SLV1NRUFBs+6Ab3XLby8nJVX1+vjh8/3qpaSdikrROE72ykfpi9PPYZ5QZ/7y6rrmGGNtQZhAUXqUf4RwL+MYBJCzAhgikc5q//hT63iyuxMeMRP+xxL6xHhHWLsg2FNcMFeZxNBHXqXKFFdasC5ONJLiLIT1Hy4PTpltgREWQXXX7ez0dUjIoESCCmBPCbIC51JD4UQQYJHnohECURhAYXhId9szeMzHOZ2hdT95oNHnsjC9fxX2wnG2m8SVz26X8hePya2hf3l5mtCjVLnCmCwJJbegbdunVT+MZCnLBKmghCuRTBj8k70NuCmeDQ64k0S72B4JHeVAgSCBP0zkD0SD2CLeoQJgSBP+K6oLq3Or20nZ5iG9ft9VPix73MeMT/7r8Mg8M97d8ZFeqfCdlEkJQVKTt+7ymC/CbK+EiABKJGAO9Rcakj8aEIMkjw0AuBKIkgaTQ47c2GEa7LuUztCwEjDSanRhYadFhc0clG4hJxYv9PMxpZfk3t++rbh/R/s9GYk/+km88UxjFFUHrR41T2MARu9+7dunrJ9aiKIFn7yqkc2a/ZzxEG/4DAYql3TH1E96pienepH2acsIPN5Pp5eoIC7BGfaYPhaxBDCI96il4gKfNO90ZY2Nrjgb/Y47p9y3VxVfPZ/DimCNqmh8WZw+/YE+TlV5hhSIAE0hHAb6641JH4UAQZJHjohUCURBAaN06NE1P04Lp5jjA4t4ez+5thxFZs5L7mOY5lw3+y5R5iI3HI3il+uSZ7/Bf93E4VetiRU0NP7ILemyKoS5cuekIATAqQ9A29OsinXDfMGjd9+nR19OhRq2pF/ZugoMsO4z+5qCs4UARRBFkvBh6QAAkEQgC/1+JSR+JDEWSQ4KEXAhRBqV4lETj24TZyjoaP2Ngbg9lEkEztm83OHm8Q56YIwvdAxeIOHz65YGc2EYTvgerq6tShQ4faoMGH7g/+8DG1vek3kZwdLojywjhTwsdkkU0E8ZugNtWHHiRAAiTgigBFkCtcNHZLICkiCMPMzAaKXaygIo0aP9XRBrYIaw9jxifH6WyyiRuZ2veiXv1aPYPEG+aeIih9bxAEEMRSJhfldYLCLEfFfq9sImjF2g0KU6oH5fhNUFBkGS8JkEBUCFAERSUnEvoccRdBMrXvA08vaSUu7GIFkyJcOfBGRxsRQWFM7WvOvFWoRiRFkLMIGjNmjDpy5EjWmk4R5NwzUqjyXKj7ZhNBQS+WShGUtarSgARIIOYEKIJinoFRf/y4iyCZ2hczWplrnDhN7YvZqpxsRAQVy9S+FEGtRVD//v3Vrl27cq6qFEEUQRBehRZB//TWW1mnrJ79xBNa2EPc57tN+dtJWe/HiRFyfo3QkARIIAcCFEE5QKKJdwJxF0FojMjUvhA5mab2xVS+TjYighCXObXvxZfU6PjO7tAxUVP7UgSdFEH9+vXLuDBqulpFEUQRVEgR9Lv3fqdGDBtuCZKqygvUzs2rrO2l+U+2uobrfm+438/fWKn+YeNP1IvPPd4q/jtvH6P+kGVIabq6RX8SIAESMAlQBJk0eOw7gaiIIAiRdDOm2a/Zz9EgeWnHHj1db6apfdHTg6l87Tb2+5pT+/5gxhN6quAkTe1b7CII4sfrhBCNjY16YoTN//CPnBjhQHGLoRe2vm3NNIihb06b3y/sf/vgA/WNi3u1Eh1jvlWpji8+39r+94Lz1V0DKtXFPfwXPxBTiFvu9/nC7ur3s7upGy49v9Uz1fS/TH366ad+J5/xkQAJFBkBiqAiy/CwkxsVEQQhwy0cBsUqglpaWtTSpUvViRMnPFWz48ePW41ep3WCLrnsCn39rHPOZVkugvr82I/W6vy+4MIejgLon/b8i8Jsgn66B+ru12Jj+BWV6lcPna+OLUqJHxEmYe+/eP589V+f7KoO/F1XtWVyN9W/ulI/47zGRj+TzrhIgASKkABFUBFmephJpggKR3hESeAVqwjyo17hhYzNSQTdPeleSyTNe20nhVDChdD13x2j83voiO84iqAgpsi+5qpaLTDevK/w4scUW83PnKdFEITQ7O+ep5/x+3fd5UeVYxwkQAJFTIAiqIgzP4ykUwRRBIVRzpJyj0wi6IWfvGyJoJvumEgRlHARVHbW2Tq/H29odBRBUlb8LPsigtALZIqQQh//e2NKBC26/aQIun30aD+TzrhIgASKkABFUBFmephJpgiiCAqzvMX9XtKwdeoJ+tf//j/VeeefrxvGGBK3+q33KYQSKoQm/LBB53NJSYn69d73KYJiKoLq6+s9fx8Y1rssDs8YFgvep/gIUAQVX56HmmKKIIqgUAtczG+WSQThw/h/3v9vqkvXbrqB3O3Ci9RPfvEvFEIJE0Iznn1JnVpSovN44tT7HQUQyoKUFT+LfFJ6gtCwd9pWr16tcYXV8Ece4V5hOS/pCvsZw2LB+5BALgRQ/sWljsRHKf2iNU55SAKuCFAEUQS5KjBFblxXV6ffuY/Nbkjb+N36i39SZ5aVaTv0CN098yn1yq4PKIZiLIbW//YP6t7H56uefftb4ubyK7+pPvr0j2nLAUVQ+uFwYNOjRw81aNCgVtu0adP0Gyashn9Y95HXppf75RIG4hEs6UggaQRQ/sWljsSHIsggwUMvBEwRNGr8fWyoxbihluvkC2iU48WCbc+ePV6KTVGHSbdOkDlF8va3fqPOO7/S4gzWnbt2Vxf17qfXnsJ6VtziwaDbBRdZPT9Sb2767vfUf/34f6UVQCgL4yfdqyCa/XRJ6QkCx0w9MB9++KH67LPP/ETnGFe253AMlIenl3Tl8oxgCTs6EkgaAbNcO5Zw0yBpiWd6gifQ0NCgsKEcXVJ7LUVQEYig60bcajXOMW00nTsCuYggNILRSJ728Cz1ta5dLd6oZ9ziyaDDuR3VTd+9Wa1avymj+DHFsLuSld26WESQOWxs3759WjBhL0781q5dK14KAmPhwoVq7ty5asOGDerjjz+2ruHgyy+/VFu3btVxwWbnzp26LjqJse3bt7cRabt27dJ+H330kRUv1htDXOLMe6xYsaLNM5jpkjB4TqQD18wN94PD+wL+SB96fJBGpOOLL77Q1zdt2qQGDBhg2Zn3gI3Ejed599135bbck0AsCKD8i0sdiQ97ggwSPPRCAC9xbChoXzm9lMN2Ei6CNr53RGGIFvJ78ODBXopM0YfJVQSZjeF/3P2eev3NnyvMILfghZcStaEsyTblgRmJShvyCqLn57veyVn4mPnud2UpFhGE8oTGPBx6hLp06aIb+sJz2LBhusxBAMChoX/aaaepXr16qZqaGn2tU6dOWjjg+ueff6769++v2rVrp/cYOtahQwdtJ/eRuLGHYMAzmMILccNvyZIllunIkSP1/eQeuDfugfhxf2wQW+LMdMEPgqZ9+/bqtttuUzNnztRDBGEDUSPfR+EcQwcRF/zluW+++eb/197ZAM1R1el+iyhBggSIIUKAsKAJJpgICEGDRgQJyqciYIAICBs0CuHTgAGzGhE0KB+iiIhRWcxeohsLFNaP3awXFbdgK7qwhi1Uys16s1xKUdgirtm7fevX4Zn5v/32zDvTb8+8Mz3Pqerq06fPV//6nJ7/0+f0mTRbRBjniafphaSF2/Tp09P8CVf9EVN2JtAvBGjXcnWfQiyCAgl7ixDgDyDZxo8fnz5EmSrV6rQqx+u/74kuX/WF9D7zYNmwYUORJjPwaYqIoGgYV81PW9L29W9/t5BYqBoTXU/ZnWUQRRAML7roorSNaToZ7Q3DXw4/Ikfu9ttvT+OTDocoIA0jRHKMkhCWJ4IYheEcIy44Rms4Zlu8eLGySObNm5csWrQoPVYZSsOoi9Joah/HKk/nY71JSxyNApExx4gYjfyoboghOfIkXnRcazYv8Yvx7DeBXiYQ2/XQFv5CrWOEXr4Q1623CfBtEG2J7xa8tG//iZtWBCkfd//5jFnpfeaNol37BDZu3Jhc8aFrkvvX/8jG/h/+mDLguaHNImgbk34RQfdd+srk6tNnJR89Y2byo+X7F/7voXb/J4j2IjGQ1wuz5xmRURgCh9EWTe167LHH0nNR4JAnwoGRGRyjJoyEZJ3yzIYjWjh3ww03pKc0WwLhgfCR45jRHFxeGdSBfJheh4vlkY5jLQbBeUasYrnZNGkmL+RDPLk8EbRy5co0L8Xx3gT6kUBs5/UWH64kRgjB9ppAWwQ2bdqUTJo0KX1osrTvHd/5J48IVWhqHEs1v+qgw9L7O2HChARj3q59AlOmTEkZ5v1PkAzfQdvzG6TNIqh/RNDN5x6Qjp4wEqHtg+88MPn9Te3/EWsREaQ2oz2CQY6wrEhCZCA6mOKlER7ia+qaRluUB+JCoyWMFC1ZskSnavu8cnRy9uzZCdPdcEw5I+7y5ctTAca3P48//ngaJjG29957D6kX6agD6SSUYnkSLtnrjHHII3usMMLllJeO2WtkCtFoZwL9SiC283qLD1cTI4Rge02gbQIMs2Mg06b4PuiEsxYnKz7/18nn7//HZN1PN1sU9Zko4r5x/1j1T/9uz587rl27tu224QTbCNA32CyC6sa+mLC3CKpz6eXV4f7vp6Ylh7324Jr4kQhif8+F09seESoigs4999x02he/O2zx+xvaUlYcMJWL734YBYqLHkgAsI+bFgug5+bl1yycc0x7Q3DhEEOUG4UP3yMRhiDCUQZl5tWBMMWRX9PV4sjSQw89lOajKXXZNGkmLY4EMaqk74C4DoSYptQpH+9NoNcJ0K/k6j6FvNAZwqG9JjAqAnwnMmPGjPRBTOPzVh0G06ZNGzLXfFQNZUATqz9YBNWNfTFhbxE0nEuZXaWsb4J+dd2+uQIIEfTZ8w7oigiSGMjjQ1vKnteUOIQQU+DkiEd8RpLyNuLl5dcsnHMaSWGEiYUZNPrEqBKCglGeKGAog3N5dSCvbHkIEr4n4nqYtqeRLvKUsMqmSTNpUQQRlzIYKdNiEVyHF0YQRe/7gQD9Sq7uU4hFUCBhb1kEtm7dmtx1113JUUcdlWj6Dw3RW/8xmDhxYvp28rbbbksXwCirjQxqPuoDFkHDjX3YWAQN51JmXylLBDHlbf7rDsoVQnwntOUz7U2JKzISlBU5kRNtKXueURYEAqMamqZGGn1bk50OF/NjWly70+H0rZHEkMQDYoWNFeri9zyUIaEUy47+7HUxGsRoEivOcb2MLkUBRNpsGoURLichqOO8PXUmjb5zyovjMBPoNQKxnddbfKhljBCC7TWB0gggip588slKbWvWrBki6latWlWp6+N+seqfXbkEeN6yWQQNN/bhYhE0nEuZLbAsEYTIYdpbnAb3usMOTr7yvhnJf97cngAir06LIP2nDwsUIBhoaxpd0SprOs7jjYBialgrAiOm17LUcJLjGxuEGKMqcdoaoojwbBlKx556R3GHcKIMpq41ctk0yodwuVZEEEtwkyb+r5HSe28CvUogtvN6iw+1jRFCsL0mYAJNCGi1H/oP2+rVq5vE9ikT2EZgzpw5aXuxCBpu7NOPLIKGcymz75Qpgv79k0OnxDEy1O4IkOJ3WgQhMJhqhtPKbbQ3jf4gSNjit0LE1aIAEglxBTktNR1FSfZeMbWNcrQMNueVjvA4LY+yCMvmR7gWT8ieV/6Ea0NwKT7lZdMojHA5Ldyg0SrCYx4cky9ponBTeu9NoFcJxHZeb/GhtjFCCLbXBEygCQGLoCZwfKohgSJLZPNHm9esvC5Z9J7zk9POWFS5jd8gbW86+i2Vuz7u2VUrVibr/vbv2loWffLuU9LpxA0bU4ETZYqgf/7Itv/WiaNBLJggYdPOvpMi6Ne//nU6ZSyKC6bD0eYUpmll/PGops0xwsIUMBx5IJKYesaUOjaOia888m4HU+goJ04hkwiLiyKQltEcyiY+o074qQPxtOhDrDNpEFSIu7gRhxEizuGyaRRGuJyEGSNRCCtWseO6KJ9jwvn2CDHpxRFEzft+IBDbeb3Fh5rHCCHYXhMwgSYELIKawPGppgRa/bPUtd/6TjLzwNmpEcNz2lv/M9h+/Phk4aJzkp//23+MKIh+8PDPSl+KvkwR9J0rXjFkOhxiqMj3QIildkUQBjrP4EYunicexxr1IQ2rtBGmpacJYxQIMUQ4oy9MoYtT00hPuM4Tn+Nm9WA0hfhxhIWyKJe0eY78OI9wog5RdJCXykOo8EzITuPTAhCINFxMo/IIY4sOIUQYZcOHchn14f+CqEsctYrp7DeBXiYQNY5FUC/fKdetrwjwQxSNUk+H66vbN6aVbUUE/eV1qxKWI6eNbTduXHLga1+fHHva2cnCJVd46zMGLDF/0Lwj0/uoZ8Yee05NEDkj/SdU2Q21TBH0pQtmDBNB/GlqOyNAituuCCqbSz/mxwgR7SmKJK5DI02a/teP1+Y6m0BZBOgjcnWfQl4YKg2H9pqACbRAwCKoBUiOkktgJBF0/Y2fqQlsjOfb7/9H/8dWn/3H1r059f3KP/xL8q73XZHsMmn39P4y3e0n//yvTYVQbgMaRWCZIujaM2cOE0HHzX+NRdAo7k87SbVsNVP77r///nT6GyNZTKNjFCj7TU87eTuuCVSFgEVQVe6kr6OnCFgE9dTt6JvKjPRN0J1331MbAXrbwvMsfnLERJ7A6KewL33/Z8mkKXukQuiINx3ZtyJoyYmvHiaCmBJX5LsgjwS1/whjOh7T1/g+iW+TMPYQPwsXLkyns7Wfo1OYQPUIWARV7576inqAgEVQD9yEPqyC/jcrb3U4pkfxwGabPvuQZN1PN1sEVVAEIdhW3f1A7V43WzCh7CZe5kjQ2988J1cEbVixX9ujQRZBZd9p52cCJgABiyC3AxPoAAGLoA5AHYAsJXLyRBDfAen80o/dYgFUUQGkUSuELvf7/Pd9IHc0qNdXh3vkw/slP16+/7DNI0ED8CDzJZpAnxCwCOqTG1W1aj766KPpMpsLFixIZs2alUybNq1Sm97oy2idNGlSpa6P+zVjxox0fvlll12WPPzww1VromNyPWoveSLoxHds+0d24jBlSsay909XksWZF16ViqDXHfGGYSLoV0/9viaIy2yoZY4EaVGDMvYeCSrzLjsvEzABEbAIEgnvu0LgmWeeSc4888zaD7iMPu/7f3nfk046Kdm0aVNX2lFVC1E/yBNBM1+9bTnsqfu+opJGv8XcUDH30Tu+nj4nJ++++zARxKpxaitl9gWLoDJpOi8TMIFeJ8BzVK7uU0hmvlwIttcE2iawefPmdPRAP96vOuiwdDnfZZ++M7l29Te99RmDD938leTdF1+dzDn8jTWDjBEwPu63K0ZAfSNPBO21zz4p5wMPfb1FUMWnwiEI7/jOP9X6Vd5S2WorxVpafiqLoHwuDjUBE6gmAYugat7Xnruq5557Lp32RoN76S67Jdd89m4bchUy5K790jdrS/tOnTo1efrpp3uuDfZDhTSN0iJo6KjIII4SWQTtU1tAwdPh+uHp5TqaQP8RsAjqv3vWlzVetmxZ+lZzh5fsmHzu3h9bAFVIAMlAxWjTf5ycffbZfdlOx7rSzZbI9kjQYAmjkURQry+MUMa3QMrDImisn0wu3wSqScAiqJr3teeuSm+4T3nPRRZAFRRAEkJMj+OhMn78+ITvv+zaJ9Doz1ItgiyC4rQ4/jNq3bp17TewJik8Ha4JHJ8yAROoHAGLoMrd0t66oA0bNiRsNDQ2/7t9tQ05/vX+xduPT+81o3927ROwCKp2H9ELg5H2I40EIYjKdhZBZRN1fiZgAr1MwCKol+9OBeq2atWqhI2G9qqD5noUqMKjQDLq3nDsyTXRy7dgdu0RGEQRxPNh4ZIrmj4fiMOmdlb1vUVQ/Zugpz65V/LYh/dMt5vP2CvZf9q+yRmnn95ex3JsEzABE8gQ4DdFru5TiFeHCyTsLULgggsuSNhoaCectXhgDJiqG2jNrk9T4rjnjALatUeg10UQYqWRGMk7R9xWBE4rcRqV26w9tnPurv+9MTn/ymuTvfefMWKd28m3SNyxEEHHH/vWVGDcdMa02qIE+i5nLPf/9vGpNRF09vy90zpeuvTi9jqWY5uACZhAhgC/KXJ1n0IsggIJe4sQ4AN5tlYMoSKGgtP03tShpR+7Jb3f3PP169cXaTYDm2bp0qUpu2tWXjfsv2F65ZugPKGjfph37sgTTkuuuunLTV+AtPJ8IA6byurE/iU7Tkim7DWtJ55XYyGCvvTFO1OBMX3ffZN3z5+WfOL0acmnFo7tdsO7piVXn7R3svzEvZPT5+2T1o+RoL/7/vcH9jnhCzcBEyiHAL8pcnWfQiyCAgl7ixCwCOo9kdIJ4zHmaRFUpKdsSyNDv5eXyM4TOrr/zc4pTt6e6yZt3jmFiY2OO7lvpT6dLJ+8RxJB573vAwmiuf8W6twAACAASURBVEy3devW5P3vfW9NaCA2enH7+Mc+VuZlOy8TMIEBJcCzXq7uU4hFUCBhbxECFkEWQUXazaCmkaFfJRGUFRS3fvOHydFvPyOZsPPEZPvx4xP+NDkbh2lpeXGIF8UHI0z7z5yTpt9p54lpXrd+88FaHOWLwJo+++CEkZ49p+2fXH3rX9XixPzkVzodj8V+JBFEHdk64b77t99JVn7kI8kVl13WU9uKaz6cPPTjhzpxyc7TBExgAAnEZ2ju0zRGGEA+vuRRErAIsggaZRMaqOQybKsqgr68/tFkp513SY33OYe/MTn7kmtyp5/x/SAssnEIkyAhr+3H75Agfshn3oIT0zRxARbxZH/kiaclC059dxoH4aR88vbEH2lkKi9dmWFjKYIGqtP5Yk3ABAaWAM96ubpPIR4JCiTsLUKgyiLo2tXfbMlQajVemQbUWOY1qNPh+F+kBx98sEg3qaWR0V5VEXTmhVelIoRRnnU/3ZwKEfZRdCBuGCXKi0M8tW3yYiTptm89VAvTdDyFEZ98vv5Pm2pxOCad8snbx/rkne9GmEVQrVvYYwImYAIdIcCzXq7uU4hFUCBhbxECvSSCJEbYZ42Y7DkdZ+PFYxlcMSzP32q8vLTthH3hgYeTv7jy2iTv+trJZ7RxB1UEPfnkk6kxf/rppyebNm0q0l0S/alwP4ggRmmymxYViG0oCgqmpHF88zfWD+mDMc4JZ/1FwzjEU96M5hx+1Ntqx4TTB4hz2Sc/n4bHfJWulf6Yl07pu7W3CCrUhZzIBEzABFomwLNeru5TiEVQIGFvEQK9JIJk/LDPGjLZczrOxovHrcQhfqvxYt7t+Fd97W+TAw99fWr89YLxNugiiHswfvz4dFXEhx5q7/uFjRs3Jld86Jrk/vU/6vnV4WjX2U3tMLbf2Cb5JodjjQIpXoyz2+QpDeMQT2nIi/J1rH3MK/p1vpX+mJdO6bu1twgq8ovjNCZgAibQOgGe9XJ1n0IsggIJe4sQ6FcR9LUfPZG+VW5m8LRiTJG+1XjNymp2jpGfC5Z/In0r3gvGm0XQtg/WuRds9IHNmze33H2q/D9BYpJtz7HdNovDOaVVvLy9xBHn5Fe6VvpjXjql79Z+JBHUidXhWm6kjmgCJmACFSDAs16u7lOIRVAgYW8RAv0qgvKmw/H2mlWlMKIu/OhNyYJ3bvvIOmsUMSWHP1zkY+0PfuqLufGIc/HHP1vL68t//2jNuFPZN3/jH1IhdvHHb03ec/lHEo6zZcVjGXdZoy/G6YbfImioCOIhO2HChGTlypXJli1bRuxGgyCCmo0EwYstLw7hasP4+b7n+q9+a9h25/c2pPGIk+0P6ifKJ2+fly4vXifDRhJBv/nDH0dsS45gAiZgAibQmADPerm6TyEWQYGEvUUI9KsIyhpKfKzNNwha0lfL8tKBoiGEsBk37kXpild8L6FvJGK8yz7x+TQOq1oRZ+ddJ6Ubwoi8VPa+02el4Uwx4kNx8m0mhJSOfaxTt/0WQcNFEPefbf/990/Wrl3btCtVWQTtvf+MlEOzb4K0yltenNiP9p0xa9g3Qdm2Tvxsf1A/ycaNx3np4vlu+C2CmnYTnzQBEzCBURPgWS9X9ynEIiiQsLcIgaqIoDmvm58ab4zsyAA65bwL0zAds0f0IJDialTZeIqjdJ/+X99P82FZYMJkpCGQlA9vu+msLHygdNm90mWNvmy8Th9bBDUWQdxDtvnz5ycspJDnqiyCDp1/THr9jJLGdggTtdv3r/hUwzjEU7ojTzgtXSJbfUThcR/zVbj6iY7z9nnp8uJ1MswiKK93OMwETMAEyiPAs16u7lOIRVAgYW8RAr0ogvKm0BAWDZ9oKPHni5zjLXY0emIcwhUvCiXCY7xGcRA8rJwV45MulhfrF8PlVznZdDrfrX0UQYceemhq8GP0V32bO3du2k64T61srAS3evXqId2qnxZGyGtPaoPxXGy3TO3keNfJUxL8H73j68nb3nVuGqZ2i6jhD03z4pBWeTNtlNFRRkrpc7wouOrmLydve9d7EhYLIV4sW+ny6qhz2uel07lu7S2ChnQNH5iACZhA6QR41svVfQqxCAok7C1CoBdFEI2+0SZDLBpKMtww1qIBFOMQrnj8232jeBd+9Oa0bBZeiHFOPvt96ZQ3wpSv6qJ4IxlmjdIpfbf2UQQ14uzwehs85JBDkg0bNqTdq5+WyM5rT2qD8Vy23fJdHaIfAYPQYaQU0RPbO//zkxeHvGLeiChNF+Uco6x8q6f+lS2btHl1jHniz0uXjdPp45FE0A8e/lmCaLYzARMwARMoRoBnvVzdpxCLoEDC3iIEelEERWNLhowMI53TMefl17lsmkbHeeExL/za4tLCMY7yYD+SYdYoXcyjG36LoLrA4Z4121hKe/ny5clzzz2Xdi/FvfTKq3t2iexutCGX8XQykgiavPuU9H+lijyXncYETMAETCBJf5/FwSJIJLwvjYBFUF1EYdhJqPCWO2+LcYgbjcF+FEHLli1Lp3wx7avq26pVq5oKHgkc7U855ZTkiSeeGNLXdM4i6OkhbT/2g0HxjySC1FaGNCAfmIAJmIAJtEyA56hc3acQjwQFEvYWIVAFEcRy13SUkabDKV6z6XCKo+k6eQadhFIVRND69euLNJu+TMNCBzJMG+3HjRuXXHbZZQ0XRVA6iyCLIIugvnwMuNImYAJ9RIDfXLm6TyEWQYGEvUUIVEEE8QE2HYWFEeJ/l0isSMgoHktgK4x9jKeV4Ph+KMaJfsW3CCrS4sYuzUgi6Ljjjhs28pOtbT98ExTbqv2dE2sWQdne4WMTMAETKJeARVC5PJ1bhkAVRBCrVe208y6pEIorvzGdjQ4kQ5B424/fYdgS2dl4u02ekrB9+p7v19KSB0sDs7cIyjSiPjlsJoKWLl3a0lWsW7cubVPXffoz/ibosc4JDPXZXt5bBLXUZRzJBEzABAoTsAgqjM4JWyFQBRGEocTyu6xkxZ+lsogBq1C97OVTh4gg4p22+JI0jNWuXnXQYQl/iJqNh5AiH40ukR9/mDrvmBMtglppVD0aJ08ETZ06NbnrrrvaqnGv/09QLwuHKtVtJBHkhRHa6laObAImYALDCFgEDUPigDIJ9JIIYroaoyzss8ZS9pyOYzy+41my4lPJWRdelf6/Ccv4ZqesER/BRBziMv0tL96X//7RhKWC+UboPZd/JM1PU+1UdraejequOjZKp/Pd2sfV4Qb1myCWvWYhiC1btrTdnSyCBnsESP10JBHkJbLb7lpOYAImYAJDCFgEDcHhg7IJ9JIIknHhfWeNzEEWQXl/gNpun2okgma/5uB09HD3PfceJuLdpjvbpseC74rP/3V6v1++557Dpkb+5g9/TMPabVuObwImYAImUCdgEVRnYV8HCFgEVc84G8kgHFQRxKjPM888M+pe1EgEnXrGotQo5qH9pe//zEKo4t8MaWrtm456i0XQqHuVMzABEzCB4QQsgoYzcUiJBCyCLIJKbE6Vz2rjxo3JFR+6Jrl//Y+GGb533n1PTQQdt/A8i6AKi6Cv/fgXyS6Tdk/v98dW3TisLXgkqPKPAl+gCZhAFwhYBHUB8iAXYRFkETTI7b/da2+2RPavf/ufyfyj3pIaxtuNG5dc+6Xh37aNNErn8/3RH9980unpfd51t0nJz//tP3JFkL8Jard3Ob4JmIAJDCVgETSUh49KJmAR1B9GV5nG8aBOhyuj6/BAZsv7s1S9/WdVMOLsMmlywrLsZd475zX2/fXyVV9I7y/3eMnFl+cKINrCzFfPTubMmVNGs3MeJmACJjCQBHjOytV9CvGfpQYS9hYhYBE09kZVtw1bi6AiPWVbGh7IbM1E0C1f+FLNSN5/5hyPCFVkWtxNX1+fHHva2ckOL9kxvb/7v3J68uiv/r2hCFJbKd7anNIETMAEBpuARdBg3/+OX71F0OCJoMUfuq5mpD/44IMdb2NVKmDcuHEpuxPfcWpD45dRgE9/7gvJ+Bf+a4qH+Mv33jd5w7EnJ28+6V3e+ozB/OPfmezzigNqfYb7OeNVM5OHf/6Lhm3gJ4/+ay1+ldq/r8UETMAEuknAIqibtAewrGXLliVsNLTXv+UET92pyFvrZqNLJ5y1uGagbdq0aQBbffFLXrBgQcpu54kTGxrAmhbHNyELjjuhxpo+5q2/Gey1zz7JpVcuT3751O+b3v+/+sa96b2eMGFC8cbmlCZgAiYw4AQsgga8AXT68u+7776EjYb20l128zcMAyCCGJXgfvt7hfZ713XXbRtFO/99H2hqBEsIsX/k579ImCLHFLoqblHYnXbGokpe46pbPpf8cMO/tHzP33HawrSPHXXUUe03MqcwARMwARNICVgEuSF0lAD/ncI2ceLE9Ef73Rdf7dGgCguhS677XHqfmda1YcOGjratKmf+zPN/atkgjoKoiv4ogr7+7e8OPJdfPfX7RNMm161bV+Vu4GszARMwgY4SsAjqKF5nLgIrV65MjeMXbz8+uf6r91kIVVAIfe7eHycTXrpzep8vuOAC3XrvCxD47//3P8nmZ/848AY/os4iaHg7mDp1asIz1c4ETMAETKA4AYug4uycsg0CjAbpQ26W9v3KP/yLhVCFhBBLNe++5941g3Xz5s1ttA5HzSPw3H/9t0WQRdCwNvB//vDHBJFsZwImYAImMDoCFkGj4+fUbRC44447akYy343wfxgWQ/29etyaH/8iWfbpO4esbsV3LXajJ/A//5Mkv3v+T8mdd9+TrgbHNyOsCtbozzOrOBXOI0FDR4EQQFv+9N+jb1zOwQRMwARMILVJhcH/EyQS3neMwJo1axJWNIpTXFgwgVEEb/3FgBG9eB8Z6bvttts61nYGNePIWP7zGiycQLjiaN9OXP6IlVXnsoIqL1/yz8u7nbiUpT9/VX3Z7zhhQq0OMXzfP9+vI9eXVw/qhQAdDYu8fLmePM7E5Q9Q4/Xih+dTz/1X8uwftyZbPQI0qI8BX7cJmEAHCPCMlav7FOI/Sw0k7C2LAFOlli5dmkyaNGnYD37WAPBx7y/5i6g977zzkieeeKKsJuJ8AoHVq1cnc+fOrX0MT5+A+R+3/r9hW/YFQ7txiX/9Jz7ZUr6N8s6rQ6O4lMW57MaH/7q+7LnscTssSJt3fY3qMWXKlFo9VJ8yri+vHo3q4FUWQ2ew1wRMwARKJMCzWK7uU4hFUCBhbycIPPnkkwl/qLl+/fpKbTfeeOMQw47/SqraNXI93L+tW7d2omk4TxNICUTRQ5uzMwETMAETMIEyCFgElUHReZhAhgDGWjTeeJtvZwIm0D6B2I8sgtrn5xQmYAImYAL5BCyC8rk41ARGRcAiaFT4nNgEagQsgmoo7DEBEzABEyiRgEVQiTCdlQmIgEWQSHhvAqMjYBE0On5ObQImYAImkE/AIiifi0NNYFQELIJGhc+JTaBGwCKohsIeEzABEzCBEglYBJUI01mZgAhYBImE9yYwOgIWQaPj59QmYAImYAL5BCyC8rk41ARGRcAiaFT4nNgEagQsgmoo7DEBEzABEyiRgEVQiTCdlQmIgEWQSHhvAqMjYBE0On5ObQImYAImkE/AIiifi0O7SGDTpk3p/83wnzNV2dasWTNkiexVq1ZV5triPepiM3FRTQjwX03xvlTJH0UQ/apK16Zr2bJlS5O761MmYAImYAKdIGAR1AmqzrMpAX7wEQX8E3o0cOz/s77kMWPGjGTlypXJM8880/S++2T5BNauXZscddRRybhx4/qy7bjPb+vz3L958+YlK1asSJ544onyG4pzNAETMAETGEbAImgYEgd0kgACaO7cuTbY/qw/BU8zoxUx5Dfanew9Q/NeunSp+1EF+9H48eOTjRs3Dr3ZPjIBEzABEyidgEVQ6UidYSMCzz33XLJgwYKa4bbDTjsmrzj81cnrz3hr8qbz3+6tzxgcsej45IA3HpzsOHGn2j3lbfbmzZsbNQGHl0Rg+fLlNebbjdsu7UfcD/ej/nyO0I9etP2La/d0ypQpycMPP1xSa3E2JmACJmACeQQsgvKoOKwjBCSAMNqOWHRccvUP7kz+8idf9dbnDLiPRy85tWbEIYT4RsWuMwSYSqoROYznS++9yX2oz/sQz8HLv31LcuzFZyY7T941vb+TJk1Kv3/qTCtyriZgAiZgAhZBbgNdIXDbbbelP+wIoNM+fqGNtgoYbVkB+57PX10TQoxU2JVPgIUB9P3P4acf435UwX6EGNptr93T5yUvFOxMwARMwAQ6Q8AiqDNcnesLBBgRYGN6B42NqW9Z49nH1RkN400295nvGlj5yq48Ao8++mjKFr57zdo/+fAPV7svVVAE8Tx871dXJrww4l4/8MAD5TUi52QCJmACJlAjwDNWru5TSJKkD+FwaK8JtEWAH3A2Gtr2LxmfXPm922y4VdRww3jDMNd0nvnz57fVVhy5OYH4HdC7b/mg+1GF+xF96cCjty0gc/bZZzdvGD5rAiZgAiZQiIBFUCFsTtQqAZZ8ZaOh8f2CR32qM+rT6F6+9u1Hpvebe+5FElrtKSPHYylsmLKgSCP2Dq9O/3rnyiXp/WbVRTsTMAETMIHyCVgElc/UOQYCvMVko6GxepWNtOoYaY3uJSuUcb/ZNmzYEFqDvaMhMG3atJTpy1+5j/tRxUeB6Fvnf/HD6f2eOHHiaJqN05qACZiACTQgYBHUAIyDyyEQRRDGcSPD2eHVEUcnX/0XNRG0fv36chqSc0kkgvY9+AD3owEQQRev+1StH7n5m4AJmIAJlE/AIqh8ps4xELAIqo64aVWoWgSFDlCi1yJosPqSRVCJncdZmYAJmEAOAYugHCgOKo+ARdBgGW4IJYug8vpPzMkiaLD6kkVQbP32m4AJmED5BCyCymfqHAMBi6DBMtwsgkLjL9lrETRYfckiqOQO5OxMwARMIEPAIigDxIflErAIGm648W3UOZ+7qrLfdQzqSNAzzzzT0YUgLIKG9qWq9yOLoHJ/i5ybCZiACWQJWARlifi4VALdFkEYRr2+AAOdrtfr2Or3P3nxBlUE8eew48aNS84777zk6aefLrUfkVk3RRAivdfbaNX7kUVQ6V3IGZqACZjAEAIWQUNw+KBsAt0WQTRotjzjvBth77n96uTo95/WtPyqG2+DLILU/hAsZS8P3k0RhAAay35EX6Uf0Z8a9duq9yOLoLJ/jZyfCZiACQwlwO+IXN2nkCRJfwjDob0m0BaBQRNBrRiPVTfeLIK2CXHu8+mnn54wQlSGGzQRNFI/Gel8I/HUL+EWQWX0GudhAiZgAo0J8DsiV/cpxCIokLC3CAGLoKHfMWCAVd14swiqiyDu9fjx45MVK1YkW7ZsKdKFamksgob2par3I4ugWtO3xwRMwAQ6QsAiqCNYnakIjLUI2mYonZwcdPwbk133nJwKkEn7vDxZuOqS2jQb4rzujGOTOW+dV4uzz+xXpv/YHt8a5xldhLERj/Q61j6ml59z8XuLN19wSjL5z6cmL9r+xQl1O3pJfTrdlFfsnZ5TWu2nH/GaWviy796WXt8OL90xLX/ilEnJG885sXZ9lMW1L/nadcmr33J4Ws7Sb9xQO688y9pbBA0VQWoLU6dOTdasWaOu0fZ+LEUQbWjilN2St394cTJ11v7J9jvukLz0ZbskM998WLL8B19M25Li0J73OGDftJ3tuMtL0751zQ9X1+Jk2z/tLoa9+zPLhvWj2F/UTmMawhZ95oMJfyS708t2SegL+x06K/nAPZ9Iy1XfPPXaDwxp9/Qj8lH46ddflNadMPoR5+k3scxjLlyY9qMdXjoh7fM6V/beIqjtLuIEJmACJtAWAZ71cnWfQjwSFEjYW4RAL4ggBMAxFy1MV2TDiOOYTUYLnQDxcewlZyWLbvlggiHEeYwgGXjEJV7WGCOMjfMYXIgtjvmWodH3DNl8Tvno+5KFN1ySli1jbe5px6R5Uh7xZcxRDnXCCJ236Lg0zisOn50afhhylIkAIs3bLn93LY/txm2XGq2HnPym1JC96u+/kJ4TgzL3FkH5Ioh7wjZv3rxUDLU7MjTWIoi6z37rvLR/0F4RGYTRp2g/aqu0Xc7TFvETJ7ZFjvP6kcIQ9aQlHv0J/yXfvHFYe83mgwg6/spz0/jUCQGGYKNu5MlLhgOPObyWD8KMfkQ4/YFy6CcqU/0oPgcoE4GlfkSaMvtOzMsiqMgvjtOYgAmYQOsEeKbL1X0KsQgKJOwtQqAXRJCMKxkYMtZ0nDWmCD/zxstTI4x9s3ikZVOcbN4Kj/u88nQeYyzm+d67PpYey4gknsrAAOMtNfH1Jlv5YKDKAFR8nev0PoqgBQsWJGoDVd+fcsoptXune9hsj6hZu3Zty92qF0RQtu1wfbQvwhu1M9phti0qjfKL+TQL0zn2eWni+ded8dY0jsIOmH9IKox0zAp45KGRV0a1GJHVefacI46eAyOVGdOO1m8R1HLXcEQTMAETKESAZ7pc3acQi6BAwt4iBGT4dst4oBw2GSB55WaNtbw4EiOMIDXLK1teNm+ljfu88rLniaMwRqkQNRxTL6bh8JabN9knLT8vvV7edCs+ewxA3ljjb6VOMe1o/VEEiY/3jUeH5s+fn2zcuHHE7tWvIoi2yIhLbIvdEEHZds+IK+1QozdvOOfEtB9ptJfpfhqBVR+47Fu3pGmOveTMtP6kz9ZdccveWwSN2CUcwQRMwARGRYBnulzdpxCLoEDC3iIE+lUEYdBkDZ7sseIQLgMoa3gpPO7z8sEQe/uKxUO+K1KaQ04+MhU+HGPAkV6iqFF5MTz6lWcn9xZBjQUP9y67TZw4saUV5PpVBMX2Jz/72Abz+kRe2EhpOL9kzXWpUGFKK3koTV3QnJWG0YfUj4jTqLwYHv3Kt1N7i6AivzhOYwImYAKtE+CZLlf3KcQiKJCwtwgBi6ChK1rlGVt8SM6bcjY+KKdTssm44vsGjpn6xhtp/KThvIxKpcnuYxzl1+l9FEH8eWi2Tj6uCyGW0N60aVNLXcsiaGhfoh1FMcV3SEy7I5xRnawIot0TxrQ3/IyUqh9x3KxdqpxsmZ3sSxZBLXULRzIBEzCBwgR4psvVfQqxCAok7C1CoF9FEFPN6Bz6XkBGkowhGT8ynHQsUaLjvH00pDSyo+k2xM/mecUDt6YfbGOwsQgC5/lWiLgqj3zythgnry6dCIsiaP369UWaTV+m4f+AdO+a7VkyG/Hz4IMPtnWd/SqCmHbG4gOxLeb1o1bCYnuFsdKoH/FNz2XfunlIWTEN09142XDOZ7d9D6R+RBzy06II2b6khRlimTHfTvgtgtrqHo5sAiZgAm0T4JkuV/cpxCIokLC3CIF+FUFakIC3yzJw8gwgwtgUR6JEx3n7mA/CJqYnfjZPwpi2w7LdGHD7zJ5eK4+V7Igfjblsma3UKZtmNMcWQfWRHt1L7Vk8oeifp/arCGJBAkY4aVNqixIvamfwaSVM8dnHNOpHMQ+VFdNILL3i8Fenqz/GcyxHT11jWNYfy8yeK/vYIqjIL47TmIAJmEDrBHimy9V9CrEICiTsLUKgX0SQlpvGkGEUiKWAtXSujBsECG+KdXzRN24YJlhkjGUXKlAa9tGQ0vQ2LYHNt0GcZ4tpTlp+fi188Zc/UjtHOdSL/zNh0YSYRvHyjMEYr2y/RdBwETRr1qxktKNi/SKCtNAA7QpxTj9iNIhjFhqhbef1oyhgiMty1dmFCmJbzetHcQls+nS2H5GeJa8JZ5nrmB9LYlMmy+THcEaWNLoUy4xxOuG3CCryi+M0JmACJtA6AZ7pcnWfQiyCAgl7ixDoFxFER+DPH/mzRVZjwxiKy1Jj5Bx6ylGp8cRbbd4aEw8BQloZQXrTzLm9Z7+ythKVzrOPhhTGFSu9sTHaw3SebJ6kIR7ptNRwzI/lsTE0SccoEddAfvr2wSKoSMttP03edLhJkyYlt912W7J169b2M8yk6BcRFNsh7ZI2rZcCvDign9GWs/0oK4LoD/RD9hJRsd1n+xHlqI/Q9/guiOOYBj/ih3Ate63zvESg73COvPDzDRHXoJFWzmXrqfRl7y2CMh3AhyZgAiZQMgGe6XJ1n0IsggIJe4sQ6BcRxJ+UahU2jLTs/+5g4PCGGwOK83NPPyY91kIG0QA6+v3b/ltk+hEHJcu+N3TpauJlDSlGbMiTpa/5w0eMPuLEPPFjkDV6M04eiB7SkdcRi46r/dGrRVCRltt+mqwImjNnTuGpb3ml94sI4k+Hd526e9oWZ735sJoAUnumT+T1o6y4WPqNG1IxQr+I01KVT7YfES6BM/Oow9K+lNePtNCIhJny05560NfoR7OOOmzIi4y8MpWu7L1FUF4vcJgJmIAJlEeAZ7pc3acQi6BAwt4iBLotgooYIt00bIrUjzR8mE0988RZ0Tw7lW7Qp8NNnTo1ueuuu4p0l6ZpuimCirSNbovtInUkDVPxGOkpmr5b6SyCmnYHnzQBEzCBUROwCBo1QmfQjIBF0NBlfYsaUHxrxLSc7Hc/RfPrZLpBFUGbN29OVqxYkWzZsqVZlyh8ziJo9H2J0R+miuZNr+tknyiSt0VQ4a7ihCZgAibQEgGLoJYwOVJRAhZBozPcED9839APo1Uy9AZVBBXtI62mswgq3pf4Vo9ppju9bJd000IHarO9uLcIarVnOJ4JmIAJFCNgEVSMm1O1SKAfRBDTeM753FU9OT2Gb30QQnnfRPSi4UadLIJa7BxtRut1EUQfyn7X0yttlBGgE648N12drh8EENwsgtrsII5uAiZgAm0SsAhqE5ijt0egH0RQrxhqVamHRVB7faTV2L0ugqrSfnvlOiyCWu0ZjmcCJmACxQhYBBXj5lQtErAIKj6Fp1eMsXbrYRHUYudoM5pF0GD1JYugNjuIo5uACZhAmwQsgtoE5ujtbR/tOAAAHVZJREFUEbAIGizDDcF0/AfPSb9h4uEy2j8Iba+1VTu2RdBg9aUP/PX1tX5U7ZbtqzMBEzCBsSFgETQ23Aem1Msuuyxho6G95m1H9OR3N+2OdDh+c2P0iEXH14y3J554YmDaeqcv9JBDDkm57vLyl7kf/aR5G6xCHz3rxsvT+82S63YmYAImYALlE7AIKp+pcwwEVq9enbDR0HaevKuNtwEw3vaatX96v6dMmRJagr2jJcCoKv2I7aK1q9yXKt6X+MNj7vWCBQtG23Sc3gRMwARMIIcAz1i5uk8h/rPUQMLeIgSefvrphG38+PHpD/ppH/+AjbcKG2/nfPaqmqH+wAMPFGkyTtOAwH333Vdj+9q3H+l+VOF+dOX3bkt22GnH9H7fcccdDVqEg03ABEzABEZDwCJoNPSctmUC5513XvqDvtNuE5NL773JBlwFDbjLv31Lstteu6f3+aSTTmq5bThiawS2bt2awJWH9nbjtkuYLlWFaV++huFT+w5448HpfWY0tVN/vttaq3MsEzABE6guAYug6t7bnroyRoOY206D22WPlyXv/epKG3AVEkJ8xP2yaXuk93fixInJk08+2VPtr0qVOe64bdOktn/J+OQdKy5wP6pQP2JFOAkgnpXr1q2rUtP1tZiACZhATxGwCOqp21HtymzcuDHhzSaNjjfZBx49N/1jzcWrP5L+MSAGgLf+YcB9e+fKJcnBJ85PXrT9i9P7OmHChOTBBx+sdkMe46t77rnnknnz5qW86Uv7zH5l2o/O/+KH3X/68BnCCwTE7PR5r6ndU+7rjTfeOMYtzcWbgAmYQLUJWARV+/723NWxZDKNzls1GaxZs6bn2lwVK7R58+baCwX3per1pQsuuKCKzdbXZAImYAI9RcAiqKdux2BU5nvf+16i5X5twFXDgJs1a5an7nS5+7L8+CmnnJKMGzfOLxUq8mJlzpw5yXXXXZfw/ZedCZiACZhAZwlYBHWWr3NvQgAjjpGDVatWJStWrPDWZwy4byx//uijjza5yz7VaQJ8b7d27drUeHY/6s/nCM/BTZs2dbqpOH8TMAETMIFAwCIowLDXBEzABEzABEzABEzABEyg+gQsgqp/j32FJmACJmACJmACJmACJmACgYBFUIBhrwmYgAmYgAmYgAmYgAmYQPUJWARV/x77Ck3ABEzABEZB4Pnnn0/uvvvu9LvF22+/Pfnd7343ityc1ARMwARMoBcIWAT1wl1wHTpKgNXo2MowXMrMq6MX7cxNwARKI7B48eIhK/D5v7BKQ+uMTMAETGDMCFgEjRl6F5xH4Ctf+coQY4MGGrejjz46L1nTMKUvw3ApM6+mlX7hZCMe++23X7Jw4cLkpz/96bBsWCFM9bznnnuGnde5eEJh7FtNE9Pb33sEYjs49dRTh1VQ93zYiS4F5LXtnXbaKZk5c2bDtq06t9NOm6WJjBpd9i9/+cvkRS96UdqnqBvPoEceeaRRdIebgAmYgAn0CQF+H+TqPoUkSfrgD4f2mkBHCUTDCEM/u2H4t+tkBLUqgmQY5QmudvNqt67Z+Hk89thjj5rIwTjLihbVn7rOnTs3m2UtbTyh62onTUxvf+8RiO2A+3r//fcPqaTu+ZDALh7ktW1EkOqV17Z1jn0ZbTsyanTpt956a1qn6dOnJ3/6058aRXO4CZiACZhAnxHgt0Su7lOIRVAgYW83CETDqBvl5ZUhwyhPBOXF72RYIx68nZ43b15qnO2www4Jx3KqvwzGxx57TKfSvcJjoMK0byVNTG9/7xHItoPsaJDu9VjVPK9tIzJ4WdGobavO2rfSThVX+5gmMmrEQXF64XnQqI4ONwETMAETaJ8AvwtydZ9CLIICCXu7QSDPMMorF0MJ44TtN7/5TS3K+vXra+H6Bkjxfv3rX9fikYYPnDl300031aaVUf78+fNTccEolM4rYTavbHmPP/54mh/xsm/eyYM6UYbyiXvyyrpmPJ566qkEAUQnXrZsWS0peRLGm3L2S5YsqZ3DQxhbdAprJ01Mb3/vEci2A0ZWYl/RPc/WnEUA/uZv/qbWRhlpJAxH+yZf+kx0Cs+OSvINHfEfeuihGD31F2nbqnM77bRZGjEiTtbxvOB89nkAm+h4AcFoEXHvvPPOIYwVj3Ns9H/ic+3ZfBTXexMwARMwge4QiM/+4b8CFkHduQsupUagmWFUi/SCZ/bs2akxf9FFF9VOKQzDRU5GkKbDYZDFaTc6T3ze9upYe8SQnMKUF4aNwo499tiaX2F8QyDDk3InT548LI7iklfWjcTj5JNPTvOLU4NUp0svvTQVSVzrs88+W8ta5dUCgjBqJ01Mb3/vEYjtYNddd03bSWxjee0AMUN71znt995779R457zC1K658pUrV6bh9L/o1D4RQ1lXpG2r7HbaabM0YkScrKOPK23cL1q0qBYVMajvhRSH/sYzKa/PnXvuubU8Yz61DO0xARMwARPoGoH47B/+K2AR1LUb4YK2ERjJMIqceJNKA2Y0BIMMQ0uGSBxVUZiEi94iY0gRxoiNRlJYaECGyiGHHJKej2+xs3lFI4p8MYq4hiimeEuMQxCRXm/R+bhaYSy/m+dG4kG9yRNxJac6secbKs4z6iWna9Axe4W1kyamt7/3CMR2cO+996b3GDGj71p0z2PNafOEI17oG/QptWVEPk7fpF1//fW1pBI7pNUILCcpj7AoCJSoSNtWndtpp83SiBFxso7rgEH2eYAQxHH9pEME0ceJG1eR4/kipzogRo8//vj0eeORINHx3gRMwATGhkB89g//FbAIGpu7MsClRsMI4ytu0egSIr3hxsjnzSoNmjTRyQDBSMFpCln8jibGl2GUzYc42bwUl3DlTzz8ikscphPpWFOLiCcRE0ezYl0ijxgufyw/G8Y5pidRLoaXnOqhY/YKaydNTG9/7xFQ22CPk+DWyma656o538ooLAoZtWX6DY5+QbzYP+LokfqB2nwcSVVZ7Iu0bdWvnXbaLI0YEaeRU5x4vfBRvrFvkYdYIBblFDdvRExxvDcBEzABE+gugfjsz/0ViBG6WzWXNogEomEkw0H7vOkjvG3lPNPfMDow1OKHzzBUehlnEkG8Hc9zeUaP4mXzUlzClT9xZTgSThwEl9IqL/ZKn3dtnI88Yjr5lZ685RTGXt8Ncc0SfXn1UFg2jYxhnVcZ3vc+gdgOqK36ikY9s/dUo0WsghYdoziKy3cyCHYdc46N0RBN9eS7GByjqsTLigTlXaRtq9x22mmzNGJEnEZOcaIIYvRY+ep6lV6jr5zP9p/4jFB8703ABEzABMaGQHz25/4KxAhjU0WXOkgEomGE8RG3vOkjGBkaDaKt5o2oEM4mAwSjjGMMN1bMyoqhPKNH9yCbl+LG/ImbFUEyFIkXF2jQVJu8US7yiTxUh7iP5StcYexxGiFjqhNToXQNis9eYdk0msqn8zGN/b1NINsOJMR5WZDXDm644Ya0HTCSQdq46f7TrjW6SBjHausqjzaNQxwQh++F8lyRtq16UBZObbtZO22WRnUmTiOnOFEEiRXpuP7oFJ9z2VG3bNyYzn4TMAETMIHuEojP/txfgRihu1VzaYNIYCTDKI+JRA1tNX4LpLiEs8kA4fshrfikc+ShaWoyYqLR0ygvxY35E1eGIeHEwbFKG8dMSyIMAYYQ40PqKIxUFvuReGg6XZxypDqpXAwxXae+o+I4Op3PptGH7jof09jf2wSy7YDaqq/ktQPF173O29Ouaas6x/dtEgSILNqy2ozae6MpYEXatsptp502SxOvudHdVJz4PFAYeeu5ovR551SHbFyl8d4ETMAETKD7BHg2y9V9CnnhDXE4tNcEOkpgJMMoWziGF0JCRgYfaGedzmUNEMSB3iQTh4+acTJiotGjPLN5KS7hMX/8ikscHHVlWpqmDTGCxcfmelusMuJ+JB76IF0frZNWdVK5hMUP3sUrlpOta0xDHfLSxPT29x6BvHagKW+0m+w91Yf+/EcPbTVv04sCLXjA1C/ykgjXywVeNJAPZTAKmueKtO0i7bRZGl5E6HxeHQkTx/g8kPAjbez3MT7n1LdVRjZuozIdbgImYAIm0HkCPJvl6j6FWAQFEvZ2g8BIhlG2DhIxGCr61oc8ohvJAJFAUGfIM3qUXzYvxSU8Gjh5IggjKn4srTyb7Zvx0Pc+lK0V58hLdWIvx+pzxIsiTOfY67ry0iDWJNxiGvt7m0BeO6DGfPOT1w4kkLjfWkGu0RVKPNB3EET0Q9zy5cvTtsQIJflwvpEr0raLtNNmaSTmiNPIiWMUQWJFurjyInmIDeckAFWH+IxoVJ7DTcAETMAEukMgPvtzfwVihO5UyaUMMoFmhlGWiz68RljwhjouT6s3sKTJGiBx6hnGnlbNYqoQTkYPb7KzLpuX4hIeDZw8EcRbcTY+UCedNqYmyVjKlteIB9dA/SgXgaIPsGP9yV8OPrpOXYPOsVdYNo3Ej87HNPb3NgHuJfct3lNqHEcxOC9HG9SLhLzveGKfQnSTVqNJEgJaMED5ZP+oV2Wxz2vb9EfKadS21Q7jNdG2m7XTImliPcUxiqD4LSL9Sv2X5bN17XF0VnWIz4hYhv0mYAImYALdJ8CzWa7uU4hHggIJe7tBIBpGGB3ZTW+cqYtWqdJiCFF4xHhZA4RjBBPTf8hf5/XtAgadwnijHRctULiMGRlIhCuMusW6yGCLI07KR/toYEXOjXgoHfs4CkRa1UnlKj+uL6ZTOHuFZ9NopE3nYxr7e5tAo3bANDfdT/bRxfvNSwHaPhuiRFPeiB/bN3mo7TMNLuYtcRTLkD+vbVNGTJ9t2zrXTjstkkZ1ZC+O2T4aF4iAD5x4IaPyOC+nMHFSuPcmYAImYAJjR4Bns1zdpxCLoEDC3m4QiIaRDIe4lyGGISeDgxEhHG+RmepDfKbiaHRE6WWA6O21wtnreyDyIW8+8NZ5lck5hSkvGUiEK4x4+BVXBhtGUV7ZipddpY58mvEgLwRgduqS6qRyyUeOj9ZVnsLYKyybJn5ATxy7/iFQpB3Q9rMjhmobGPpyTMVUOO1QIyGcp+/pXN5CJcqjSNtWvu200yJpVEf24pgVQZzT9D+VwZ5RKcRb7Jc6H58RsQz7TcAETMAEuk+AZ7Nc3acQi6BAwt5uEEDQYHQ02vRmGAOKONk3zRhdSitxpGNNg2PP8r2E8/b2oYceGnZpGINMG2JaUDTksnnF8pQ/meFXXOKwhC/GIkZTNI4wHjUaFYWYKtSIB4Iqlqf47FWnWG+d1znqFl2sawynrjDS+XjO/t4moHvdTjvgirjnjBrqvtMPOI7tlnj0PdqFlqcWDfVNzkVxpPPa57Vt+jcvAxq1bbXD7DU1a6fN0tC/dV71yu7FkevKc/wvGfUmH76908uXGFdlNLquGNd+EzABEzCB7hCwCOoOZ5cy4AT0dhxxlXVa5lrT+rLnfWwCJmACJmACJmACJlAuAYugcnk6NxPIJaBVqBjt4Q04YoiNER191M1H5XYmYAImYAImYAImYAKdJ2AR1HnGLsEEEgSORoPodHFjNSmmHNmZgAmYgAmYgAmYgAl0h4BFUHc4uxQTSL+P4HsHfWvBdwKMBPGRuZ0JmIAJmIAJmIAJmED3CFgEdY+1SzIBEzABEzABEzABEzABE+gBAhZBPXATXIVyCbA6E6s0MdLCClZ5qzWVW2JncvOKUp3h6ly7R6Df27Dq32hluO6RdEkmYAImYAJlE7AIKpuo8xtTAvyvjf6xncbN1q//zTHa+msZcAy57PLGY3qTXPiYE6Cf8MeoTM0sy5Ef2+OPP17LcrRtuJbRGHlU/7z/CGpUpbylv+mDLCUe2TRK73ATMAETMIHuEOAZL1f3KcT/ExRI2NsPBA455JBU+CCEGA1CAHXqmxu9Je6UyJIBViT/559/fogYzPsvpH64n65jZwjQdmlf7Rj3I9Ukr73mhY2UTzvnR/oPn3byyour+rfDiVEjpcvbk5fFUB5th5mACZhAdwnwjJar+xRiERRI2NsPBPhDUhr1/PnzO15dGThlvk2PlVb+RUQQf26p9Owxeu1MQAQ6IR70UiD+IajaYJE2rLo223dCzMXyVP+iIujcc89NX8TAe+HChbU+eeqpp8Zi7DcBEzABExgDAjzj5eo+hVgEBRL29gOBIkZL0etSWb0ogi699NLU4MJ4o55z584teplOZwKFCaiPDKoIii8fGJ3daaed0v7Icvl2JmACJmACY0uA3yi5uk8hFkGBhL29TAAjSwZX3PONAo4pcbyV3W+//RJGi5guN2/evIQ3tNHpzTLpbrrppjS+8lC8RmWRN45peIgOGTyUxzQ9lseW4xsdFm2gDhq9mj179pA4ug4ZkKSZPn16ep38+eqzzz6r7IbtyYv0mppDGfw5q91gEKCtIIT32GOPWr+I7UvtPI5wKIwRC9q+2hrtmLzoQxdddFGiP/4lb47lsu2V8GwYfYMy6Sucy+sbMR3989hjj037a7b9SuCrDO21iEEr/ZBposcff3yNE+Lk5JNP1iXV6h85qU9RHpyyLp6PIoh4um6eP3YmYAImYAJjS4DnuFzdpxCLoEDC3l4m0EiYSMBg6MhIinuMkd/85je1S5MhKGOFuMpDkRqVJRFE/FiG/JSlleoQQAqP+2g0KVwiKE5xi/FUL+1546y0hMm/bNkyRfG+4gRGal9q59G4V5jaS3bf6M9+H3nkkZSm4qu9EpgNa6VvxHSxH7YrglopK4pE1ZW9nMIiJ15cEA4P+lrWNRNBYjhz5sxsMh+bgAmYgAl0mcCQ531e2TFC3nmHmUAvEEBcRHHCyAvHfICscN46IwQQE6yOJQOIt9xy0RBkNIf4xI0uW9bixYvTMrT4APEZ9aFcthtuuKFmDCov8qZvYeQpLqu56TzlcZ6NPHB6802943cXsW74eXtOOhjgtFgE6fKMtmx6H/c/AbUv2rbaYWxfaufRuFcYIz+M8GDME4Z4V1vlmHC1RcI1GoKfTe0Vitkw2jfpVae8vhHTIRoQM5SrFwi6O6zCxuguZai/k69eaozUD++///5a/cSJsPiyQPUXJ/InDEbxOlUn9o1EEPVRfvGZE9PabwImYAIm0D0CPJPl6j6FvPAjFg7tNYGeJiAjQ0YLldUHyXHqDuEygjBo5GQItrKwgspq5ZsgvT0mf5ymwFG3Rk75Y2whlDhGyGTfiGfTL1++PI0rY47rVl7Z6X/ZtD6uBgG1r0arkKmdx36SFwYNCR61XcIkBmhXClcbi+IgLyxLONs3OK90I7XXRnXOlqHjWNbKlStr5TTipHqIk14oNOvzUQTxkoO0EqWMAJG22VRW1dV7EzABEzCBzhLgGS9X9ynEIiiQsLcfCGSNFuqsKTWInugwRBRfRlA7RpXSNjOIVB6iivgyGFUnBBhv6PNGaJQ/hqC+z8DAGsnJUNP1SkCRn4TRSHn4fH8TUPtiGuhjjz027GLy2nleGAk7LYKyfYMy1fajoBp2EUmS9ifiSqTkxYlhsawoVhpxUj3IX/Hpi83+d0vxlDbueYlBWRo1jnWz3wRMwARMoLsEeD7L1X0KsQgKJOztBwIyOKJRpLA8gyp7rpEhmHftSpsVQQgapghh7GCMInQUVyIo+80GcZgiE8WQ0mgkC+NrJIfBSzpGAvS2mWlEGhng43i76hPIti+M79i+8tp5XhikyhRBtO977rknYQopYj2vb1Cm2n5en413r1GdiTNSP6R/6OWCytO0OpWhcMQTDDlmwYVmLoog9XdEE9Nw9U0Q161pe83y8jkTMAETMIHOEeCZLlf3KcQiKJCwtx8IyGgZKxGE4aWRGAQHxh6GENNgqJuMIlgyrY0pOVpti/PEl9O1IKjk5zuIZg7hRVy+44CBNn3XwTkbX80IVuccI4i0Bwlg7r3aV554yAuDRlkiKPYN2iPivlHfUHsvKoJiWc36IS8IEC2RE3XTlFPVAwbqW3H1uLzWkieCFG/JkiW1vkw8OxMwARMwgbEjwDNeru5TiEVQIGFvPxCIRovqK5Gh6WEKj9PhZPQ0MgSVJu5VVhwJ0sfP2SkzeYak8uItsb7b4U2xnPLHEOTPFTnmjXQjxzUoTbO9ja9GBKsZzlRPTY9T+8pr53lhEMlru7RJtTHS4XQchUsMU98gLLbBvPxjumZ3pVGdVVY7/RBOGqnJLvZAHXkBIUHZ7FulZiJI9eX6xK3Z9fmcCZiACZhA5wjwLJar+xRiERRI2NsPBGQ8YbTIyciKYoVz0ZBTXBkpMb3OZfcqK+bbKL3q0MjwyauL8udcPM90ojxHuNIw9Sa6uLy2RgPiefurTYA2qrbBlea107ww4ua13dge1aaVP+fkYpjyJyzGycs/plNeeXvlme2vjcLzyor5Zs+rHspf53kp0cg1E0H0PeXJlEU7EzABEzCBsSPA81iu7lOIRVAgYW8/EJCBIaOFOrMYAOFMSYtTwbS8Ln/GKNfIeNL5uFdZcbEBLfmb/X5HxhP547JLXPOdAfnFdMofg5HRIs4RxtvqbHry5JsPpeGPLaPjWOeYrmdXbQKxfdB2NJKo9pXXzvPCoJRtu4QVEUHqG7TD+F1NXv5qq1Es5d0x1ZlV36JTWbpenYtl8SyAjRx+TVtV/VQP0uEkcJgy16huikNa9XfS0gc1Ise5ZqNJqpP3JmACJmACnSPAs1iu7lOIRVAgYW8/EMgaLdQZ40MfNWO8YDDxnQBx+UA5fmcjo0pGT7NrVh7kQ54YmixMoCkzhPEfJ/F7AxlFpMEgohymuCkN3wjJ6VpkbGmKD+EIuKxTfRqJHE25I31WJGXz8nF/E+Ae0w5oX9HwVvvKa+d5YVAgD/JT2yWsiAiKfQMhzzdBeX2D/CmPTW2/0d2IfULXy2qIsaxG/ZDroR5cX+Q0efLk2n8SqR6cl1M/i98O6Rz7KILUx0kfF4GI+cW09puACZiACXSPAM94ubpPIRZBgYS9/UAgz2ih3rwZR6TIIMQgYQQoCiDiNTIE864dA00GESJGH0xjBMVRG8I1SiNDkmkxvHXGkKLO1AsDNb6Z1rVEQ1BL/HLukUceqVWL61P8ODJVi5Ak6SiYytOb7nje/uoQoH3pWzjuOQIhtq+8dp4XBhEMdtqW2i5hRUQQ6egb1IX+R73y+gbx1JZj2yc86+gvLDYggcHLDk0FHakfMhKDQNJ3QNQn+0xQPaJoIZ3CEXFZF0WQ4rFHXHG9nGfhBjsTMAETMIGxJcCzWa7uU4hFUCBhrwmYgAmYgAmYgAmYgAmYQBUIWARV4S76GkzABEzABEzABEzABEzABFomYBHUMipHNAETMAETMAETMAETMAETqAIBi6Aq3EVfgwmYgAmYgAmYgAmYgAmYQMsELIJaRuWIJmACJmACJmACJmACJmACVSBgEVSFu+hrMAETMAETMAETMAETMAETaJmARVDLqBzRBEzABEzABEzABEzABEygCgQsgqpwF30NJmACJmACJmACJmACJmACLROwCGoZlSOagAmYgAmYgAmYgAmYgAlUgYBFUBXuoq/BBEzABEzABEzABEzABEygZQIWQS2jckQTMAETMAETMAETMAETMIEqELAIqsJd9DWYgAmYgAmYgAmYgAmYgAm0TMAiqGVUjmgCJmACJmACJmACJmACJlAFAhZBVbiLvgYTMAETMAETMAETMAETMIGWCVgEtYzKEU3ABEzABEzABEzABEzABKpAwCKoCnfR12ACJmACJmACJmACJmACJtAyAYugllE5ogmYgAmYgAmYgAmYgAmYQBUItCSCiOTNDNwG3AbcBtwG3AbcBtwG3AbcBtwGqtAGJkyYkDz//POpnvuzPFX329/+Ni/YYSZgAiZgAiZgAiZgAiZgAibQlwQkgKh8rgjqy6typU3ABEzABEzABEzABEzABEygBQIWQS1AchQTMAETMAETMAETMAETMIHqELAIqs699JWYgAmYgAmYgAmYgAmYgAm0QMAiqAVIjmICJmACJmACJmACJmACJlAdAv8fWfm4mrlGKf4AAAAASUVORK5CYII=)"
   ]
  },
  {
   "cell_type": "markdown",
   "metadata": {
    "id": "7dBl_1RDYVIg"
   },
   "source": [
    "### An example\n",
    "\n",
    "Suppose you have access to a DNN that was trained to classify pictures into 100\n",
    "different categories, including animals, plants, vehicles, and everyday objects, and you now want to train a DNN to classify specific types of vehicles.\n",
    "\n",
    "- These tasks are very similar, even partly overlapping, so you should try to reuse parts of the first network!\n",
    "\n",
    "- The output layer of the original model should usually be replaced because it is most\n",
    "likely not useful at all for the new task, and probably will not have the right number\n",
    "of outputs.\n",
    "\n",
    "- Similarly, the upper hidden layers of the original model are less likely to be as useful as the lower layers, since the high-level features that are most useful for the new task may differ significantly from the ones that were most useful for the original task.\n",
    "\n",
    "- You want to find the right number of layers to reuse.\n",
    "\n",
    "- Try freezing all the reused layers first (i.e., make their weights non-trainable so that gradient descent won’t modify them and they will remain fixed), then train your\n",
    "model and see how it performs.\n",
    "\n",
    "- Then try unfreezing one or two of the top hidden layers to let backpropagation tweak them and see if performance improves.\n",
    "\n",
    "- The more training data you have, the more layers you can unfreeze."
   ]
  },
  {
   "cell_type": "markdown",
   "metadata": {
    "id": "7FVvO0VLSz5j"
   },
   "source": [
    "#### Reusing a Keras model\n",
    "\n",
    "- Suppose the Fashion MNIST dataset only contained eight classes — for example, all the classes except for sandal and shirt.\n",
    "\n",
    "- Someone built and trained a Keras model on that set and got reasonably good performance (>90% accuracy). Let's call this **model A**.\n",
    "\n",
    "- You now want to tackle a different task: you have images of T-shirts and pullovers, and you want to train a binary classifier: positive for T-shirts (and tops), negative for sandals.\n",
    "\n",
    "- Your dataset is quite small; you only have\n",
    "200 labeled images.\n",
    "\n",
    "- When you train a new model for this task (let’s call it **model B**) with the same architecture as model A, you get 91.85% test accuracy."
   ]
  },
  {
   "cell_type": "markdown",
   "metadata": {
    "id": "s5F8cd8XSz5j"
   },
   "source": [
    "- Let's split the fashion MNIST training set in two:\n",
    "\n",
    "  * `X_train_A`: all images of all items except for T-shirts/tops and pullovers (classes 0 and 2).\n",
    "  * `X_train_B`: a much smaller training set of just the first 200 images of T-shirts/tops and pullovers.\n",
    "\n",
    "- The validation set and the test set are also split this way, but without restricting the number of images.\n",
    "\n",
    "- We will train a model on set A (classification task with 8 classes), and try to reuse it to tackle set B (binary classification). We hope to transfer a little bit of knowledge from task A to task B, since classes in set A (trousers, dresses, coats, sandals, shirts, sneakers, bags, and ankle boots) are somewhat similar to classes in set B (T-shirts/tops and pullovers).\n",
    "\n"
   ]
  },
  {
   "cell_type": "code",
   "execution_count": 29,
   "metadata": {
    "colab": {
     "base_uri": "https://localhost:8080/"
    },
    "executionInfo": {
     "elapsed": 144867,
     "status": "ok",
     "timestamp": 1700159962153,
     "user": {
      "displayName": "Fabian Slonimczyk",
      "userId": "03641987333157587017"
     },
     "user_tz": -180
    },
    "id": "cvFMl75aSz5k",
    "outputId": "61d0d424-1c42-419a-bb75-a705eede50ee"
   },
   "outputs": [
    {
     "name": "stdout",
     "output_type": "stream",
     "text": [
      "Epoch 1/20\n",
      "1376/1376 [==============================] - 7s 5ms/step - loss: 1.1703 - accuracy: 0.6415 - val_loss: 0.7264 - val_accuracy: 0.7791\n",
      "Epoch 2/20\n",
      "1376/1376 [==============================] - 7s 5ms/step - loss: 0.6239 - accuracy: 0.7998 - val_loss: 0.5227 - val_accuracy: 0.8300\n",
      "Epoch 3/20\n",
      "1376/1376 [==============================] - 5s 4ms/step - loss: 0.4950 - accuracy: 0.8426 - val_loss: 0.4422 - val_accuracy: 0.8543\n",
      "Epoch 4/20\n",
      "1376/1376 [==============================] - 9s 7ms/step - loss: 0.4326 - accuracy: 0.8606 - val_loss: 0.3975 - val_accuracy: 0.8654\n",
      "Epoch 5/20\n",
      "1376/1376 [==============================] - 5s 4ms/step - loss: 0.3950 - accuracy: 0.8702 - val_loss: 0.3699 - val_accuracy: 0.8752\n",
      "Epoch 6/20\n",
      "1376/1376 [==============================] - 7s 5ms/step - loss: 0.3694 - accuracy: 0.8777 - val_loss: 0.3507 - val_accuracy: 0.8792\n",
      "Epoch 7/20\n",
      "1376/1376 [==============================] - 6s 4ms/step - loss: 0.3509 - accuracy: 0.8823 - val_loss: 0.3352 - val_accuracy: 0.8834\n",
      "Epoch 8/20\n",
      "1376/1376 [==============================] - 8s 5ms/step - loss: 0.3359 - accuracy: 0.8871 - val_loss: 0.3316 - val_accuracy: 0.8882\n",
      "Epoch 9/20\n",
      "1376/1376 [==============================] - 5s 4ms/step - loss: 0.3242 - accuracy: 0.8905 - val_loss: 0.3144 - val_accuracy: 0.8922\n",
      "Epoch 10/20\n",
      "1376/1376 [==============================] - 7s 5ms/step - loss: 0.3138 - accuracy: 0.8933 - val_loss: 0.3089 - val_accuracy: 0.8937\n",
      "Epoch 11/20\n",
      "1376/1376 [==============================] - 6s 4ms/step - loss: 0.3051 - accuracy: 0.8957 - val_loss: 0.3037 - val_accuracy: 0.8955\n",
      "Epoch 12/20\n",
      "1376/1376 [==============================] - 6s 4ms/step - loss: 0.2977 - accuracy: 0.8978 - val_loss: 0.3022 - val_accuracy: 0.8980\n",
      "Epoch 13/20\n",
      "1376/1376 [==============================] - 7s 5ms/step - loss: 0.2915 - accuracy: 0.8996 - val_loss: 0.2942 - val_accuracy: 0.8972\n",
      "Epoch 14/20\n",
      "1376/1376 [==============================] - 6s 4ms/step - loss: 0.2852 - accuracy: 0.9018 - val_loss: 0.2863 - val_accuracy: 0.9002\n",
      "Epoch 15/20\n",
      "1376/1376 [==============================] - 7s 5ms/step - loss: 0.2801 - accuracy: 0.9032 - val_loss: 0.2827 - val_accuracy: 0.9015\n",
      "Epoch 16/20\n",
      "1376/1376 [==============================] - 6s 4ms/step - loss: 0.2752 - accuracy: 0.9052 - val_loss: 0.2790 - val_accuracy: 0.9022\n",
      "Epoch 17/20\n",
      "1376/1376 [==============================] - 6s 5ms/step - loss: 0.2706 - accuracy: 0.9072 - val_loss: 0.2749 - val_accuracy: 0.9035\n",
      "Epoch 18/20\n",
      "1376/1376 [==============================] - 6s 5ms/step - loss: 0.2658 - accuracy: 0.9086 - val_loss: 0.2729 - val_accuracy: 0.9042\n",
      "Epoch 19/20\n",
      "1376/1376 [==============================] - 6s 4ms/step - loss: 0.2622 - accuracy: 0.9102 - val_loss: 0.2723 - val_accuracy: 0.9055\n",
      "Epoch 20/20\n",
      "1376/1376 [==============================] - 7s 5ms/step - loss: 0.2582 - accuracy: 0.9108 - val_loss: 0.2716 - val_accuracy: 0.9070\n"
     ]
    }
   ],
   "source": [
    "# split Fashion MNIST into tasks A and B, then train and save\n",
    "# model A to \"my_model_A\".\n",
    "\n",
    "pos_class_id = class_names.index(\"Pullover\")\n",
    "neg_class_id = class_names.index(\"T-shirt/top\")\n",
    "\n",
    "def split_dataset(X, y):\n",
    "    y_for_B = (y == pos_class_id) | (y == neg_class_id)\n",
    "    y_A = y[~y_for_B]\n",
    "    y_B = (y[y_for_B] == pos_class_id).astype(np.float32)\n",
    "    old_class_ids = list(set(range(10)) - set([neg_class_id, pos_class_id]))\n",
    "    for old_class_id, new_class_id in zip(old_class_ids, range(8)):\n",
    "        y_A[y_A == old_class_id] = new_class_id  # reorder class ids for A\n",
    "    return ((X[~y_for_B], y_A), (X[y_for_B], y_B))\n",
    "\n",
    "(X_train_A, y_train_A), (X_train_B, y_train_B) = split_dataset(X_train, y_train)\n",
    "(X_valid_A, y_valid_A), (X_valid_B, y_valid_B) = split_dataset(X_valid, y_valid)\n",
    "(X_test_A, y_test_A), (X_test_B, y_test_B) = split_dataset(X_test, y_test)\n",
    "\n",
    "# Reduce sample size\n",
    "X_train_B = X_train_B[:200]\n",
    "y_train_B = y_train_B[:200]\n",
    "\n",
    "tf.random.set_seed(42)\n",
    "\n",
    "model_A = tf.keras.Sequential([\n",
    "    tf.keras.layers.Flatten(input_shape=[28, 28]),\n",
    "    tf.keras.layers.Dense(100, activation=\"relu\",\n",
    "                          kernel_initializer=\"he_normal\"),\n",
    "    tf.keras.layers.Dense(100, activation=\"relu\",\n",
    "                          kernel_initializer=\"he_normal\"),\n",
    "    tf.keras.layers.Dense(100, activation=\"relu\",\n",
    "                          kernel_initializer=\"he_normal\"),\n",
    "    tf.keras.layers.Dense(8, activation=\"softmax\")\n",
    "])\n",
    "\n",
    "model_A.compile(loss=\"sparse_categorical_crossentropy\",\n",
    "                optimizer=tf.keras.optimizers.SGD(learning_rate=0.001),\n",
    "                metrics=[\"accuracy\"])\n",
    "history = model_A.fit(X_train_A, y_train_A, epochs=20,\n",
    "                      validation_data=(X_valid_A, y_valid_A))\n",
    "model_A.save(\"my_model_A\")"
   ]
  },
  {
   "cell_type": "code",
   "execution_count": 30,
   "metadata": {
    "colab": {
     "base_uri": "https://localhost:8080/"
    },
    "executionInfo": {
     "elapsed": 946,
     "status": "ok",
     "timestamp": 1700160009063,
     "user": {
      "displayName": "Fabian Slonimczyk",
      "userId": "03641987333157587017"
     },
     "user_tz": -180
    },
    "id": "zl6skWMUbpr-",
    "outputId": "a7e26b14-123a-448e-966b-e185f09babce"
   },
   "outputs": [
    {
     "name": "stdout",
     "output_type": "stream",
     "text": [
      "250/250 [==============================] - 1s 2ms/step - loss: 0.2930 - accuracy: 0.8994\n"
     ]
    },
    {
     "data": {
      "text/plain": [
       "[0.2929718494415283, 0.8993750214576721]"
      ]
     },
     "execution_count": 30,
     "metadata": {},
     "output_type": "execute_result"
    }
   ],
   "source": [
    "model_A.evaluate(X_test_A, y_test_A)"
   ]
  },
  {
   "cell_type": "code",
   "execution_count": 31,
   "metadata": {
    "colab": {
     "base_uri": "https://localhost:8080/"
    },
    "executionInfo": {
     "elapsed": 4367,
     "status": "ok",
     "timestamp": 1700160041904,
     "user": {
      "displayName": "Fabian Slonimczyk",
      "userId": "03641987333157587017"
     },
     "user_tz": -180
    },
    "id": "MkX8QSeaSz5k",
    "outputId": "8767bf9a-156d-40b3-a0e5-14c56ab35102"
   },
   "outputs": [
    {
     "name": "stdout",
     "output_type": "stream",
     "text": [
      "Epoch 1/20\n",
      "7/7 [==============================] - 1s 53ms/step - loss: 0.7106 - accuracy: 0.4500 - val_loss: 0.7019 - val_accuracy: 0.5114\n",
      "Epoch 2/20\n",
      "7/7 [==============================] - 0s 19ms/step - loss: 0.6901 - accuracy: 0.5100 - val_loss: 0.6830 - val_accuracy: 0.5875\n",
      "Epoch 3/20\n",
      "7/7 [==============================] - 0s 20ms/step - loss: 0.6701 - accuracy: 0.6150 - val_loss: 0.6657 - val_accuracy: 0.6538\n",
      "Epoch 4/20\n",
      "7/7 [==============================] - 0s 19ms/step - loss: 0.6487 - accuracy: 0.7300 - val_loss: 0.6490 - val_accuracy: 0.7052\n",
      "Epoch 5/20\n",
      "7/7 [==============================] - 0s 21ms/step - loss: 0.6308 - accuracy: 0.7700 - val_loss: 0.6316 - val_accuracy: 0.7458\n",
      "Epoch 6/20\n",
      "7/7 [==============================] - 0s 19ms/step - loss: 0.6118 - accuracy: 0.7950 - val_loss: 0.6147 - val_accuracy: 0.7923\n",
      "Epoch 7/20\n",
      "7/7 [==============================] - 0s 33ms/step - loss: 0.5931 - accuracy: 0.8300 - val_loss: 0.5982 - val_accuracy: 0.8408\n",
      "Epoch 8/20\n",
      "7/7 [==============================] - 0s 18ms/step - loss: 0.5768 - accuracy: 0.8750 - val_loss: 0.5827 - val_accuracy: 0.8615\n",
      "Epoch 9/20\n",
      "7/7 [==============================] - 0s 20ms/step - loss: 0.5593 - accuracy: 0.8950 - val_loss: 0.5678 - val_accuracy: 0.8724\n",
      "Epoch 10/20\n",
      "7/7 [==============================] - 0s 20ms/step - loss: 0.5432 - accuracy: 0.9150 - val_loss: 0.5534 - val_accuracy: 0.8764\n",
      "Epoch 11/20\n",
      "7/7 [==============================] - 0s 17ms/step - loss: 0.5279 - accuracy: 0.9150 - val_loss: 0.5396 - val_accuracy: 0.8793\n",
      "Epoch 12/20\n",
      "7/7 [==============================] - 0s 21ms/step - loss: 0.5130 - accuracy: 0.9200 - val_loss: 0.5256 - val_accuracy: 0.8952\n",
      "Epoch 13/20\n",
      "7/7 [==============================] - 0s 18ms/step - loss: 0.4982 - accuracy: 0.9250 - val_loss: 0.5134 - val_accuracy: 0.9031\n",
      "Epoch 14/20\n",
      "7/7 [==============================] - 0s 20ms/step - loss: 0.4851 - accuracy: 0.9300 - val_loss: 0.5013 - val_accuracy: 0.9130\n",
      "Epoch 15/20\n",
      "7/7 [==============================] - 0s 18ms/step - loss: 0.4725 - accuracy: 0.9300 - val_loss: 0.4894 - val_accuracy: 0.9219\n",
      "Epoch 16/20\n",
      "7/7 [==============================] - 0s 17ms/step - loss: 0.4601 - accuracy: 0.9400 - val_loss: 0.4778 - val_accuracy: 0.9238\n",
      "Epoch 17/20\n",
      "7/7 [==============================] - 0s 19ms/step - loss: 0.4481 - accuracy: 0.9550 - val_loss: 0.4666 - val_accuracy: 0.9268\n",
      "Epoch 18/20\n",
      "7/7 [==============================] - 0s 20ms/step - loss: 0.4364 - accuracy: 0.9500 - val_loss: 0.4551 - val_accuracy: 0.9308\n",
      "Epoch 19/20\n",
      "7/7 [==============================] - 0s 19ms/step - loss: 0.4245 - accuracy: 0.9550 - val_loss: 0.4443 - val_accuracy: 0.9327\n",
      "Epoch 20/20\n",
      "7/7 [==============================] - 0s 20ms/step - loss: 0.4138 - accuracy: 0.9550 - val_loss: 0.4349 - val_accuracy: 0.9347\n",
      "63/63 [==============================] - 0s 3ms/step - loss: 0.4407 - accuracy: 0.9290\n"
     ]
    },
    {
     "data": {
      "text/plain": [
       "[0.4406895935535431, 0.9290000200271606]"
      ]
     },
     "execution_count": 31,
     "metadata": {},
     "output_type": "execute_result"
    }
   ],
   "source": [
    "# train and evaluate model B, without reusing model A\n",
    "\n",
    "tf.random.set_seed(42)\n",
    "model_B = tf.keras.Sequential([\n",
    "    tf.keras.layers.Flatten(input_shape=[28, 28]),\n",
    "    tf.keras.layers.Dense(100, activation=\"relu\",\n",
    "                          kernel_initializer=\"he_normal\"),\n",
    "    tf.keras.layers.Dense(100, activation=\"relu\",\n",
    "                          kernel_initializer=\"he_normal\"),\n",
    "    tf.keras.layers.Dense(100, activation=\"relu\",\n",
    "                          kernel_initializer=\"he_normal\"),\n",
    "    tf.keras.layers.Dense(1, activation=\"sigmoid\")\n",
    "])\n",
    "\n",
    "model_B.compile(loss=\"binary_crossentropy\",\n",
    "                optimizer=tf.keras.optimizers.SGD(learning_rate=0.001),\n",
    "                metrics=[\"accuracy\"])\n",
    "history = model_B.fit(X_train_B, y_train_B, epochs=20,\n",
    "                      validation_data=(X_valid_B, y_valid_B))\n",
    "model_B.evaluate(X_test_B, y_test_B)"
   ]
  },
  {
   "cell_type": "markdown",
   "metadata": {
    "id": "xVC_oHeJSz5k"
   },
   "source": [
    "Model B reaches 93% accuracy on the test set. Now let's try reusing the pretrained model A."
   ]
  },
  {
   "cell_type": "code",
   "execution_count": 32,
   "metadata": {
    "executionInfo": {
     "elapsed": 1513,
     "status": "ok",
     "timestamp": 1700160086590,
     "user": {
      "displayName": "Fabian Slonimczyk",
      "userId": "03641987333157587017"
     },
     "user_tz": -180
    },
    "id": "B4zYBHa2Sz5k"
   },
   "outputs": [],
   "source": [
    "model_A = tf.keras.models.load_model(\"my_model_A\")\n",
    "model_B_on_A = tf.keras.Sequential(model_A.layers[:-1])\n",
    "model_B_on_A.add(tf.keras.layers.Dense(1, activation=\"sigmoid\"))"
   ]
  },
  {
   "cell_type": "markdown",
   "metadata": {
    "id": "4FBoNnGvSz5k"
   },
   "source": [
    "Note that `model_B_on_A` and `model_A` actually share layers now, so when we train one, it will update both models. If we want to avoid that, we need to build `model_B_on_A` on top of a *clone* of `model_A`:"
   ]
  },
  {
   "cell_type": "code",
   "execution_count": 33,
   "metadata": {
    "executionInfo": {
     "elapsed": 269,
     "status": "ok",
     "timestamp": 1700160129238,
     "user": {
      "displayName": "Fabian Slonimczyk",
      "userId": "03641987333157587017"
     },
     "user_tz": -180
    },
    "id": "MNdCq7G_Sz5k"
   },
   "outputs": [],
   "source": [
    "tf.random.set_seed(42)  #  ensure reproducibility"
   ]
  },
  {
   "cell_type": "code",
   "execution_count": 34,
   "metadata": {
    "executionInfo": {
     "elapsed": 237,
     "status": "ok",
     "timestamp": 1700160131968,
     "user": {
      "displayName": "Fabian Slonimczyk",
      "userId": "03641987333157587017"
     },
     "user_tz": -180
    },
    "id": "aV-hkqElSz5l"
   },
   "outputs": [],
   "source": [
    "model_A_clone = tf.keras.models.clone_model(model_A)\n",
    "model_A_clone.set_weights(model_A.get_weights())"
   ]
  },
  {
   "cell_type": "code",
   "execution_count": 35,
   "metadata": {
    "executionInfo": {
     "elapsed": 282,
     "status": "ok",
     "timestamp": 1700160163454,
     "user": {
      "displayName": "Fabian Slonimczyk",
      "userId": "03641987333157587017"
     },
     "user_tz": -180
    },
    "id": "2zXA6lAcSz5l"
   },
   "outputs": [],
   "source": [
    "# creating model_B_on_A just like in the previous cell\n",
    "model_B_on_A = tf.keras.Sequential(model_A_clone.layers[:-1])\n",
    "model_B_on_A.add(tf.keras.layers.Dense(1, activation=\"sigmoid\"))"
   ]
  },
  {
   "cell_type": "code",
   "execution_count": 36,
   "metadata": {
    "executionInfo": {
     "elapsed": 267,
     "status": "ok",
     "timestamp": 1700160210315,
     "user": {
      "displayName": "Fabian Slonimczyk",
      "userId": "03641987333157587017"
     },
     "user_tz": -180
    },
    "id": "iG9t6rlzSz5l"
   },
   "outputs": [],
   "source": [
    "# IMPORTANT - We need to FREEZE the transfered layers\n",
    "for layer in model_B_on_A.layers[:-1]:\n",
    "    layer.trainable = False\n",
    "\n",
    "optimizer = tf.keras.optimizers.SGD(learning_rate=0.001)\n",
    "model_B_on_A.compile(loss=\"binary_crossentropy\", optimizer=optimizer,\n",
    "                     metrics=[\"accuracy\"])"
   ]
  },
  {
   "cell_type": "code",
   "execution_count": 40,
   "metadata": {
    "colab": {
     "base_uri": "https://localhost:8080/"
    },
    "executionInfo": {
     "elapsed": 8807,
     "status": "ok",
     "timestamp": 1700160407715,
     "user": {
      "displayName": "Fabian Slonimczyk",
      "userId": "03641987333157587017"
     },
     "user_tz": -180
    },
    "id": "_Kp7JfMiSz5l",
    "outputId": "940f0559-15e3-42c3-dc66-2c5df98d94f0"
   },
   "outputs": [
    {
     "name": "stdout",
     "output_type": "stream",
     "text": [
      "Epoch 1/8\n",
      "7/7 [==============================] - 0s 54ms/step - loss: 0.2985 - accuracy: 0.9650 - val_loss: 0.3338 - val_accuracy: 0.9238\n",
      "Epoch 2/8\n",
      "7/7 [==============================] - 0s 38ms/step - loss: 0.2896 - accuracy: 0.9700 - val_loss: 0.3212 - val_accuracy: 0.9288\n",
      "Epoch 3/8\n",
      "7/7 [==============================] - 0s 68ms/step - loss: 0.2781 - accuracy: 0.9700 - val_loss: 0.3091 - val_accuracy: 0.9228\n",
      "Epoch 4/8\n",
      "7/7 [==============================] - 0s 39ms/step - loss: 0.2671 - accuracy: 0.9700 - val_loss: 0.2998 - val_accuracy: 0.9288\n",
      "Epoch 5/8\n",
      "7/7 [==============================] - 0s 40ms/step - loss: 0.2589 - accuracy: 0.9700 - val_loss: 0.2917 - val_accuracy: 0.9347\n",
      "Epoch 6/8\n",
      "7/7 [==============================] - 0s 39ms/step - loss: 0.2521 - accuracy: 0.9700 - val_loss: 0.2850 - val_accuracy: 0.9298\n",
      "Epoch 7/8\n",
      "7/7 [==============================] - 0s 39ms/step - loss: 0.2435 - accuracy: 0.9700 - val_loss: 0.2821 - val_accuracy: 0.9397\n",
      "Epoch 8/8\n",
      "7/7 [==============================] - 0s 32ms/step - loss: 0.2402 - accuracy: 0.9700 - val_loss: 0.2723 - val_accuracy: 0.9416\n",
      "Epoch 1/20\n",
      "7/7 [==============================] - 1s 68ms/step - loss: 0.2317 - accuracy: 0.9700 - val_loss: 0.2685 - val_accuracy: 0.9436\n",
      "Epoch 2/20\n",
      "7/7 [==============================] - 0s 33ms/step - loss: 0.2272 - accuracy: 0.9700 - val_loss: 0.2619 - val_accuracy: 0.9446\n",
      "Epoch 3/20\n",
      "7/7 [==============================] - 0s 21ms/step - loss: 0.2209 - accuracy: 0.9700 - val_loss: 0.2536 - val_accuracy: 0.9446\n",
      "Epoch 4/20\n",
      "7/7 [==============================] - 0s 24ms/step - loss: 0.2144 - accuracy: 0.9700 - val_loss: 0.2488 - val_accuracy: 0.9476\n",
      "Epoch 5/20\n",
      "7/7 [==============================] - 0s 22ms/step - loss: 0.2095 - accuracy: 0.9700 - val_loss: 0.2444 - val_accuracy: 0.9476\n",
      "Epoch 6/20\n",
      "7/7 [==============================] - 0s 33ms/step - loss: 0.2060 - accuracy: 0.9700 - val_loss: 0.2402 - val_accuracy: 0.9515\n",
      "Epoch 7/20\n",
      "7/7 [==============================] - 0s 21ms/step - loss: 0.2009 - accuracy: 0.9650 - val_loss: 0.2392 - val_accuracy: 0.9496\n",
      "Epoch 8/20\n",
      "7/7 [==============================] - 0s 33ms/step - loss: 0.1990 - accuracy: 0.9750 - val_loss: 0.2337 - val_accuracy: 0.9496\n",
      "Epoch 9/20\n",
      "7/7 [==============================] - 0s 24ms/step - loss: 0.1931 - accuracy: 0.9750 - val_loss: 0.2291 - val_accuracy: 0.9505\n",
      "Epoch 10/20\n",
      "7/7 [==============================] - 0s 33ms/step - loss: 0.1897 - accuracy: 0.9700 - val_loss: 0.2249 - val_accuracy: 0.9515\n",
      "Epoch 11/20\n",
      "7/7 [==============================] - 0s 34ms/step - loss: 0.1869 - accuracy: 0.9700 - val_loss: 0.2218 - val_accuracy: 0.9505\n",
      "Epoch 12/20\n",
      "7/7 [==============================] - 0s 33ms/step - loss: 0.1832 - accuracy: 0.9750 - val_loss: 0.2187 - val_accuracy: 0.9525\n",
      "Epoch 13/20\n",
      "7/7 [==============================] - 0s 33ms/step - loss: 0.1799 - accuracy: 0.9750 - val_loss: 0.2157 - val_accuracy: 0.9525\n",
      "Epoch 14/20\n",
      "7/7 [==============================] - 0s 24ms/step - loss: 0.1781 - accuracy: 0.9750 - val_loss: 0.2129 - val_accuracy: 0.9515\n",
      "Epoch 15/20\n",
      "7/7 [==============================] - 0s 23ms/step - loss: 0.1752 - accuracy: 0.9700 - val_loss: 0.2103 - val_accuracy: 0.9525\n",
      "Epoch 16/20\n",
      "7/7 [==============================] - 0s 35ms/step - loss: 0.1718 - accuracy: 0.9750 - val_loss: 0.2080 - val_accuracy: 0.9535\n",
      "Epoch 17/20\n",
      "7/7 [==============================] - 0s 34ms/step - loss: 0.1708 - accuracy: 0.9750 - val_loss: 0.2055 - val_accuracy: 0.9515\n",
      "Epoch 18/20\n",
      "7/7 [==============================] - 0s 25ms/step - loss: 0.1682 - accuracy: 0.9750 - val_loss: 0.2033 - val_accuracy: 0.9525\n",
      "Epoch 19/20\n",
      "7/7 [==============================] - 0s 34ms/step - loss: 0.1648 - accuracy: 0.9750 - val_loss: 0.2010 - val_accuracy: 0.9535\n",
      "Epoch 20/20\n",
      "7/7 [==============================] - 0s 36ms/step - loss: 0.1633 - accuracy: 0.9750 - val_loss: 0.2012 - val_accuracy: 0.9565\n"
     ]
    }
   ],
   "source": [
    "history = model_B_on_A.fit(X_train_B, y_train_B, epochs=8,\n",
    "                           validation_data=(X_valid_B, y_valid_B))\n",
    "\n",
    "# Now unfreeze\n",
    "for layer in model_B_on_A.layers[:-1]:\n",
    "    layer.trainable = True\n",
    "\n",
    "optimizer = tf.keras.optimizers.SGD(learning_rate=0.001)\n",
    "\n",
    "# IMPORTANT - You must recompile after unfreezing!\n",
    "model_B_on_A.compile(loss=\"binary_crossentropy\", optimizer=optimizer,\n",
    "                     metrics=[\"accuracy\"])\n",
    "history = model_B_on_A.fit(X_train_B, y_train_B, epochs=20,\n",
    "                           validation_data=(X_valid_B, y_valid_B))"
   ]
  },
  {
   "cell_type": "markdown",
   "metadata": {
    "id": "wcRN7ZXRSz5m"
   },
   "source": [
    "So, what's the final verdict?"
   ]
  },
  {
   "cell_type": "code",
   "execution_count": 41,
   "metadata": {
    "colab": {
     "base_uri": "https://localhost:8080/"
    },
    "executionInfo": {
     "elapsed": 665,
     "status": "ok",
     "timestamp": 1700160428606,
     "user": {
      "displayName": "Fabian Slonimczyk",
      "userId": "03641987333157587017"
     },
     "user_tz": -180
    },
    "id": "dH34haJ4Sz5m",
    "outputId": "7672cd06-0993-4bec-ffe7-67c5c5aa1ecc"
   },
   "outputs": [
    {
     "name": "stdout",
     "output_type": "stream",
     "text": [
      "63/63 [==============================] - 0s 5ms/step - loss: 0.2144 - accuracy: 0.9425\n"
     ]
    },
    {
     "data": {
      "text/plain": [
       "[0.21438319981098175, 0.9424999952316284]"
      ]
     },
     "execution_count": 41,
     "metadata": {},
     "output_type": "execute_result"
    }
   ],
   "source": [
    "model_B_on_A.evaluate(X_test_B, y_test_B)"
   ]
  },
  {
   "cell_type": "markdown",
   "metadata": {
    "id": "N0X5chMdSz5m"
   },
   "source": [
    "More often than not, this works very well!"
   ]
  },
  {
   "cell_type": "markdown",
   "metadata": {
    "id": "CUa3UjX_Sz5n"
   },
   "source": [
    "## Faster Optimizers\n",
    "\n",
    "- Training a very large deep neural network can be painfully slow.\n",
    "\n",
    "- A huge speed boost comes from using a faster optimizer than the regular gradient descent optimizer.\n"
   ]
  },
  {
   "cell_type": "code",
   "execution_count": 45,
   "metadata": {
    "executionInfo": {
     "elapsed": 241,
     "status": "ok",
     "timestamp": 1700160918730,
     "user": {
      "displayName": "Fabian Slonimczyk",
      "userId": "03641987333157587017"
     },
     "user_tz": -180
    },
    "id": "gRxOi2LLSz5n"
   },
   "outputs": [],
   "source": [
    "# a little function to test an optimizer on Fashion MNIST\n",
    "def build_model(seed=42):\n",
    "    tf.random.set_seed(seed)\n",
    "    return tf.keras.Sequential([\n",
    "        tf.keras.layers.Flatten(input_shape=[28, 28]),\n",
    "        tf.keras.layers.Dense(100, activation=\"relu\",\n",
    "                              kernel_initializer=\"he_normal\"),\n",
    "        tf.keras.layers.Dense(100, activation=\"relu\",\n",
    "                              kernel_initializer=\"he_normal\"),\n",
    "        tf.keras.layers.Dense(100, activation=\"relu\",\n",
    "                              kernel_initializer=\"he_normal\"),\n",
    "        tf.keras.layers.Dense(10, activation=\"softmax\")\n",
    "    ])\n",
    "\n",
    "def build_and_train_model(optimizer):\n",
    "    model = build_model()\n",
    "    model.compile(loss=\"sparse_categorical_crossentropy\", optimizer=optimizer,\n",
    "                  metrics=[\"accuracy\"])\n",
    "    return model.fit(X_train, y_train, epochs=10,\n",
    "                     validation_data=(X_valid, y_valid))"
   ]
  },
  {
   "cell_type": "code",
   "execution_count": 25,
   "metadata": {
    "executionInfo": {
     "elapsed": 283,
     "status": "ok",
     "timestamp": 1700160915901,
     "user": {
      "displayName": "Fabian Slonimczyk",
      "userId": "03641987333157587017"
     },
     "user_tz": -180
    },
    "id": "rH3Fbv1ISz5n"
   },
   "outputs": [],
   "source": [
    "optimizer = tf.keras.optimizers.SGD(learning_rate=0.001, momentum=0.9)"
   ]
  },
  {
   "cell_type": "code",
   "execution_count": 26,
   "metadata": {
    "colab": {
     "base_uri": "https://localhost:8080/"
    },
    "executionInfo": {
     "elapsed": 93274,
     "status": "ok",
     "timestamp": 1700161014574,
     "user": {
      "displayName": "Fabian Slonimczyk",
      "userId": "03641987333157587017"
     },
     "user_tz": -180
    },
    "id": "c2nNJqbRSz5o",
    "outputId": "73848b50-362f-43e0-ec08-dfacb5e85d63"
   },
   "outputs": [
    {
     "name": "stdout",
     "output_type": "stream",
     "text": [
      "Epoch 1/10\n",
      "1719/1719 [==============================] - 4s 2ms/step - loss: 0.7091 - accuracy: 0.7625 - val_loss: 0.4943 - val_accuracy: 0.8216\n",
      "Epoch 2/10\n",
      "1719/1719 [==============================] - 4s 2ms/step - loss: 0.4676 - accuracy: 0.8375 - val_loss: 0.4432 - val_accuracy: 0.8386\n",
      "Epoch 3/10\n",
      "1719/1719 [==============================] - 4s 2ms/step - loss: 0.4240 - accuracy: 0.8514 - val_loss: 0.4157 - val_accuracy: 0.8566\n",
      "Epoch 4/10\n",
      "1719/1719 [==============================] - 4s 2ms/step - loss: 0.3966 - accuracy: 0.8599 - val_loss: 0.3851 - val_accuracy: 0.8628\n",
      "Epoch 5/10\n",
      "1719/1719 [==============================] - 4s 2ms/step - loss: 0.3750 - accuracy: 0.8674 - val_loss: 0.3673 - val_accuracy: 0.8680\n",
      "Epoch 6/10\n",
      "1719/1719 [==============================] - 4s 2ms/step - loss: 0.3608 - accuracy: 0.8714 - val_loss: 0.3696 - val_accuracy: 0.8650\n",
      "Epoch 7/10\n",
      "1719/1719 [==============================] - 4s 2ms/step - loss: 0.3449 - accuracy: 0.8756 - val_loss: 0.3659 - val_accuracy: 0.8674\n",
      "Epoch 8/10\n",
      "1719/1719 [==============================] - 4s 2ms/step - loss: 0.3350 - accuracy: 0.8787 - val_loss: 0.3510 - val_accuracy: 0.8726\n",
      "Epoch 9/10\n",
      "1719/1719 [==============================] - 4s 2ms/step - loss: 0.3258 - accuracy: 0.8826 - val_loss: 0.3638 - val_accuracy: 0.8648\n",
      "Epoch 10/10\n",
      "1719/1719 [==============================] - 4s 2ms/step - loss: 0.3147 - accuracy: 0.8860 - val_loss: 0.3699 - val_accuracy: 0.8654\n",
      "CPU times: total: 56.7 s\n",
      "Wall time: 37.6 s\n"
     ]
    }
   ],
   "source": [
    "%%time\n",
    "history_sgd = build_and_train_model(optimizer)  # test with SGD"
   ]
  },
  {
   "cell_type": "markdown",
   "metadata": {
    "id": "q0W-agHiSz5o"
   },
   "source": [
    "## Momentum optimization"
   ]
  },
  {
   "cell_type": "markdown",
   "metadata": {
    "id": "woL8s4cIfnrp"
   },
   "source": [
    "- Imagine a bowling ball rolling down a gentle slope on a smooth surface: it will start out slowly, but it will quickly pick up momentum until it eventually reaches terminal velocity (if there is some friction or air resistance).\n",
    "\n",
    "- This is the core idea behind momentum optimization (Boris Polyak, 1964).\n",
    "\n",
    "- Regular gradient descent will take small steps when the slope is gentle and big steps when the slope is steep, but it will never pick up speed. As a result, regular gradient descent is generally much slower to reach the minimum than momentum optimization.\n",
    "\n",
    "\n",
    "- Gradient descent updates the weights $\\boldsymbol{\\theta}$ by directly subtracting the gradient of the cost function with regard to the weights ($\\nabla_\\theta J(\\boldsymbol{\\theta})$) multiplied by the learning rate $\\eta$:\n",
    "\n",
    "$$\\boldsymbol{\\theta} ← \\boldsymbol{\\theta} - \\eta \\nabla_\\theta J(\\boldsymbol{\\theta})$$\n",
    "\n",
    "- The equation is does not care about what the earlier gradients were!\n",
    "\n",
    " - If the local gradient is tiny, it goes very slowly.\n",
    "\n",
    "\n",
    "- Momentum optimization cares a great deal about what previous gradients were. At\n",
    "each iteration, it subtracts the local gradient from the momentum vector $\\mathbf{m}$, and it updates the weights by adding this momentum vector.\n",
    "\n",
    "- In other words, the gradient is used as an acceleration, not a speed:\n",
    "\n",
    "  1. $\\mathbf m ← \\beta \\mathbf m - \\eta \\nabla_\\theta J(\\boldsymbol{\\theta})$\n",
    "  2. $\\boldsymbol{\\theta}← \\boldsymbol{\\theta} + \\mathbf m$"
   ]
  },
  {
   "cell_type": "markdown",
   "metadata": {
    "id": "Ml62ZrAHiPt8"
   },
   "source": [
    "- The hyperparameter $0<\\beta< 1$ (\"the momentum\") simulates friction.\n",
    "\n",
    "- If the gradient remains constant, the terminal velocity (i.e., the maximum size of the weight updates) is equal to that gradient multiplied by $\\frac{\\eta}{1 - \\beta}$.\n",
    "\n",
    "- For example, if $\\beta = 0.9$, then the terminal velocity is equal to 10 times the gradient times the learning rate, so\n",
    "momentum optimization ends up going 10 times faster than gradient descent!"
   ]
  },
  {
   "cell_type": "code",
   "execution_count": 27,
   "metadata": {
    "executionInfo": {
     "elapsed": 270,
     "status": "ok",
     "timestamp": 1700162009730,
     "user": {
      "displayName": "Fabian Slonimczyk",
      "userId": "03641987333157587017"
     },
     "user_tz": -180
    },
    "id": "LhiquQIxSz5o"
   },
   "outputs": [],
   "source": [
    "# Implementing momentum is so hard :)\n",
    "optimizer = tf.keras.optimizers.SGD(learning_rate=0.001, momentum=0.9)"
   ]
  },
  {
   "cell_type": "code",
   "execution_count": 28,
   "metadata": {
    "colab": {
     "base_uri": "https://localhost:8080/"
    },
    "executionInfo": {
     "elapsed": 83538,
     "status": "ok",
     "timestamp": 1700162105883,
     "user": {
      "displayName": "Fabian Slonimczyk",
      "userId": "03641987333157587017"
     },
     "user_tz": -180
    },
    "id": "hXQZP3zDSz5o",
    "outputId": "56dfdc51-f092-4080-c126-29953e036f0a"
   },
   "outputs": [
    {
     "name": "stdout",
     "output_type": "stream",
     "text": [
      "Epoch 1/10\n",
      "1719/1719 [==============================] - 4s 2ms/step - loss: 0.6832 - accuracy: 0.7671 - val_loss: 0.5085 - val_accuracy: 0.8160\n",
      "Epoch 2/10\n",
      "1719/1719 [==============================] - 4s 2ms/step - loss: 0.4644 - accuracy: 0.8360 - val_loss: 0.4449 - val_accuracy: 0.8368\n",
      "Epoch 3/10\n",
      "1719/1719 [==============================] - 4s 2ms/step - loss: 0.4205 - accuracy: 0.8512 - val_loss: 0.4114 - val_accuracy: 0.8514\n",
      "Epoch 4/10\n",
      "1719/1719 [==============================] - 4s 2ms/step - loss: 0.3941 - accuracy: 0.8606 - val_loss: 0.3855 - val_accuracy: 0.8594\n",
      "Epoch 5/10\n",
      "1719/1719 [==============================] - 4s 2ms/step - loss: 0.3725 - accuracy: 0.8675 - val_loss: 0.3744 - val_accuracy: 0.8650\n",
      "Epoch 6/10\n",
      "1719/1719 [==============================] - 4s 2ms/step - loss: 0.3585 - accuracy: 0.8725 - val_loss: 0.3659 - val_accuracy: 0.8672\n",
      "Epoch 7/10\n",
      "1719/1719 [==============================] - 4s 2ms/step - loss: 0.3419 - accuracy: 0.8767 - val_loss: 0.3774 - val_accuracy: 0.8614\n",
      "Epoch 8/10\n",
      "1719/1719 [==============================] - 4s 2ms/step - loss: 0.3332 - accuracy: 0.8792 - val_loss: 0.3561 - val_accuracy: 0.8718\n",
      "Epoch 9/10\n",
      "1719/1719 [==============================] - 4s 2ms/step - loss: 0.3248 - accuracy: 0.8833 - val_loss: 0.3668 - val_accuracy: 0.8602\n",
      "Epoch 10/10\n",
      "1719/1719 [==============================] - 4s 2ms/step - loss: 0.3133 - accuracy: 0.8868 - val_loss: 0.3717 - val_accuracy: 0.8648\n",
      "CPU times: total: 55.7 s\n",
      "Wall time: 37.4 s\n"
     ]
    }
   ],
   "source": [
    "%%time\n",
    "history_momentum = build_and_train_model(optimizer)  #"
   ]
  },
  {
   "cell_type": "markdown",
   "metadata": {
    "id": "EX0y122qSz5p"
   },
   "source": [
    "### Nesterov Accelerated Gradient\n",
    "\n",
    "- One small variant to momentum ptimization, proposed by Yurii Nesterov in 1983 is almost always faster than regular momentum optimization.\n",
    "\n",
    "- The Nesterov accelerated gradient (NAG) method, also known as Nesterov momentum optimization, measures the gradient of the cost function not at the local position $\\boldsymbol \\theta$ but slightly ahead in\n",
    "the direction of the momentum, at $\\boldsymbol \\theta + \\beta \\mathbf m$.\n",
    "\n",
    "  1. $\\mathbf m ← \\beta \\mathbf m - \\eta \\nabla_\\theta J(\\boldsymbol{\\theta}+\\beta \\mathbf m)$\n",
    "  2. $\\boldsymbol{\\theta}← \\boldsymbol{\\theta} + \\mathbf m$"
   ]
  },
  {
   "cell_type": "code",
   "execution_count": 29,
   "metadata": {
    "executionInfo": {
     "elapsed": 245,
     "status": "ok",
     "timestamp": 1700162399121,
     "user": {
      "displayName": "Fabian Slonimczyk",
      "userId": "03641987333157587017"
     },
     "user_tz": -180
    },
    "id": "aQgIV3OGSz5p"
   },
   "outputs": [],
   "source": [
    "# Super tough!\n",
    "optimizer = tf.keras.optimizers.SGD(learning_rate=0.001,\n",
    "                                    momentum=0.9,\n",
    "                                    nesterov=True)"
   ]
  },
  {
   "cell_type": "code",
   "execution_count": 30,
   "metadata": {
    "colab": {
     "base_uri": "https://localhost:8080/"
    },
    "executionInfo": {
     "elapsed": 144886,
     "status": "ok",
     "timestamp": 1700162552588,
     "user": {
      "displayName": "Fabian Slonimczyk",
      "userId": "03641987333157587017"
     },
     "user_tz": -180
    },
    "id": "wKa_lolTSz5p",
    "outputId": "a8b05752-ebef-4473-d353-e6a217f363e7"
   },
   "outputs": [
    {
     "name": "stdout",
     "output_type": "stream",
     "text": [
      "Epoch 1/10\n",
      "1719/1719 [==============================] - 4s 2ms/step - loss: 0.6892 - accuracy: 0.7663 - val_loss: 0.4969 - val_accuracy: 0.8218\n",
      "Epoch 2/10\n",
      "1719/1719 [==============================] - 4s 2ms/step - loss: 0.4647 - accuracy: 0.8363 - val_loss: 0.4437 - val_accuracy: 0.8396\n",
      "Epoch 3/10\n",
      "1719/1719 [==============================] - 4s 2ms/step - loss: 0.4220 - accuracy: 0.8519 - val_loss: 0.4093 - val_accuracy: 0.8536\n",
      "Epoch 4/10\n",
      "1719/1719 [==============================] - 4s 2ms/step - loss: 0.3970 - accuracy: 0.8602 - val_loss: 0.3861 - val_accuracy: 0.8626\n",
      "Epoch 5/10\n",
      "1719/1719 [==============================] - 4s 2ms/step - loss: 0.3763 - accuracy: 0.8668 - val_loss: 0.3733 - val_accuracy: 0.8648\n",
      "Epoch 6/10\n",
      "1719/1719 [==============================] - 4s 2ms/step - loss: 0.3618 - accuracy: 0.8713 - val_loss: 0.3766 - val_accuracy: 0.8672\n",
      "Epoch 7/10\n",
      "1719/1719 [==============================] - 4s 2ms/step - loss: 0.3469 - accuracy: 0.8763 - val_loss: 0.3689 - val_accuracy: 0.8698\n",
      "Epoch 8/10\n",
      "1719/1719 [==============================] - 4s 2ms/step - loss: 0.3369 - accuracy: 0.8779 - val_loss: 0.3606 - val_accuracy: 0.8720\n",
      "Epoch 9/10\n",
      "1719/1719 [==============================] - 4s 2ms/step - loss: 0.3277 - accuracy: 0.8829 - val_loss: 0.3492 - val_accuracy: 0.8706\n",
      "Epoch 10/10\n",
      "1719/1719 [==============================] - 4s 2ms/step - loss: 0.3173 - accuracy: 0.8853 - val_loss: 0.3662 - val_accuracy: 0.8710\n",
      "CPU times: total: 1min\n",
      "Wall time: 39.7 s\n"
     ]
    }
   ],
   "source": [
    "%%time\n",
    "history_nesterov = build_and_train_model(optimizer)  #"
   ]
  },
  {
   "cell_type": "markdown",
   "metadata": {
    "id": "SU91RDlqSz5q"
   },
   "source": [
    "## AdaGrad\n",
    "\n",
    "- Gradient descent starts by quickly going down the steepest slope, which does not always point straight toward the global optimum. It would be nice if the algorithm could correct its direction earlier.\n",
    "\n",
    "- The AdaGrad algorithm17 achieves this correction by **scaling down the gradient vector** along the steepest dimensions:\n",
    "\n",
    "    1. $\\mathbf s ← \\mathbf s +  \\nabla_\\theta J(\\boldsymbol{\\theta}) \\otimes  \\nabla_\\theta J(\\boldsymbol{\\theta})$\n",
    "    2. $\\boldsymbol{\\theta} ← \\boldsymbol{\\theta} - \\eta  \\nabla_\\theta J(\\boldsymbol{\\theta}) \\oslash \\sqrt{\\mathbf s+\\varepsilon}$\n",
    "\n",
    "\n",
    "\n",
    "- The first step accumulatas the square of the gradients. The second step scales down the gradient descent step by a factor of $\\sqrt{s}$"
   ]
  },
  {
   "cell_type": "markdown",
   "metadata": {},
   "source": [
    "Adagrad decays the learning rate, and it does so faster for steep dimensions than for dimensions with gentler slopes. This is called an adaptive learning rate! It helps point the resulting updates more directly toward the global optimum."
   ]
  },
  {
   "cell_type": "code",
   "execution_count": 31,
   "metadata": {
    "id": "MnKbcDP3Sz5q"
   },
   "outputs": [],
   "source": [
    "optimizer = tf.keras.optimizers.Adagrad(learning_rate=0.001)"
   ]
  },
  {
   "cell_type": "code",
   "execution_count": 32,
   "metadata": {
    "id": "qORbzJ4lSz5q",
    "outputId": "c09f3a39-7fdb-4aab-b758-2e3fd00111b6"
   },
   "outputs": [
    {
     "name": "stdout",
     "output_type": "stream",
     "text": [
      "Epoch 1/10\n",
      "1719/1719 [==============================] - 5s 3ms/step - loss: 1.0641 - accuracy: 0.6491 - val_loss: 0.7099 - val_accuracy: 0.7620\n",
      "Epoch 2/10\n",
      "1719/1719 [==============================] - 4s 2ms/step - loss: 0.6572 - accuracy: 0.7822 - val_loss: 0.5964 - val_accuracy: 0.8010\n",
      "Epoch 3/10\n",
      "1719/1719 [==============================] - 4s 2ms/step - loss: 0.5799 - accuracy: 0.8070 - val_loss: 0.5443 - val_accuracy: 0.8166\n",
      "Epoch 4/10\n",
      "1719/1719 [==============================] - 4s 3ms/step - loss: 0.5399 - accuracy: 0.8196 - val_loss: 0.5164 - val_accuracy: 0.8262\n",
      "Epoch 5/10\n",
      "1719/1719 [==============================] - 4s 2ms/step - loss: 0.5147 - accuracy: 0.8275 - val_loss: 0.4977 - val_accuracy: 0.8312\n",
      "Epoch 6/10\n",
      "1719/1719 [==============================] - 4s 2ms/step - loss: 0.4969 - accuracy: 0.8319 - val_loss: 0.4855 - val_accuracy: 0.8356\n",
      "Epoch 7/10\n",
      "1719/1719 [==============================] - 4s 2ms/step - loss: 0.4835 - accuracy: 0.8352 - val_loss: 0.4733 - val_accuracy: 0.8366\n",
      "Epoch 8/10\n",
      "1719/1719 [==============================] - 4s 2ms/step - loss: 0.4731 - accuracy: 0.8391 - val_loss: 0.4651 - val_accuracy: 0.8384\n",
      "Epoch 9/10\n",
      "1719/1719 [==============================] - 4s 2ms/step - loss: 0.4642 - accuracy: 0.8423 - val_loss: 0.4593 - val_accuracy: 0.8378\n",
      "Epoch 10/10\n",
      "1719/1719 [==============================] - 4s 2ms/step - loss: 0.4565 - accuracy: 0.8447 - val_loss: 0.4521 - val_accuracy: 0.8420\n"
     ]
    }
   ],
   "source": [
    "history_adagrad = build_and_train_model(optimizer)  # "
   ]
  },
  {
   "cell_type": "markdown",
   "metadata": {
    "id": "ZUMXWFIaSz5q"
   },
   "source": [
    "### RMSProp\n",
    "\n",
    "- AdaGrad runs the risk of slowing down a bit too fast and never converging to the global optimum.\n",
    "\n",
    "- The RMSProp algorithm fixes this by accumulating only the gradients from the most recent iterations, as opposed to all the gradients since the beginning of training:\n",
    "\n",
    "    1. $\\mathbf s ← \\rho \\mathbf s + (1-\\rho) \\nabla_\\theta J(\\boldsymbol{\\theta}) \\otimes  \\nabla_\\theta J(\\boldsymbol{\\theta})$\n",
    "    2. $\\boldsymbol{\\theta} ← \\boldsymbol{\\theta} - \\eta  \\nabla_\\theta J(\\boldsymbol{\\theta}) \\oslash \\sqrt{\\mathbf s+\\varepsilon}$\n"
   ]
  },
  {
   "cell_type": "code",
   "execution_count": 33,
   "metadata": {
    "id": "I74RUH0DSz5q"
   },
   "outputs": [],
   "source": [
    "optimizer = tf.keras.optimizers.RMSprop(learning_rate=0.001, rho=0.9)"
   ]
  },
  {
   "cell_type": "code",
   "execution_count": 34,
   "metadata": {
    "id": "YvrC2CUfSz5q",
    "outputId": "a1610228-25c4-461e-bf07-0fda3baca9f0"
   },
   "outputs": [
    {
     "name": "stdout",
     "output_type": "stream",
     "text": [
      "Epoch 1/10\n",
      "1719/1719 [==============================] - 5s 2ms/step - loss: 0.5161 - accuracy: 0.8133 - val_loss: 0.4567 - val_accuracy: 0.8222\n",
      "Epoch 2/10\n",
      "1719/1719 [==============================] - 4s 2ms/step - loss: 0.3889 - accuracy: 0.8585 - val_loss: 0.4239 - val_accuracy: 0.8414\n",
      "Epoch 3/10\n",
      "1719/1719 [==============================] - 4s 2ms/step - loss: 0.3631 - accuracy: 0.8698 - val_loss: 0.4024 - val_accuracy: 0.8594\n",
      "Epoch 4/10\n",
      "1719/1719 [==============================] - 4s 2ms/step - loss: 0.3553 - accuracy: 0.8759 - val_loss: 0.3896 - val_accuracy: 0.8720\n",
      "Epoch 5/10\n",
      "1719/1719 [==============================] - 5s 3ms/step - loss: 0.3478 - accuracy: 0.8774 - val_loss: 0.3701 - val_accuracy: 0.8712\n",
      "Epoch 6/10\n",
      "1719/1719 [==============================] - 4s 3ms/step - loss: 0.3458 - accuracy: 0.8799 - val_loss: 0.4043 - val_accuracy: 0.8654\n",
      "Epoch 7/10\n",
      "1719/1719 [==============================] - 4s 2ms/step - loss: 0.3446 - accuracy: 0.8808 - val_loss: 0.4129 - val_accuracy: 0.8740\n",
      "Epoch 8/10\n",
      "1719/1719 [==============================] - 4s 2ms/step - loss: 0.3426 - accuracy: 0.8823 - val_loss: 0.4867 - val_accuracy: 0.8586\n",
      "Epoch 9/10\n",
      "1719/1719 [==============================] - 4s 2ms/step - loss: 0.3376 - accuracy: 0.8839 - val_loss: 0.4325 - val_accuracy: 0.8774\n",
      "Epoch 10/10\n",
      "1719/1719 [==============================] - 4s 2ms/step - loss: 0.3348 - accuracy: 0.8844 - val_loss: 0.4686 - val_accuracy: 0.8672\n"
     ]
    }
   ],
   "source": [
    "history_rmsprop = build_and_train_model(optimizer)  # extra code"
   ]
  },
  {
   "cell_type": "markdown",
   "metadata": {
    "id": "fgRVYj--Sz5q"
   },
   "source": [
    "### Adam Optimization\n",
    "\n",
    "- **Adaptive moment estimation** (Adam) combines the ideas of momentum optimization and RMSProp: \n",
    "\n",
    "    - just like momentum optimization, it keeps track of an exponentially decaying average of past gradients;\n",
    "    - and just like RMSProp, it keeps track of an exponentially decaying average of past squared gradients. \n",
    "    \n",
    "    \n",
    "- These are estimates of the mean (first moment) and (uncentered) variance of the gradients (second moment).\n",
    "\n",
    "    1. $\\mathbf m ← \\beta_1 \\mathbf m - (1-\\beta_1) \\nabla_\\theta J(\\boldsymbol{\\theta})$\n",
    "    \n",
    "    2. $\\mathbf s ← \\beta_2 \\mathbf s + (1-\\beta_2) \\nabla_\\theta J(\\boldsymbol{\\theta}) \\otimes  \\nabla_\\theta J(\\boldsymbol{\\theta})$\n",
    "    \n",
    "    3. $\\hat{\\mathbf m} ← \\frac{\\mathbf m}{1 - \\beta_1^t}$\n",
    "    \n",
    "    4. $\\hat{\\mathbf s} ← \\frac{\\mathbf s}{1 - \\beta_2^t}$\n",
    "    \n",
    "    5. $\\boldsymbol{\\theta} ← \\boldsymbol{\\theta} + \\eta \\hat{\\mathbf m}  \\oslash \\sqrt{\\hat{\\mathbf s}+\\varepsilon}$\n"
   ]
  },
  {
   "cell_type": "code",
   "execution_count": 35,
   "metadata": {
    "id": "zIQRHiOxSz5r"
   },
   "outputs": [],
   "source": [
    "optimizer = tf.keras.optimizers.Adam(learning_rate=0.001,\n",
    "                                     beta_1=0.9,\n",
    "                                     beta_2=0.999)"
   ]
  },
  {
   "cell_type": "code",
   "execution_count": 36,
   "metadata": {
    "id": "KP8b-z-rSz5r",
    "outputId": "43d154dd-43b4-42f5-8f6f-0f16a9b2213b"
   },
   "outputs": [
    {
     "name": "stdout",
     "output_type": "stream",
     "text": [
      "Epoch 1/10\n",
      "1719/1719 [==============================] - 5s 2ms/step - loss: 0.5010 - accuracy: 0.8209 - val_loss: 0.4439 - val_accuracy: 0.8216\n",
      "Epoch 2/10\n",
      "1719/1719 [==============================] - 4s 2ms/step - loss: 0.3731 - accuracy: 0.8636 - val_loss: 0.3831 - val_accuracy: 0.8558\n",
      "Epoch 3/10\n",
      "1719/1719 [==============================] - 4s 2ms/step - loss: 0.3386 - accuracy: 0.8756 - val_loss: 0.3602 - val_accuracy: 0.8686\n",
      "Epoch 4/10\n",
      "1719/1719 [==============================] - 4s 2ms/step - loss: 0.3160 - accuracy: 0.8835 - val_loss: 0.3428 - val_accuracy: 0.8750\n",
      "Epoch 5/10\n",
      "1719/1719 [==============================] - 4s 2ms/step - loss: 0.2965 - accuracy: 0.8893 - val_loss: 0.3310 - val_accuracy: 0.8800\n",
      "Epoch 6/10\n",
      "1719/1719 [==============================] - 4s 2ms/step - loss: 0.2814 - accuracy: 0.8943 - val_loss: 0.3409 - val_accuracy: 0.8770\n",
      "Epoch 7/10\n",
      "1719/1719 [==============================] - 4s 2ms/step - loss: 0.2702 - accuracy: 0.8972 - val_loss: 0.3484 - val_accuracy: 0.8826\n",
      "Epoch 8/10\n",
      "1719/1719 [==============================] - 4s 2ms/step - loss: 0.2601 - accuracy: 0.9017 - val_loss: 0.3256 - val_accuracy: 0.8820\n",
      "Epoch 9/10\n",
      "1719/1719 [==============================] - 4s 2ms/step - loss: 0.2500 - accuracy: 0.9068 - val_loss: 0.3613 - val_accuracy: 0.8710\n",
      "Epoch 10/10\n",
      "1719/1719 [==============================] - 4s 2ms/step - loss: 0.2399 - accuracy: 0.9084 - val_loss: 0.3543 - val_accuracy: 0.8780\n"
     ]
    }
   ],
   "source": [
    "history_adam = build_and_train_model(optimizer)  # extra code"
   ]
  },
  {
   "cell_type": "markdown",
   "metadata": {
    "id": "o8_uH8liSz5r"
   },
   "source": [
    "**Adamax Optimization**\n",
    "\n",
    "- Adam scales down the parameter updates by the ℓ2 norm of the time-decayed gradients.\n",
    "\n",
    "- AdaMax replaces the ℓ2 norm with the ℓ∞ norm (a fancy way of saying the max).\n",
    "\n",
    "- Specifically, it replaces step 2 with:\n",
    "\n",
    "$$\\mathbf s ← \\max(\\beta_2 \\mathbf s, \\vert \\nabla_\\theta J(\\boldsymbol{\\theta})\\vert)$$\n",
    "\n",
    "- AdaMax also drops step 4, and in step 5 it scales down the gradient updates by a factor of $\\mathbf s$, which is the max of the absolute value of the time-decayed gradients."
   ]
  },
  {
   "cell_type": "code",
   "execution_count": 37,
   "metadata": {
    "id": "UudIoDZYSz5r"
   },
   "outputs": [],
   "source": [
    "optimizer = tf.keras.optimizers.Adamax(learning_rate=0.001, beta_1=0.9,\n",
    "                                       beta_2=0.999)"
   ]
  },
  {
   "cell_type": "code",
   "execution_count": 38,
   "metadata": {
    "id": "BgwjeruJSz5r",
    "outputId": "2f185026-f721-48d3-80e4-92581eb6b224"
   },
   "outputs": [
    {
     "name": "stdout",
     "output_type": "stream",
     "text": [
      "Epoch 1/10\n",
      "1719/1719 [==============================] - 5s 3ms/step - loss: 0.5420 - accuracy: 0.8116 - val_loss: 0.4396 - val_accuracy: 0.8364\n",
      "Epoch 2/10\n",
      "1719/1719 [==============================] - 4s 2ms/step - loss: 0.3981 - accuracy: 0.8593 - val_loss: 0.3913 - val_accuracy: 0.8528\n",
      "Epoch 3/10\n",
      "1719/1719 [==============================] - 5s 3ms/step - loss: 0.3601 - accuracy: 0.8697 - val_loss: 0.3595 - val_accuracy: 0.8708\n",
      "Epoch 4/10\n",
      "1719/1719 [==============================] - 4s 2ms/step - loss: 0.3345 - accuracy: 0.8782 - val_loss: 0.3468 - val_accuracy: 0.8746\n",
      "Epoch 5/10\n",
      "1719/1719 [==============================] - 4s 2ms/step - loss: 0.3145 - accuracy: 0.8863 - val_loss: 0.3235 - val_accuracy: 0.8800\n",
      "Epoch 6/10\n",
      "1719/1719 [==============================] - 4s 2ms/step - loss: 0.3012 - accuracy: 0.8903 - val_loss: 0.3358 - val_accuracy: 0.8792\n",
      "Epoch 7/10\n",
      "1719/1719 [==============================] - 4s 2ms/step - loss: 0.2865 - accuracy: 0.8946 - val_loss: 0.3374 - val_accuracy: 0.8802\n",
      "Epoch 8/10\n",
      "1719/1719 [==============================] - 4s 3ms/step - loss: 0.2786 - accuracy: 0.8977 - val_loss: 0.3239 - val_accuracy: 0.8856\n",
      "Epoch 9/10\n",
      "1719/1719 [==============================] - 4s 2ms/step - loss: 0.2677 - accuracy: 0.9021 - val_loss: 0.3338 - val_accuracy: 0.8780\n",
      "Epoch 10/10\n",
      "1719/1719 [==============================] - 4s 2ms/step - loss: 0.2579 - accuracy: 0.9052 - val_loss: 0.3394 - val_accuracy: 0.8786\n"
     ]
    }
   ],
   "source": [
    "history_adamax = build_and_train_model(optimizer)  # extra code"
   ]
  },
  {
   "cell_type": "markdown",
   "metadata": {
    "id": "U1QSevUjSz5r",
    "tags": []
   },
   "source": [
    "**Nadam Optimization**\n",
    "\n",
    "- Nadam optimization is Adam optimization plus the Nesterov trick, so it will often converge slightly faster than Adam."
   ]
  },
  {
   "cell_type": "code",
   "execution_count": 39,
   "metadata": {
    "id": "Zr1kAQMXSz5r",
    "tags": []
   },
   "outputs": [],
   "source": [
    "optimizer = tf.keras.optimizers.Nadam(learning_rate=0.001, beta_1=0.9,\n",
    "                                      beta_2=0.999)"
   ]
  },
  {
   "cell_type": "code",
   "execution_count": 40,
   "metadata": {
    "id": "k3YBkymySz5s",
    "outputId": "573924db-e860-4a81-ae1a-88ae91c14f18"
   },
   "outputs": [
    {
     "name": "stdout",
     "output_type": "stream",
     "text": [
      "Epoch 1/10\n",
      "1719/1719 [==============================] - 6s 3ms/step - loss: 0.4840 - accuracy: 0.8275 - val_loss: 0.4309 - val_accuracy: 0.8374\n",
      "Epoch 2/10\n",
      "1719/1719 [==============================] - 5s 3ms/step - loss: 0.3669 - accuracy: 0.8665 - val_loss: 0.3828 - val_accuracy: 0.8534\n",
      "Epoch 3/10\n",
      "1719/1719 [==============================] - 4s 2ms/step - loss: 0.3337 - accuracy: 0.8769 - val_loss: 0.3645 - val_accuracy: 0.8696\n",
      "Epoch 4/10\n",
      "1719/1719 [==============================] - 5s 3ms/step - loss: 0.3127 - accuracy: 0.8859 - val_loss: 0.3299 - val_accuracy: 0.8784\n",
      "Epoch 5/10\n",
      "1719/1719 [==============================] - 4s 2ms/step - loss: 0.2935 - accuracy: 0.8916 - val_loss: 0.3308 - val_accuracy: 0.8764\n",
      "Epoch 6/10\n",
      "1719/1719 [==============================] - 4s 3ms/step - loss: 0.2792 - accuracy: 0.8964 - val_loss: 0.3562 - val_accuracy: 0.8788\n",
      "Epoch 7/10\n",
      "1719/1719 [==============================] - 4s 2ms/step - loss: 0.2672 - accuracy: 0.9004 - val_loss: 0.3338 - val_accuracy: 0.8822\n",
      "Epoch 8/10\n",
      "1719/1719 [==============================] - 4s 3ms/step - loss: 0.2573 - accuracy: 0.9044 - val_loss: 0.3413 - val_accuracy: 0.8814\n",
      "Epoch 9/10\n",
      "1719/1719 [==============================] - 4s 3ms/step - loss: 0.2480 - accuracy: 0.9070 - val_loss: 0.3366 - val_accuracy: 0.8772\n",
      "Epoch 10/10\n",
      "1719/1719 [==============================] - 4s 2ms/step - loss: 0.2375 - accuracy: 0.9100 - val_loss: 0.3486 - val_accuracy: 0.8812\n"
     ]
    }
   ],
   "source": [
    "history_nadam = build_and_train_model(optimizer)  # extra code"
   ]
  },
  {
   "cell_type": "markdown",
   "metadata": {
    "id": "MtmAovHSSz5s"
   },
   "source": [
    "**AdamW Optimization**"
   ]
  },
  {
   "cell_type": "markdown",
   "metadata": {
    "id": "ITMflKqbSz5s"
   },
   "source": [
    "- AdamW is a variant of Adam that integrates a regularization technique called *weight decay*.\n",
    "\n",
    "- Weight decay reduces the size of the model’s weights at each training iteration by multiplying them by a decay factor such as 0.99.\n"
   ]
  },
  {
   "cell_type": "code",
   "execution_count": 41,
   "metadata": {
    "id": "QgT85nJeSz5s",
    "tags": []
   },
   "outputs": [],
   "source": [
    "optimizer = tf.keras.optimizers.AdamW(weight_decay=1e-5,\n",
    "                                      learning_rate=0.001,\n",
    "                                      beta_1=0.9,\n",
    "                                      beta_2=0.999)"
   ]
  },
  {
   "cell_type": "code",
   "execution_count": 42,
   "metadata": {
    "id": "BIINhrL4Sz5s",
    "outputId": "1fe339a5-5439-4c19-c5d5-25403490077d"
   },
   "outputs": [
    {
     "name": "stdout",
     "output_type": "stream",
     "text": [
      "Epoch 1/10\n",
      "1719/1719 [==============================] - 6s 3ms/step - loss: 0.5009 - accuracy: 0.8203 - val_loss: 0.4087 - val_accuracy: 0.8446\n",
      "Epoch 2/10\n",
      "1719/1719 [==============================] - 4s 3ms/step - loss: 0.3764 - accuracy: 0.8625 - val_loss: 0.3740 - val_accuracy: 0.8562\n",
      "Epoch 3/10\n",
      "1719/1719 [==============================] - 4s 2ms/step - loss: 0.3405 - accuracy: 0.8738 - val_loss: 0.3418 - val_accuracy: 0.8744\n",
      "Epoch 4/10\n",
      "1719/1719 [==============================] - 4s 2ms/step - loss: 0.3155 - accuracy: 0.8842 - val_loss: 0.3493 - val_accuracy: 0.8750\n",
      "Epoch 5/10\n",
      "1719/1719 [==============================] - 4s 2ms/step - loss: 0.2978 - accuracy: 0.8892 - val_loss: 0.3452 - val_accuracy: 0.8730\n",
      "Epoch 6/10\n",
      "1719/1719 [==============================] - 4s 2ms/step - loss: 0.2847 - accuracy: 0.8941 - val_loss: 0.3482 - val_accuracy: 0.8786\n",
      "Epoch 7/10\n",
      "1719/1719 [==============================] - 4s 2ms/step - loss: 0.2726 - accuracy: 0.8977 - val_loss: 0.3312 - val_accuracy: 0.8830\n",
      "Epoch 8/10\n",
      "1719/1719 [==============================] - 4s 2ms/step - loss: 0.2625 - accuracy: 0.9014 - val_loss: 0.3297 - val_accuracy: 0.8872\n",
      "Epoch 9/10\n",
      "1719/1719 [==============================] - 4s 2ms/step - loss: 0.2530 - accuracy: 0.9045 - val_loss: 0.3516 - val_accuracy: 0.8766\n",
      "Epoch 10/10\n",
      "1719/1719 [==============================] - 4s 2ms/step - loss: 0.2439 - accuracy: 0.9062 - val_loss: 0.3698 - val_accuracy: 0.8776\n"
     ]
    }
   ],
   "source": [
    "history_adamw = build_and_train_model(optimizer)  # extra code"
   ]
  },
  {
   "cell_type": "code",
   "execution_count": 43,
   "metadata": {
    "id": "ZiFKQneuSz5s",
    "outputId": "9eaf1b3f-f659-498a-80c9-a38b4bd61218"
   },
   "outputs": [
    {
     "data": {
      "image/png": "[encoded data removed]",
      "text/plain": [
       "<Figure size 864x576 with 1 Axes>"
      ]
     },
     "metadata": {
      "needs_background": "light"
     },
     "output_type": "display_data"
    },
    {
     "data": {
      "image/png": "[encoded data removed]",
      "text/plain": [
       "<Figure size 864x576 with 1 Axes>"
      ]
     },
     "metadata": {
      "needs_background": "light"
     },
     "output_type": "display_data"
    }
   ],
   "source": [
    "#visualize the learning curves of all the optimizers\n",
    "\n",
    "for loss in (\"loss\", \"val_loss\"):\n",
    "    plt.figure(figsize=(12, 8))\n",
    "    opt_names = \"SGD Momentum Nesterov AdaGrad RMSProp Adam Adamax Nadam AdamW\"\n",
    "    for history, opt_name in zip((history_sgd, history_momentum, history_nesterov,\n",
    "                                  history_adagrad, history_rmsprop, history_adam,\n",
    "                                  history_adamax, history_nadam, history_adamw),\n",
    "                                 opt_names.split()):\n",
    "        plt.plot(history.history[loss], label=f\"{opt_name}\", linewidth=3)\n",
    "\n",
    "    plt.grid()\n",
    "    plt.xlabel(\"Epochs\")\n",
    "    plt.ylabel({\"loss\": \"Training loss\", \"val_loss\": \"Validation loss\"}[loss])\n",
    "    plt.legend(loc=\"upper left\")\n",
    "    plt.axis([0, 9, 0.1, 0.7])\n",
    "    plt.show()"
   ]
  },
  {
   "cell_type": "markdown",
   "metadata": {
    "id": "pxC7RubzSz5t"
   },
   "source": [
    "## Learning Rate Scheduling\n",
    "\n",
    "- Finding a good learning rate is very important. If you set it much too high, training may diverge. If you set it too low, training will eventually converge to the optimum, but it will take a very long time.\n",
    "\n",
    "- You can find a good learning rate by training the model for a few hundred iterations, exponentially increasing the learning rate from a very small value to a very large value, and then looking at the learning curve and picking a learning rate slightly lower than the one at which the learning curve starts shooting back up. You can then reinitialize your model and train it with that learning rate.\n",
    "\n",
    "- But you can do better than a constant learning rate: if you start with a large learning rate and then reduce it once training stops making fast progress, you can reach a good solution faster than with the optimal constant learning rate.\n",
    "\n",
    "- There are many different strategies to reduce the learning rate during training (*learning schedules*)."
   ]
  },
  {
   "cell_type": "markdown",
   "metadata": {
    "id": "TYGEM9paSz5t"
   },
   "source": [
    "### Power Scheduling\n",
    "\n",
    "- Let the learning rate drop hyperbolically: \n",
    "\n",
    "$$\\eta(t)= \\frac{\\eta_0}{(1+t/s)^c}$$"
   ]
  },
  {
   "cell_type": "code",
   "execution_count": 46,
   "metadata": {
    "id": "-FhuzpV-Sz5t"
   },
   "outputs": [],
   "source": [
    "lr_schedule = tf.keras.optimizers.schedules.InverseTimeDecay(\n",
    "    initial_learning_rate=0.01,\n",
    "    decay_steps=10_000,\n",
    "    decay_rate=1.0,\n",
    "    staircase=False\n",
    ")\n",
    "optimizer = tf.keras.optimizers.SGD(learning_rate=lr_schedule)"
   ]
  },
  {
   "cell_type": "markdown",
   "metadata": {
    "id": "oPqwsln3Sz5t"
   },
   "source": [
    "- The `InverseTimeDecay` scheduler uses `learning_rate = initial_learning_rate / (1 + decay_rate * step / decay_steps)`. \n",
    "\n",
    "- If you set `staircase=True`, then it replaces `step / decay_step` with `floor(step / decay_step)`."
   ]
  },
  {
   "cell_type": "code",
   "execution_count": 47,
   "metadata": {
    "id": "5sMRRV0hSz5u",
    "outputId": "d2cc6881-449e-4999-bf1e-4fc2b72b87e2"
   },
   "outputs": [
    {
     "name": "stdout",
     "output_type": "stream",
     "text": [
      "Epoch 1/10\n",
      "1719/1719 [==============================] - 4s 2ms/step - loss: 0.7017 - accuracy: 0.7597 - val_loss: 0.4914 - val_accuracy: 0.8302\n",
      "Epoch 2/10\n",
      "1719/1719 [==============================] - 3s 2ms/step - loss: 0.4761 - accuracy: 0.8328 - val_loss: 0.4542 - val_accuracy: 0.8350\n",
      "Epoch 3/10\n",
      "1719/1719 [==============================] - 3s 2ms/step - loss: 0.4303 - accuracy: 0.8470 - val_loss: 0.4240 - val_accuracy: 0.8476\n",
      "Epoch 4/10\n",
      "1719/1719 [==============================] - 3s 2ms/step - loss: 0.4070 - accuracy: 0.8551 - val_loss: 0.3926 - val_accuracy: 0.8584\n",
      "Epoch 5/10\n",
      "1719/1719 [==============================] - 4s 2ms/step - loss: 0.3886 - accuracy: 0.8619 - val_loss: 0.3868 - val_accuracy: 0.8604\n",
      "Epoch 6/10\n",
      "1719/1719 [==============================] - 4s 2ms/step - loss: 0.3743 - accuracy: 0.8662 - val_loss: 0.3920 - val_accuracy: 0.8592\n",
      "Epoch 7/10\n",
      "1719/1719 [==============================] - 4s 2ms/step - loss: 0.3640 - accuracy: 0.8702 - val_loss: 0.3799 - val_accuracy: 0.8646\n",
      "Epoch 8/10\n",
      "1719/1719 [==============================] - 4s 2ms/step - loss: 0.3552 - accuracy: 0.8727 - val_loss: 0.3692 - val_accuracy: 0.8666\n",
      "Epoch 9/10\n",
      "1719/1719 [==============================] - 4s 2ms/step - loss: 0.3474 - accuracy: 0.8766 - val_loss: 0.3623 - val_accuracy: 0.8682\n",
      "Epoch 10/10\n",
      "1719/1719 [==============================] - 4s 2ms/step - loss: 0.3405 - accuracy: 0.8782 - val_loss: 0.3649 - val_accuracy: 0.8712\n"
     ]
    }
   ],
   "source": [
    "history_power_scheduling = build_and_train_model(optimizer)  # "
   ]
  },
  {
   "cell_type": "code",
   "execution_count": 48,
   "metadata": {
    "id": "ZW-5451lSz5u",
    "outputId": "45005819-b36f-420e-e9a5-0dfa80c80fdf"
   },
   "outputs": [
    {
     "data": {
      "image/png": "[encoded data removed]",
      "text/plain": [
       "<Figure size 432x288 with 1 Axes>"
      ]
     },
     "metadata": {
      "needs_background": "light"
     },
     "output_type": "display_data"
    }
   ],
   "source": [
    "# plot power scheduling with staircase=True or False\n",
    "\n",
    "initial_learning_rate = 0.01\n",
    "decay_rate = 1.0\n",
    "decay_steps = 10_000\n",
    "\n",
    "steps = np.arange(100_000)\n",
    "lrs = initial_learning_rate / (1 + decay_rate * steps / decay_steps)\n",
    "lrs2 = initial_learning_rate / (1 + decay_rate * np.floor(steps/decay_steps))\n",
    "\n",
    "plt.plot(steps, lrs,  \"-\", label=\"staircase=False\")\n",
    "plt.plot(steps, lrs2,  \"-\", label=\"staircase=True\")\n",
    "plt.axis([0, steps.max(), 0, 0.0105])\n",
    "plt.xlabel(\"Step\")\n",
    "plt.ylabel(\"Learning Rate\")\n",
    "plt.title(\"Power Scheduling\", fontsize=14)\n",
    "plt.legend()\n",
    "plt.grid(True)\n",
    "plt.show()"
   ]
  },
  {
   "cell_type": "markdown",
   "metadata": {
    "id": "vlIxH88kSz5u"
   },
   "source": [
    "### Exponential Scheduling\n",
    "\n",
    "- Set the learning rate to:\n",
    "\n",
    "$$\\eta(t)= \\eta_0 (0.1)^{t/s}$$"
   ]
  },
  {
   "cell_type": "markdown",
   "metadata": {
    "id": "8Hb3bOaTSz5u"
   },
   "source": [
    "```python\n",
    "learning_rate = initial_learning_rate * decay_rate**(step/decay_steps)\n",
    "```"
   ]
  },
  {
   "cell_type": "code",
   "execution_count": 49,
   "metadata": {
    "id": "X9Eu9jk0Sz5u"
   },
   "outputs": [],
   "source": [
    "lr_schedule = tf.keras.optimizers.schedules.ExponentialDecay(\n",
    "    initial_learning_rate=0.01,\n",
    "    decay_steps=20_000,\n",
    "    decay_rate=0.1,\n",
    "    staircase=False\n",
    ")\n",
    "optimizer = tf.keras.optimizers.SGD(learning_rate=lr_schedule)"
   ]
  },
  {
   "cell_type": "code",
   "execution_count": 50,
   "metadata": {
    "id": "5odJRZkcSz5u",
    "outputId": "6f5214f0-ac6f-493f-bbc7-76b6058c1e02"
   },
   "outputs": [
    {
     "name": "stdout",
     "output_type": "stream",
     "text": [
      "Epoch 1/10\n",
      "1719/1719 [==============================] - 4s 2ms/step - loss: 0.7154 - accuracy: 0.7530 - val_loss: 0.5045 - val_accuracy: 0.8178\n",
      "Epoch 2/10\n",
      "1719/1719 [==============================] - 4s 2ms/step - loss: 0.4797 - accuracy: 0.8325 - val_loss: 0.4610 - val_accuracy: 0.8316\n",
      "Epoch 3/10\n",
      "1719/1719 [==============================] - 4s 2ms/step - loss: 0.4314 - accuracy: 0.8480 - val_loss: 0.4190 - val_accuracy: 0.8474\n",
      "Epoch 4/10\n",
      "1719/1719 [==============================] - 4s 2ms/step - loss: 0.4078 - accuracy: 0.8565 - val_loss: 0.3998 - val_accuracy: 0.8532\n",
      "Epoch 5/10\n",
      "1719/1719 [==============================] - 4s 2ms/step - loss: 0.3902 - accuracy: 0.8627 - val_loss: 0.3901 - val_accuracy: 0.8554\n",
      "Epoch 6/10\n",
      "1719/1719 [==============================] - 4s 2ms/step - loss: 0.3778 - accuracy: 0.8660 - val_loss: 0.3916 - val_accuracy: 0.8614\n",
      "Epoch 7/10\n",
      "1719/1719 [==============================] - 4s 2ms/step - loss: 0.3690 - accuracy: 0.8693 - val_loss: 0.3813 - val_accuracy: 0.8604\n",
      "Epoch 8/10\n",
      "1719/1719 [==============================] - 4s 2ms/step - loss: 0.3623 - accuracy: 0.8725 - val_loss: 0.3777 - val_accuracy: 0.8606\n",
      "Epoch 9/10\n",
      "1719/1719 [==============================] - 4s 2ms/step - loss: 0.3565 - accuracy: 0.8744 - val_loss: 0.3748 - val_accuracy: 0.8594\n",
      "Epoch 10/10\n",
      "1719/1719 [==============================] - 4s 2ms/step - loss: 0.3517 - accuracy: 0.8755 - val_loss: 0.3702 - val_accuracy: 0.8600\n"
     ]
    }
   ],
   "source": [
    "history_exponential_scheduling = build_and_train_model(optimizer)  # extra code"
   ]
  },
  {
   "cell_type": "code",
   "execution_count": 51,
   "metadata": {
    "id": "Pk-cki69Sz5u",
    "outputId": "f54c9c89-dd85-43fb-927e-02fe2b88cb5a"
   },
   "outputs": [
    {
     "data": {
      "image/png": "[encoded data removed]",
      "text/plain": [
       "<Figure size 432x288 with 1 Axes>"
      ]
     },
     "metadata": {
      "needs_background": "light"
     },
     "output_type": "display_data"
    }
   ],
   "source": [
    "# plot exponential scheduling\n",
    "\n",
    "initial_learning_rate = 0.01\n",
    "decay_rate = 0.1\n",
    "decay_steps = 20_000\n",
    "\n",
    "steps = np.arange(100_000)\n",
    "lrs = initial_learning_rate * decay_rate ** (steps / decay_steps)\n",
    "lrs2 = initial_learning_rate * decay_rate ** np.floor(steps / decay_steps)\n",
    "\n",
    "plt.plot(steps, lrs,  \"-\", label=\"staircase=False\")\n",
    "plt.plot(steps, lrs2,  \"-\", label=\"staircase=True\")\n",
    "plt.axis([0, steps.max(), 0, 0.0105])\n",
    "plt.xlabel(\"Step\")\n",
    "plt.ylabel(\"Learning Rate\")\n",
    "plt.title(\"Exponential Scheduling\", fontsize=14)\n",
    "plt.legend()\n",
    "plt.grid(True)\n",
    "plt.show()"
   ]
  },
  {
   "cell_type": "markdown",
   "metadata": {
    "id": "2UPzgFgzSz5v"
   },
   "source": [
    "Keras provides a `LearningRateScheduler` callback class that lets you define your own scheduling function.\n",
    "\n",
    "- Let's see how you could use it to implement exponential decay. Note that in this case the learning rate only changes at each epoch, not at each step:"
   ]
  },
  {
   "cell_type": "code",
   "execution_count": 53,
   "metadata": {
    "id": "3ctjvoQCSz5v"
   },
   "outputs": [],
   "source": [
    "def exponential_decay(lr0, s):\n",
    "    def exponential_decay_fn(epoch):\n",
    "        return lr0 * 0.1 ** (epoch / s)\n",
    "    return exponential_decay_fn\n",
    "\n",
    "exponential_decay_fn = exponential_decay(lr0=0.01, s=20)"
   ]
  },
  {
   "cell_type": "code",
   "execution_count": 54,
   "metadata": {
    "id": "VMfE7nYhSz5x"
   },
   "outputs": [],
   "source": [
    "# build and compile a model for Fashion MNIST\n",
    "\n",
    "tf.random.set_seed(42)\n",
    "model = build_model()\n",
    "optimizer = tf.keras.optimizers.SGD(learning_rate=0.001)\n",
    "model.compile(loss=\"sparse_categorical_crossentropy\", optimizer=optimizer,\n",
    "              metrics=[\"accuracy\"])"
   ]
  },
  {
   "cell_type": "code",
   "execution_count": 55,
   "metadata": {
    "id": "iwhoqWUYSz5x",
    "outputId": "7a63f03e-a43e-433f-87a9-6a3dc16444a9",
    "scrolled": true
   },
   "outputs": [
    {
     "name": "stdout",
     "output_type": "stream",
     "text": [
      "Epoch 1/20\n",
      "1719/1719 [==============================] - 4s 2ms/step - loss: 0.6872 - accuracy: 0.7641 - val_loss: 0.4816 - val_accuracy: 0.8312 - lr: 0.0100\n",
      "Epoch 2/20\n",
      "1719/1719 [==============================] - 4s 2ms/step - loss: 0.4634 - accuracy: 0.8365 - val_loss: 0.4519 - val_accuracy: 0.8352 - lr: 0.0089\n",
      "Epoch 3/20\n",
      "1719/1719 [==============================] - 4s 2ms/step - loss: 0.4165 - accuracy: 0.8522 - val_loss: 0.4172 - val_accuracy: 0.8536 - lr: 0.0079\n",
      "Epoch 4/20\n",
      "1719/1719 [==============================] - 4s 2ms/step - loss: 0.3927 - accuracy: 0.8599 - val_loss: 0.3830 - val_accuracy: 0.8610 - lr: 0.0071\n",
      "Epoch 5/20\n",
      "1719/1719 [==============================] - 4s 2ms/step - loss: 0.3739 - accuracy: 0.8655 - val_loss: 0.3762 - val_accuracy: 0.8628 - lr: 0.0063\n",
      "Epoch 6/20\n",
      "1719/1719 [==============================] - 4s 2ms/step - loss: 0.3593 - accuracy: 0.8719 - val_loss: 0.3811 - val_accuracy: 0.8664 - lr: 0.0056\n",
      "Epoch 7/20\n",
      "1719/1719 [==============================] - 4s 2ms/step - loss: 0.3491 - accuracy: 0.8741 - val_loss: 0.3644 - val_accuracy: 0.8708 - lr: 0.0050\n",
      "Epoch 8/20\n",
      "1719/1719 [==============================] - 4s 2ms/step - loss: 0.3400 - accuracy: 0.8783 - val_loss: 0.3630 - val_accuracy: 0.8642 - lr: 0.0045\n",
      "Epoch 9/20\n",
      "1719/1719 [==============================] - 4s 2ms/step - loss: 0.3321 - accuracy: 0.8797 - val_loss: 0.3504 - val_accuracy: 0.8708 - lr: 0.0040\n",
      "Epoch 10/20\n",
      "1719/1719 [==============================] - 4s 2ms/step - loss: 0.3251 - accuracy: 0.8831 - val_loss: 0.3497 - val_accuracy: 0.8714 - lr: 0.0035\n",
      "Epoch 11/20\n",
      "1719/1719 [==============================] - 4s 2ms/step - loss: 0.3195 - accuracy: 0.8849 - val_loss: 0.3444 - val_accuracy: 0.8734 - lr: 0.0032\n",
      "Epoch 12/20\n",
      "1719/1719 [==============================] - 4s 2ms/step - loss: 0.3143 - accuracy: 0.8860 - val_loss: 0.3459 - val_accuracy: 0.8742 - lr: 0.0028\n",
      "Epoch 13/20\n",
      "1719/1719 [==============================] - 4s 2ms/step - loss: 0.3104 - accuracy: 0.8890 - val_loss: 0.3361 - val_accuracy: 0.8750 - lr: 0.0025\n",
      "Epoch 14/20\n",
      "1719/1719 [==============================] - 4s 2ms/step - loss: 0.3066 - accuracy: 0.8897 - val_loss: 0.3387 - val_accuracy: 0.8778 - lr: 0.0022\n",
      "Epoch 15/20\n",
      "1719/1719 [==============================] - 4s 2ms/step - loss: 0.3034 - accuracy: 0.8905 - val_loss: 0.3389 - val_accuracy: 0.8790 - lr: 0.0020\n",
      "Epoch 16/20\n",
      "1719/1719 [==============================] - 4s 2ms/step - loss: 0.3002 - accuracy: 0.8920 - val_loss: 0.3325 - val_accuracy: 0.8768 - lr: 0.0018\n",
      "Epoch 17/20\n",
      "1719/1719 [==============================] - 4s 2ms/step - loss: 0.2978 - accuracy: 0.8922 - val_loss: 0.3344 - val_accuracy: 0.8760 - lr: 0.0016\n",
      "Epoch 18/20\n",
      "1719/1719 [==============================] - 4s 2ms/step - loss: 0.2954 - accuracy: 0.8933 - val_loss: 0.3344 - val_accuracy: 0.8772 - lr: 0.0014\n",
      "Epoch 19/20\n",
      "1719/1719 [==============================] - 4s 2ms/step - loss: 0.2935 - accuracy: 0.8936 - val_loss: 0.3314 - val_accuracy: 0.8776 - lr: 0.0013\n",
      "Epoch 20/20\n",
      "1719/1719 [==============================] - 4s 2ms/step - loss: 0.2914 - accuracy: 0.8937 - val_loss: 0.3307 - val_accuracy: 0.8780 - lr: 0.0011\n"
     ]
    }
   ],
   "source": [
    "n_epochs = 20\n",
    "\n",
    "lr_scheduler = tf.keras.callbacks.LearningRateScheduler(\n",
    "                                            exponential_decay_fn)\n",
    "history = model.fit(X_train, y_train, epochs=n_epochs,\n",
    "                    validation_data=(X_valid, y_valid),\n",
    "                    callbacks=[lr_scheduler])"
   ]
  },
  {
   "cell_type": "markdown",
   "metadata": {
    "id": "QFsMalzxSz5x"
   },
   "source": [
    "Alternatively, the schedule function can take the current learning rate as a second argument:"
   ]
  },
  {
   "cell_type": "code",
   "execution_count": null,
   "metadata": {
    "id": "Fqev3ACFSz5y"
   },
   "outputs": [],
   "source": [
    "def exponential_decay_fn(epoch, lr):\n",
    "    return lr * 0.1 ** (1 / 20)"
   ]
  },
  {
   "cell_type": "markdown",
   "metadata": {
    "id": "hEcaSqgASz5y"
   },
   "source": [
    "**Extra material**: if you want to use a custom scheduling function that updates the learning rate at each iteration rather than at each epoch, you can write your own callback class like this:"
   ]
  },
  {
   "cell_type": "code",
   "execution_count": 59,
   "metadata": {
    "id": "1E-VvGOHSz5y"
   },
   "outputs": [],
   "source": [
    "K = tf.keras.backend\n",
    "\n",
    "class ExponentialDecay(tf.keras.callbacks.Callback):\n",
    "    def __init__(self, n_steps=40_000):\n",
    "        super().__init__()\n",
    "        self.n_steps = n_steps\n",
    "\n",
    "    def on_batch_begin(self, batch, logs=None):\n",
    "        # Note: the `batch` argument is reset at each epoch\n",
    "        lr = K.get_value(self.model.optimizer.learning_rate)\n",
    "        new_learning_rate = lr * 0.1 ** (1 / self.n_steps)\n",
    "        K.set_value(self.model.optimizer.learning_rate, new_learning_rate)\n",
    "\n",
    "    def on_epoch_end(self, epoch, logs=None):\n",
    "        logs = logs or {}\n",
    "        logs['lr'] = K.get_value(self.model.optimizer.learning_rate)"
   ]
  },
  {
   "cell_type": "code",
   "execution_count": 60,
   "metadata": {
    "id": "vYtpWwG5Sz5y"
   },
   "outputs": [],
   "source": [
    "lr0 = 0.01\n",
    "model = build_model()\n",
    "optimizer = tf.keras.optimizers.SGD(learning_rate=lr0)\n",
    "model.compile(loss=\"sparse_categorical_crossentropy\", optimizer=optimizer,\n",
    "              metrics=[\"accuracy\"])"
   ]
  },
  {
   "cell_type": "code",
   "execution_count": 61,
   "metadata": {
    "id": "AGjH0_7ySz5y",
    "outputId": "050abd24-fc98-438d-8e34-d21eaff63895"
   },
   "outputs": [
    {
     "name": "stdout",
     "output_type": "stream",
     "text": [
      "Epoch 1/20\n",
      "1719/1719 [==============================] - 5s 3ms/step - loss: 0.6736 - accuracy: 0.7681 - val_loss: 0.4940 - val_accuracy: 0.8262 - lr: 0.0089\n",
      "Epoch 2/20\n",
      "1719/1719 [==============================] - 4s 3ms/step - loss: 0.4709 - accuracy: 0.8338 - val_loss: 0.4560 - val_accuracy: 0.8346 - lr: 0.0079\n",
      "Epoch 3/20\n",
      "1719/1719 [==============================] - 4s 3ms/step - loss: 0.4263 - accuracy: 0.8483 - val_loss: 0.4226 - val_accuracy: 0.8478 - lr: 0.0071\n",
      "Epoch 4/20\n",
      "1719/1719 [==============================] - 4s 3ms/step - loss: 0.4032 - accuracy: 0.8569 - val_loss: 0.3951 - val_accuracy: 0.8608 - lr: 0.0063\n",
      "Epoch 5/20\n",
      "1719/1719 [==============================] - 4s 3ms/step - loss: 0.3843 - accuracy: 0.8640 - val_loss: 0.3873 - val_accuracy: 0.8616 - lr: 0.0056\n",
      "Epoch 6/20\n",
      "1719/1719 [==============================] - 4s 3ms/step - loss: 0.3701 - accuracy: 0.8682 - val_loss: 0.3893 - val_accuracy: 0.8624 - lr: 0.0050\n",
      "Epoch 7/20\n",
      "1719/1719 [==============================] - 4s 3ms/step - loss: 0.3596 - accuracy: 0.8715 - val_loss: 0.3759 - val_accuracy: 0.8672 - lr: 0.0045\n",
      "Epoch 8/20\n",
      "1719/1719 [==============================] - 4s 3ms/step - loss: 0.3507 - accuracy: 0.8752 - val_loss: 0.3697 - val_accuracy: 0.8658 - lr: 0.0040\n",
      "Epoch 9/20\n",
      "1719/1719 [==============================] - 5s 3ms/step - loss: 0.3429 - accuracy: 0.8777 - val_loss: 0.3613 - val_accuracy: 0.8716 - lr: 0.0035\n",
      "Epoch 10/20\n",
      "1719/1719 [==============================] - 5s 3ms/step - loss: 0.3360 - accuracy: 0.8802 - val_loss: 0.3612 - val_accuracy: 0.8700 - lr: 0.0032\n",
      "Epoch 11/20\n",
      "1719/1719 [==============================] - 4s 3ms/step - loss: 0.3305 - accuracy: 0.8817 - val_loss: 0.3551 - val_accuracy: 0.8714 - lr: 0.0028\n",
      "Epoch 12/20\n",
      "1719/1719 [==============================] - 4s 3ms/step - loss: 0.3259 - accuracy: 0.8831 - val_loss: 0.3549 - val_accuracy: 0.8700 - lr: 0.0025\n",
      "Epoch 13/20\n",
      "1719/1719 [==============================] - 4s 3ms/step - loss: 0.3215 - accuracy: 0.8867 - val_loss: 0.3444 - val_accuracy: 0.8728 - lr: 0.0022\n",
      "Epoch 14/20\n",
      "1719/1719 [==============================] - 4s 3ms/step - loss: 0.3178 - accuracy: 0.8871 - val_loss: 0.3474 - val_accuracy: 0.8744 - lr: 0.0020\n",
      "Epoch 15/20\n",
      "1719/1719 [==============================] - 4s 3ms/step - loss: 0.3147 - accuracy: 0.8874 - val_loss: 0.3470 - val_accuracy: 0.8752 - lr: 0.0018\n",
      "Epoch 16/20\n",
      "1719/1719 [==============================] - 4s 3ms/step - loss: 0.3113 - accuracy: 0.8889 - val_loss: 0.3428 - val_accuracy: 0.8752 - lr: 0.0016\n",
      "Epoch 17/20\n",
      "1719/1719 [==============================] - 4s 3ms/step - loss: 0.3089 - accuracy: 0.8889 - val_loss: 0.3435 - val_accuracy: 0.8752 - lr: 0.0014\n",
      "Epoch 18/20\n",
      "1719/1719 [==============================] - 4s 3ms/step - loss: 0.3068 - accuracy: 0.8905 - val_loss: 0.3423 - val_accuracy: 0.8764 - lr: 0.0013\n",
      "Epoch 19/20\n",
      "1719/1719 [==============================] - 4s 3ms/step - loss: 0.3048 - accuracy: 0.8907 - val_loss: 0.3404 - val_accuracy: 0.8752 - lr: 0.0011\n",
      "Epoch 20/20\n",
      "1719/1719 [==============================] - 4s 3ms/step - loss: 0.3029 - accuracy: 0.8923 - val_loss: 0.3388 - val_accuracy: 0.8750 - lr: 1.0000e-03\n"
     ]
    }
   ],
   "source": [
    "import math\n",
    "\n",
    "batch_size = 32\n",
    "n_steps = n_epochs * math.ceil(len(X_train) / batch_size)\n",
    "exp_decay = ExponentialDecay(n_steps)\n",
    "history = model.fit(X_train, y_train, epochs=n_epochs,\n",
    "                    validation_data=(X_valid, y_valid),\n",
    "                    callbacks=[exp_decay])"
   ]
  },
  {
   "cell_type": "markdown",
   "metadata": {
    "id": "2cL6DwKLSz5y"
   },
   "source": [
    "### Piecewise Constant Scheduling"
   ]
  },
  {
   "cell_type": "code",
   "execution_count": null,
   "metadata": {
    "id": "gFBBxdMKSz5z"
   },
   "outputs": [],
   "source": [
    "lr_schedule = tf.keras.optimizers.schedules.PiecewiseConstantDecay(\n",
    "    boundaries=[50_000, 80_000],\n",
    "    values=[0.01, 0.005, 0.001]\n",
    ")\n",
    "optimizer = tf.keras.optimizers.SGD(learning_rate=lr_schedule)"
   ]
  },
  {
   "cell_type": "code",
   "execution_count": null,
   "metadata": {
    "id": "F0yR2Og-Sz5z",
    "outputId": "334910c6-ef58-40b5-e5d4-e18a3becc409"
   },
   "outputs": [
    {
     "name": "stdout",
     "output_type": "stream",
     "text": [
      "Epoch 1/10\n",
      "1719/1719 [==============================] - 4s 2ms/step - loss: 0.6942 - accuracy: 0.7617 - val_loss: 0.4892 - val_accuracy: 0.8318\n",
      "Epoch 2/10\n",
      "1719/1719 [==============================] - 3s 2ms/step - loss: 0.4751 - accuracy: 0.8340 - val_loss: 0.4603 - val_accuracy: 0.8346\n",
      "Epoch 3/10\n",
      "1719/1719 [==============================] - 2s 1ms/step - loss: 0.4280 - accuracy: 0.8500 - val_loss: 0.4245 - val_accuracy: 0.8542\n",
      "Epoch 4/10\n",
      "1719/1719 [==============================] - 2s 1ms/step - loss: 0.4035 - accuracy: 0.8581 - val_loss: 0.3867 - val_accuracy: 0.8626\n",
      "Epoch 5/10\n",
      "1719/1719 [==============================] - 2s 1ms/step - loss: 0.3828 - accuracy: 0.8650 - val_loss: 0.3827 - val_accuracy: 0.8634\n",
      "Epoch 6/10\n",
      "1719/1719 [==============================] - 2s 1ms/step - loss: 0.3665 - accuracy: 0.8700 - val_loss: 0.3880 - val_accuracy: 0.8608\n",
      "Epoch 7/10\n",
      "1719/1719 [==============================] - 3s 1ms/step - loss: 0.3539 - accuracy: 0.8730 - val_loss: 0.3669 - val_accuracy: 0.8688\n",
      "Epoch 8/10\n",
      "1719/1719 [==============================] - 2s 1ms/step - loss: 0.3423 - accuracy: 0.8773 - val_loss: 0.3583 - val_accuracy: 0.8708\n",
      "Epoch 9/10\n",
      "1719/1719 [==============================] - 2s 1ms/step - loss: 0.3322 - accuracy: 0.8807 - val_loss: 0.3447 - val_accuracy: 0.8758\n",
      "Epoch 10/10\n",
      "1719/1719 [==============================] - 2s 1ms/step - loss: 0.3218 - accuracy: 0.8832 - val_loss: 0.3488 - val_accuracy: 0.8716\n"
     ]
    }
   ],
   "source": [
    "history_piecewise_scheduling = build_and_train_model(optimizer)  # extra code"
   ]
  },
  {
   "cell_type": "code",
   "execution_count": 56,
   "metadata": {
    "id": "L-PjACDlSz5z",
    "outputId": "6032a241-cfbc-475a-cb53-60233324ea70",
    "scrolled": true
   },
   "outputs": [
    {
     "data": {
      "image/png": "[encoded data removed]",
      "text/plain": [
       "<Figure size 432x288 with 1 Axes>"
      ]
     },
     "metadata": {
      "needs_background": "light"
     },
     "output_type": "display_data"
    }
   ],
   "source": [
    "# plot piecewise constant scheduling\n",
    "\n",
    "boundaries = [50_000, 80_000]\n",
    "values = [0.01, 0.005, 0.001]\n",
    "\n",
    "steps = np.arange(100_000)\n",
    "\n",
    "lrs = np.full(len(steps), values[0])\n",
    "for boundary, value in zip(boundaries, values[1:]):\n",
    "    lrs[boundary:] = value\n",
    "\n",
    "plt.plot(steps, lrs, \"-\")\n",
    "plt.axis([0, steps.max(), 0, 0.0105])\n",
    "plt.xlabel(\"Step\")\n",
    "plt.ylabel(\"Learning Rate\")\n",
    "plt.title(\"Piecewise Constant Scheduling\", fontsize=14)\n",
    "plt.grid(True)\n",
    "plt.show()"
   ]
  },
  {
   "cell_type": "markdown",
   "metadata": {
    "id": "i0Vf8bdBSz5z"
   },
   "source": [
    "Just like we did with exponential scheduling, we could also implement piecewise constant scheduling manually:"
   ]
  },
  {
   "cell_type": "code",
   "execution_count": null,
   "metadata": {
    "id": "zNG9_WtnSz5z"
   },
   "outputs": [],
   "source": [
    "def piecewise_constant_fn(epoch):\n",
    "    if epoch < 5:\n",
    "        return 0.01\n",
    "    elif epoch < 15:\n",
    "        return 0.005\n",
    "    else:\n",
    "        return 0.001"
   ]
  },
  {
   "cell_type": "code",
   "execution_count": null,
   "metadata": {
    "id": "ChN1wYTKSz5z"
   },
   "outputs": [],
   "source": [
    "# extra code – this cell demonstrates a more general way to define\n",
    "#              piecewise constant scheduling.\n",
    "\n",
    "def piecewise_constant(boundaries, values):\n",
    "    boundaries = np.array([0] + boundaries)\n",
    "    values = np.array(values)\n",
    "    def piecewise_constant_fn(epoch):\n",
    "        return values[(boundaries > epoch).argmax() - 1]\n",
    "    return piecewise_constant_fn\n",
    "\n",
    "piecewise_constant_fn = piecewise_constant([5, 15], [0.01, 0.005, 0.001])"
   ]
  },
  {
   "cell_type": "code",
   "execution_count": null,
   "metadata": {
    "id": "27L3rMXSSz5z",
    "outputId": "ffa2d330-29c1-41f8-f269-587a53ce175d"
   },
   "outputs": [
    {
     "name": "stdout",
     "output_type": "stream",
     "text": [
      "Epoch 1/25\n",
      "1719/1719 [==============================] - 5s 2ms/step - loss: 0.5433 - accuracy: 0.8087 - val_loss: 0.4586 - val_accuracy: 0.8288 - lr: 0.0100\n",
      "Epoch 2/25\n",
      "1719/1719 [==============================] - 3s 2ms/step - loss: 0.4487 - accuracy: 0.8439 - val_loss: 0.4608 - val_accuracy: 0.8350 - lr: 0.0100\n",
      "Epoch 3/25\n",
      "1719/1719 [==============================] - 3s 2ms/step - loss: 0.4263 - accuracy: 0.8502 - val_loss: 0.4234 - val_accuracy: 0.8568 - lr: 0.0100\n",
      "Epoch 4/25\n",
      "1719/1719 [==============================] - 3s 2ms/step - loss: 0.4241 - accuracy: 0.8537 - val_loss: 0.4359 - val_accuracy: 0.8490 - lr: 0.0100\n",
      "Epoch 5/25\n",
      "1719/1719 [==============================] - 3s 2ms/step - loss: 0.4080 - accuracy: 0.8584 - val_loss: 0.4165 - val_accuracy: 0.8560 - lr: 0.0100\n",
      "Epoch 6/25\n",
      "1719/1719 [==============================] - 3s 2ms/step - loss: 0.3544 - accuracy: 0.8738 - val_loss: 0.3830 - val_accuracy: 0.8662 - lr: 0.0050\n",
      "Epoch 7/25\n",
      "1719/1719 [==============================] - 3s 2ms/step - loss: 0.3464 - accuracy: 0.8761 - val_loss: 0.4026 - val_accuracy: 0.8652 - lr: 0.0050\n",
      "Epoch 8/25\n",
      "1719/1719 [==============================] - 3s 2ms/step - loss: 0.3426 - accuracy: 0.8772 - val_loss: 0.4212 - val_accuracy: 0.8544 - lr: 0.0050\n",
      "Epoch 9/25\n",
      "1719/1719 [==============================] - 3s 2ms/step - loss: 0.3417 - accuracy: 0.8793 - val_loss: 0.4116 - val_accuracy: 0.8612 - lr: 0.0050\n",
      "Epoch 10/25\n",
      "1719/1719 [==============================] - 3s 2ms/step - loss: 0.3339 - accuracy: 0.8804 - val_loss: 0.4090 - val_accuracy: 0.8618 - lr: 0.0050\n",
      "Epoch 11/25\n",
      "1719/1719 [==============================] - 4s 2ms/step - loss: 0.3309 - accuracy: 0.8819 - val_loss: 0.4033 - val_accuracy: 0.8746 - lr: 0.0050\n",
      "Epoch 12/25\n",
      "1719/1719 [==============================] - 5s 3ms/step - loss: 0.3270 - accuracy: 0.8826 - val_loss: 0.4518 - val_accuracy: 0.8630 - lr: 0.0050\n",
      "Epoch 13/25\n",
      "1719/1719 [==============================] - 4s 2ms/step - loss: 0.3270 - accuracy: 0.8837 - val_loss: 0.3714 - val_accuracy: 0.8674 - lr: 0.0050\n",
      "Epoch 14/25\n",
      "1719/1719 [==============================] - 3s 2ms/step - loss: 0.3247 - accuracy: 0.8844 - val_loss: 0.4026 - val_accuracy: 0.8652 - lr: 0.0050\n",
      "Epoch 15/25\n",
      "1719/1719 [==============================] - 4s 2ms/step - loss: 0.3204 - accuracy: 0.8852 - val_loss: 0.3993 - val_accuracy: 0.8724 - lr: 0.0050\n",
      "Epoch 16/25\n",
      "1719/1719 [==============================] - 3s 2ms/step - loss: 0.2859 - accuracy: 0.8963 - val_loss: 0.3930 - val_accuracy: 0.8736 - lr: 0.0010\n",
      "Epoch 17/25\n",
      "1719/1719 [==============================] - 3s 2ms/step - loss: 0.2781 - accuracy: 0.8978 - val_loss: 0.4021 - val_accuracy: 0.8714 - lr: 0.0010\n",
      "Epoch 18/25\n",
      "1719/1719 [==============================] - 3s 2ms/step - loss: 0.2743 - accuracy: 0.8984 - val_loss: 0.3955 - val_accuracy: 0.8754 - lr: 0.0010\n",
      "Epoch 19/25\n",
      "1719/1719 [==============================] - 3s 2ms/step - loss: 0.2704 - accuracy: 0.8999 - val_loss: 0.4015 - val_accuracy: 0.8756 - lr: 0.0010\n",
      "Epoch 20/25\n",
      "1719/1719 [==============================] - 3s 2ms/step - loss: 0.2683 - accuracy: 0.9015 - val_loss: 0.4161 - val_accuracy: 0.8756 - lr: 0.0010\n",
      "Epoch 21/25\n",
      "1719/1719 [==============================] - 3s 2ms/step - loss: 0.2655 - accuracy: 0.9020 - val_loss: 0.4207 - val_accuracy: 0.8740 - lr: 0.0010\n",
      "Epoch 22/25\n",
      "1719/1719 [==============================] - 4s 2ms/step - loss: 0.2646 - accuracy: 0.9020 - val_loss: 0.4497 - val_accuracy: 0.8746 - lr: 0.0010\n",
      "Epoch 23/25\n",
      "1719/1719 [==============================] - 3s 2ms/step - loss: 0.2626 - accuracy: 0.9032 - val_loss: 0.4429 - val_accuracy: 0.8762 - lr: 0.0010\n",
      "Epoch 24/25\n",
      "1719/1719 [==============================] - 4s 2ms/step - loss: 0.2608 - accuracy: 0.9038 - val_loss: 0.4566 - val_accuracy: 0.8748 - lr: 0.0010\n",
      "Epoch 25/25\n",
      "1719/1719 [==============================] - 4s 2ms/step - loss: 0.2587 - accuracy: 0.9038 - val_loss: 0.4726 - val_accuracy: 0.8770 - lr: 0.0010\n"
     ]
    }
   ],
   "source": [
    "# extra code – use a tf.keras.callbacks.LearningRateScheduler like earlier\n",
    "\n",
    "n_epochs = 25\n",
    "\n",
    "lr_scheduler = tf.keras.callbacks.LearningRateScheduler(\n",
    "                        piecewise_constant_fn)\n",
    "\n",
    "model = build_model()\n",
    "optimizer = tf.keras.optimizers.Nadam(learning_rate=lr0)\n",
    "model.compile(loss=\"sparse_categorical_crossentropy\", optimizer=optimizer,\n",
    "              metrics=[\"accuracy\"])\n",
    "history = model.fit(X_train, y_train, epochs=n_epochs,\n",
    "                    validation_data=(X_valid, y_valid),\n",
    "                    callbacks=[lr_scheduler])"
   ]
  },
  {
   "cell_type": "markdown",
   "metadata": {
    "id": "I9u9c8UNSz50"
   },
   "source": [
    "We've looked at `InverseTimeDecay`, `ExponentialDecay`, and `PiecewiseConstantDecay`. A few more schedulers are available in `tf.keras.optimizers.schedules`, here is the full list:"
   ]
  },
  {
   "cell_type": "code",
   "execution_count": 57,
   "metadata": {
    "id": "wkte3tdeSz50",
    "outputId": "80d9bedb-9525-40f0-a105-be603ed8f0fa"
   },
   "outputs": [
    {
     "name": "stdout",
     "output_type": "stream",
     "text": [
      "• CosineDecay – A LearningRateSchedule that uses a cosine decay with optional warmup.\n",
      "• CosineDecayRestarts – A LearningRateSchedule that uses a cosine decay schedule with restarts.\n",
      "• ExponentialDecay – A LearningRateSchedule that uses an exponential decay schedule.\n",
      "• InverseTimeDecay – A LearningRateSchedule that uses an inverse time decay schedule.\n",
      "• LearningRateSchedule – The learning rate schedule base class.\n",
      "• PiecewiseConstantDecay – A LearningRateSchedule that uses a piecewise constant decay schedule.\n",
      "• PolynomialDecay – A LearningRateSchedule that uses a polynomial decay schedule.\n"
     ]
    }
   ],
   "source": [
    "for name in sorted(dir(tf.keras.optimizers.schedules)):\n",
    "    if name[0] == name[0].lower():  # must start with capital letter\n",
    "        continue\n",
    "    scheduler_class = getattr(tf.keras.optimizers.schedules, name)\n",
    "    print(f\"• {name} – {scheduler_class.__doc__.splitlines()[0]}\")"
   ]
  },
  {
   "cell_type": "markdown",
   "metadata": {
    "id": "wHM9l2gmSz50"
   },
   "source": [
    "### Performance Scheduling\n",
    "\n",
    "- Measure the validation error every $N$ steps (just like for early stopping), and reduce the learning rate by a factor of $\\lambda$ when the error stops dropping."
   ]
  },
  {
   "cell_type": "code",
   "execution_count": 62,
   "metadata": {
    "id": "_SFxTwweSz50"
   },
   "outputs": [],
   "source": [
    "#  build and compile the model\n",
    "model = build_model()\n",
    "optimizer = tf.keras.optimizers.SGD(learning_rate=lr0)\n",
    "model.compile(loss=\"sparse_categorical_crossentropy\", optimizer=optimizer,\n",
    "              metrics=[\"accuracy\"])"
   ]
  },
  {
   "cell_type": "code",
   "execution_count": 63,
   "metadata": {
    "id": "QW7PBTgOSz50",
    "outputId": "4ef49422-4adf-4adc-a3ea-bd7c826104f2"
   },
   "outputs": [
    {
     "name": "stdout",
     "output_type": "stream",
     "text": [
      "Epoch 1/20\n",
      "1719/1719 [==============================] - 4s 2ms/step - loss: 0.6753 - accuracy: 0.7671 - val_loss: 0.4812 - val_accuracy: 0.8306 - lr: 0.0100\n",
      "Epoch 2/20\n",
      "1719/1719 [==============================] - 4s 2ms/step - loss: 0.4691 - accuracy: 0.8340 - val_loss: 0.4560 - val_accuracy: 0.8344 - lr: 0.0100\n",
      "Epoch 3/20\n",
      "1719/1719 [==============================] - 4s 2ms/step - loss: 0.4222 - accuracy: 0.8487 - val_loss: 0.4209 - val_accuracy: 0.8526 - lr: 0.0100\n",
      "Epoch 4/20\n",
      "1719/1719 [==============================] - 4s 2ms/step - loss: 0.3984 - accuracy: 0.8579 - val_loss: 0.3843 - val_accuracy: 0.8648 - lr: 0.0100\n",
      "Epoch 5/20\n",
      "1719/1719 [==============================] - 4s 2ms/step - loss: 0.3772 - accuracy: 0.8657 - val_loss: 0.3863 - val_accuracy: 0.8616 - lr: 0.0100\n",
      "Epoch 6/20\n",
      "1719/1719 [==============================] - 4s 2ms/step - loss: 0.3610 - accuracy: 0.8707 - val_loss: 0.3802 - val_accuracy: 0.8670 - lr: 0.0100\n",
      "Epoch 7/20\n",
      "1719/1719 [==============================] - 3s 2ms/step - loss: 0.3487 - accuracy: 0.8741 - val_loss: 0.3683 - val_accuracy: 0.8714 - lr: 0.0100\n",
      "Epoch 8/20\n",
      "1719/1719 [==============================] - 4s 2ms/step - loss: 0.3358 - accuracy: 0.8790 - val_loss: 0.3691 - val_accuracy: 0.8664 - lr: 0.0100\n",
      "Epoch 9/20\n",
      "1719/1719 [==============================] - 4s 2ms/step - loss: 0.3262 - accuracy: 0.8824 - val_loss: 0.3507 - val_accuracy: 0.8734 - lr: 0.0100\n",
      "Epoch 10/20\n",
      "1719/1719 [==============================] - 4s 2ms/step - loss: 0.3162 - accuracy: 0.8853 - val_loss: 0.3640 - val_accuracy: 0.8744 - lr: 0.0100\n",
      "Epoch 11/20\n",
      "1719/1719 [==============================] - 4s 2ms/step - loss: 0.3081 - accuracy: 0.8887 - val_loss: 0.3614 - val_accuracy: 0.8712 - lr: 0.0100\n",
      "Epoch 12/20\n",
      "1719/1719 [==============================] - 4s 2ms/step - loss: 0.3007 - accuracy: 0.8899 - val_loss: 0.3480 - val_accuracy: 0.8714 - lr: 0.0100\n",
      "Epoch 13/20\n",
      "1719/1719 [==============================] - 4s 2ms/step - loss: 0.2941 - accuracy: 0.8943 - val_loss: 0.3346 - val_accuracy: 0.8754 - lr: 0.0100\n",
      "Epoch 14/20\n",
      "1719/1719 [==============================] - 4s 2ms/step - loss: 0.2873 - accuracy: 0.8953 - val_loss: 0.3706 - val_accuracy: 0.8698 - lr: 0.0100\n",
      "Epoch 15/20\n",
      "1719/1719 [==============================] - 4s 2ms/step - loss: 0.2818 - accuracy: 0.8975 - val_loss: 0.3410 - val_accuracy: 0.8760 - lr: 0.0100\n",
      "Epoch 16/20\n",
      "1719/1719 [==============================] - 4s 2ms/step - loss: 0.2755 - accuracy: 0.8992 - val_loss: 0.3365 - val_accuracy: 0.8750 - lr: 0.0100\n",
      "Epoch 17/20\n",
      "1719/1719 [==============================] - 4s 2ms/step - loss: 0.2702 - accuracy: 0.9010 - val_loss: 0.3503 - val_accuracy: 0.8748 - lr: 0.0100\n",
      "Epoch 18/20\n",
      "1719/1719 [==============================] - 4s 2ms/step - loss: 0.2648 - accuracy: 0.9022 - val_loss: 0.3378 - val_accuracy: 0.8784 - lr: 0.0100\n",
      "Epoch 19/20\n",
      "1719/1719 [==============================] - 4s 2ms/step - loss: 0.2465 - accuracy: 0.9099 - val_loss: 0.3311 - val_accuracy: 0.8806 - lr: 0.0050\n",
      "Epoch 20/20\n",
      "1719/1719 [==============================] - 4s 2ms/step - loss: 0.2433 - accuracy: 0.9115 - val_loss: 0.3270 - val_accuracy: 0.8774 - lr: 0.0050\n"
     ]
    }
   ],
   "source": [
    "lr_scheduler = tf.keras.callbacks.ReduceLROnPlateau(factor=0.5, patience=5)\n",
    "history = model.fit(X_train, y_train, epochs=n_epochs,\n",
    "                    validation_data=(X_valid, y_valid),\n",
    "                    callbacks=[lr_scheduler])"
   ]
  },
  {
   "cell_type": "code",
   "execution_count": 64,
   "metadata": {
    "id": "6GcpdFXhSz51",
    "outputId": "10546b9a-82c1-4a69-ee8c-9f8ab473a3d1"
   },
   "outputs": [
    {
     "data": {
      "image/png": "[encoded data removed]",
      "text/plain": [
       "<Figure size 432x288 with 2 Axes>"
      ]
     },
     "metadata": {
      "needs_background": "light"
     },
     "output_type": "display_data"
    }
   ],
   "source": [
    "# plot performance scheduling\n",
    "\n",
    "plt.plot(history.epoch, history.history[\"lr\"], \"bo-\")\n",
    "plt.xlabel(\"Epoch\")\n",
    "plt.ylabel(\"Learning Rate\", color='b')\n",
    "plt.tick_params('y', colors='b')\n",
    "plt.gca().set_xlim(0, n_epochs - 1)\n",
    "plt.grid(True)\n",
    "\n",
    "ax2 = plt.gca().twinx()\n",
    "ax2.plot(history.epoch, history.history[\"val_loss\"], \"r^-\")\n",
    "ax2.set_ylabel('Validation Loss', color='r')\n",
    "ax2.tick_params('y', colors='r')\n",
    "\n",
    "plt.title(\"Reduce LR on Plateau\", fontsize=14)\n",
    "plt.show()"
   ]
  },
  {
   "cell_type": "markdown",
   "metadata": {
    "id": "lX82tR0cSz51"
   },
   "source": [
    "### 1Cycle scheduling\n",
    "\n",
    "- Contrary to the other approaches, 1cycle starts by increasing the initial learning rate $\\eta_0$, growing linearly up to $\\eta_1$ halfway through training.\n",
    "\n",
    "- Then it decreases the learning rate linearly down to $\\eta_0$ again during the second half of training, finishing the last few epochs by dropping the rate down by several orders of magnitude (still linearly)."
   ]
  },
  {
   "cell_type": "markdown",
   "metadata": {
    "id": "jiOatGyxSz53"
   },
   "source": [
    "The `OneCycleScheduler` custom callback updates the learning rate at the beginning of each batch. \n",
    "\n",
    "    - increase the learning rate linearly during about half of training,\n",
    "    - then reduce it linearly back to the initial learning rate,\n",
    "    - and lastly reduce it down to close to zero linearly for the very last part of training."
   ]
  },
  {
   "cell_type": "code",
   "execution_count": null,
   "metadata": {
    "id": "9SXEgomKSz53"
   },
   "outputs": [],
   "source": [
    "class OneCycleScheduler(tf.keras.callbacks.Callback):\n",
    "    def __init__(self, iterations, max_lr=1e-3, start_lr=None,\n",
    "                 last_iterations=None, last_lr=None):\n",
    "        self.iterations = iterations\n",
    "        self.max_lr = max_lr\n",
    "        self.start_lr = start_lr or max_lr / 10\n",
    "        self.last_iterations = last_iterations or iterations // 10 + 1\n",
    "        self.half_iteration = (iterations - self.last_iterations) // 2\n",
    "        self.last_lr = last_lr or self.start_lr / 1000\n",
    "        self.iteration = 0\n",
    "\n",
    "    def _interpolate(self, iter1, iter2, lr1, lr2):\n",
    "        return (lr2-lr1)*(self.iteration-iter1)/(iter2-iter1)+lr1\n",
    "\n",
    "    def on_batch_begin(self, batch, logs):\n",
    "        if self.iteration < self.half_iteration:\n",
    "            lr = self._interpolate(0,\n",
    "                                   self.half_iteration,\n",
    "                                   self.start_lr,\n",
    "                                   self.max_lr)\n",
    "        elif self.iteration < 2 * self.half_iteration:\n",
    "            lr = self._interpolate(self.half_iteration,\n",
    "                                   2 * self.half_iteration,\n",
    "                                   self.max_lr,\n",
    "                                   self.start_lr)\n",
    "        else:\n",
    "            lr = self._interpolate(2 * self.half_iteration,\n",
    "                                   self.iterations,\n",
    "                                   self.start_lr,\n",
    "                                   self.last_lr)\n",
    "        self.iteration += 1\n",
    "        K.set_value(self.model.optimizer.learning_rate, lr)"
   ]
  },
  {
   "cell_type": "markdown",
   "metadata": {
    "id": "CN0ljb83Sz54"
   },
   "source": [
    "## Avoiding Overfitting Through Regularization\n",
    "\n",
    "- Deep neural networks typically have tens of thousands of parameters, sometimes even millions. \n",
    "- This gives them an incredible amount of freedom and means they can fit a huge variety of complex datasets.\n",
    "- But this great flexibility also makes the network prone to overfitting the training set. Regularization is often needed to prevent this."
   ]
  },
  {
   "cell_type": "markdown",
   "metadata": {
    "id": "ad0qIUeVSz54"
   },
   "source": [
    "## $\\ell_1$ and $\\ell_2$ regularization\n",
    "\n",
    "- you can use $\\ell_2$ regularization to constrain a neural network’s connection weights, and/or $\\ell_1$ regularization if you want a sparse model (with many weights equal to 0)."
   ]
  },
  {
   "cell_type": "code",
   "execution_count": 65,
   "metadata": {
    "id": "v6a4og-hSz54"
   },
   "outputs": [],
   "source": [
    "layer = tf.keras.layers.Dense(100, activation=\"relu\",\n",
    "                kernel_initializer=\"he_normal\",\n",
    "                kernel_regularizer=tf.keras.regularizers.l2(0.01))"
   ]
  },
  {
   "cell_type": "markdown",
   "metadata": {
    "id": "_nn0UkZlSz54"
   },
   "source": [
    "- The `l2()` function returns a regularizer that will be called at each step during training to compute the regularization loss. This is then added to the final loss.\n",
    "\n",
    "- Use `l1(0.1)` for ℓ<sub>1</sub> regularization with a factor of 0.1, or `l1_l2(0.1, 0.01)` for both ℓ<sub>1</sub> and ℓ<sub>2</sub> regularization, with factors 0.1 and 0.01 respectively."
   ]
  },
  {
   "cell_type": "code",
   "execution_count": 66,
   "metadata": {
    "id": "rQFRxaXTSz54"
   },
   "outputs": [],
   "source": [
    "tf.random.set_seed(42)  # for reproducibility"
   ]
  },
  {
   "cell_type": "code",
   "execution_count": 67,
   "metadata": {
    "id": "ntH1zXs1Sz54"
   },
   "outputs": [],
   "source": [
    "# IT IS A GOOD IDEA TO CREATE A CUSTOM HIDDEN LAYER AND STICK TO IT\n",
    "from functools import partial\n",
    "\n",
    "# This way we don't need to re-type the activation/init/regulariz parameters\n",
    "RegularizedDense = partial(tf.keras.layers.Dense,\n",
    "                           activation=\"relu\",\n",
    "                           kernel_initializer=\"he_normal\",\n",
    "                           kernel_regularizer=tf.keras.regularizers.l2(0.01))\n",
    "\n",
    "model = tf.keras.Sequential([\n",
    "    tf.keras.layers.Flatten(input_shape=[28, 28]),\n",
    "    RegularizedDense(100),\n",
    "    RegularizedDense(100),\n",
    "    # Overwrite activation in output layer\n",
    "    RegularizedDense(10, activation=\"softmax\")\n",
    "])"
   ]
  },
  {
   "cell_type": "markdown",
   "metadata": {
    "id": "XzekEQA2Sz55"
   },
   "source": [
    "## Dropout\n",
    "\n",
    "- A fairly simple algorithm for regularization:\n",
    "\n",
    "    - At every training step, every neuron (including the input neurons, but always excluding the output neurons) has a probability $p$ of being temporarily “dropped out”, meaning it will be entirely ignored during this training step, but it may be active during the next step.\n",
    "    \n",
    "    - The hyperparameter `p` is called the dropout rate, and it is typically set between 10% and 50%.\n",
    "    \n",
    "    - After training, neurons don’t get dropped anymore."
   ]
  },
  {
   "attachments": {
    "image.png": {
     "image/png": "[encoded data removed]"
    }
   },
   "cell_type": "markdown",
   "metadata": {},
   "source": [
    "![image.png](attachment:image.png)\n",
    "\n",
    "Neurons trained with dropout cannot co-adapt with their neighboring neurons; they have to be as useful as possible on their own. They also cannot rely excessively on just a few input neurons; they must pay attention to each of their input neurons. They end up being less sensitive to slight changes in the inputs. In the end, you get a more robust network that generalizes better."
   ]
  },
  {
   "cell_type": "markdown",
   "metadata": {},
   "source": [
    "#### Important technical detail\n",
    "\n",
    "- Suppose $p = 75\\%$: on average only $25\\%$ of all neurons are active at each step during training. \n",
    "\n",
    "- This means that after training, a neuron would be connected to four times as many input neurons as it would be during training.\n",
    "\n",
    "- To compensate for this fact, we need to multiply each neuron’s input connection weights by four during training. If we don’t, the neural network will not perform well as it will see different data during and after training.\n",
    "\n",
    "- More generally, we need to divide the connection weights by the keep probability $(1 – p)$ during training."
   ]
  },
  {
   "cell_type": "code",
   "execution_count": null,
   "metadata": {
    "id": "q4kQLDQwSz55"
   },
   "outputs": [],
   "source": [
    "model = tf.keras.Sequential([\n",
    "    tf.keras.layers.Flatten(input_shape=[28, 28]),\n",
    "    tf.keras.layers.Dropout(rate=0.2),\n",
    "    tf.keras.layers.Dense(100, activation=\"relu\",\n",
    "                          kernel_initializer=\"he_normal\"),\n",
    "    tf.keras.layers.Dropout(rate=0.2),\n",
    "    tf.keras.layers.Dense(100, activation=\"relu\",\n",
    "                          kernel_initializer=\"he_normal\"),\n",
    "    tf.keras.layers.Dropout(rate=0.2),\n",
    "    tf.keras.layers.Dense(10, activation=\"softmax\")\n",
    "])"
   ]
  },
  {
   "cell_type": "markdown",
   "metadata": {},
   "source": [
    "- **NOTE**: Since dropout is only active during training, comparing the training loss and the validation loss can be misleading.\n",
    "\n",
    "- In particular, a model may be overfitting the training set and yet have similar training and validation losses. So, make sure to evaluate the training loss without dropout (e.g., after training)."
   ]
  },
  {
   "cell_type": "markdown",
   "metadata": {
    "id": "2gOHY1mASz57"
   },
   "source": [
    "## MC Dropout\n",
    "\n",
    "- A powerful technique, which can boost the performance of any trained dropout model without having to retrain it or even modify it at all.\n",
    "\n",
    "- It also provides a much better measure of the model’s uncertainty, and it can be implemented in just a few lines of code."
   ]
  },
  {
   "cell_type": "code",
   "execution_count": null,
   "metadata": {
    "id": "M-nDv2STSz57"
   },
   "outputs": [],
   "source": [
    "y_probas = np.stack([model(X_test, training=True)\n",
    "                     for sample in range(100)])\n",
    "y_proba = y_probas.mean(axis=0)"
   ]
  },
  {
   "cell_type": "markdown",
   "metadata": {},
   "source": [
    "- Note that `model(X)` is similar to `model.predict(X)` except it returns a tensor rather than a NumPy array, and it supports the `training` argument.\n",
    "\n",
    "- Setting `training=True` ensures that the `Dropout` layer remains active, so all predictions will be a bit different.\n",
    "\n",
    "- We just make 100 predictions over the test set, and we compute their average.\n",
    "\n",
    "    - Each call to the model returns a matrix with one row per instance and one column per class. Because there are 10,000 instances in the test set and 10 classes, this is a matrix of shape \\[10000, 10\\].\n",
    "    \n",
    "    - We stack 100 such matrices, so `y_probas` is a 3D array of shape \\[100, 10000, 10\\].\n",
    "    \n",
    "    - Once we average over the first dimension (`axis=0`) we get `y_proba`, an array of shape \\[10000, 10\\], like we would get with a single prediction.\n",
    "    \n",
    "    - Averaging over multiple predictions with dropout turned on gives us **a Monte Carlo estimate** that is generally more reliable than the result of a single prediction with dropout turned off."
   ]
  },
  {
   "cell_type": "markdown",
   "metadata": {
    "id": "ilk1mmFbSz57",
    "outputId": "a172f932-2783-4ec1-bc36-2c53dacef7eb"
   },
   "source": [
    "`model.predict(X_test)`"
   ]
  },
  {
   "cell_type": "markdown",
   "metadata": {},
   "source": [
    "- MC dropout tends to improve the reliability of the model’s probability estimates. This means that it’s less likely to be confident but wrong, which can be dangerous: just imagine a self-driving car confidently ignoring a stop sign. \n",
    "\n",
    "- It’s also useful to know exactly which other classes are most likely. \n",
    "\n",
    "- Additionally, you can take a look at **the standard deviation of the probability estimates**:"
   ]
  },
  {
   "cell_type": "code",
   "execution_count": null,
   "metadata": {
    "id": "P2qlGtU7Sz58",
    "outputId": "5bb083ab-69b4-4bc1-f0b1-a28c01cf4b4e"
   },
   "outputs": [
    {
     "data": {
      "text/plain": [
       "array([0.   , 0.   , 0.   , 0.001, 0.   , 0.096, 0.   , 0.162, 0.001,\n",
       "       0.183], dtype=float32)"
      ]
     },
     "execution_count": 110,
     "metadata": {},
     "output_type": "execute_result"
    }
   ],
   "source": [
    "y_std = y_probas.std(axis=0)\n",
    "y_std[0].round(3)"
   ]
  },
  {
   "cell_type": "markdown",
   "metadata": {
    "id": "UPUZ44zQSz58",
    "outputId": "ea6e9587-76a5-4a73-817a-1d1f59772ed4"
   },
   "source": [
    "- If the model contains other layers that behave in a special way during training (such as `BatchNormalization` layers), then **you should not force training mode** like we just did.\n",
    "\n",
    "- Instead, you should replace the Dropout layers with the following `MCDropout` class:"
   ]
  },
  {
   "cell_type": "code",
   "execution_count": null,
   "metadata": {
    "id": "CR1eJo9qSz58"
   },
   "outputs": [],
   "source": [
    "class MCDropout(tf.keras.layers.Dropout):\n",
    "    # subclass the Dropout layer\n",
    "    # override the call() method to force training argument to True\n",
    "    def call(self, inputs, training=None):\n",
    "        return super().call(inputs, training=True)"
   ]
  },
  {
   "cell_type": "code",
   "execution_count": null,
   "metadata": {
    "id": "Fo9fC7qrSz58"
   },
   "outputs": [],
   "source": [
    "# how to convert Dropout to MCDropout in a Sequential model\n",
    "Dropout = tf.keras.layers.Dropout\n",
    "mc_model = tf.keras.Sequential([\n",
    "    MCDropout(layer.rate) if isinstance(layer, Dropout) else layer\n",
    "        for layer in model.layers\n",
    "])\n",
    "mc_model.set_weights(model.get_weights())"
   ]
  },
  {
   "cell_type": "markdown",
   "metadata": {
    "id": "LP3HAvxGSz58"
   },
   "source": [
    "Now we can use the model with MC Dropout:"
   ]
  },
  {
   "cell_type": "code",
   "execution_count": null,
   "metadata": {
    "id": "s8G59UwfSz58",
    "outputId": "edab196b-b5d7-4e1e-dcde-7efa15bed665"
   },
   "outputs": [
    {
     "data": {
      "text/plain": [
       "array([[0.  , 0.  , 0.  , 0.  , 0.  , 0.07, 0.  , 0.17, 0.  , 0.76]],\n",
       "      dtype=float32)"
      ]
     },
     "execution_count": 115,
     "metadata": {},
     "output_type": "execute_result"
    }
   ],
   "source": [
    "# the model works without retraining\n",
    "np.mean([mc_model.predict(X_test[:1])\n",
    "         for sample in range(100)], axis=0).round(2)"
   ]
  },
  {
   "cell_type": "markdown",
   "metadata": {
    "id": "XKgnoQwaSz59"
   },
   "source": [
    "## Max norm\n",
    "\n",
    "- A regularization technique that contrains the weights $\\mathbf w$ of the incoming connection such that $\\Vert\\mathbf w\\Vert_2\\leq r$, where $r$ is the max-norm hyperparameter.\n",
    "\n",
    "- Max-norm does **not** add a regularization loss term to the overall loss function.\n",
    "\n",
    "- It is implemented by computing $\\Vert\\mathbf w \\Vert_2$ after each training step and rescaling if needed: $\\mathbf w \\leftarrow \\frac{\\mathbf w}{\\Vert\\mathbf w \\Vert_2}r$"
   ]
  },
  {
   "cell_type": "code",
   "execution_count": null,
   "metadata": {
    "id": "wJDjbL0xSz59"
   },
   "outputs": [],
   "source": [
    "dense = tf.keras.layers.Dense(\n",
    "    100, activation=\"relu\", kernel_initializer=\"he_normal\",\n",
    "    kernel_constraint=tf.keras.constraints.max_norm(1.))"
   ]
  },
  {
   "cell_type": "code",
   "execution_count": 68,
   "metadata": {
    "id": "Jm0yHRG-Sz59",
    "outputId": "49d04b8b-dfc1-4ff4-ee97-9e73dff23759"
   },
   "outputs": [],
   "source": [
    "# how to apply max norm to every hidden layer in a model\n",
    "\n",
    "MaxNormDense = partial(tf.keras.layers.Dense,\n",
    "                       activation=\"relu\", kernel_initializer=\"he_normal\",\n",
    "                       kernel_constraint=tf.keras.constraints.max_norm(1.))\n",
    "\n",
    "model = tf.keras.Sequential([\n",
    "    tf.keras.layers.Flatten(input_shape=[28, 28]),\n",
    "    MaxNormDense(100),\n",
    "    MaxNormDense(100),\n",
    "    tf.keras.layers.Dense(10, activation=\"softmax\")\n",
    "])"
   ]
  },
  {
   "cell_type": "code",
   "execution_count": null,
   "metadata": {},
   "outputs": [],
   "source": []
  },
  {
   "cell_type": "code",
   "execution_count": null,
   "metadata": {},
   "outputs": [],
   "source": []
  },
  {
   "cell_type": "code",
   "execution_count": null,
   "metadata": {},
   "outputs": [],
   "source": []
  },
  {
   "cell_type": "code",
   "execution_count": null,
   "metadata": {},
   "outputs": [],
   "source": []
  },
  {
   "cell_type": "code",
   "execution_count": null,
   "metadata": {},
   "outputs": [],
   "source": []
  },
  {
   "cell_type": "markdown",
   "metadata": {
    "id": "OpLgGaLoSz59"
   },
   "source": [
    "# Exercises"
   ]
  },
  {
   "cell_type": "markdown",
   "metadata": {
    "id": "85gcKEgfSz5-"
   },
   "source": [
    "## 1. to 7."
   ]
  },
  {
   "cell_type": "markdown",
   "metadata": {
    "id": "K5KzsOQbSz5-"
   },
   "source": [
    "1. Glorot initialization and He initialization were designed to make the output standard deviation as close as possible to the input standard deviation, at least at the beginning of training. This reduces the vanishing/exploding gradients problem.\n",
    "2. No, all weights should be sampled independently; they should not all have the same initial value. One important goal of sampling weights randomly is to break symmetry: if all the weights have the same initial value, even if that value is not zero, then symmetry is not broken (i.e., all neurons in a given layer are equivalent), and backpropagation will be unable to break it. Concretely, this means that all the neurons in any given layer will always have the same weights. It's like having just one neuron per layer, and much slower. It is virtually impossible for such a configuration to converge to a good solution.\n",
    "3. It is perfectly fine to initialize the bias terms to zero. Some people like to initialize them just like weights, and that's OK too; it does not make much difference.\n",
    "4. ReLU is usually a good default for the hidden layers, as it is fast and yields good results. Its ability to output precisely zero can also be useful in some cases (e.g., see Chapter 17). Moreover, it can sometimes benefit from optimized implementations as well as from hardware acceleration. The leaky ReLU variants of ReLU can improve the model's quality without hindering its speed too much compared to ReLU. For large neural nets and more complex problems, GLU, Swish and Mish can give you a slightly higher quality model, but they have a computational cost. The hyperbolic tangent (tanh) can be useful in the output layer if you need to output a number in a fixed range (by default between –1 and 1), but nowadays it is not used much in hidden layers, except in recurrent nets. The sigmoid activation function is also useful in the output layer when you need to estimate a probability (e.g., for binary classification), but it is rarely used in hidden layers (there are exceptions—for example, for the coding layer of variational autoencoders; see Chapter 17). The softplus activation function is useful in the output layer when you need to ensure that the output will always be positive. The softmax activation function is useful in the output layer to estimate probabilities for mutually exclusive classes, but it is rarely (if ever) used in hidden layers.\n",
    "5. If you set the `momentum` hyperparameter too close to 1 (e.g., 0.99999) when using an `SGD` optimizer, then the algorithm will likely pick up a lot of speed, hopefully moving roughly toward the global minimum, but its momentum will carry it right past the minimum. Then it will slow down and come back, accelerate again, overshoot again, and so on. It may oscillate this way many times before converging, so overall it will take much longer to converge than with a smaller `momentum` value.\n",
    "6. One way to produce a sparse model (i.e., with most weights equal to zero) is to train the model normally, then zero out tiny weights. For more sparsity, you can apply ℓ<sub>1</sub> regularization during training, which pushes the optimizer toward sparsity. A third option is to use the TensorFlow Model Optimization Toolkit.\n",
    "7. Yes, dropout does slow down training, in general roughly by a factor of two. However, it has no impact on inference speed since it is only turned on during training. MC Dropout is exactly like dropout during training, but it is still active during inference, so each inference is slowed down slightly. More importantly, when using MC Dropout you generally want to run inference 10 times or more to get better predictions. This means that making predictions is slowed down by a factor of 10 or more."
   ]
  },
  {
   "cell_type": "markdown",
   "metadata": {
    "id": "rOyNNAmASz5-"
   },
   "source": [
    "## 8. Deep Learning on CIFAR10"
   ]
  },
  {
   "cell_type": "markdown",
   "metadata": {
    "id": "2QvnglAlSz5-"
   },
   "source": [
    "### a.\n",
    "*Exercise: Build a DNN with 20 hidden layers of 100 neurons each (that's too many, but it's the point of this exercise). Use He initialization and the Swish activation function.*"
   ]
  },
  {
   "cell_type": "code",
   "execution_count": null,
   "metadata": {
    "id": "oJ8fySksSz5-"
   },
   "outputs": [],
   "source": [
    "tf.random.set_seed(42)\n",
    "\n",
    "model = tf.keras.Sequential()\n",
    "model.add(tf.keras.layers.Flatten(input_shape=[32, 32, 3]))\n",
    "for _ in range(20):\n",
    "    model.add(tf.keras.layers.Dense(100,\n",
    "                                    activation=\"swish\",\n",
    "                                    kernel_initializer=\"he_normal\"))"
   ]
  },
  {
   "cell_type": "markdown",
   "metadata": {
    "id": "0UJSO8CTSz5_"
   },
   "source": [
    "### b.\n",
    "*Exercise: Using Nadam optimization and early stopping, train the network on the CIFAR10 dataset. You can load it with `tf.keras.datasets.cifar10.load_data()`. The dataset is composed of 60,000 32 × 32–pixel color images (50,000 for training, 10,000 for testing) with 10 classes, so you'll need a softmax output layer with 10 neurons. Remember to search for the right learning rate each time you change the model's architecture or hyperparameters.*"
   ]
  },
  {
   "cell_type": "markdown",
   "metadata": {
    "id": "W3xvM_i0Sz5_"
   },
   "source": [
    "Let's add the output layer to the model:"
   ]
  },
  {
   "cell_type": "code",
   "execution_count": null,
   "metadata": {
    "id": "UdVbZV-9Sz5_"
   },
   "outputs": [],
   "source": [
    "model.add(tf.keras.layers.Dense(10, activation=\"softmax\"))"
   ]
  },
  {
   "cell_type": "markdown",
   "metadata": {
    "id": "s6aDC4kKSz5_"
   },
   "source": [
    "Let's use a Nadam optimizer with a learning rate of 5e-5. I tried learning rates 1e-5, 3e-5, 1e-4, 3e-4, 1e-3, 3e-3 and 1e-2, and I compared their learning curves for 10 epochs each (using the TensorBoard callback, below). The learning rates 3e-5 and 1e-4 were pretty good, so I tried 5e-5, which turned out to be slightly better."
   ]
  },
  {
   "cell_type": "code",
   "execution_count": null,
   "metadata": {
    "id": "XDM68MyaSz5_"
   },
   "outputs": [],
   "source": [
    "optimizer = tf.keras.optimizers.Nadam(learning_rate=5e-5)\n",
    "model.compile(loss=\"sparse_categorical_crossentropy\",\n",
    "              optimizer=optimizer,\n",
    "              metrics=[\"accuracy\"])"
   ]
  },
  {
   "cell_type": "markdown",
   "metadata": {
    "id": "k1A-JLMtSz5_"
   },
   "source": [
    "Let's load the CIFAR10 dataset. We also want to use early stopping, so we need a validation set. Let's use the first 5,000 images of the original training set as the validation set:"
   ]
  },
  {
   "cell_type": "code",
   "execution_count": null,
   "metadata": {
    "id": "cS5RdW57Sz6A"
   },
   "outputs": [],
   "source": [
    "cifar10 = tf.keras.datasets.cifar10.load_data()\n",
    "(X_train_full, y_train_full), (X_test, y_test) = cifar10\n",
    "\n",
    "X_train = X_train_full[5000:]\n",
    "y_train = y_train_full[5000:]\n",
    "X_valid = X_train_full[:5000]\n",
    "y_valid = y_train_full[:5000]"
   ]
  },
  {
   "cell_type": "markdown",
   "metadata": {
    "id": "dh0XGuXCSz6A"
   },
   "source": [
    "Now we can create the callbacks we need and train the model:"
   ]
  },
  {
   "cell_type": "code",
   "execution_count": null,
   "metadata": {
    "id": "Y4ZIwywjSz6A"
   },
   "outputs": [],
   "source": [
    "early_stopping_cb = tf.keras.callbacks.EarlyStopping(patience=20,\n",
    "                                                     restore_best_weights=True)\n",
    "model_checkpoint_cb = tf.keras.callbacks.ModelCheckpoint(\"my_cifar10_model\",\n",
    "                                                         save_best_only=True)\n",
    "run_index = 1 # increment every time you train the model\n",
    "run_logdir = Path() / \"my_cifar10_logs\" / f\"run_{run_index:03d}\"\n",
    "tensorboard_cb = tf.keras.callbacks.TensorBoard(run_logdir)\n",
    "callbacks = [early_stopping_cb, model_checkpoint_cb, tensorboard_cb]"
   ]
  },
  {
   "cell_type": "code",
   "execution_count": null,
   "metadata": {
    "id": "txCldHAHSz6A",
    "outputId": "8f2dcdba-33e2-4d64-c6eb-d310d895681e"
   },
   "outputs": [
    {
     "data": {
      "text/html": [
       "\n",
       "      <iframe id=\"tensorboard-frame-d05c16b556c70d97\" width=\"100%\" height=\"800\" frameborder=\"0\">\n",
       "      </iframe>\n",
       "      <script>\n",
       "        (function() {\n",
       "          const frame = document.getElementById(\"tensorboard-frame-d05c16b556c70d97\");\n",
       "          const url = new URL(\"/\", window.location);\n",
       "          const port = 6006;\n",
       "          if (port) {\n",
       "            url.port = port;\n",
       "          }\n",
       "          frame.src = url;\n",
       "        })();\n",
       "      </script>\n",
       "    "
      ],
      "text/plain": [
       "<IPython.core.display.HTML object>"
      ]
     },
     "metadata": {},
     "output_type": "display_data"
    }
   ],
   "source": [
    "%load_ext tensorboard\n",
    "%tensorboard --logdir=./my_cifar10_logs"
   ]
  },
  {
   "cell_type": "code",
   "execution_count": null,
   "metadata": {
    "id": "bkE6DacYSz6A",
    "outputId": "1275ca07-7fc9-4d1a-9a63-6bb28f1191ba"
   },
   "outputs": [
    {
     "name": "stdout",
     "output_type": "stream",
     "text": [
      "Epoch 1/100\n",
      "1404/1407 [============================>.] - ETA: 0s - loss: 4.0493 - accuracy: 0.1598INFO:tensorflow:Assets written to: my_cifar10_model/assets\n",
      "1407/1407 [==============================] - 17s 10ms/step - loss: 4.0462 - accuracy: 0.1597 - val_loss: 2.1441 - val_accuracy: 0.2036\n",
      "Epoch 2/100\n",
      "1407/1407 [==============================] - ETA: 0s - loss: 2.0667 - accuracy: 0.2320INFO:tensorflow:Assets written to: my_cifar10_model/assets\n",
      "1407/1407 [==============================] - 12s 9ms/step - loss: 2.0667 - accuracy: 0.2320 - val_loss: 2.0134 - val_accuracy: 0.2472\n",
      "Epoch 3/100\n",
      "1407/1407 [==============================] - ETA: 0s - loss: 1.9472 - accuracy: 0.2819INFO:tensorflow:Assets written to: my_cifar10_model/assets\n",
      "1407/1407 [==============================] - 14s 10ms/step - loss: 1.9472 - accuracy: 0.2819 - val_loss: 1.9427 - val_accuracy: 0.2796\n",
      "Epoch 4/100\n",
      "1405/1407 [============================>.] - ETA: 0s - loss: 1.8636 - accuracy: 0.3182INFO:tensorflow:Assets written to: my_cifar10_model/assets\n",
      "1407/1407 [==============================] - 14s 10ms/step - loss: 1.8637 - accuracy: 0.3182 - val_loss: 1.8934 - val_accuracy: 0.3222\n",
      "Epoch 5/100\n",
      "1402/1407 [============================>.] - ETA: 0s - loss: 1.7975 - accuracy: 0.3464INFO:tensorflow:Assets written to: my_cifar10_model/assets\n",
      "1407/1407 [==============================] - 14s 10ms/step - loss: 1.7974 - accuracy: 0.3465 - val_loss: 1.8389 - val_accuracy: 0.3284\n",
      "Epoch 6/100\n",
      "1407/1407 [==============================] - 9s 7ms/step - loss: 1.7446 - accuracy: 0.3664 - val_loss: 2.0006 - val_accuracy: 0.3030\n",
      "Epoch 7/100\n",
      "1407/1407 [==============================] - ETA: 0s - loss: 1.6974 - accuracy: 0.3852INFO:tensorflow:Assets written to: my_cifar10_model/assets\n",
      "1407/1407 [==============================] - 12s 8ms/step - loss: 1.6974 - accuracy: 0.3852 - val_loss: 1.7075 - val_accuracy: 0.3738\n",
      "Epoch 8/100\n",
      "1405/1407 [============================>.] - ETA: 0s - loss: 1.6605 - accuracy: 0.3984INFO:tensorflow:Assets written to: my_cifar10_model/assets\n",
      "1407/1407 [==============================] - 12s 8ms/step - loss: 1.6604 - accuracy: 0.3984 - val_loss: 1.6788 - val_accuracy: 0.3836\n",
      "Epoch 9/100\n",
      "1405/1407 [============================>.] - ETA: 0s - loss: 1.6322 - accuracy: 0.4114INFO:tensorflow:Assets written to: my_cifar10_model/assets\n",
      "1407/1407 [==============================] - 14s 10ms/step - loss: 1.6321 - accuracy: 0.4114 - val_loss: 1.6477 - val_accuracy: 0.4014\n",
      "Epoch 10/100\n",
      "1407/1407 [==============================] - 12s 8ms/step - loss: 1.6065 - accuracy: 0.4205 - val_loss: 1.6623 - val_accuracy: 0.3980\n",
      "Epoch 11/100\n",
      "1401/1407 [============================>.] - ETA: 0s - loss: 1.5843 - accuracy: 0.4287INFO:tensorflow:Assets written to: my_cifar10_model/assets\n",
      "1407/1407 [==============================] - 14s 10ms/step - loss: 1.5845 - accuracy: 0.4285 - val_loss: 1.6032 - val_accuracy: 0.4198\n",
      "Epoch 12/100\n",
      "1407/1407 [==============================] - 9s 6ms/step - loss: 1.5634 - accuracy: 0.4367 - val_loss: 1.6063 - val_accuracy: 0.4258\n",
      "Epoch 13/100\n",
      "1401/1407 [============================>.] - ETA: 0s - loss: 1.5443 - accuracy: 0.4420INFO:tensorflow:Assets written to: my_cifar10_model/assets\n",
      "<<47 more lines>>\n",
      "1407/1407 [==============================] - 12s 8ms/step - loss: 1.3247 - accuracy: 0.5256 - val_loss: 1.5130 - val_accuracy: 0.4616\n",
      "Epoch 33/100\n",
      "1407/1407 [==============================] - 13s 9ms/step - loss: 1.3164 - accuracy: 0.5286 - val_loss: 1.5284 - val_accuracy: 0.4686\n",
      "Epoch 34/100\n",
      "1407/1407 [==============================] - 12s 9ms/step - loss: 1.3091 - accuracy: 0.5303 - val_loss: 1.5208 - val_accuracy: 0.4682\n",
      "Epoch 35/100\n",
      "1407/1407 [==============================] - 12s 8ms/step - loss: 1.3026 - accuracy: 0.5319 - val_loss: 1.5479 - val_accuracy: 0.4604\n",
      "Epoch 36/100\n",
      "1407/1407 [==============================] - 11s 8ms/step - loss: 1.2930 - accuracy: 0.5378 - val_loss: 1.5443 - val_accuracy: 0.4580\n",
      "Epoch 37/100\n",
      "1407/1407 [==============================] - 12s 8ms/step - loss: 1.2833 - accuracy: 0.5406 - val_loss: 1.5165 - val_accuracy: 0.4710\n",
      "Epoch 38/100\n",
      "1407/1407 [==============================] - 11s 8ms/step - loss: 1.2763 - accuracy: 0.5433 - val_loss: 1.5345 - val_accuracy: 0.4672\n",
      "Epoch 39/100\n",
      "1407/1407 [==============================] - 12s 9ms/step - loss: 1.2687 - accuracy: 0.5437 - val_loss: 1.5162 - val_accuracy: 0.4712\n",
      "Epoch 40/100\n",
      "1407/1407 [==============================] - 11s 7ms/step - loss: 1.2623 - accuracy: 0.5490 - val_loss: 1.5717 - val_accuracy: 0.4566\n",
      "Epoch 41/100\n",
      "1407/1407 [==============================] - 14s 10ms/step - loss: 1.2580 - accuracy: 0.5467 - val_loss: 1.5296 - val_accuracy: 0.4738\n",
      "Epoch 42/100\n",
      "1407/1407 [==============================] - 13s 9ms/step - loss: 1.2469 - accuracy: 0.5532 - val_loss: 1.5179 - val_accuracy: 0.4690\n",
      "Epoch 43/100\n",
      "1407/1407 [==============================] - 11s 8ms/step - loss: 1.2404 - accuracy: 0.5542 - val_loss: 1.5542 - val_accuracy: 0.4566\n",
      "Epoch 44/100\n",
      "1407/1407 [==============================] - 12s 8ms/step - loss: 1.2292 - accuracy: 0.5605 - val_loss: 1.5536 - val_accuracy: 0.4608\n",
      "Epoch 45/100\n",
      "1407/1407 [==============================] - 12s 9ms/step - loss: 1.2276 - accuracy: 0.5606 - val_loss: 1.5522 - val_accuracy: 0.4624\n",
      "Epoch 46/100\n",
      "1407/1407 [==============================] - 13s 9ms/step - loss: 1.2200 - accuracy: 0.5637 - val_loss: 1.5339 - val_accuracy: 0.4794\n",
      "Epoch 47/100\n",
      "1407/1407 [==============================] - 13s 9ms/step - loss: 1.2080 - accuracy: 0.5677 - val_loss: 1.5451 - val_accuracy: 0.4688\n",
      "Epoch 48/100\n",
      "1407/1407 [==============================] - 15s 10ms/step - loss: 1.2050 - accuracy: 0.5675 - val_loss: 1.5209 - val_accuracy: 0.4770\n",
      "Epoch 49/100\n",
      "1407/1407 [==============================] - 10s 7ms/step - loss: 1.1947 - accuracy: 0.5718 - val_loss: 1.5435 - val_accuracy: 0.4736\n"
     ]
    },
    {
     "data": {
      "text/plain": [
       "<keras.callbacks.History at 0x7fb9f02fc070>"
      ]
     },
     "execution_count": 124,
     "metadata": {},
     "output_type": "execute_result"
    }
   ],
   "source": [
    "model.fit(X_train, y_train, epochs=100,\n",
    "          validation_data=(X_valid, y_valid),\n",
    "          callbacks=callbacks)"
   ]
  },
  {
   "cell_type": "code",
   "execution_count": null,
   "metadata": {
    "id": "paGJKxnbSz6A",
    "outputId": "5fb15fbe-c9f0-4c4a-f0c0-fd3ab82c3612"
   },
   "outputs": [
    {
     "name": "stdout",
     "output_type": "stream",
     "text": [
      "157/157 [==============================] - 0s 2ms/step - loss: 1.5062 - accuracy: 0.4676\n"
     ]
    },
    {
     "data": {
      "text/plain": [
       "[1.5061508417129517, 0.4675999879837036]"
      ]
     },
     "execution_count": 125,
     "metadata": {},
     "output_type": "execute_result"
    }
   ],
   "source": [
    "model.evaluate(X_valid, y_valid)"
   ]
  },
  {
   "cell_type": "markdown",
   "metadata": {
    "id": "9QCr36HsSz6A"
   },
   "source": [
    "The model with the lowest validation loss gets about 46.8% accuracy on the validation set. It took 29 epochs to reach the lowest validation loss, with roughly 10 seconds per epoch on my laptop (without a GPU). Let's see if we can improve the model using Batch Normalization."
   ]
  },
  {
   "cell_type": "markdown",
   "metadata": {
    "id": "9dfMN1L0Sz6B"
   },
   "source": [
    "### c.\n",
    "*Exercise: Now try adding Batch Normalization and compare the learning curves: Is it converging faster than before? Does it produce a better model? How does it affect training speed?*"
   ]
  },
  {
   "cell_type": "markdown",
   "metadata": {
    "id": "YspmAmTvSz6B"
   },
   "source": [
    "The code below is very similar to the code above, with a few changes:\n",
    "\n",
    "* I added a BN layer after every Dense layer (before the activation function), except for the output layer.\n",
    "* I changed the learning rate to 5e-4. I experimented with 1e-5, 3e-5, 5e-5, 1e-4, 3e-4, 5e-4, 1e-3 and 3e-3, and I chose the one with the best validation performance after 20 epochs.\n",
    "* I renamed the run directories to run_bn_* and the model file name to `my_cifar10_bn_model`."
   ]
  },
  {
   "cell_type": "code",
   "execution_count": null,
   "metadata": {
    "id": "JtEtO77SSz6B",
    "outputId": "0815210e-9c69-47b1-ca58-875a208f6815"
   },
   "outputs": [
    {
     "name": "stdout",
     "output_type": "stream",
     "text": [
      "Epoch 1/100\n",
      "1403/1407 [============================>.] - ETA: 0s - loss: 2.0377 - accuracy: 0.2523INFO:tensorflow:Assets written to: my_cifar10_bn_model/assets\n",
      "1407/1407 [==============================] - 32s 18ms/step - loss: 2.0374 - accuracy: 0.2525 - val_loss: 1.8766 - val_accuracy: 0.3154\n",
      "Epoch 2/100\n",
      "1407/1407 [==============================] - 17s 12ms/step - loss: 1.7874 - accuracy: 0.3542 - val_loss: 1.8784 - val_accuracy: 0.3268\n",
      "Epoch 3/100\n",
      "1407/1407 [==============================] - 20s 15ms/step - loss: 1.6806 - accuracy: 0.3969 - val_loss: 1.9764 - val_accuracy: 0.3252\n",
      "Epoch 4/100\n",
      "1403/1407 [============================>.] - ETA: 0s - loss: 1.6111 - accuracy: 0.4229INFO:tensorflow:Assets written to: my_cifar10_bn_model/assets\n",
      "1407/1407 [==============================] - 24s 17ms/step - loss: 1.6112 - accuracy: 0.4228 - val_loss: 1.7087 - val_accuracy: 0.3750\n",
      "Epoch 5/100\n",
      "1402/1407 [============================>.] - ETA: 0s - loss: 1.5520 - accuracy: 0.4478INFO:tensorflow:Assets written to: my_cifar10_bn_model/assets\n",
      "1407/1407 [==============================] - 21s 15ms/step - loss: 1.5521 - accuracy: 0.4476 - val_loss: 1.6272 - val_accuracy: 0.4176\n",
      "Epoch 6/100\n",
      "1406/1407 [============================>.] - ETA: 0s - loss: 1.5030 - accuracy: 0.4659INFO:tensorflow:Assets written to: my_cifar10_bn_model/assets\n",
      "1407/1407 [==============================] - 23s 16ms/step - loss: 1.5030 - accuracy: 0.4660 - val_loss: 1.5401 - val_accuracy: 0.4452\n",
      "Epoch 7/100\n",
      "1407/1407 [==============================] - 15s 11ms/step - loss: 1.4559 - accuracy: 0.4812 - val_loss: 1.6990 - val_accuracy: 0.3952\n",
      "Epoch 8/100\n",
      "1403/1407 [============================>.] - ETA: 0s - loss: 1.4169 - accuracy: 0.4987INFO:tensorflow:Assets written to: my_cifar10_bn_model/assets\n",
      "1407/1407 [==============================] - 21s 15ms/step - loss: 1.4168 - accuracy: 0.4987 - val_loss: 1.5078 - val_accuracy: 0.4652\n",
      "Epoch 9/100\n",
      "1407/1407 [==============================] - 15s 11ms/step - loss: 1.3863 - accuracy: 0.5123 - val_loss: 1.5513 - val_accuracy: 0.4470\n",
      "Epoch 10/100\n",
      "1407/1407 [==============================] - 17s 12ms/step - loss: 1.3514 - accuracy: 0.5216 - val_loss: 1.5208 - val_accuracy: 0.4562\n",
      "Epoch 11/100\n",
      "1407/1407 [==============================] - 16s 12ms/step - loss: 1.3220 - accuracy: 0.5314 - val_loss: 1.7301 - val_accuracy: 0.4206\n",
      "Epoch 12/100\n",
      "1404/1407 [============================>.] - ETA: 0s - loss: 1.2933 - accuracy: 0.5410INFO:tensorflow:Assets written to: my_cifar10_bn_model/assets\n",
      "1407/1407 [==============================] - 25s 18ms/step - loss: 1.2931 - accuracy: 0.5410 - val_loss: 1.4909 - val_accuracy: 0.4734\n",
      "Epoch 13/100\n",
      "1407/1407 [==============================] - 16s 11ms/step - loss: 1.2702 - accuracy: 0.5490 - val_loss: 1.5256 - val_accuracy: 0.4636\n",
      "Epoch 14/100\n",
      "1407/1407 [==============================] - 17s 12ms/step - loss: 1.2424 - accuracy: 0.5591 - val_loss: 1.5569 - val_accuracy: 0.4624\n",
      "Epoch 15/100\n",
      "<<12 more lines>>\n",
      "Epoch 21/100\n",
      "1407/1407 [==============================] - 15s 11ms/step - loss: 1.1174 - accuracy: 0.6066 - val_loss: 1.5241 - val_accuracy: 0.4828\n",
      "Epoch 22/100\n",
      "1407/1407 [==============================] - 18s 13ms/step - loss: 1.0978 - accuracy: 0.6128 - val_loss: 1.5313 - val_accuracy: 0.4772\n",
      "Epoch 23/100\n",
      "1407/1407 [==============================] - 17s 12ms/step - loss: 1.0844 - accuracy: 0.6198 - val_loss: 1.4993 - val_accuracy: 0.4924\n",
      "Epoch 24/100\n",
      "1407/1407 [==============================] - 17s 12ms/step - loss: 1.0677 - accuracy: 0.6244 - val_loss: 1.4622 - val_accuracy: 0.5078\n",
      "Epoch 25/100\n",
      "1407/1407 [==============================] - 18s 13ms/step - loss: 1.0571 - accuracy: 0.6297 - val_loss: 1.4917 - val_accuracy: 0.4990\n",
      "Epoch 26/100\n",
      "1407/1407 [==============================] - 19s 14ms/step - loss: 1.0395 - accuracy: 0.6327 - val_loss: 1.4888 - val_accuracy: 0.4896\n",
      "Epoch 27/100\n",
      "1407/1407 [==============================] - 18s 13ms/step - loss: 1.0298 - accuracy: 0.6370 - val_loss: 1.5358 - val_accuracy: 0.5024\n",
      "Epoch 28/100\n",
      "1407/1407 [==============================] - 18s 13ms/step - loss: 1.0150 - accuracy: 0.6444 - val_loss: 1.5219 - val_accuracy: 0.5030\n",
      "Epoch 29/100\n",
      "1407/1407 [==============================] - 16s 12ms/step - loss: 1.0100 - accuracy: 0.6456 - val_loss: 1.4933 - val_accuracy: 0.5098\n",
      "Epoch 30/100\n",
      "1407/1407 [==============================] - 20s 14ms/step - loss: 0.9956 - accuracy: 0.6492 - val_loss: 1.4756 - val_accuracy: 0.5012\n",
      "Epoch 31/100\n",
      "1407/1407 [==============================] - 16s 11ms/step - loss: 0.9787 - accuracy: 0.6576 - val_loss: 1.5181 - val_accuracy: 0.4936\n",
      "Epoch 32/100\n",
      "1407/1407 [==============================] - 17s 12ms/step - loss: 0.9710 - accuracy: 0.6565 - val_loss: 1.7510 - val_accuracy: 0.4568\n",
      "Epoch 33/100\n",
      "1407/1407 [==============================] - 20s 14ms/step - loss: 0.9613 - accuracy: 0.6628 - val_loss: 1.5576 - val_accuracy: 0.4910\n",
      "Epoch 34/100\n",
      "1407/1407 [==============================] - 19s 14ms/step - loss: 0.9530 - accuracy: 0.6651 - val_loss: 1.5087 - val_accuracy: 0.5046\n",
      "Epoch 35/100\n",
      "1407/1407 [==============================] - 19s 13ms/step - loss: 0.9388 - accuracy: 0.6701 - val_loss: 1.5534 - val_accuracy: 0.4950\n",
      "Epoch 36/100\n",
      "1407/1407 [==============================] - 17s 12ms/step - loss: 0.9331 - accuracy: 0.6743 - val_loss: 1.5033 - val_accuracy: 0.5046\n",
      "Epoch 37/100\n",
      "1407/1407 [==============================] - 19s 14ms/step - loss: 0.9144 - accuracy: 0.6808 - val_loss: 1.5679 - val_accuracy: 0.5028\n",
      "157/157 [==============================] - 0s 2ms/step - loss: 1.4236 - accuracy: 0.5074\n"
     ]
    },
    {
     "data": {
      "text/plain": [
       "[1.4236289262771606, 0.5073999762535095]"
      ]
     },
     "execution_count": 126,
     "metadata": {},
     "output_type": "execute_result"
    }
   ],
   "source": [
    "tf.random.set_seed(42)\n",
    "\n",
    "model = tf.keras.Sequential()\n",
    "model.add(tf.keras.layers.Flatten(input_shape=[32, 32, 3]))\n",
    "for _ in range(20):\n",
    "    model.add(tf.keras.layers.Dense(100, kernel_initializer=\"he_normal\"))\n",
    "    model.add(tf.keras.layers.BatchNormalization())\n",
    "    model.add(tf.keras.layers.Activation(\"swish\"))\n",
    "\n",
    "model.add(tf.keras.layers.Dense(10, activation=\"softmax\"))\n",
    "\n",
    "optimizer = tf.keras.optimizers.Nadam(learning_rate=5e-4)\n",
    "model.compile(loss=\"sparse_categorical_crossentropy\",\n",
    "              optimizer=optimizer,\n",
    "              metrics=[\"accuracy\"])\n",
    "\n",
    "early_stopping_cb = tf.keras.callbacks.EarlyStopping(patience=20,\n",
    "                                                     restore_best_weights=True)\n",
    "model_checkpoint_cb = tf.keras.callbacks.ModelCheckpoint(\"my_cifar10_bn_model\",\n",
    "                                                         save_best_only=True)\n",
    "run_index = 1 # increment every time you train the model\n",
    "run_logdir = Path() / \"my_cifar10_logs\" / f\"run_bn_{run_index:03d}\"\n",
    "tensorboard_cb = tf.keras.callbacks.TensorBoard(run_logdir)\n",
    "callbacks = [early_stopping_cb, model_checkpoint_cb, tensorboard_cb]\n",
    "\n",
    "model.fit(X_train, y_train, epochs=100,\n",
    "          validation_data=(X_valid, y_valid),\n",
    "          callbacks=callbacks)\n",
    "\n",
    "model.evaluate(X_valid, y_valid)"
   ]
  },
  {
   "cell_type": "markdown",
   "metadata": {
    "id": "mMLdyex1Sz6B"
   },
   "source": [
    "* *Is the model converging faster than before?* Much faster! The previous model took 29 epochs to reach the lowest validation loss, while the new model achieved that same loss in just 12 epochs and continued to make progress until the 17th epoch. The BN layers stabilized training and allowed us to use a much larger learning rate, so convergence was faster.\n",
    "* *Does BN produce a better model?* Yes! The final model is also much better, with 50.7% validation accuracy instead of 46.7%. It's still not a very good model, but at least it's much better than before (a Convolutional Neural Network would do much better, but that's a different topic, see chapter 14).\n",
    "* *How does BN affect training speed?* Although the model converged much faster, each epoch took about 15s instead of 10s, because of the extra computations required by the BN layers. But overall the training time (wall time) to reach the best model was shortened by about 10%."
   ]
  },
  {
   "cell_type": "markdown",
   "metadata": {
    "id": "Uxr-yzedSz6B"
   },
   "source": [
    "### d.\n",
    "*Exercise: Try replacing Batch Normalization with SELU, and make the necessary adjustements to ensure the network self-normalizes (i.e., standardize the input features, use LeCun normal initialization, make sure the DNN contains only a sequence of dense layers, etc.).*"
   ]
  },
  {
   "cell_type": "code",
   "execution_count": null,
   "metadata": {
    "id": "DC3ekgMfSz6B",
    "outputId": "2431e42b-3f7c-4c3d-9e32-a3200e5010ad",
    "scrolled": true
   },
   "outputs": [
    {
     "name": "stdout",
     "output_type": "stream",
     "text": [
      "Epoch 1/100\n",
      "1403/1407 [============================>.] - ETA: 0s - loss: 1.9386 - accuracy: 0.3045INFO:tensorflow:Assets written to: my_cifar10_selu_model/assets\n",
      "1407/1407 [==============================] - 20s 13ms/step - loss: 1.9385 - accuracy: 0.3046 - val_loss: 1.8175 - val_accuracy: 0.3510\n",
      "Epoch 2/100\n",
      "1405/1407 [============================>.] - ETA: 0s - loss: 1.7241 - accuracy: 0.3869INFO:tensorflow:Assets written to: my_cifar10_selu_model/assets\n",
      "1407/1407 [==============================] - 16s 11ms/step - loss: 1.7241 - accuracy: 0.3869 - val_loss: 1.7677 - val_accuracy: 0.3614\n",
      "Epoch 3/100\n",
      "1407/1407 [==============================] - ETA: 0s - loss: 1.6272 - accuracy: 0.4263INFO:tensorflow:Assets written to: my_cifar10_selu_model/assets\n",
      "1407/1407 [==============================] - 18s 13ms/step - loss: 1.6272 - accuracy: 0.4263 - val_loss: 1.6878 - val_accuracy: 0.4054\n",
      "Epoch 4/100\n",
      "1406/1407 [============================>.] - ETA: 0s - loss: 1.5644 - accuracy: 0.4492INFO:tensorflow:Assets written to: my_cifar10_selu_model/assets\n",
      "1407/1407 [==============================] - 18s 13ms/step - loss: 1.5643 - accuracy: 0.4492 - val_loss: 1.6589 - val_accuracy: 0.4304\n",
      "Epoch 5/100\n",
      "1404/1407 [============================>.] - ETA: 0s - loss: 1.5080 - accuracy: 0.4712INFO:tensorflow:Assets written to: my_cifar10_selu_model/assets\n",
      "1407/1407 [==============================] - 16s 11ms/step - loss: 1.5080 - accuracy: 0.4712 - val_loss: 1.5651 - val_accuracy: 0.4538\n",
      "Epoch 6/100\n",
      "1404/1407 [============================>.] - ETA: 0s - loss: 1.4611 - accuracy: 0.4873INFO:tensorflow:Assets written to: my_cifar10_selu_model/assets\n",
      "1407/1407 [==============================] - 17s 12ms/step - loss: 1.4613 - accuracy: 0.4872 - val_loss: 1.5305 - val_accuracy: 0.4678\n",
      "Epoch 7/100\n",
      "1407/1407 [==============================] - 17s 12ms/step - loss: 1.4174 - accuracy: 0.5077 - val_loss: 1.5346 - val_accuracy: 0.4558\n",
      "Epoch 8/100\n",
      "1406/1407 [============================>.] - ETA: 0s - loss: 1.3781 - accuracy: 0.5175INFO:tensorflow:Assets written to: my_cifar10_selu_model/assets\n",
      "1407/1407 [==============================] - 17s 12ms/step - loss: 1.3781 - accuracy: 0.5175 - val_loss: 1.4773 - val_accuracy: 0.4882\n",
      "Epoch 9/100\n",
      "1407/1407 [==============================] - 16s 11ms/step - loss: 1.3413 - accuracy: 0.5345 - val_loss: 1.5021 - val_accuracy: 0.4764\n",
      "Epoch 10/100\n",
      "1407/1407 [==============================] - 15s 10ms/step - loss: 1.3182 - accuracy: 0.5422 - val_loss: 1.5709 - val_accuracy: 0.4762\n",
      "Epoch 11/100\n",
      "1407/1407 [==============================] - 15s 11ms/step - loss: 1.2832 - accuracy: 0.5571 - val_loss: 1.5345 - val_accuracy: 0.4868\n",
      "Epoch 12/100\n",
      "1407/1407 [==============================] - 15s 11ms/step - loss: 1.2557 - accuracy: 0.5667 - val_loss: 1.5024 - val_accuracy: 0.4900\n",
      "Epoch 13/100\n",
      "1407/1407 [==============================] - 15s 11ms/step - loss: 1.2373 - accuracy: 0.5710 - val_loss: 1.5114 - val_accuracy: 0.5028\n",
      "Epoch 14/100\n",
      "1404/1407 [============================>.] - ETA: 0s - loss: 1.2071 - accuracy: 0.5846INFO:tensorflow:Assets written to: my_cifar10_selu_model/assets\n",
      "1407/1407 [==============================] - 17s 12ms/step - loss: 1.2073 - accuracy: 0.5847 - val_loss: 1.4608 - val_accuracy: 0.5026\n",
      "Epoch 15/100\n",
      "1407/1407 [==============================] - 16s 11ms/step - loss: 1.1843 - accuracy: 0.5940 - val_loss: 1.4962 - val_accuracy: 0.5038\n",
      "Epoch 16/100\n",
      "1407/1407 [==============================] - 16s 12ms/step - loss: 1.1617 - accuracy: 0.6026 - val_loss: 1.5255 - val_accuracy: 0.5062\n",
      "Epoch 17/100\n",
      "1407/1407 [==============================] - 16s 11ms/step - loss: 1.1452 - accuracy: 0.6084 - val_loss: 1.5057 - val_accuracy: 0.5036\n",
      "Epoch 18/100\n",
      "1407/1407 [==============================] - 17s 12ms/step - loss: 1.1297 - accuracy: 0.6145 - val_loss: 1.5097 - val_accuracy: 0.5010\n",
      "Epoch 19/100\n",
      "1407/1407 [==============================] - 16s 12ms/step - loss: 1.1004 - accuracy: 0.6245 - val_loss: 1.5218 - val_accuracy: 0.5014\n",
      "Epoch 20/100\n",
      "1407/1407 [==============================] - 15s 11ms/step - loss: 1.0971 - accuracy: 0.6304 - val_loss: 1.5253 - val_accuracy: 0.5090\n",
      "Epoch 21/100\n",
      "1407/1407 [==============================] - 16s 11ms/step - loss: 1.0670 - accuracy: 0.6345 - val_loss: 1.5006 - val_accuracy: 0.5034\n",
      "Epoch 22/100\n",
      "1407/1407 [==============================] - 16s 11ms/step - loss: 1.0544 - accuracy: 0.6407 - val_loss: 1.5244 - val_accuracy: 0.5010\n",
      "Epoch 23/100\n",
      "1407/1407 [==============================] - 15s 11ms/step - loss: 1.0338 - accuracy: 0.6502 - val_loss: 1.5355 - val_accuracy: 0.5096\n",
      "Epoch 24/100\n",
      "1407/1407 [==============================] - 14s 10ms/step - loss: 1.0281 - accuracy: 0.6514 - val_loss: 1.5257 - val_accuracy: 0.5164\n",
      "Epoch 25/100\n",
      "1407/1407 [==============================] - 14s 10ms/step - loss: 1.4097 - accuracy: 0.6478 - val_loss: 1.8203 - val_accuracy: 0.3514\n",
      "Epoch 26/100\n",
      "1407/1407 [==============================] - 16s 11ms/step - loss: 1.3733 - accuracy: 0.5157 - val_loss: 1.5600 - val_accuracy: 0.4664\n",
      "Epoch 27/100\n",
      "1407/1407 [==============================] - 15s 11ms/step - loss: 1.2032 - accuracy: 0.5814 - val_loss: 1.5367 - val_accuracy: 0.4944\n",
      "Epoch 28/100\n",
      "1407/1407 [==============================] - 16s 11ms/step - loss: 1.1291 - accuracy: 0.6121 - val_loss: 1.5333 - val_accuracy: 0.4852\n",
      "Epoch 29/100\n",
      "1407/1407 [==============================] - 15s 11ms/step - loss: 1.0734 - accuracy: 0.6317 - val_loss: 1.5475 - val_accuracy: 0.5032\n",
      "Epoch 30/100\n",
      "1407/1407 [==============================] - 15s 11ms/step - loss: 1.0294 - accuracy: 0.6469 - val_loss: 1.5400 - val_accuracy: 0.5052\n",
      "Epoch 31/100\n",
      "1407/1407 [==============================] - 15s 11ms/step - loss: 1.0081 - accuracy: 0.6605 - val_loss: 1.5617 - val_accuracy: 0.4856\n",
      "Epoch 32/100\n",
      "1407/1407 [==============================] - 15s 11ms/step - loss: 1.0109 - accuracy: 0.6603 - val_loss: 1.5727 - val_accuracy: 0.5124\n",
      "Epoch 33/100\n",
      "1407/1407 [==============================] - 17s 12ms/step - loss: 0.9646 - accuracy: 0.6762 - val_loss: 1.5333 - val_accuracy: 0.5174\n",
      "Epoch 34/100\n",
      "1407/1407 [==============================] - 16s 11ms/step - loss: 0.9597 - accuracy: 0.6789 - val_loss: 1.5601 - val_accuracy: 0.5016\n",
      "157/157 [==============================] - 0s 1ms/step - loss: 1.4608 - accuracy: 0.5026\n"
     ]
    },
    {
     "data": {
      "text/plain": [
       "[1.4607702493667603, 0.5026000142097473]"
      ]
     },
     "execution_count": 127,
     "metadata": {},
     "output_type": "execute_result"
    }
   ],
   "source": [
    "tf.random.set_seed(42)\n",
    "\n",
    "model = tf.keras.Sequential()\n",
    "model.add(tf.keras.layers.Flatten(input_shape=[32, 32, 3]))\n",
    "for _ in range(20):\n",
    "    model.add(tf.keras.layers.Dense(100,\n",
    "                                    kernel_initializer=\"lecun_normal\",\n",
    "                                    activation=\"selu\"))\n",
    "\n",
    "model.add(tf.keras.layers.Dense(10, activation=\"softmax\"))\n",
    "\n",
    "optimizer = tf.keras.optimizers.Nadam(learning_rate=7e-4)\n",
    "model.compile(loss=\"sparse_categorical_crossentropy\",\n",
    "              optimizer=optimizer,\n",
    "              metrics=[\"accuracy\"])\n",
    "\n",
    "early_stopping_cb = tf.keras.callbacks.EarlyStopping(\n",
    "    patience=20, restore_best_weights=True)\n",
    "model_checkpoint_cb = tf.keras.callbacks.ModelCheckpoint(\n",
    "    \"my_cifar10_selu_model\", save_best_only=True)\n",
    "run_index = 1 # increment every time you train the model\n",
    "run_logdir = Path() / \"my_cifar10_logs\" / f\"run_selu_{run_index:03d}\"\n",
    "tensorboard_cb = tf.keras.callbacks.TensorBoard(run_logdir)\n",
    "callbacks = [early_stopping_cb, model_checkpoint_cb, tensorboard_cb]\n",
    "\n",
    "X_means = X_train.mean(axis=0)\n",
    "X_stds = X_train.std(axis=0)\n",
    "X_train_scaled = (X_train - X_means) / X_stds\n",
    "X_valid_scaled = (X_valid - X_means) / X_stds\n",
    "X_test_scaled = (X_test - X_means) / X_stds\n",
    "\n",
    "model.fit(X_train_scaled, y_train, epochs=100,\n",
    "          validation_data=(X_valid_scaled, y_valid),\n",
    "          callbacks=callbacks)\n",
    "\n",
    "model.evaluate(X_valid_scaled, y_valid)"
   ]
  },
  {
   "cell_type": "markdown",
   "metadata": {
    "id": "wKd-XdcnSz6B"
   },
   "source": [
    "This model reached the first model's validation loss in just 8 epochs. After 14 epochs, it reached its lowest validation loss, with about 50.3% accuracy, which is better than the original model (46.7%), but not quite as good as the model using batch normalization (50.7%). Each epoch took only 9 seconds. So it's the fastest model to train so far."
   ]
  },
  {
   "cell_type": "markdown",
   "metadata": {
    "id": "8k3kw99ZSz6B"
   },
   "source": [
    "### e.\n",
    "*Exercise: Try regularizing the model with alpha dropout. Then, without retraining your model, see if you can achieve better accuracy using MC Dropout.*"
   ]
  },
  {
   "cell_type": "code",
   "execution_count": null,
   "metadata": {
    "id": "0AMKVCPtSz6C",
    "outputId": "729deef5-d1b2-40c9-d092-c63482ee314f"
   },
   "outputs": [
    {
     "name": "stdout",
     "output_type": "stream",
     "text": [
      "Epoch 1/100\n",
      "1405/1407 [============================>.] - ETA: 0s - loss: 1.8953 - accuracy: 0.3240INFO:tensorflow:Assets written to: my_cifar10_alpha_dropout_model/assets\n",
      "1407/1407 [==============================] - 18s 11ms/step - loss: 1.8950 - accuracy: 0.3239 - val_loss: 1.7556 - val_accuracy: 0.3812\n",
      "Epoch 2/100\n",
      "1403/1407 [============================>.] - ETA: 0s - loss: 1.6618 - accuracy: 0.4129INFO:tensorflow:Assets written to: my_cifar10_alpha_dropout_model/assets\n",
      "1407/1407 [==============================] - 16s 11ms/step - loss: 1.6618 - accuracy: 0.4130 - val_loss: 1.6563 - val_accuracy: 0.4114\n",
      "Epoch 3/100\n",
      "1402/1407 [============================>.] - ETA: 0s - loss: 1.5772 - accuracy: 0.4431INFO:tensorflow:Assets written to: my_cifar10_alpha_dropout_model/assets\n",
      "1407/1407 [==============================] - 16s 11ms/step - loss: 1.5770 - accuracy: 0.4432 - val_loss: 1.6507 - val_accuracy: 0.4232\n",
      "Epoch 4/100\n",
      "1406/1407 [============================>.] - ETA: 0s - loss: 1.5081 - accuracy: 0.4673INFO:tensorflow:Assets written to: my_cifar10_alpha_dropout_model/assets\n",
      "1407/1407 [==============================] - 15s 10ms/step - loss: 1.5081 - accuracy: 0.4672 - val_loss: 1.5892 - val_accuracy: 0.4566\n",
      "Epoch 5/100\n",
      "1403/1407 [============================>.] - ETA: 0s - loss: 1.4560 - accuracy: 0.4902INFO:tensorflow:Assets written to: my_cifar10_alpha_dropout_model/assets\n",
      "1407/1407 [==============================] - 14s 10ms/step - loss: 1.4561 - accuracy: 0.4902 - val_loss: 1.5382 - val_accuracy: 0.4696\n",
      "Epoch 6/100\n",
      "1401/1407 [============================>.] - ETA: 0s - loss: 1.4095 - accuracy: 0.5050INFO:tensorflow:Assets written to: my_cifar10_alpha_dropout_model/assets\n",
      "1407/1407 [==============================] - 16s 11ms/step - loss: 1.4094 - accuracy: 0.5050 - val_loss: 1.5236 - val_accuracy: 0.4818\n",
      "Epoch 7/100\n",
      "1401/1407 [============================>.] - ETA: 0s - loss: 1.3634 - accuracy: 0.5234INFO:tensorflow:Assets written to: my_cifar10_alpha_dropout_model/assets\n",
      "1407/1407 [==============================] - 14s 10ms/step - loss: 1.3636 - accuracy: 0.5232 - val_loss: 1.5139 - val_accuracy: 0.4840\n",
      "Epoch 8/100\n",
      "1405/1407 [============================>.] - ETA: 0s - loss: 1.3297 - accuracy: 0.5377INFO:tensorflow:Assets written to: my_cifar10_alpha_dropout_model/assets\n",
      "1407/1407 [==============================] - 15s 11ms/step - loss: 1.3296 - accuracy: 0.5378 - val_loss: 1.4780 - val_accuracy: 0.4982\n",
      "Epoch 9/100\n",
      "1407/1407 [==============================] - 15s 11ms/step - loss: 1.2907 - accuracy: 0.5485 - val_loss: 1.5151 - val_accuracy: 0.4854\n",
      "Epoch 10/100\n",
      "1407/1407 [==============================] - 13s 10ms/step - loss: 1.2559 - accuracy: 0.5646 - val_loss: 1.4980 - val_accuracy: 0.4976\n",
      "Epoch 11/100\n",
      "1407/1407 [==============================] - 14s 10ms/step - loss: 1.2221 - accuracy: 0.5767 - val_loss: 1.5199 - val_accuracy: 0.4990\n",
      "Epoch 12/100\n",
      "1407/1407 [==============================] - 13s 9ms/step - loss: 1.1960 - accuracy: 0.5870 - val_loss: 1.5167 - val_accuracy: 0.5030\n",
      "Epoch 13/100\n",
      "1407/1407 [==============================] - 14s 10ms/step - loss: 1.1684 - accuracy: 0.5955 - val_loss: 1.5815 - val_accuracy: 0.5014\n",
      "Epoch 14/100\n",
      "1407/1407 [==============================] - 15s 11ms/step - loss: 1.1463 - accuracy: 0.6025 - val_loss: 1.5427 - val_accuracy: 0.5112\n",
      "Epoch 15/100\n",
      "1407/1407 [==============================] - 13s 9ms/step - loss: 1.1125 - accuracy: 0.6169 - val_loss: 1.5868 - val_accuracy: 0.5212\n",
      "Epoch 16/100\n",
      "1407/1407 [==============================] - 12s 8ms/step - loss: 1.0854 - accuracy: 0.6243 - val_loss: 1.6234 - val_accuracy: 0.5090\n",
      "Epoch 17/100\n",
      "1407/1407 [==============================] - 15s 11ms/step - loss: 1.0668 - accuracy: 0.6328 - val_loss: 1.6162 - val_accuracy: 0.5072\n",
      "Epoch 18/100\n",
      "1407/1407 [==============================] - 15s 10ms/step - loss: 1.0440 - accuracy: 0.6442 - val_loss: 1.5748 - val_accuracy: 0.5162\n",
      "Epoch 19/100\n",
      "1407/1407 [==============================] - 12s 9ms/step - loss: 1.0272 - accuracy: 0.6477 - val_loss: 1.6518 - val_accuracy: 0.5200\n",
      "Epoch 20/100\n",
      "1407/1407 [==============================] - 13s 10ms/step - loss: 1.0007 - accuracy: 0.6594 - val_loss: 1.6224 - val_accuracy: 0.5186\n",
      "Epoch 21/100\n",
      "1407/1407 [==============================] - 15s 10ms/step - loss: 0.9824 - accuracy: 0.6639 - val_loss: 1.6972 - val_accuracy: 0.5136\n",
      "Epoch 22/100\n",
      "1407/1407 [==============================] - 12s 9ms/step - loss: 0.9660 - accuracy: 0.6714 - val_loss: 1.7210 - val_accuracy: 0.5278\n",
      "Epoch 23/100\n",
      "1407/1407 [==============================] - 13s 10ms/step - loss: 0.9472 - accuracy: 0.6780 - val_loss: 1.6436 - val_accuracy: 0.5006\n",
      "Epoch 24/100\n",
      "1407/1407 [==============================] - 14s 10ms/step - loss: 0.9314 - accuracy: 0.6819 - val_loss: 1.7059 - val_accuracy: 0.5160\n",
      "Epoch 25/100\n",
      "1407/1407 [==============================] - 13s 9ms/step - loss: 0.9172 - accuracy: 0.6888 - val_loss: 1.6926 - val_accuracy: 0.5200\n",
      "Epoch 26/100\n",
      "1407/1407 [==============================] - 14s 10ms/step - loss: 0.8990 - accuracy: 0.6947 - val_loss: 1.7705 - val_accuracy: 0.5148\n",
      "Epoch 27/100\n",
      "1407/1407 [==============================] - 13s 9ms/step - loss: 0.8758 - accuracy: 0.7028 - val_loss: 1.7023 - val_accuracy: 0.5198\n",
      "Epoch 28/100\n",
      "1407/1407 [==============================] - 12s 8ms/step - loss: 0.8622 - accuracy: 0.7090 - val_loss: 1.7567 - val_accuracy: 0.5184\n",
      "157/157 [==============================] - 0s 1ms/step - loss: 1.4780 - accuracy: 0.4982\n"
     ]
    },
    {
     "data": {
      "text/plain": [
       "[1.4779616594314575, 0.498199999332428]"
      ]
     },
     "execution_count": 128,
     "metadata": {},
     "output_type": "execute_result"
    }
   ],
   "source": [
    "tf.random.set_seed(42)\n",
    "\n",
    "model = tf.keras.Sequential()\n",
    "model.add(tf.keras.layers.Flatten(input_shape=[32, 32, 3]))\n",
    "for _ in range(20):\n",
    "    model.add(tf.keras.layers.Dense(100,\n",
    "                                    kernel_initializer=\"lecun_normal\",\n",
    "                                    activation=\"selu\"))\n",
    "\n",
    "model.add(tf.keras.layers.AlphaDropout(rate=0.1))\n",
    "model.add(tf.keras.layers.Dense(10, activation=\"softmax\"))\n",
    "\n",
    "optimizer = tf.keras.optimizers.Nadam(learning_rate=5e-4)\n",
    "model.compile(loss=\"sparse_categorical_crossentropy\",\n",
    "              optimizer=optimizer,\n",
    "              metrics=[\"accuracy\"])\n",
    "\n",
    "early_stopping_cb = tf.keras.callbacks.EarlyStopping(\n",
    "    patience=20, restore_best_weights=True)\n",
    "model_checkpoint_cb = tf.keras.callbacks.ModelCheckpoint(\n",
    "    \"my_cifar10_alpha_dropout_model\", save_best_only=True)\n",
    "run_index = 1 # increment every time you train the model\n",
    "run_logdir = Path() / \"my_cifar10_logs\" / f\"run_alpha_dropout_{run_index:03d}\"\n",
    "tensorboard_cb = tf.keras.callbacks.TensorBoard(run_logdir)\n",
    "callbacks = [early_stopping_cb, model_checkpoint_cb, tensorboard_cb]\n",
    "\n",
    "X_means = X_train.mean(axis=0)\n",
    "X_stds = X_train.std(axis=0)\n",
    "X_train_scaled = (X_train - X_means) / X_stds\n",
    "X_valid_scaled = (X_valid - X_means) / X_stds\n",
    "X_test_scaled = (X_test - X_means) / X_stds\n",
    "\n",
    "model.fit(X_train_scaled, y_train, epochs=100,\n",
    "          validation_data=(X_valid_scaled, y_valid),\n",
    "          callbacks=callbacks)\n",
    "\n",
    "model.evaluate(X_valid_scaled, y_valid)"
   ]
  },
  {
   "cell_type": "markdown",
   "metadata": {
    "id": "baPoKXSrSz6C"
   },
   "source": [
    "The model reaches 48.1% accuracy on the validation set. That's worse than without dropout (50.3%). With an extensive hyperparameter search, it might be possible to do better (I tried dropout rates of 5%, 10%, 20% and 40%, and learning rates 1e-4, 3e-4, 5e-4, and 1e-3), but probably not much better in this case."
   ]
  },
  {
   "cell_type": "markdown",
   "metadata": {
    "id": "R-evdjUASz6C"
   },
   "source": [
    "Let's use MC Dropout now. We will need the `MCAlphaDropout` class we used earlier, so let's just copy it here for convenience:"
   ]
  },
  {
   "cell_type": "code",
   "execution_count": null,
   "metadata": {
    "id": "J2LNWLDISz6C"
   },
   "outputs": [],
   "source": [
    "class MCAlphaDropout(tf.keras.layers.AlphaDropout):\n",
    "    def call(self, inputs):\n",
    "        return super().call(inputs, training=True)"
   ]
  },
  {
   "cell_type": "markdown",
   "metadata": {
    "id": "OOD-reoLSz6C"
   },
   "source": [
    "Now let's create a new model, identical to the one we just trained (with the same weights), but with `MCAlphaDropout` dropout layers instead of `AlphaDropout` layers:"
   ]
  },
  {
   "cell_type": "code",
   "execution_count": null,
   "metadata": {
    "id": "R8xm6o4zSz6C"
   },
   "outputs": [],
   "source": [
    "mc_model = tf.keras.Sequential([\n",
    "    (\n",
    "        MCAlphaDropout(layer.rate)\n",
    "        if isinstance(layer, tf.keras.layers.AlphaDropout)\n",
    "        else layer\n",
    "    )\n",
    "    for layer in model.layers\n",
    "])"
   ]
  },
  {
   "cell_type": "markdown",
   "metadata": {
    "id": "uUdJzQjaSz6C"
   },
   "source": [
    "Then let's add a couple utility functions. The first will run the model many times (10 by default) and it will return the mean predicted class probabilities. The second will use these mean probabilities to predict the most likely class for each instance:"
   ]
  },
  {
   "cell_type": "code",
   "execution_count": null,
   "metadata": {
    "id": "wT5GA2fISz6C"
   },
   "outputs": [],
   "source": [
    "def mc_dropout_predict_probas(mc_model, X, n_samples=10):\n",
    "    Y_probas = [mc_model.predict(X) for sample in range(n_samples)]\n",
    "    return np.mean(Y_probas, axis=0)\n",
    "\n",
    "def mc_dropout_predict_classes(mc_model, X, n_samples=10):\n",
    "    Y_probas = mc_dropout_predict_probas(mc_model, X, n_samples)\n",
    "    return Y_probas.argmax(axis=1)"
   ]
  },
  {
   "cell_type": "markdown",
   "metadata": {
    "id": "BSoqArhWSz6D"
   },
   "source": [
    "Now let's make predictions for all the instances in the validation set, and compute the accuracy:"
   ]
  },
  {
   "cell_type": "code",
   "execution_count": null,
   "metadata": {
    "id": "pYUcwxlwSz6D",
    "outputId": "7d722d97-598b-4738-a75b-b9f5b61d4cf9"
   },
   "outputs": [
    {
     "data": {
      "text/plain": [
       "0.4984"
      ]
     },
     "execution_count": 132,
     "metadata": {},
     "output_type": "execute_result"
    }
   ],
   "source": [
    "tf.random.set_seed(42)\n",
    "\n",
    "y_pred = mc_dropout_predict_classes(mc_model, X_valid_scaled)\n",
    "accuracy = (y_pred == y_valid[:, 0]).mean()\n",
    "accuracy"
   ]
  },
  {
   "cell_type": "markdown",
   "metadata": {
    "id": "0cGXT6fYSz6D"
   },
   "source": [
    "We get back to roughly the accuracy of the model without dropout in this case (about 50.3% accuracy).\n",
    "\n",
    "So the best model we got in this exercise is the Batch Normalization model."
   ]
  },
  {
   "cell_type": "markdown",
   "metadata": {
    "id": "efWNz2M4Sz6D"
   },
   "source": [
    "### f.\n",
    "*Exercise: Retrain your model using 1cycle scheduling and see if it improves training speed and model accuracy.*"
   ]
  },
  {
   "cell_type": "code",
   "execution_count": null,
   "metadata": {
    "id": "fhb4HnweSz6D"
   },
   "outputs": [],
   "source": [
    "tf.random.set_seed(42)\n",
    "\n",
    "model = tf.keras.Sequential()\n",
    "model.add(tf.keras.layers.Flatten(input_shape=[32, 32, 3]))\n",
    "for _ in range(20):\n",
    "    model.add(tf.keras.layers.Dense(100,\n",
    "                                    kernel_initializer=\"lecun_normal\",\n",
    "                                    activation=\"selu\"))\n",
    "\n",
    "model.add(tf.keras.layers.AlphaDropout(rate=0.1))\n",
    "model.add(tf.keras.layers.Dense(10, activation=\"softmax\"))\n",
    "\n",
    "optimizer = tf.keras.optimizers.SGD()\n",
    "model.compile(loss=\"sparse_categorical_crossentropy\",\n",
    "              optimizer=optimizer,\n",
    "              metrics=[\"accuracy\"])"
   ]
  },
  {
   "cell_type": "code",
   "execution_count": null,
   "metadata": {
    "id": "bPwWfSqpSz6D",
    "outputId": "99c70935-b14b-4dbc-d2ec-de3875c2ccd5"
   },
   "outputs": [
    {
     "name": "stdout",
     "output_type": "stream",
     "text": [
      "352/352 [==============================] - 3s 8ms/step - loss: nan - accuracy: 0.1706\n"
     ]
    },
    {
     "data": {
      "image/png": "[encoded data removed]",
      "text/plain": [
       "<Figure size 432x288 with 1 Axes>"
      ]
     },
     "metadata": {
      "needs_background": "light"
     },
     "output_type": "display_data"
    }
   ],
   "source": [
    "batch_size = 128\n",
    "rates, losses = find_learning_rate(model, X_train_scaled, y_train, epochs=1,\n",
    "                                   batch_size=batch_size)\n",
    "plot_lr_vs_loss(rates, losses)"
   ]
  },
  {
   "cell_type": "code",
   "execution_count": null,
   "metadata": {
    "id": "8eGBT85RSz6D"
   },
   "outputs": [],
   "source": [
    "tf.random.set_seed(42)\n",
    "\n",
    "model = tf.keras.Sequential()\n",
    "model.add(tf.keras.layers.Flatten(input_shape=[32, 32, 3]))\n",
    "for _ in range(20):\n",
    "    model.add(tf.keras.layers.Dense(100,\n",
    "                                 kernel_initializer=\"lecun_normal\",\n",
    "                                 activation=\"selu\"))\n",
    "\n",
    "model.add(tf.keras.layers.AlphaDropout(rate=0.1))\n",
    "model.add(tf.keras.layers.Dense(10, activation=\"softmax\"))\n",
    "\n",
    "optimizer = tf.keras.optimizers.SGD(learning_rate=2e-2)\n",
    "model.compile(loss=\"sparse_categorical_crossentropy\",\n",
    "              optimizer=optimizer,\n",
    "              metrics=[\"accuracy\"])"
   ]
  },
  {
   "cell_type": "code",
   "execution_count": null,
   "metadata": {
    "id": "GJsZrcMrSz6D",
    "outputId": "8b9cfa5b-b30b-4039-c55e-da6e322d7f9d"
   },
   "outputs": [
    {
     "name": "stdout",
     "output_type": "stream",
     "text": [
      "Epoch 1/15\n",
      "352/352 [==============================] - 3s 9ms/step - loss: 2.0559 - accuracy: 0.2839 - val_loss: 1.7917 - val_accuracy: 0.3768\n",
      "Epoch 2/15\n",
      "352/352 [==============================] - 3s 8ms/step - loss: 1.7596 - accuracy: 0.3797 - val_loss: 1.6566 - val_accuracy: 0.4258\n",
      "Epoch 3/15\n",
      "352/352 [==============================] - 3s 8ms/step - loss: 1.6199 - accuracy: 0.4247 - val_loss: 1.6395 - val_accuracy: 0.4260\n",
      "Epoch 4/15\n",
      "352/352 [==============================] - 3s 9ms/step - loss: 1.5451 - accuracy: 0.4524 - val_loss: 1.6202 - val_accuracy: 0.4408\n",
      "Epoch 5/15\n",
      "352/352 [==============================] - 3s 8ms/step - loss: 1.4952 - accuracy: 0.4691 - val_loss: 1.5981 - val_accuracy: 0.4488\n",
      "Epoch 6/15\n",
      "352/352 [==============================] - 3s 9ms/step - loss: 1.4541 - accuracy: 0.4842 - val_loss: 1.5720 - val_accuracy: 0.4490\n",
      "Epoch 7/15\n",
      "352/352 [==============================] - 3s 9ms/step - loss: 1.4171 - accuracy: 0.4967 - val_loss: 1.6035 - val_accuracy: 0.4470\n",
      "Epoch 8/15\n",
      "352/352 [==============================] - 3s 9ms/step - loss: 1.3497 - accuracy: 0.5194 - val_loss: 1.4918 - val_accuracy: 0.4864\n",
      "Epoch 9/15\n",
      "352/352 [==============================] - 3s 9ms/step - loss: 1.2788 - accuracy: 0.5459 - val_loss: 1.5597 - val_accuracy: 0.4672\n",
      "Epoch 10/15\n",
      "352/352 [==============================] - 3s 9ms/step - loss: 1.2070 - accuracy: 0.5707 - val_loss: 1.5845 - val_accuracy: 0.4864\n",
      "Epoch 11/15\n",
      "352/352 [==============================] - 3s 10ms/step - loss: 1.1433 - accuracy: 0.5926 - val_loss: 1.5293 - val_accuracy: 0.4998\n",
      "Epoch 12/15\n",
      "352/352 [==============================] - 3s 9ms/step - loss: 1.0745 - accuracy: 0.6182 - val_loss: 1.5118 - val_accuracy: 0.5072\n",
      "Epoch 13/15\n",
      "352/352 [==============================] - 3s 10ms/step - loss: 1.0030 - accuracy: 0.6413 - val_loss: 1.5388 - val_accuracy: 0.5204\n",
      "Epoch 14/15\n",
      "352/352 [==============================] - 3s 10ms/step - loss: 0.9388 - accuracy: 0.6654 - val_loss: 1.5547 - val_accuracy: 0.5210\n",
      "Epoch 15/15\n",
      "352/352 [==============================] - 3s 9ms/step - loss: 0.8989 - accuracy: 0.6805 - val_loss: 1.5835 - val_accuracy: 0.5242\n"
     ]
    }
   ],
   "source": [
    "n_epochs = 15\n",
    "n_iterations = math.ceil(len(X_train_scaled) / batch_size) * n_epochs\n",
    "onecycle = OneCycleScheduler(n_iterations, max_lr=0.05)\n",
    "history = model.fit(X_train_scaled, y_train, epochs=n_epochs, batch_size=batch_size,\n",
    "                    validation_data=(X_valid_scaled, y_valid),\n",
    "                    callbacks=[onecycle])"
   ]
  },
  {
   "cell_type": "markdown",
   "metadata": {
    "id": "l8mHIMXESz6E"
   },
   "source": [
    "One cycle allowed us to train the model in just 15 epochs, each taking only 2 seconds (thanks to the larger batch size). This is several times faster than the fastest model we trained so far. Moreover, we improved the model's performance (from 50.7% to 52.0%)."
   ]
  }
 ],
 "metadata": {
  "colab": {
   "provenance": [
    {
     "file_id": "https://github.com/ageron/handson-ml3/blob/main/11_training_deep_neural_networks.ipynb",
     "timestamp": 1700140918028
    }
   ]
  },
  "kernelspec": {
   "display_name": "Python 3 (ipykernel)",
   "language": "python",
   "name": "python3"
  },
  "language_info": {
   "codemirror_mode": {
    "name": "ipython",
    "version": 3
   },
   "file_extension": ".py",
   "mimetype": "text/x-python",
   "name": "python",
   "nbconvert_exporter": "python",
   "pygments_lexer": "ipython3",
   "version": "3.8.8"
  },
  "nav_menu": {
   "height": "360px",
   "width": "416px"
  },
  "toc": {
   "navigate_menu": true,
   "number_sections": true,
   "sideBar": true,
   "threshold": 6,
   "toc_cell": false,
   "toc_section_display": "block",
   "toc_window_display": false
  }
 },
 "nbformat": 4,
 "nbformat_minor": 1
}
