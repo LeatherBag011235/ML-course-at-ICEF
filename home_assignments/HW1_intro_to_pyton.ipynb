{
 "cells": [
  {
   "cell_type": "markdown",
   "metadata": {},
   "source": [
    "### Deadline for this HW -- 16th of  October, 23:59 (Moscow time). Please send your Jupyter notebook to email: natalya.vasileva@hse.ru. \n",
    "* It should contain all results printed. In other words, all cells must be \"executed\". \n",
    "\n",
    "* The result must be reproduced during verification (in Python 3).\n",
    "\n",
    "* If some code has not been run or is working out with errors, then the item is not graded.\n",
    "\n",
    "* A task submitted after the deadline is not accepted. You can send an unfinished task, completed items will be evaluated.\n",
    "\n",
    "* The task is performed independently. If some students are caught cheating, all of them will automatically receive 0 points for this work. If you have found some specific code on the Internet that you are going to borrow, be sure to indicate it in the task properly - for sure you are not the only one who will find and use this information.\n",
    "\n",
    "**Please name your file in the format \"HW1_intro_to_python_Surname_Name.ipynb\"**"
   ]
  },
  {
   "cell_type": "code",
   "execution_count": 1,
   "metadata": {},
   "outputs": [],
   "source": [
    "import numpy as np\n",
    "import scipy.stats"
   ]
  },
  {
   "cell_type": "markdown",
   "metadata": {},
   "source": [
    "#### Task 1 (0.25 points): Warm up\n",
    "\n",
    "Write two versions of a function that takes a list my_list and the number $n$ and returns the sum of all list elements greater than or equal to $n$ -- with loop and with numpy \n",
    "\n",
    "Hint: you did the first version in the previous HW"
   ]
  },
  {
   "cell_type": "code",
   "execution_count": 2,
   "metadata": {},
   "outputs": [],
   "source": [
    "def sum_greater_than(my_list, n):\n",
    "    res = 0\n",
    "            \n",
    "    return res\n",
    "\n",
    "\n",
    "def sum_greater_than_numpy(my_list, n):\n",
    "    res = 0\n",
    "            \n",
    "    return res"
   ]
  },
  {
   "cell_type": "code",
   "execution_count": null,
   "metadata": {},
   "outputs": [],
   "source": [
    "assert sum_greater_than([1, 2, 3], 2) == 5\n",
    "assert sum_greater_than_numpy([-10, -1, -2, -3], -3) == -6"
   ]
  },
  {
   "cell_type": "markdown",
   "metadata": {},
   "source": [
    "#### Task 2 (0.25 points): Leap year\n",
    "You're given an integer number `year`. It is required to determine whether the year with this number is a leap year. If the year is a leap year, then output YES, otherwise output NO. Recall that according to the Gregorian calendar, a year is a leap year if its number is a multiple of 4, but not a multiple of 100, and also if it is a multiple of 400."
   ]
  },
  {
   "cell_type": "code",
   "execution_count": null,
   "metadata": {},
   "outputs": [],
   "source": [
    "def is_leap_year(year):\n",
    "    ...\n",
    "    return ..."
   ]
  },
  {
   "cell_type": "code",
   "execution_count": null,
   "metadata": {},
   "outputs": [],
   "source": [
    "leaps = [2024, 2020, 2016, 2012, 2008, 2004, 2000, 1996, 1992, 1988, 1984, ]\n",
    "not_leaps = [1700, 1800, 1900, 2100, 2200, 2300]\n",
    "\n",
    "assert np.all(np.array([is_leap_year(year) for year in leaps]) == 'YES')"
   ]
  },
  {
   "cell_type": "markdown",
   "metadata": {},
   "source": [
    "#### Task 3 (0.25 points): Is palindrome?\n",
    "Determine whether the entered string is a palindrome (in other words, it is equally readable on both sides)."
   ]
  },
  {
   "cell_type": "code",
   "execution_count": null,
   "metadata": {},
   "outputs": [],
   "source": [
    "def is_palindrome(s):\n",
    "    ...\n",
    "    return ..."
   ]
  },
  {
   "cell_type": "code",
   "execution_count": null,
   "metadata": {},
   "outputs": [],
   "source": [
    "string = \"anddna\"\n",
    "assert is_palindrome(string)"
   ]
  },
  {
   "cell_type": "markdown",
   "metadata": {},
   "source": [
    "#### Task 4 (0.25 points): Decimal notation\n",
    "You're given a float number. Find the number of digits in its decimal notation."
   ]
  },
  {
   "cell_type": "code",
   "execution_count": null,
   "metadata": {},
   "outputs": [],
   "source": [
    "def decimal_notaion(number):\n",
    "    ...\n",
    "    return ..."
   ]
  },
  {
   "cell_type": "code",
   "execution_count": null,
   "metadata": {},
   "outputs": [],
   "source": [
    "number = 32.323241245\n",
    "assert decimal_notation(number) == 9, print(decimal_notation(number))\n",
    "\n",
    "number = -0.234\n",
    "assert decimal_notation(number) == 3, print(decimal_notation(number))"
   ]
  },
  {
   "cell_type": "markdown",
   "metadata": {},
   "source": [
    "#### Task 5 (0.5 points): List of integers\n",
    "You're given a list of integers. Write a function that returns a copy of this list, from which negative numbers are removed, and all other numbers are squared. Also, the returned sequence must be sorted in descending order."
   ]
  },
  {
   "cell_type": "code",
   "execution_count": 1,
   "metadata": {},
   "outputs": [],
   "source": [
    "def work_with_list(lst):\n",
    "    ...\n",
    "    return ..."
   ]
  },
  {
   "cell_type": "code",
   "execution_count": null,
   "metadata": {},
   "outputs": [],
   "source": [
    "integer_list = [-555, 2, -4, 3, 44, 0, -3, 11]\n",
    "res = work_with_list(integer_list)\n",
    "assert res == [1936, 121, 9, 4, 0]\n",
    "assert integer_list == [-555, 2, -4, 3, 44, 0, -3, 11]\n",
    "assert id(res) != id(integer_list)"
   ]
  },
  {
   "cell_type": "markdown",
   "metadata": {},
   "source": [
    "#### Task 6 (0.5 points): Dictionaries\n",
    "The text is given as a string. Write a function that returns a dictionary, where the keys are unique words from this text, and the values are the number of times this word has occurred in the text. Assume that the words are separated by spaces."
   ]
  },
  {
   "cell_type": "code",
   "execution_count": null,
   "metadata": {},
   "outputs": [],
   "source": [
    "def work_with_dicts(text):\n",
    "    ...\n",
    "    return ..."
   ]
  },
  {
   "cell_type": "code",
   "execution_count": null,
   "metadata": {},
   "outputs": [],
   "source": [
    "text = \"a b c aa a b c\"\n",
    "assert work_with_dicts(text) == {'aa': 1, 'c': 2, 'b': 2, 'a': 2}"
   ]
  },
  {
   "cell_type": "markdown",
   "metadata": {},
   "source": [
    "#### Task 7 (3 points): Manipulations with matrices and OOP\n",
    "\n",
    "Create a class *my_matrix* and implement four methods:\n",
    "- *non_zero_diag_prod* should return a product of all non-zero diagonal elements of $X$, if all of them are 0s then return none\n",
    "- *det_XTX* should return a determinant of $X^TX$\n",
    "- *replace_nans* should find all *nan* values of $X$ and replace them with the arithmetic average of all the other elements of $X$. In the case of a matrix of all *nans* produced replaced by zeros.\n",
    "- *calculate_stats* should calculate and print\n",
    " - determinant (*already implemented*)\n",
    " - trace\n",
    " - max and min elements\n",
    " - eigenvalues\n",
    " - inverse matrix\n",
    "\n",
    "Hint: for *calculate_stats* just google corresponding numpy methods\n",
    "\n",
    "Do it without using loops (if possible)"
   ]
  },
  {
   "cell_type": "code",
   "execution_count": 12,
   "metadata": {},
   "outputs": [],
   "source": [
    "class my_matrix:\n",
    "    \n",
    "    def __init__(self, X):\n",
    "        self.X = X\n",
    "    \n",
    "    def non_zero_diag_prod(self):\n",
    "        pass\n",
    "    \n",
    "    def det_XTX(self):\n",
    "        pass\n",
    "    \n",
    "    def replace_nans(self):\n",
    "        pass\n",
    "        \n",
    "    def calculate_stats(self):\n",
    "        print(\"Det = {}\".format(np.linalg.det(self.X)), '\\n')\n",
    "        pass\n",
    "        \n"
   ]
  },
  {
   "cell_type": "code",
   "execution_count": 9,
   "metadata": {},
   "outputs": [
    {
     "name": "stdout",
     "output_type": "stream",
     "text": [
      "110 \n",
      "\n",
      "-1.5926383609604704e-09\n"
     ]
    }
   ],
   "source": [
    "my_X = my_matrix(np.array([[10,2,3,4],[5,0,7,8],[9,10,11,12]]))\n",
    "\n",
    "print(my_X.non_zero_diag_prod(), '\\n')\n",
    "print(my_X.det_XTX())\n",
    "\n",
    "assert my_X.non_zero_diag_prod() == 110\n",
    "assert np.abs(my_X.det_XTX() - (-1.5926383609604704e-09)) < 0.0000001"
   ]
  },
  {
   "cell_type": "code",
   "execution_count": 10,
   "metadata": {},
   "outputs": [
    {
     "name": "stdout",
     "output_type": "stream",
     "text": [
      "X = \n",
      "[[ 1.  2.  3. nan]\n",
      " [ 1.  2. nan  3.]] \n",
      "\n",
      "Result = \n",
      "[[1. 2. 3. 2.]\n",
      " [1. 2. 2. 3.]]\n"
     ]
    }
   ],
   "source": [
    "my_X = my_matrix(np.array([[1,2,3,np.nan], [1,2,np.nan,3]]))\n",
    "print(\"X = \\n{}\".format(my_X.X), '\\n')\n",
    "print(\"Result = \\n{}\".format(my_X.replace_nans()))"
   ]
  },
  {
   "cell_type": "code",
   "execution_count": 11,
   "metadata": {},
   "outputs": [
    {
     "name": "stdout",
     "output_type": "stream",
     "text": [
      "X = \n",
      "[[12.81701314 11.15296323  8.93198104 11.99438527 10.97825266]\n",
      " [ 9.97896711  8.81383582  8.96571962 10.27347793  9.24774697]\n",
      " [11.14311662 10.23763392  9.65004651  9.03951862 10.25342139]\n",
      " [ 8.339493   10.39582388 10.38104754  8.38488098  9.80390921]\n",
      " [ 9.58502551  9.55729873  8.95885421  8.26081924 10.42028095]] \n",
      "\n",
      "Det = -160.58884687721886 \n",
      "\n",
      "Trace = 50.086057394268295 \n",
      "\n",
      "Max elem = 12.817013137228646 and Min elem = 8.260819243904509 \n",
      "\n",
      "Eigenvalues = \n",
      "[49.56051759+0.j         -1.24253994+0.j          0.4423054 +1.66015197j\n",
      "  0.4423054 -1.66015197j  0.88346895+0.j        ] \n",
      "\n",
      "Inv matrix = \n",
      "[[-0.11019576 -0.01716479  0.65520148 -0.29981078 -0.23130342]\n",
      " [ 0.51517842 -0.66578793 -0.04728953  0.50007089 -0.3758527 ]\n",
      " [-0.45737739  0.38114647  0.4070786   0.02135264 -0.2770395 ]\n",
      " [ 0.15480173  0.29211027 -0.46300184  0.08625866 -0.04790019]\n",
      " [-0.10063996  0.06717221 -0.54224508 -0.269618    0.92961381]] \n",
      "\n"
     ]
    }
   ],
   "source": [
    "my_X = my_matrix(np.random.normal(10, 1, size=(5, 5)))\n",
    "print(\"X = \\n{}\".format(my_X.X), '\\n')\n",
    "my_X.calculate_stats()"
   ]
  },
  {
   "cell_type": "markdown",
   "metadata": {},
   "source": [
    "#### Task 8 (5 points): Option pricing\n",
    "\n",
    "Here you should write a couple of functions for pricing \n",
    "- options of different types (European, American, Barrier) with\n",
    "- different approaches (analytical, numerical schemes and MC simulations)\n",
    "\n",
    "Implement everything as different functions (or write classes if you want) with different parameters, then compare results (where possible), plot convergence etc.\n",
    "\n",
    "(2 points) Analytical formulas:\n",
    "\n",
    "1. Implement analytical Black-Scholes formulas\n",
    "\n",
    "2. Modify Black-Scholes formulas for dividends paying stocks\n",
    "\n",
    "(2 points) Numerical schemes:\n",
    "\n",
    "3. Implement Binomial pricing model\n",
    "\n",
    "4. Modify program to price American option\n",
    "\n",
    "(1 point) Monte Carlo methods:\n",
    "\n",
    "5. Implement Monte Carlo simulation scheme for option pricing\n",
    "\n",
    "\n",
    "##### Hint 1: This book could be very useful since it has all explanations and even pieces of code: *The Complete Guide To Option Pricing Formulas. Espen G. Haug*\n",
    "\n",
    "##### Hint 2: You will have to make a very small modification to your Binomial tree model to price an American option "
   ]
  },
  {
   "cell_type": "code",
   "execution_count": null,
   "metadata": {},
   "outputs": [],
   "source": [
    "# for the 1st task you can use this function to calculate CDF of a Normal distribution\n",
    "\n",
    "scipy.stats.norm.cdf(0)"
   ]
  },
  {
   "cell_type": "code",
   "execution_count": 29,
   "metadata": {},
   "outputs": [
    {
     "name": "stdout",
     "output_type": "stream",
     "text": [
      "[0.         0.14285714 0.28571429 0.42857143 0.57142857 0.71428571\n",
      " 0.85714286 1.        ]\n",
      "[-0.11281739  0.3651981  -0.7470612  -0.73868878  0.34377732  0.01845088\n",
      "  0.07193886  1.50384287]\n"
     ]
    }
   ],
   "source": [
    "# and these for Monte carlo methods \n",
    "\n",
    "print(np.linspace(0, 1, 8))\n",
    "print(np.random.normal(size=8))"
   ]
  },
  {
   "cell_type": "code",
   "execution_count": 24,
   "metadata": {},
   "outputs": [],
   "source": [
    "def euro_vanilla_analytical(S, K, T, r, sigma, option='call'):\n",
    "    \n",
    "    result = S - K\n",
    "        \n",
    "    return result\n",
    "\n",
    "\n",
    "def euro_vanilla_binomial(S, K, T, r, sigma, option='call', n_periods=10):\n",
    "    \n",
    "    return 0\n",
    "\n",
    "\n",
    "def euro_vanilla_mc(S, K, T, r, sigma, option='call', n_periods=10, n_samples=10**3):\n",
    "    \n",
    "    return 0"
   ]
  },
  {
   "cell_type": "code",
   "execution_count": null,
   "metadata": {},
   "outputs": [],
   "source": [
    "np.random.seed(1)\n",
    "S = 50\n",
    "K = 100\n",
    "T = 1\n",
    "r = 0.05\n",
    "q = 0.1\n",
    "sigma = 0.25\n",
    "n_periods = 10\n",
    "n_samples = 10**3\n",
    "option = 'put'\n",
    "\n",
    "assert abs(euro_vanilla_analytical(S, K, T, r, sigma, option) - 45.15029495944084) < 0.001\n",
    "assert abs(euro_vanilla_binomial(S, K, T, r, sigma, option, n_periods) - 45.134971983328526) < 0.001"
   ]
  }
 ],
 "metadata": {
  "kernelspec": {
   "display_name": "Python 3 (ipykernel)",
   "language": "python",
   "name": "python3"
  },
  "language_info": {
   "codemirror_mode": {
    "name": "ipython",
    "version": 3
   },
   "file_extension": ".py",
   "mimetype": "text/x-python",
   "name": "python",
   "nbconvert_exporter": "python",
   "pygments_lexer": "ipython3",
   "version": "3.11.4"
  }
 },
 "nbformat": 4,
 "nbformat_minor": 2
}
