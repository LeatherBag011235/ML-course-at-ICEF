{
 "cells": [
  {
   "cell_type": "markdown",
   "metadata": {},
   "source": [
    "### Deadline for this HW -- 16th of  October, 23:59 (Moscow time). Please send your Jupyter notebook to email: natalya.vasileva@hse.ru. \n",
    "* It should contain all results printed. In other words, all cells must be \"executed\". \n",
    "\n",
    "* The result must be reproduced during verification (in Python 3).\n",
    "\n",
    "* If some code has not been run or is working out with errors, then the item is not graded.\n",
    "\n",
    "* A task submitted after the deadline is not accepted. You can send an unfinished task, completed items will be evaluated.\n",
    "\n",
    "* The task is performed independently. If some students are caught cheating, all of them will automatically receive 0 points for this work. If you have found some specific code on the Internet that you are going to borrow, be sure to indicate it in the task properly - for sure you are not the only one who will find and use this information.\n",
    "\n",
    "**Please name your file in the format \"HW1_intro_to_python_Surname_Name.ipynb\"**"
   ]
  },
  {
   "cell_type": "code",
   "execution_count": 68,
   "metadata": {},
   "outputs": [],
   "source": [
    "import numpy as np\n",
    "import scipy.stats\n",
    "from scipy import linalg\n",
    "import math \n"
   ]
  },
  {
   "cell_type": "markdown",
   "metadata": {},
   "source": [
    "#### Task 1 (0.25 points): Warm up\n",
    "\n",
    "Write two versions of a function that takes a list my_list and the number $n$ and returns the sum of all list elements greater than or equal to $n$ -- with loop and with numpy \n",
    "\n",
    "Hint: you did the first version in the previous HW"
   ]
  },
  {
   "cell_type": "code",
   "execution_count": 69,
   "metadata": {},
   "outputs": [],
   "source": [
    "def sum_greater_than(my_list, n):\n",
    "    res = 0\n",
    "    for x in my_list:\n",
    "        if x >= n:\n",
    "            res += x\n",
    "            \n",
    "    return res\n",
    "\n",
    "\n",
    "def sum_greater_than_numpy(my_list, n):\n",
    "    res = 0\n",
    "    arr = np.array(my_list)\n",
    "    tf = arr >= n \n",
    "    res = sum(arr*tf)\n",
    "            \n",
    "    return res"
   ]
  },
  {
   "cell_type": "code",
   "execution_count": 70,
   "metadata": {},
   "outputs": [],
   "source": [
    "assert sum_greater_than([1, 2, 3], 2) == 5\n",
    "assert sum_greater_than_numpy([-10, -1, -2, -3], -3) == -6"
   ]
  },
  {
   "cell_type": "markdown",
   "metadata": {},
   "source": [
    "#### Task 2 (0.25 points): Leap year\n",
    "You're given an integer number `year`. It is required to determine whether the year with this number is a leap year. If the year is a leap year, then output YES, otherwise output NO. Recall that according to the Gregorian calendar, a year is a leap year if its number is a multiple of 4, but not a multiple of 100, and also if it is a multiple of 400."
   ]
  },
  {
   "cell_type": "code",
   "execution_count": 71,
   "metadata": {},
   "outputs": [],
   "source": [
    "def is_leap_year(year):\n",
    "    if year % 400 == 0:\n",
    "        return 'YES'\n",
    "    elif year % 100 == 0:\n",
    "        return \"NO\"\n",
    "    elif year % 4 == 0:\n",
    "        return \"YES\"\n",
    "    else:\n",
    "        return \"NO\""
   ]
  },
  {
   "cell_type": "code",
   "execution_count": 72,
   "metadata": {},
   "outputs": [],
   "source": [
    "leaps = [2024, 2020, 2016, 2012, 2008, 2004, 2000, 1996, 1992, 1988, 1984, ]\n",
    "not_leaps = [1700, 1800, 1900, 2100, 2200, 2300]\n",
    "\n",
    "assert np.all(np.array([is_leap_year(year) for year in leaps]) == 'YES')"
   ]
  },
  {
   "cell_type": "markdown",
   "metadata": {},
   "source": [
    "#### Task 3 (0.25 points): Is palindrome?\n",
    "Determine whether the entered string is a palindrome (in other words, it is equally readable on both sides)."
   ]
  },
  {
   "cell_type": "code",
   "execution_count": 73,
   "metadata": {},
   "outputs": [],
   "source": [
    "def is_palindrome(s):\n",
    "    i = 0 \n",
    "    j = len(s) - 1\n",
    "\n",
    "    while i < j:\n",
    "        if s[i] != s[j]:\n",
    "            return False\n",
    "        i += 1\n",
    "        j -= 1\n",
    "\n",
    "    return True"
   ]
  },
  {
   "cell_type": "code",
   "execution_count": 74,
   "metadata": {},
   "outputs": [],
   "source": [
    "string = \"anddna\"\n",
    "assert is_palindrome(string)"
   ]
  },
  {
   "cell_type": "markdown",
   "metadata": {},
   "source": [
    "#### Task 4 (0.25 points): Decimal notation\n",
    "You're given a float number. Find the number of digits in its decimal notation."
   ]
  },
  {
   "cell_type": "code",
   "execution_count": 75,
   "metadata": {},
   "outputs": [],
   "source": [
    "def decimal_notation(number):\n",
    "    string = str(number)\n",
    "    dec = string.split('.')\n",
    "    \n",
    "    return len(dec[1])"
   ]
  },
  {
   "cell_type": "code",
   "execution_count": 76,
   "metadata": {},
   "outputs": [],
   "source": [
    "number = 32.323241245\n",
    "assert decimal_notation(number) == 9, print(decimal_notation(number))\n",
    "\n",
    "number = -0.234\n",
    "assert decimal_notation(number) == 3, print(decimal_notation(number))"
   ]
  },
  {
   "cell_type": "markdown",
   "metadata": {},
   "source": [
    "#### Task 5 (0.5 points): List of integers\n",
    "You're given a list of integers. Write a function that returns a copy of this list, from which negative numbers are removed, and all other numbers are squared. Also, the returned sequence must be sorted in descending order."
   ]
  },
  {
   "cell_type": "code",
   "execution_count": 77,
   "metadata": {},
   "outputs": [],
   "source": [
    "def work_with_list(lst):\n",
    "    copy = [x**2 for x in lst if x >=0]\n",
    "    copy.sort(reverse=True)\n",
    "    return copy"
   ]
  },
  {
   "cell_type": "code",
   "execution_count": 78,
   "metadata": {},
   "outputs": [],
   "source": [
    "integer_list = [-555, 2, -4, 3, 44, 0, -3, 11]\n",
    "res = work_with_list(integer_list)\n",
    "assert res == [1936, 121, 9, 4, 0]\n",
    "assert integer_list == [-555, 2, -4, 3, 44, 0, -3, 11]\n",
    "assert id(res) != id(integer_list)"
   ]
  },
  {
   "cell_type": "markdown",
   "metadata": {},
   "source": [
    "#### Task 6 (0.5 points): Dictionaries\n",
    "The text is given as a string. Write a function that returns a dictionary, where the keys are unique words from this text, and the values are the number of times this word has occurred in the text. Assume that the words are separated by spaces."
   ]
  },
  {
   "cell_type": "code",
   "execution_count": 79,
   "metadata": {},
   "outputs": [],
   "source": [
    "\n",
    "def work_with_dicts(text):\n",
    "    dictt = {}\n",
    "    word = ''\n",
    "\n",
    "    if text[-1] != ' ':\n",
    "        text += ' '\n",
    "    \n",
    "    for letter in text:\n",
    "        if letter != ' ':\n",
    "            word += letter\n",
    "        else:\n",
    "            if word in dictt:\n",
    "                dictt[word] += 1\n",
    "                word = ''\n",
    "            else:\n",
    "                dictt[word] = 1\n",
    "                word = ''\n",
    "\n",
    "    return dictt"
   ]
  },
  {
   "cell_type": "code",
   "execution_count": 80,
   "metadata": {},
   "outputs": [],
   "source": [
    "def work_with_dicts(text):\n",
    "    lst = text.split(' ')\n",
    "    dictt = {}\n",
    "\n",
    "    for x in lst:\n",
    "        if x in dictt:\n",
    "            dictt[x] += 1\n",
    "        else:\n",
    "            dictt[x] = 1\n",
    "            \n",
    "    return dictt\n"
   ]
  },
  {
   "cell_type": "code",
   "execution_count": 81,
   "metadata": {},
   "outputs": [],
   "source": [
    "text = \"a b c aa a b c\"\n",
    "assert work_with_dicts(text) == {'aa': 1, 'c': 2, 'b': 2, 'a': 2}"
   ]
  },
  {
   "cell_type": "markdown",
   "metadata": {},
   "source": [
    "#### Task 7 (3 points): Manipulations with matrices and OOP\n",
    "\n",
    "Create a class *my_matrix* and implement four methods:\n",
    "- *non_zero_diag_prod* should return a product of all non-zero diagonal elements of $X$, if all of them are 0s then return none\n",
    "- *det_XTX* should return a determinant of $X^TX$\n",
    "- *replace_nans* should find all *nan* values of $X$ and replace them with the arithmetic average of all the other elements of $X$. In the case of a matrix of all *nans* produced replaced by zeros.\n",
    "- *calculate_stats* should calculate and print\n",
    " - determinant (*already implemented*)\n",
    " - trace\n",
    " - max and min elements\n",
    " - eigenvalues\n",
    " - inverse matrix\n",
    "\n",
    "Hint: for *calculate_stats* just google corresponding numpy methods\n",
    "\n",
    "Do it without using loops (if possible)"
   ]
  },
  {
   "cell_type": "code",
   "execution_count": 82,
   "metadata": {},
   "outputs": [],
   "source": [
    "class my_matrix:\n",
    "    \n",
    "    def __init__(self, X):\n",
    "        self.X = X\n",
    "    \n",
    "    def non_zero_diag_prod(self):\n",
    "        i = 0 \n",
    "        j = 0\n",
    "        diag = []\n",
    "\n",
    "        while i < len(self.X[0]) - 1:\n",
    "            if self.X[i][j] > 0:\n",
    "                diag.append(self.X[i][j])\n",
    "            i += 1\n",
    "            j += 1\n",
    "        \n",
    "        if len(diag) == 0:\n",
    "            return None \n",
    "        else:\n",
    "            prod = 1\n",
    "            for x in diag:\n",
    "                prod *= x \n",
    "\n",
    "            return prod\n",
    "\n",
    "        \n",
    "    \n",
    "    def det_XTX(self):\n",
    "        X_t = self.X.T\n",
    "\n",
    "        XTX = X_t @ self.X\n",
    "\n",
    "        det = np.linalg.det(XTX)\n",
    "\n",
    "        return det\n",
    "\n",
    " \n",
    "    \n",
    "    def replace_nans(self):\n",
    "        all_sum = 0\n",
    "\n",
    "        for x in self.X:\n",
    "            arr = np.array(x)\n",
    "\n",
    "            cln_arr = np.nan_to_num(arr)\n",
    "            inter_sum = sum(cln_arr)\n",
    "\n",
    "            all_sum += inter_sum\n",
    "\n",
    "        mean = all_sum / (len(self.X)*len(self.X[0]))\n",
    "\n",
    "        matrix = []\n",
    "        for y in self.X:\n",
    "            arr = np.array(y)\n",
    "\n",
    "            arr[np.isnan(arr)] = mean\n",
    "            matrix.append(arr)\n",
    "\n",
    "        \n",
    "        return matrix\n",
    "    \n",
    "\n",
    "        \n",
    "    def calculate_stats(self):\n",
    "        print(\"Det = {}\".format(np.linalg.det(self.X)), '\\n')\n",
    "        print(\"Trace = {}\".format(np.trace(self.X)), '\\n')\n",
    "\n",
    "        max_el = float('-inf')\n",
    "        min_el = float('inf')\n",
    "\n",
    "        for x in self.X:\n",
    "\n",
    "            max_el = max(max(x), max_el)\n",
    "            min_el = min(min(x), min_el)\n",
    "        \n",
    "        print(f\"Min element = {min_el}; max element = {max_el}\", '\\n')\n",
    "\n",
    "        eigenvalues, eigenvectors = linalg.eig(self.X)\n",
    "        inverse_matrix = linalg.inv(self.X)\n",
    "\n",
    "        print(f'Eigenvalues = {eigenvalues}', '\\n')\n",
    "        print(f'Inverse matrix = {inverse_matrix}', '\\n')\n",
    "        \n"
   ]
  },
  {
   "cell_type": "code",
   "execution_count": 83,
   "metadata": {},
   "outputs": [
    {
     "name": "stdout",
     "output_type": "stream",
     "text": [
      "110 \n",
      "\n",
      "0.0\n"
     ]
    }
   ],
   "source": [
    "my_X = my_matrix(np.array([[10,2,3,4],[5,0,7,8],[9,10,11,12]]))\n",
    "\n",
    "print(my_X.non_zero_diag_prod(), '\\n')\n",
    "print(my_X.det_XTX())\n",
    "\n",
    "assert my_X.non_zero_diag_prod() == 110\n",
    "assert np.abs(my_X.det_XTX() - (-1.5926383609604704e-09)) < 0.0000001"
   ]
  },
  {
   "cell_type": "code",
   "execution_count": 84,
   "metadata": {},
   "outputs": [
    {
     "name": "stdout",
     "output_type": "stream",
     "text": [
      "X = \n",
      "[[ 1.  2.  3. nan]\n",
      " [ 1.  2. nan  3.]] \n",
      "\n",
      "Result = \n",
      "[array([1. , 2. , 3. , 1.5]), array([1. , 2. , 1.5, 3. ])]\n"
     ]
    }
   ],
   "source": [
    "my_X = my_matrix(np.array([[1,2,3,np.nan], [1,2,np.nan,3]]))\n",
    "print(\"X = \\n{}\".format(my_X.X), '\\n')\n",
    "print(\"Result = \\n{}\".format(my_X.replace_nans()))"
   ]
  },
  {
   "cell_type": "code",
   "execution_count": 85,
   "metadata": {},
   "outputs": [
    {
     "name": "stdout",
     "output_type": "stream",
     "text": [
      "X = \n",
      "[[11.62434536  9.38824359  9.47182825  8.92703138 10.86540763]\n",
      " [ 7.6984613  11.74481176  9.2387931  10.3190391   9.75062962]\n",
      " [11.46210794  7.93985929  9.6775828   9.61594565 11.13376944]\n",
      " [ 8.90010873  9.82757179  9.12214158 10.04221375 10.58281521]\n",
      " [ 8.89938082 11.14472371 10.90159072 10.50249434 10.90085595]] \n",
      "\n",
      "Det = 73.80715080122845 \n",
      "\n",
      "Trace = 53.98980961984621 \n",
      "\n",
      "Min element = 7.698461303119718; max element = 11.74481176421648 \n",
      "\n",
      "Eigenvalues = [49.96800328+0.j          3.14043406+0.j          1.27892705+0.j\n",
      " -0.19877738+0.57293373j -0.19877738-0.57293373j] \n",
      "\n",
      "Inverse matrix = [[ 0.07941692  0.57870693  0.47582557 -0.75309525 -0.35167133]\n",
      " [ 0.37335115  0.11816138 -0.42294919  0.02400836 -0.06915214]\n",
      " [-0.15699474 -0.07966787  0.25716001 -0.76293076  0.70576281]\n",
      " [-0.78157337  0.97418396  1.08958638 -0.68220473 -0.54292532]\n",
      " [ 0.46347787 -1.4521671  -1.26299523  2.01053249  0.26681129]] \n",
      "\n"
     ]
    }
   ],
   "source": [
    "my_X = my_matrix(np.random.normal(10, 1, size=(5, 5)))\n",
    "print(\"X = \\n{}\".format(my_X.X), '\\n')\n",
    "my_X.calculate_stats()"
   ]
  },
  {
   "cell_type": "markdown",
   "metadata": {},
   "source": [
    "#### Task 8 (5 points): Option pricing\n",
    "\n",
    "Here you should write a couple of functions for pricing \n",
    "- options of different types (European, American, Barrier) with\n",
    "- different approaches (analytical, numerical schemes and MC simulations)\n",
    "\n",
    "Implement everything as different functions (or write classes if you want) with different parameters, then compare results (where possible), plot convergence etc.\n",
    "\n",
    "(2 points) Analytical formulas:\n",
    "\n",
    "1. Implement analytical Black-Scholes formulas\n",
    "\n",
    "2. Modify Black-Scholes formulas for dividends paying stocks\n",
    "\n",
    "(2 points) Numerical schemes:\n",
    "\n",
    "3. Implement Binomial pricing model\n",
    "\n",
    "4. Modify program to price American option\n",
    "\n",
    "(1 point) Monte Carlo methods:\n",
    "\n",
    "5. Implement Monte Carlo simulation scheme for option pricing\n",
    "\n",
    "\n",
    "##### Hint 1: This book could be very useful since it has all explanations and even pieces of code: *The Complete Guide To Option Pricing Formulas. Espen G. Haug*\n",
    "\n",
    "##### Hint 2: You will have to make a very small modification to your Binomial tree model to price an American option "
   ]
  },
  {
   "cell_type": "code",
   "execution_count": 86,
   "metadata": {},
   "outputs": [
    {
     "data": {
      "text/plain": [
       "0.5"
      ]
     },
     "execution_count": 86,
     "metadata": {},
     "output_type": "execute_result"
    }
   ],
   "source": [
    "# for the 1st task you can use this function to calculate CDF of a Normal distribution\n",
    "\n",
    "scipy.stats.norm.cdf(0)"
   ]
  },
  {
   "cell_type": "code",
   "execution_count": 91,
   "metadata": {},
   "outputs": [],
   "source": [
    "# analitical formula with out divs for call and put\n",
    "\n",
    "def bs_option_price(S0, K, T, r, sigma, option_type='call'):\n",
    "\n",
    "    d1 = (np.log(S0 / K) + (r + 0.5 * sigma**2) * T) / (sigma * np.sqrt(T))\n",
    "    d2 = d1 - sigma * np.sqrt(T)\n",
    "\n",
    "    if option_type == 'call':\n",
    "        call_price = S0 * scipy.stats.norm.cdf(d1) - K * np.exp(-r * T) * scipy.stats.norm.cdf(d2)\n",
    "        return call_price\n",
    "    \n",
    "    if option_type == 'put':\n",
    "        put_price = K * np.exp(-r * T) * scipy.stats.norm.cdf(-d2) - S0 * scipy.stats.norm.cdf(-d1)\n",
    "        return put_price \n",
    "    \n",
    "    else:\n",
    "        print(f\"option_type argument must be ether 'call' or 'put'\")\n",
    "\n",
    "    \n",
    "\n",
    "# analitical formula with divs for call and for put \n",
    "# where delta is amount of divs that will be payed from 0 to T\n",
    "\n",
    "def bs_call_price(S0, K, T, r, sigma, delta):\n",
    "    d1 = (np.log(S0 / K) + (r - delta + 0.5 * sigma**2) * T) / (sigma * np.sqrt(T))\n",
    "    d2 = d1 - sigma * np.sqrt(T)\n",
    "    call_price = S0 * np.exp(-delta * T) * scipy.stats.norm.cdf(d1) - K * np.exp(-r * T) * scipy.stats.norm.cdf(d2)\n",
    "    return call_price\n"
   ]
  },
  {
   "cell_type": "code",
   "execution_count": 88,
   "metadata": {},
   "outputs": [],
   "source": [
    "def euro_vanilla_binomial(S, K, T, r, sigma, option='call', n=10):\n",
    "\n",
    "    up = np.exp(sigma * np.sqrt(T/n))\n",
    "    down = np.exp(-sigma * np.sqrt(T/n))\n",
    "\n",
    "    # this is the correct formula for risk-neutral probability of up state in binomial pricing formula \n",
    "    q = (np.exp(r * (T / n)) - down) / (up - down)\n",
    "\n",
    "    option_price = 0\n",
    "\n",
    "    #here i is a number of up movements\n",
    "    for i in range(n, -1, -1):\n",
    "\n",
    "        bin_coef= math.factorial(n) / (math.factorial(n - i) * math.factorial(i))\n",
    "\n",
    "        prob = (q**i) * ((1 - q)**(n-i))\n",
    "\n",
    "        stock_price = S * up**i * down**(n-i)\n",
    "\n",
    "        if option == 'call':\n",
    "            payoff = max(stock_price - K, 0)\n",
    "\n",
    "        elif option == 'put':\n",
    "            payoff = max(K - stock_price, 0)\n",
    "        \n",
    "        else:\n",
    "            print(\"option argument must be ether 'call' or 'put'\" )\n",
    "\n",
    "        path_value = bin_coef*prob*payoff\n",
    "\n",
    "        #print(f'bin_coef: {bin_coef}; prob: {prob}; stock_price: {stock_price}; path_value: {path_value}')\n",
    "\n",
    "        option_price += path_value\n",
    "\n",
    "    #correct discounting is not the exponential one but the regular as we have discrete time intervals\n",
    "    return option_price * np.exp(-r * T)\n",
    "\n",
    "\n",
    "def euro_vanilla_mc(S, K, T, r, sigma, option='call', n=10, n_samples=10**3):\n",
    "        \n",
    "    up = np.exp(sigma * np.sqrt(T/n))\n",
    "    down = np.exp(-sigma * np.sqrt(T/n))\n",
    "\n",
    "    q = (np.exp(r * (T / n)) - down) / (up - down)\n",
    "\n",
    "    cum_sum = 0\n",
    "        \n",
    "    for _ in range(n_samples):\n",
    "\n",
    "        path = np.random.binomial(1, p=q, size= (n))\n",
    "        i = sum(path)\n",
    "        \n",
    "        stock_price = S * up**i * down**(n-i)\n",
    "\n",
    "        if option == 'call':\n",
    "            payoff = max(stock_price - K, 0)\n",
    "\n",
    "        elif option == 'put':\n",
    "            payoff = max(K - stock_price, 0)\n",
    "        \n",
    "        else:\n",
    "            print(\"option argument must be ether 'call' or 'put'\" )\n",
    "\n",
    "        cum_sum += payoff\n",
    "\n",
    "    option_price = (cum_sum / n_samples) * (r**n)\n",
    "    \n",
    "    return option_price"
   ]
  },
  {
   "cell_type": "code",
   "execution_count": 100,
   "metadata": {},
   "outputs": [],
   "source": [
    "#AMERICAN OPTION\n",
    "\n",
    "#since we know that its never optimal to exercise american call option on non paying divident stock befor the maturity, its price will be the same as for eupopean one\n",
    "#the difference will arrize if we have dividents\n",
    "#since we have no even a single clue about what structure of div payoffs we have, I assume my own structure \n",
    "#Divs will be payed only if stock hits 110% of its initial value, and and amount of divs is 5%\n",
    "#Divs is a form of repaying euqity to euqity holders, so if divs are payed then the value of stock will decrease by this amount\n",
    "#Divs are not payed to the option holder \n",
    "#Divs payed befor option can be exicuted\n",
    "#So now we actually have a trade off between exercise today or wait untill maturity \n",
    "\n",
    "def american_option_bin(S, K, T, r, sigma, option='call', n=10,):\n",
    "\n",
    "    up = np.exp(sigma * np.sqrt(T/n))\n",
    "    down = np.exp(-sigma * np.sqrt(T/n))\n",
    "\n",
    "    q = (np.exp(r * (T / n)) - down) / (up - down)\n",
    "    \n",
    "    optimal_values = [] \n",
    "\n",
    "    for i in range(n, 0, -1):\n",
    "\n",
    "        if not optimal_values:\n",
    "\n",
    "            stock_prices = []\n",
    "            for x in range(i+1):\n",
    "                stock_price = S * (up**(i - x)) * (down**x)\n",
    "                \n",
    "                #divs rule:\n",
    "                if stock_price > S * 1.1:\n",
    "                    stock_price -= stock_price * 0.05\n",
    "\n",
    "                stock_prices.append(stock_price)\n",
    "            \n",
    "            payoffs = []\n",
    "            if option == 'call':\n",
    "\n",
    "                for price in stock_prices:\n",
    "                    payoff = max(price - K, 0)\n",
    "                    payoffs.append(payoff)\n",
    "\n",
    "            elif option == 'put':\n",
    "                for price in stock_prices:\n",
    "                    payoff = max(K - price, 0)\n",
    "                    payoffs.append(payoff)\n",
    "\n",
    "            else: \n",
    "                print(\"option argument must be ether 'call' or 'put' \")\n",
    "                return\n",
    "        else:\n",
    "            payoffs = optimal_values\n",
    "        \n",
    "        risk_neutral_expectations = []\n",
    "        for y in range(i):\n",
    "            expect = ((q * payoffs[y]) + (q * payoffs[y+1])) / (1 + r)\n",
    "            risk_neutral_expectations.append(expect)\n",
    "\n",
    "        prev_prices = []\n",
    "        for j in range(i):\n",
    "            prev_price = S * (up**((i-1) - j)) * (down**j)\n",
    "\n",
    "            #divs rule again\n",
    "            if prev_price > S * 1.1:\n",
    "                prev_price -= prev_price * 0.05\n",
    "            \n",
    "            prev_prices.append(prev_price)\n",
    "\n",
    "        prev_payofs = []\n",
    "        if option == 'call':\n",
    "\n",
    "            for price in prev_prices:\n",
    "                payoff = max(price - K, 0)\n",
    "                prev_payofs.append(payoff)\n",
    "\n",
    "        elif option == 'put':\n",
    "            for price in prev_prices:\n",
    "                payoff = max(K - price, 0)\n",
    "                prev_payofs.append(payoff)\n",
    "        \n",
    "        #optimal dicision now \n",
    "        optimal_values = [] \n",
    "        for l in range(i):\n",
    "\n",
    "            optimal_value = max(prev_payofs[l], risk_neutral_expectations[l])\n",
    "\n",
    "            #lets print some validation info here\n",
    "            if prev_payofs[l] > risk_neutral_expectations[l]:\n",
    "                print(f\"In {i-1} period in {i-1-l} steps up its optimal to exercise option. Optimal value: {optimal_value}\")\n",
    "            else:\n",
    "                print(f\"In {i-1} period in {i-1-l} steps up its optimal to wait. Optimal value: {optimal_value}\")\n",
    "\n",
    "            optimal_values.append(optimal_value)\n",
    "    \n",
    "    return optimal_values\n",
    "            "
   ]
  },
  {
   "cell_type": "code",
   "execution_count": null,
   "metadata": {},
   "outputs": [],
   "source": []
  },
  {
   "cell_type": "code",
   "execution_count": 95,
   "metadata": {},
   "outputs": [
    {
     "data": {
      "text/plain": [
       "2.5127067408963075"
      ]
     },
     "execution_count": 95,
     "metadata": {},
     "output_type": "execute_result"
    }
   ],
   "source": [
    "bs_option_price(S, K, T, r, sigma, option)"
   ]
  },
  {
   "cell_type": "code",
   "execution_count": 101,
   "metadata": {},
   "outputs": [
    {
     "name": "stdout",
     "output_type": "stream",
     "text": [
      "In 9 period in 9 steps up its optimal to wait. Optimal value: 5.165089962484449\n",
      "In 9 period in 8 steps up its optimal to exercise option. Optimal value: 17.390201320684156\n",
      "In 9 period in 7 steps up its optimal to exercise option. Optimal value: 29.471673844537605\n",
      "In 9 period in 6 steps up its optimal to exercise option. Optimal value: 39.78626180169168\n",
      "In 9 period in 5 steps up its optimal to wait. Optimal value: 46.005690615089236\n",
      "In 9 period in 4 steps up its optimal to exercise option. Optimal value: 53.800634514008266\n",
      "In 9 period in 3 steps up its optimal to exercise option. Optimal value: 60.55717397617531\n",
      "In 9 period in 2 steps up its optimal to exercise option. Optimal value: 66.32558676119865\n",
      "In 9 period in 1 steps up its optimal to exercise option. Optimal value: 71.25038387734669\n",
      "In 9 period in 0 steps up its optimal to exercise option. Optimal value: 75.45494196621827\n",
      "In 8 period in 8 steps up its optimal to wait. Optimal value: 10.996564151847576\n",
      "In 8 period in 7 steps up its optimal to exercise option. Optimal value: 23.669594361801828\n",
      "In 8 period in 6 steps up its optimal to exercise option. Optimal value: 34.83272165657128\n",
      "In 8 period in 5 steps up its optimal to exercise option. Optimal value: 44.36327003397068\n",
      "In 8 period in 4 steps up its optimal to exercise option. Optimal value: 49.99999999999998\n",
      "In 8 period in 3 steps up its optimal to exercise option. Optimal value: 57.312372573835134\n",
      "In 8 period in 2 steps up its optimal to exercise option. Optimal value: 63.555329294498755\n",
      "In 8 period in 1 steps up its optimal to exercise option. Optimal value: 68.88526950508597\n",
      "In 8 period in 0 steps up its optimal to exercise option. Optimal value: 73.43571954335161\n",
      "In 7 period in 7 steps up its optimal to exercise option. Optimal value: 17.390201320684156\n",
      "In 7 period in 6 steps up its optimal to exercise option. Optimal value: 29.471673844537605\n",
      "In 7 period in 5 steps up its optimal to exercise option. Optimal value: 39.78626180169169\n",
      "In 7 period in 4 steps up its optimal to wait. Optimal value: 46.00569061508924\n",
      "In 7 period in 3 steps up its optimal to exercise option. Optimal value: 53.800634514008266\n",
      "In 7 period in 2 steps up its optimal to exercise option. Optimal value: 60.557173976175314\n",
      "In 7 period in 1 steps up its optimal to exercise option. Optimal value: 66.32558676119865\n",
      "In 7 period in 0 steps up its optimal to exercise option. Optimal value: 71.2503838773467\n",
      "In 6 period in 6 steps up its optimal to exercise option. Optimal value: 23.669594361801842\n",
      "In 6 period in 5 steps up its optimal to exercise option. Optimal value: 34.832721656571294\n",
      "In 6 period in 4 steps up its optimal to exercise option. Optimal value: 44.363270033970686\n",
      "In 6 period in 3 steps up its optimal to exercise option. Optimal value: 49.999999999999986\n",
      "In 6 period in 2 steps up its optimal to exercise option. Optimal value: 57.312372573835134\n",
      "In 6 period in 1 steps up its optimal to exercise option. Optimal value: 63.55532929449876\n",
      "In 6 period in 0 steps up its optimal to exercise option. Optimal value: 68.88526950508597\n",
      "In 5 period in 5 steps up its optimal to exercise option. Optimal value: 29.47167384453762\n",
      "In 5 period in 4 steps up its optimal to exercise option. Optimal value: 39.786261801691694\n",
      "In 5 period in 3 steps up its optimal to wait. Optimal value: 46.00569061508925\n",
      "In 5 period in 2 steps up its optimal to exercise option. Optimal value: 53.80063451400827\n",
      "In 5 period in 1 steps up its optimal to exercise option. Optimal value: 60.557173976175314\n",
      "In 5 period in 0 steps up its optimal to exercise option. Optimal value: 66.32558676119865\n",
      "In 4 period in 4 steps up its optimal to exercise option. Optimal value: 34.832721656571294\n",
      "In 4 period in 3 steps up its optimal to exercise option. Optimal value: 44.363270033970686\n",
      "In 4 period in 2 steps up its optimal to exercise option. Optimal value: 49.999999999999986\n",
      "In 4 period in 1 steps up its optimal to exercise option. Optimal value: 57.31237257383514\n",
      "In 4 period in 0 steps up its optimal to exercise option. Optimal value: 63.55532929449876\n",
      "In 3 period in 3 steps up its optimal to exercise option. Optimal value: 39.786261801691694\n",
      "In 3 period in 2 steps up its optimal to wait. Optimal value: 46.00569061508925\n",
      "In 3 period in 1 steps up its optimal to exercise option. Optimal value: 53.80063451400828\n",
      "In 3 period in 0 steps up its optimal to exercise option. Optimal value: 60.55717397617532\n",
      "In 2 period in 2 steps up its optimal to exercise option. Optimal value: 44.36327003397069\n",
      "In 2 period in 1 steps up its optimal to exercise option. Optimal value: 49.99999999999999\n",
      "In 2 period in 0 steps up its optimal to exercise option. Optimal value: 57.31237257383515\n",
      "In 1 period in 1 steps up its optimal to wait. Optimal value: 46.00569061508926\n",
      "In 1 period in 0 steps up its optimal to exercise option. Optimal value: 53.80063451400828\n",
      "In 0 period in 0 steps up its optimal to exercise option. Optimal value: 50.0\n"
     ]
    },
    {
     "data": {
      "text/plain": [
       "[50.0]"
      ]
     },
     "execution_count": 101,
     "metadata": {},
     "output_type": "execute_result"
    }
   ],
   "source": [
    "np.random.seed(1)\n",
    "S = 50\n",
    "K = 100\n",
    "T = 1\n",
    "r = 0.05\n",
    "q = 0.1\n",
    "sigma = 0.25\n",
    "n = 10\n",
    "n_samples = 10**3\n",
    "option = 'put'\n",
    "\n",
    "\n",
    "assert abs(bs_option_price(S, K, T, r, sigma, option) - 45.15029495944084) < 0.001\n",
    "assert abs(euro_vanilla_binomial(S, K, T, r, sigma, option, n) - 45.134971983328526) < 0.001\n",
    "american_option_bin(S, K, T, r, sigma, option, n)"
   ]
  }
 ],
 "metadata": {
  "kernelspec": {
   "display_name": "env",
   "language": "python",
   "name": "python3"
  },
  "language_info": {
   "codemirror_mode": {
    "name": "ipython",
    "version": 3
   },
   "file_extension": ".py",
   "mimetype": "text/x-python",
   "name": "python",
   "nbconvert_exporter": "python",
   "pygments_lexer": "ipython3",
   "version": "3.11.5"
  }
 },
 "nbformat": 4,
 "nbformat_minor": 2
}
