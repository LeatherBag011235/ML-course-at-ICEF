{
 "cells": [
  {
   "cell_type": "markdown",
   "metadata": {},
   "source": [
    "# Basics of numpy\n",
    "\n",
    "The NumPy library is the core library for scientific computing in Python. It provides a high-performance multidimensional array object, and tools for working with these arrays.\n",
    "\n",
    "\n",
    "## Content\n",
    "\n",
    "- Basics\n",
    "    - Creating arrays\n",
    "    - Inspecting arrays\n",
    "    - Array Mathematics\n",
    "    - Arithmetic\n",
    "    - Array Manipulation\n",
    "\n",
    "        \n",
    "- Working with matrices\n",
    "    - Creating matrices\n",
    "    - Inspecting matrices\n",
    "    - Simple linear algebra"
   ]
  },
  {
   "cell_type": "code",
   "execution_count": 1,
   "metadata": {},
   "outputs": [],
   "source": [
    "import numpy as np"
   ]
  },
  {
   "cell_type": "markdown",
   "metadata": {},
   "source": [
    "### Basics\n",
    "- Creating arrays\n",
    "- Inspecting arrays\n",
    "- Data types"
   ]
  },
  {
   "cell_type": "markdown",
   "metadata": {},
   "source": [
    "#### Creating and Inspecting Arrays"
   ]
  },
  {
   "cell_type": "code",
   "execution_count": 2,
   "metadata": {},
   "outputs": [
    {
     "name": "stdout",
     "output_type": "stream",
     "text": [
      "4.947726858600561\n"
     ]
    }
   ],
   "source": [
    "# NPV calculation from the previous week -- has some cycles, enumeration etc.\n",
    "\n",
    "I = 100\n",
    "CFs = [10, 20, 50, 70]\n",
    "wacc = 0.12\n",
    "\n",
    "DCFs = [CF/(1+wacc)**i for i, CF in enumerate(CFs, start=1)]\n",
    "NPV = -I + sum(DCFs)\n",
    "\n",
    "print(NPV)"
   ]
  },
  {
   "cell_type": "markdown",
   "metadata": {},
   "source": [
    "#### Task: calculate NPV in one line"
   ]
  },
  {
   "cell_type": "code",
   "execution_count": 3,
   "metadata": {},
   "outputs": [
    {
     "name": "stdout",
     "output_type": "stream",
     "text": [
      "4.947726858600561\n"
     ]
    }
   ],
   "source": [
    "I = 100\n",
    "CFs = [10, 20, 50, 70]\n",
    "wacc = 0.12\n",
    "\n",
    "NPV = -I + sum(np.array(CFs) / np.array([(1 + wacc) ** i for i in range(1, 5)]))\n",
    "\n",
    "print(NPV)"
   ]
  },
  {
   "cell_type": "code",
   "execution_count": null,
   "metadata": {},
   "outputs": [],
   "source": []
  },
  {
   "cell_type": "markdown",
   "metadata": {},
   "source": [
    "### Array Mathematics\n",
    "- Arithmetic\n",
    "- Comparisons\n",
    "- Aggregating\n",
    "- Sorting"
   ]
  },
  {
   "cell_type": "code",
   "execution_count": 4,
   "metadata": {},
   "outputs": [
    {
     "ename": "TypeError",
     "evalue": "unsupported operand type(s) for -: 'list' and 'list'",
     "output_type": "error",
     "traceback": [
      "\u001b[0;31m---------------------------------------------------------------------------\u001b[0m",
      "\u001b[0;31mTypeError\u001b[0m                                 Traceback (most recent call last)",
      "Cell \u001b[0;32mIn[4], line 10\u001b[0m\n\u001b[1;32m      6\u001b[0m costs \u001b[38;5;241m=\u001b[39m [\u001b[38;5;241m20\u001b[39m, \u001b[38;5;241m30\u001b[39m, \u001b[38;5;241m12\u001b[39m, \u001b[38;5;241m37\u001b[39m, \u001b[38;5;241m50\u001b[39m, \u001b[38;5;241m31\u001b[39m]\n\u001b[1;32m      8\u001b[0m wacc \u001b[38;5;241m=\u001b[39m \u001b[38;5;241m0.12\u001b[39m\n\u001b[0;32m---> 10\u001b[0m CFs \u001b[38;5;241m=\u001b[39m revenues \u001b[38;5;241m-\u001b[39m costs\n",
      "\u001b[0;31mTypeError\u001b[0m: unsupported operand type(s) for -: 'list' and 'list'"
     ]
    }
   ],
   "source": [
    "# if we have revenues and costs we probably want to calculate a difference to obtain profits (sorry for simplification)\n",
    "\n",
    "I = 100\n",
    "\n",
    "revenues = [50, 70, 42, 68, 100, 89]\n",
    "costs = [20, 30, 12, 37, 50, 31]\n",
    "\n",
    "wacc = 0.12\n",
    "\n",
    "CFs = revenues - costs"
   ]
  },
  {
   "cell_type": "markdown",
   "metadata": {},
   "source": [
    "#### Task: calculate CFs in one line without numpy"
   ]
  },
  {
   "cell_type": "code",
   "execution_count": 5,
   "metadata": {},
   "outputs": [
    {
     "data": {
      "text/plain": [
       "[30, 40, 30, 31, 50, 58]"
      ]
     },
     "execution_count": 5,
     "metadata": {},
     "output_type": "execute_result"
    }
   ],
   "source": [
    "CFs = []\n",
    "\n",
    "CFs"
   ]
  },
  {
   "cell_type": "markdown",
   "metadata": {},
   "source": [
    "#### Task: calculate CFs in one line with numpy"
   ]
  },
  {
   "cell_type": "code",
   "execution_count": 6,
   "metadata": {},
   "outputs": [
    {
     "data": {
      "text/plain": [
       "array([30, 40, 30, 31, 50, 58])"
      ]
     },
     "execution_count": 6,
     "metadata": {},
     "output_type": "execute_result"
    }
   ],
   "source": [
    "CFs = \n",
    "\n",
    "CFs"
   ]
  },
  {
   "cell_type": "code",
   "execution_count": 7,
   "metadata": {},
   "outputs": [
    {
     "data": {
      "text/plain": [
       "array([0.12, 0.12, 0.12, 0.12, 0.12, 0.12])"
      ]
     },
     "execution_count": 7,
     "metadata": {},
     "output_type": "execute_result"
    }
   ],
   "source": [
    "# we again vectorize our WACCs\n",
    "\n",
    "waccs = np.ones(CFs.shape) * wacc\n",
    "\n",
    "waccs"
   ]
  },
  {
   "cell_type": "code",
   "execution_count": 8,
   "metadata": {},
   "outputs": [
    {
     "data": {
      "text/plain": [
       "array([0.12, 0.09, 0.12, 0.12, 0.14, 0.14])"
      ]
     },
     "execution_count": 8,
     "metadata": {},
     "output_type": "execute_result"
    }
   ],
   "source": [
    "# and here we can modify it using indexing\n",
    "\n",
    "waccs[1] = 0.09\n",
    "waccs[4:] = 0.14\n",
    "\n",
    "\n",
    "waccs"
   ]
  },
  {
   "cell_type": "markdown",
   "metadata": {},
   "source": [
    "#### Task: assign values 0.07 to years 3 and 4, and value 0.17 for the last year"
   ]
  },
  {
   "cell_type": "code",
   "execution_count": 9,
   "metadata": {},
   "outputs": [
    {
     "data": {
      "text/plain": [
       "array([0.12, 0.09, 0.07, 0.07, 0.14, 0.17])"
      ]
     },
     "execution_count": 9,
     "metadata": {},
     "output_type": "execute_result"
    }
   ],
   "source": [
    "\n",
    "\n",
    "waccs"
   ]
  },
  {
   "cell_type": "code",
   "execution_count": 10,
   "metadata": {},
   "outputs": [
    {
     "data": {
      "text/plain": [
       "array([0.89285714, 0.81913499, 0.76554672, 0.71546423, 0.6276002 ,\n",
       "       0.53641043])"
      ]
     },
     "execution_count": 10,
     "metadata": {},
     "output_type": "execute_result"
    }
   ],
   "source": [
    "# we can calculate a vector of discounting factors using .cumprod()\n",
    "\n",
    "discount_factors = 1 / (1+waccs).cumprod()\n",
    "\n",
    "discount_factors"
   ]
  },
  {
   "cell_type": "code",
   "execution_count": 11,
   "metadata": {},
   "outputs": [
    {
     "data": {
      "text/plain": [
       "67.18872144030829"
      ]
     },
     "execution_count": 11,
     "metadata": {},
     "output_type": "execute_result"
    }
   ],
   "source": [
    "# now it looks prettier\n",
    "\n",
    "DCFs = CFs * discount_factors\n",
    "\n",
    "NPV = -I + DCFs.sum()\n",
    "\n",
    "NPV"
   ]
  },
  {
   "cell_type": "markdown",
   "metadata": {},
   "source": [
    "#### Task: calculate a vector of accumulated CFs"
   ]
  },
  {
   "cell_type": "code",
   "execution_count": 12,
   "metadata": {},
   "outputs": [
    {
     "data": {
      "text/plain": [
       "array([-73.21428571, -40.44888598, -17.48248429,   4.69690674,\n",
       "        36.0769167 ,  67.18872144])"
      ]
     },
     "execution_count": 12,
     "metadata": {},
     "output_type": "execute_result"
    }
   ],
   "source": [
    "# we can look at accumulated CFs\n",
    "\n",
    "accumulated_dcfs = \n",
    "\n",
    "accumulated_dcfs"
   ]
  },
  {
   "cell_type": "code",
   "execution_count": 13,
   "metadata": {},
   "outputs": [
    {
     "data": {
      "text/plain": [
       "array([False, False, False,  True,  True,  True])"
      ]
     },
     "execution_count": 13,
     "metadata": {},
     "output_type": "execute_result"
    }
   ],
   "source": [
    "# and find a payback period (in a kinda weird way)\n",
    "\n",
    "is_positive = accumulated_dcfs > 0\n",
    "\n",
    "is_positive"
   ]
  },
  {
   "cell_type": "code",
   "execution_count": 14,
   "metadata": {},
   "outputs": [
    {
     "data": {
      "text/plain": [
       "(array([3, 4, 5]),)"
      ]
     },
     "execution_count": 14,
     "metadata": {},
     "output_type": "execute_result"
    }
   ],
   "source": [
    "np.where(is_positive == True) "
   ]
  },
  {
   "cell_type": "markdown",
   "metadata": {},
   "source": [
    "#### Task: find DPP using np.where"
   ]
  },
  {
   "cell_type": "code",
   "execution_count": 15,
   "metadata": {},
   "outputs": [
    {
     "data": {
      "text/plain": [
       "4"
      ]
     },
     "execution_count": 15,
     "metadata": {},
     "output_type": "execute_result"
    }
   ],
   "source": [
    "DPP = \n",
    "\n",
    "DPP"
   ]
  },
  {
   "cell_type": "code",
   "execution_count": null,
   "metadata": {},
   "outputs": [],
   "source": []
  },
  {
   "cell_type": "markdown",
   "metadata": {},
   "source": [
    "### Working with matrices\n",
    "- Creating matrices\n",
    "- Inspecting matrices\n",
    "- Simple linear algebra"
   ]
  },
  {
   "cell_type": "code",
   "execution_count": 16,
   "metadata": {},
   "outputs": [],
   "source": [
    "b = 0.42\n",
    "weights = np.array([1., 0.5, 0.2])\n",
    "\n",
    "n_points = 10 ** 3"
   ]
  },
  {
   "cell_type": "code",
   "execution_count": 17,
   "metadata": {},
   "outputs": [
    {
     "data": {
      "text/plain": [
       "array([[-0.75350653,  0.76585791,  0.94142908],\n",
       "       [-0.76472776, -0.45625487, -0.70018228],\n",
       "       [-0.62375478,  0.20373535,  0.61317283],\n",
       "       ...,\n",
       "       [-0.75556846, -0.35887221, -0.93829793],\n",
       "       [-0.43657764,  0.94542502, -0.25469227],\n",
       "       [-0.78160161,  0.43408745, -0.72608812]])"
      ]
     },
     "execution_count": 17,
     "metadata": {},
     "output_type": "execute_result"
    }
   ],
   "source": [
    "np.random.uniform(low=-1, high=1, size=(n_points, 3))"
   ]
  },
  {
   "cell_type": "code",
   "execution_count": 18,
   "metadata": {},
   "outputs": [
    {
     "data": {
      "text/plain": [
       "array([[-0.25091976,  0.90142861,  0.46398788],\n",
       "       [ 0.19731697, -0.68796272, -0.68801096],\n",
       "       [-0.88383278,  0.73235229,  0.20223002],\n",
       "       ...,\n",
       "       [ 0.60000696,  0.10541415, -0.20689264],\n",
       "       [-0.73656994,  0.73059152, -0.68545358],\n",
       "       [-0.38042428, -0.41990894,  0.74282807]])"
      ]
     },
     "execution_count": 18,
     "metadata": {},
     "output_type": "execute_result"
    }
   ],
   "source": [
    "low = - np.ones((n_points, 3), 'float')\n",
    "high = np.ones((n_points, 3), 'float')\n",
    "\n",
    "np.random.seed(42)\n",
    "\n",
    "X = np.random.uniform(low=low, high=high)\n",
    "\n",
    "X"
   ]
  },
  {
   "cell_type": "code",
   "execution_count": 19,
   "metadata": {},
   "outputs": [
    {
     "data": {
      "text/plain": [
       "(1000, 3)"
      ]
     },
     "execution_count": 19,
     "metadata": {},
     "output_type": "execute_result"
    }
   ],
   "source": [
    "low.shape"
   ]
  },
  {
   "cell_type": "code",
   "execution_count": null,
   "metadata": {},
   "outputs": [],
   "source": []
  },
  {
   "cell_type": "markdown",
   "metadata": {},
   "source": [
    "#### Task: create a vector of random samples from normal distribution with std=0.1, n_points=1000"
   ]
  },
  {
   "cell_type": "code",
   "execution_count": 20,
   "metadata": {},
   "outputs": [],
   "source": [
    "noise_std = 0.1\n",
    "\n",
    "noise = "
   ]
  },
  {
   "cell_type": "code",
   "execution_count": 21,
   "metadata": {
    "scrolled": true
   },
   "outputs": [
    {
     "data": {
      "text/plain": [
       "0.1004012969357801"
      ]
     },
     "execution_count": 21,
     "metadata": {},
     "output_type": "execute_result"
    }
   ],
   "source": [
    "noise.std()"
   ]
  },
  {
   "cell_type": "code",
   "execution_count": null,
   "metadata": {},
   "outputs": [],
   "source": []
  },
  {
   "cell_type": "markdown",
   "metadata": {},
   "source": [
    "#### Task: calculate a random vector $$y = b + X\\theta + \\epsilon$$"
   ]
  },
  {
   "cell_type": "code",
   "execution_count": 22,
   "metadata": {},
   "outputs": [],
   "source": [
    "bias = b * np.ones(n_points).reshape((-1,1))\n",
    "theta = np.random.uniform(1, 3, size=(3, 1))\n",
    "\n",
    "Y = "
   ]
  },
  {
   "cell_type": "code",
   "execution_count": 23,
   "metadata": {},
   "outputs": [
    {
     "name": "stdout",
     "output_type": "stream",
     "text": [
      "(1000, 1)\n",
      "(1000, 3)\n"
     ]
    }
   ],
   "source": [
    "print(Y.shape)\n",
    "print(X.shape)"
   ]
  },
  {
   "cell_type": "code",
   "execution_count": null,
   "metadata": {},
   "outputs": [],
   "source": []
  },
  {
   "cell_type": "code",
   "execution_count": 24,
   "metadata": {},
   "outputs": [
    {
     "data": {
      "text/plain": [
       "array([ 0.02395998, -0.01155026, -0.01305055])"
      ]
     },
     "execution_count": 24,
     "metadata": {},
     "output_type": "execute_result"
    }
   ],
   "source": [
    "X.mean(axis=0)"
   ]
  },
  {
   "cell_type": "code",
   "execution_count": 25,
   "metadata": {},
   "outputs": [
    {
     "data": {
      "text/plain": [
       "array([0.99943535, 0.99669502, 0.99339371])"
      ]
     },
     "execution_count": 25,
     "metadata": {},
     "output_type": "execute_result"
    }
   ],
   "source": [
    "X.max(axis=0)"
   ]
  },
  {
   "cell_type": "code",
   "execution_count": 26,
   "metadata": {},
   "outputs": [
    {
     "data": {
      "text/plain": [
       "array([-0.99973061, -0.99997673, -0.99729275])"
      ]
     },
     "execution_count": 26,
     "metadata": {},
     "output_type": "execute_result"
    }
   ],
   "source": [
    "X.min(axis=0)"
   ]
  },
  {
   "cell_type": "code",
   "execution_count": 27,
   "metadata": {},
   "outputs": [
    {
     "data": {
      "text/plain": [
       "array([0.5733859 , 0.59225948, 0.58309619])"
      ]
     },
     "execution_count": 27,
     "metadata": {},
     "output_type": "execute_result"
    }
   ],
   "source": [
    "X.std(axis=0)"
   ]
  },
  {
   "cell_type": "code",
   "execution_count": null,
   "metadata": {},
   "outputs": [],
   "source": []
  },
  {
   "cell_type": "code",
   "execution_count": 28,
   "metadata": {},
   "outputs": [],
   "source": [
    "X_plus_ones = np.column_stack((X, np.ones(X.shape[0])))"
   ]
  },
  {
   "cell_type": "code",
   "execution_count": 29,
   "metadata": {},
   "outputs": [
    {
     "data": {
      "text/plain": [
       "array([[-0.25091976,  0.90142861,  0.46398788,  1.        ],\n",
       "       [ 0.19731697, -0.68796272, -0.68801096,  1.        ],\n",
       "       [-0.88383278,  0.73235229,  0.20223002,  1.        ],\n",
       "       ...,\n",
       "       [ 0.60000696,  0.10541415, -0.20689264,  1.        ],\n",
       "       [-0.73656994,  0.73059152, -0.68545358,  1.        ],\n",
       "       [-0.38042428, -0.41990894,  0.74282807,  1.        ]])"
      ]
     },
     "execution_count": 29,
     "metadata": {},
     "output_type": "execute_result"
    }
   ],
   "source": [
    "X_plus_ones"
   ]
  },
  {
   "cell_type": "code",
   "execution_count": null,
   "metadata": {},
   "outputs": [],
   "source": []
  },
  {
   "cell_type": "markdown",
   "metadata": {},
   "source": [
    "#### Task: implement OLS using numpy matrix operations.\n",
    "\n",
    "Recall the OLS method for some data matrix $X$, coefficients $\\theta$ and a vector of output variables $y$:\n",
    "$$X \\cdot \\hat{\\theta} = y$$\n",
    "$$X^T X \\hat{\\theta} = X^T y$$\n",
    "Finally:\n",
    "$$\\hat{\\theta} = (X^T X )^{-1} X^T y$$ \n",
    "\n",
    "Compute the coefficients using `np.matmul`, `np.linalg.inv` and the `.T` operation."
   ]
  },
  {
   "cell_type": "code",
   "execution_count": 30,
   "metadata": {},
   "outputs": [
    {
     "data": {
      "text/plain": [
       "array([[1.50494153],\n",
       "       [1.24128807],\n",
       "       [2.16527107],\n",
       "       [0.42010717]])"
      ]
     },
     "execution_count": 30,
     "metadata": {},
     "output_type": "execute_result"
    }
   ],
   "source": [
    "# not the most efficient way (using np.matmul)\n",
    "\n",
    "theta_analytical = np.matmul(np.matmul(np.linalg.inv(np.matmul(X_plus_ones.T, X_plus_ones)), X_plus_ones.T), Y)\n",
    "\n",
    "theta_analytical"
   ]
  },
  {
   "cell_type": "code",
   "execution_count": 31,
   "metadata": {},
   "outputs": [
    {
     "name": "stderr",
     "output_type": "stream",
     "text": [
      "/var/folders/gv/k52rb94x2m54mddyj3df24880000gq/T/ipykernel_9306/52060306.py:3: FutureWarning: `rcond` parameter will change to the default of machine precision times ``max(M, N)`` where M and N are the input matrix dimensions.\n",
      "To use the future default and silence this warning we advise to pass `rcond=None`, to keep using the old, explicitly pass `rcond=-1`.\n",
      "  theta_analytical_v3 = np.linalg.lstsq(X_plus_ones, Y)[0]\n"
     ]
    },
    {
     "data": {
      "text/plain": [
       "array([[1.50494153],\n",
       "       [1.24128807],\n",
       "       [2.16527107],\n",
       "       [0.42010717]])"
      ]
     },
     "execution_count": 31,
     "metadata": {},
     "output_type": "execute_result"
    }
   ],
   "source": [
    "# optimized way (using np.linalg)\n",
    "\n",
    "theta_analytical_v3 = np.linalg.lstsq(X_plus_ones, Y)[0]\n",
    "\n",
    "theta_analytical_v3"
   ]
  },
  {
   "cell_type": "code",
   "execution_count": null,
   "metadata": {},
   "outputs": [],
   "source": []
  }
 ],
 "metadata": {
  "kernelspec": {
   "display_name": "Python 3 (ipykernel)",
   "language": "python",
   "name": "python3"
  },
  "language_info": {
   "codemirror_mode": {
    "name": "ipython",
    "version": 3
   },
   "file_extension": ".py",
   "mimetype": "text/x-python",
   "name": "python",
   "nbconvert_exporter": "python",
   "pygments_lexer": "ipython3",
   "version": "3.11.4"
  }
 },
 "nbformat": 4,
 "nbformat_minor": 2
}
