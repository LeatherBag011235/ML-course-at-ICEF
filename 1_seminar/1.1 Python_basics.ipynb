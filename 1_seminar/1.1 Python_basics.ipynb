{
 "cells": [
  {
   "cell_type": "markdown",
   "metadata": {},
   "source": [
    "# Intro to Python\n",
    "\n",
    "\n",
    "## Content\n",
    "\n",
    "- Python basics\n",
    "    - data types\n",
    "    - variables\n",
    "    - modules\n",
    "    - input/output\n",
    "    - simple math\n",
    "    \n",
    "    \n",
    "- Loops and Conditional Statements\n",
    "    - if-else\n",
    "    - Iterative Loop Statement\n",
    "    - Conditional Loop Statement\n",
    "    - Loop control\n",
    "\n",
    "\n",
    "- Container types\n",
    "    - lists\n",
    "    - tuples\n",
    "    - dictionaries\n",
    "    - and operations on them\n",
    "    \n",
    "    \n",
    "- Functions and classes"
   ]
  },
  {
   "cell_type": "code",
   "execution_count": null,
   "metadata": {},
   "outputs": [],
   "source": []
  },
  {
   "cell_type": "markdown",
   "metadata": {},
   "source": [
    "Basic types -- integer, float, boolean, string, bytes"
   ]
  },
  {
   "cell_type": "code",
   "execution_count": 1,
   "metadata": {},
   "outputs": [
    {
     "data": {
      "text/plain": [
       "'X\\tY\\tZ\\n1\\t2\\t3'"
      ]
     },
     "execution_count": 1,
     "metadata": {},
     "output_type": "execute_result"
    }
   ],
   "source": [
    "#int \n",
    "783, 0, -192\n",
    "\n",
    "#float\n",
    "9.23, 0.0, -1.7e-6\n",
    "\n",
    "#bool\n",
    "True, False\n",
    "\n",
    "# String -- array of bytes representing unicode characters.\n",
    "# However, Python does not have a character data type, a single character is simply a string with a length of 1\n",
    "'a', '1', '#'\n",
    "\n",
    "\"One\\nTwo\", 'I\\'m',\n",
    "\n",
    "\"\"\"X\\tY\\tZ\n",
    "1\\t2\\t3\"\"\""
   ]
  },
  {
   "cell_type": "markdown",
   "metadata": {},
   "source": [
    "Variables assignment ⇔ binding of a name with a value\n",
    "\n",
    "1) evaluation of right side expression value\n",
    "\n",
    "2) assignment in order with left side names"
   ]
  },
  {
   "cell_type": "code",
   "execution_count": 3,
   "metadata": {},
   "outputs": [],
   "source": [
    "y = 3\n",
    "\n",
    "x = 1.2 + 8 \n",
    "\n",
    "a = b = c = 0 # assignment to same value\n",
    "y, z, r = 9.2, -7.6, 0\n",
    "\n",
    "a, b = b, a # values swap\n",
    "\n",
    "x += 3 # increment ⇔ x = x + 3\n",
    "x -= 2 # decrement ⇔ x = x - 2\n",
    "\n",
    "x = None\n",
    "del x"
   ]
  },
  {
   "cell_type": "markdown",
   "metadata": {},
   "source": [
    "Display and Input"
   ]
  },
  {
   "cell_type": "code",
   "execution_count": 5,
   "metadata": {},
   "outputs": [
    {
     "name": "stdout",
     "output_type": "stream",
     "text": [
      "Enter Y: 1\n",
      "\n"
     ]
    }
   ],
   "source": [
    "y = float(input(\"Enter Y: \"))\n",
    "\n",
    "print(\"\")\n",
    "print(\"v=\", 3, \"cm :\", a, \",\", y+4, sep=' ')"
   ]
  },
  {
   "cell_type": "markdown",
   "metadata": {},
   "source": [
    "#### Task: take a periodic payment $A$ and a yield $r$ as inputs, calculate a present value of a perpetuity $PV=\\frac{A}{r}$ and print it rounded\n"
   ]
  },
  {
   "cell_type": "code",
   "execution_count": 3,
   "metadata": {},
   "outputs": [
    {
     "name": "stdout",
     "output_type": "stream",
     "text": [
      "50\n"
     ]
    }
   ],
   "source": [
    "a = 10\n",
    "r = 0.2\n",
    "ans = a/r\n",
    "\n",
    "print(round(ans))"
   ]
  },
  {
   "cell_type": "markdown",
   "metadata": {},
   "source": [
    "Modules/Names Imports\n",
    "\n",
    "- module truc⇔file truc.py\n",
    "- direct access to names\n",
    "- renaming with as\n",
    "- modules and packages searched in python path (cf sys.path)"
   ]
  },
  {
   "cell_type": "code",
   "execution_count": 8,
   "metadata": {},
   "outputs": [
    {
     "name": "stdout",
     "output_type": "stream",
     "text": [
      "1.4142135623730951\n"
     ]
    }
   ],
   "source": [
    "from math import sqrt\n",
    "\n",
    "print(sqrt(2))"
   ]
  },
  {
   "cell_type": "code",
   "execution_count": 9,
   "metadata": {},
   "outputs": [
    {
     "name": "stdout",
     "output_type": "stream",
     "text": [
      "1.4142135623730951\n"
     ]
    }
   ],
   "source": [
    "import math \n",
    "\n",
    "print(math.sqrt(2))"
   ]
  },
  {
   "cell_type": "markdown",
   "metadata": {},
   "source": [
    "Maths \n",
    "\n",
    "- Operators: + - * / // % **\n",
    "- modules math, statistics, random, decimal, fractions, numpy, etc."
   ]
  },
  {
   "cell_type": "code",
   "execution_count": 10,
   "metadata": {
    "scrolled": true
   },
   "outputs": [
    {
     "name": "stdout",
     "output_type": "stream",
     "text": [
      "(1+5.3)*2 = 12.6\n",
      "abs(-3.2) = 3.2\n",
      "round(3.578, 1) = 3.58\n",
      "pow(4,3) = 64\n",
      "4**3 = 64\n"
     ]
    }
   ],
   "source": [
    "print('(1+5.3)*2 =', (1+5.3)*2)\n",
    "print('abs(-3.2) =', abs(-3.2))\n",
    "print('round(3.578, 1) =', round(3.578,2))\n",
    "print('pow(4,3) =', pow(4,3))\n",
    "print('4**3 =', 4 ** 3)"
   ]
  },
  {
   "cell_type": "code",
   "execution_count": 11,
   "metadata": {},
   "outputs": [
    {
     "data": {
      "text/plain": [
       "12"
      ]
     },
     "execution_count": 11,
     "metadata": {},
     "output_type": "execute_result"
    }
   ],
   "source": [
    "from math import sin, cos, sqrt, log, ceil, floor\n",
    "from math import e, pi\n",
    "\n",
    "sin(pi/4)\n",
    "cos(2*pi/3)\n",
    "sqrt(81)\n",
    "log(e**2)\n",
    "ceil(12.5)\n",
    "floor(12.5)"
   ]
  },
  {
   "cell_type": "code",
   "execution_count": 13,
   "metadata": {},
   "outputs": [
    {
     "data": {
      "text/plain": [
       "9"
      ]
     },
     "execution_count": 13,
     "metadata": {},
     "output_type": "execute_result"
    }
   ],
   "source": [
    "int(sqrt(81))"
   ]
  },
  {
   "cell_type": "code",
   "execution_count": null,
   "metadata": {},
   "outputs": [],
   "source": []
  },
  {
   "cell_type": "markdown",
   "metadata": {},
   "source": [
    "Boolean Logic\n",
    "\n",
    "- Comparisons : < > <= >= == !=\n",
    "- and, or, nor"
   ]
  },
  {
   "cell_type": "code",
   "execution_count": 15,
   "metadata": {},
   "outputs": [
    {
     "name": "stdout",
     "output_type": "stream",
     "text": [
      "False\n",
      "True\n",
      "True\n",
      "-1.099\n"
     ]
    }
   ],
   "source": [
    "a = False\n",
    "b = True\n",
    "\n",
    "print(a and b)\n",
    "print(a or b)\n",
    "print(not a)\n",
    "\n",
    "print(-1.099 or False)"
   ]
  },
  {
   "cell_type": "code",
   "execution_count": null,
   "metadata": {},
   "outputs": [],
   "source": []
  },
  {
   "cell_type": "markdown",
   "metadata": {},
   "source": [
    "Conditional Statement\n",
    "- statement block executed only if a condition is true"
   ]
  },
  {
   "cell_type": "code",
   "execution_count": 2,
   "metadata": {},
   "outputs": [],
   "source": [
    "age = 21\n",
    "\n",
    "if age <= 18:\n",
    "    state = \"Kid\"\n",
    "    \n",
    "elif age > 65:\n",
    "    state = \"Retired\"\n",
    "\n",
    "else:\n",
    "    state = \"Active\"\n",
    "\n",
    "    \n",
    "print(state)"
   ]
  },
  {
   "cell_type": "code",
   "execution_count": null,
   "metadata": {},
   "outputs": [],
   "source": []
  },
  {
   "cell_type": "markdown",
   "metadata": {},
   "source": [
    "Iterative Loop Statement\n",
    "\n",
    "- statements block executed for each item of a container or iterator"
   ]
  },
  {
   "cell_type": "code",
   "execution_count": 6,
   "metadata": {},
   "outputs": [],
   "source": [
    "s = \"Some text\"\n",
    "cnt = 0\n",
    "\n",
    "for c in s:\n",
    "    if c == \"e\":\n",
    "        cnt += 1\n",
    "\n",
    "        \n",
    "print(\"found\", cnt, \"'e'\")"
   ]
  },
  {
   "cell_type": "code",
   "execution_count": null,
   "metadata": {},
   "outputs": [],
   "source": []
  },
  {
   "cell_type": "markdown",
   "metadata": {},
   "source": [
    "Integer Sequences\n",
    "- range([start,] end [,step])\n",
    "- start default 0, end not included in sequence, step signed, default 1"
   ]
  },
  {
   "cell_type": "code",
   "execution_count": 92,
   "metadata": {},
   "outputs": [
    {
     "data": {
      "text/plain": [
       "range(20, 5, -5)"
      ]
     },
     "execution_count": 92,
     "metadata": {},
     "output_type": "execute_result"
    }
   ],
   "source": [
    "range(5) #→ 0 1 2 3 4\n",
    "range(2,12,3) #→ 2 5 8 11\n",
    "range(3,8) #→ 3 4 5 6 7\n",
    "range(20,5,-5) #→ 20 15 10"
   ]
  },
  {
   "cell_type": "code",
   "execution_count": null,
   "metadata": {},
   "outputs": [],
   "source": [
    "s = 0\n",
    "\n",
    "for i in range(0, 10, 2):\n",
    "    s += i\n",
    "    print(s)"
   ]
  },
  {
   "cell_type": "markdown",
   "metadata": {},
   "source": [
    "#### Task: calculate an approximate PV of annuity using loop"
   ]
  },
  {
   "cell_type": "code",
   "execution_count": 6,
   "metadata": {},
   "outputs": [
    {
     "name": "stdout",
     "output_type": "stream",
     "text": [
      "99.99999999999996\n"
     ]
    }
   ],
   "source": [
    "r = 0.1\n",
    "A = 10\n",
    "\n",
    "# define num of iteration (years):\n",
    "n = 1000\n",
    "\n",
    "PV = 0\n",
    "\n",
    "for t in range(1, n+1):\n",
    "\n",
    "    PV += A / ((1 + r) ** t)\n",
    "\n",
    "print(PV)\n",
    "\n"
   ]
  },
  {
   "cell_type": "code",
   "execution_count": null,
   "metadata": {},
   "outputs": [],
   "source": []
  },
  {
   "cell_type": "markdown",
   "metadata": {},
   "source": [
    "Conditional Loop Statement\n",
    "- statements block executed as long as condition is true"
   ]
  },
  {
   "cell_type": "code",
   "execution_count": 10,
   "metadata": {},
   "outputs": [
    {
     "name": "stdout",
     "output_type": "stream",
     "text": [
      "sum: 338350\n"
     ]
    }
   ],
   "source": [
    "s = 0\n",
    "i = 1\n",
    "\n",
    "while i <= 100:\n",
    "    s = s + i**2\n",
    "    i = i + 1\n",
    "\n",
    "print(\"sum:\", s)"
   ]
  },
  {
   "cell_type": "markdown",
   "metadata": {},
   "source": [
    "Loop Control"
   ]
  },
  {
   "cell_type": "code",
   "execution_count": 30,
   "metadata": {},
   "outputs": [
    {
     "name": "stdout",
     "output_type": "stream",
     "text": [
      "sum: 5240 index: 26\n"
     ]
    }
   ],
   "source": [
    "# break \n",
    "# continue \n",
    "\n",
    "\n",
    "s = 0\n",
    "i = 1\n",
    "\n",
    "while i <= 100:\n",
    "    \n",
    "    if i < 10:\n",
    "        i += 1\n",
    "        continue # next iteration\n",
    "        \n",
    "    elif s >= 5000:\n",
    "        break # immediate exit\n",
    "    \n",
    "    s = s + i**2\n",
    "    i += 1\n",
    "    \n",
    "print(\"sum:\", s, \"index:\", i)"
   ]
  },
  {
   "cell_type": "markdown",
   "metadata": {},
   "source": [
    "#### Task: calculate an approximate PV of annuity using loop, stop when accuracy reaches some level -- $abs(error)<tol$, check the convergence depending on $n$"
   ]
  },
  {
   "cell_type": "code",
   "execution_count": 13,
   "metadata": {},
   "outputs": [
    {
     "name": "stdout",
     "output_type": "stream",
     "text": [
      "Number of period: 97\n",
      "Theoretical value: 100.0\n",
      "Calculated value 99.99999999999996\n"
     ]
    }
   ],
   "source": [
    "tolerance = 10 ** -2\n",
    "\n",
    "r = 0.1\n",
    "A = 10\n",
    "\n",
    "t = 1\n",
    "\n",
    "PV_approx = 0 \n",
    "error = float('inf')\n",
    "\n",
    "while abs(error) >= tolerance:\n",
    "\n",
    "    PV_approx += A / ((1 + r) ** t)\n",
    "    \n",
    "    error = (A / r) - PV_approx\n",
    "\n",
    "    t += 1\n",
    "\n",
    "print(f'Number of period: {t - 1}')\n",
    "\n",
    "\n",
    "\n",
    "\n",
    "    \n",
    "print('Theoretical value:', A/r)\n",
    "print('Calculated value', PV)\n"
   ]
  },
  {
   "cell_type": "code",
   "execution_count": null,
   "metadata": {},
   "outputs": [],
   "source": []
  },
  {
   "cell_type": "markdown",
   "metadata": {},
   "source": [
    "Container types -- list, tuple, dict, set"
   ]
  },
  {
   "cell_type": "code",
   "execution_count": null,
   "metadata": {},
   "outputs": [],
   "source": [
    "# str -- ordered sequences of chars\n",
    "\n",
    "# list and tuple -- ordered sequences, fast index access, repeatable values\n",
    "\n",
    "# list\n",
    "[1, 5, 9]\n",
    "[\"x\", 11, 8.9]\n",
    "[\"word\"]\n",
    "[]\n",
    "\n",
    "#tuple\n",
    "(1, 5, 9)\n",
    "11, \"y\", 7.4\n",
    "(\"word\", )\n",
    "()\n",
    "\n",
    "# dict and set -- no a priori order, fast key access, each key is unique\n",
    "\n",
    "#dict  \n",
    "{\"key\":\"value\"}\n",
    "{1:\"one\"\n",
    " 3:\"three\"\n",
    " 2:\"two\"\n",
    " 3.14:\"π\"}\n",
    "\n",
    "dict(a=3,b=4,k=\"v\")\n",
    "{}\n",
    "\n",
    "# set \n",
    "{1,9,3,0}\n",
    "{\"key1\",\"key2\"}\n",
    "set()"
   ]
  },
  {
   "cell_type": "code",
   "execution_count": null,
   "metadata": {},
   "outputs": [],
   "source": []
  },
  {
   "cell_type": "markdown",
   "metadata": {},
   "source": [
    "Conversions between types"
   ]
  },
  {
   "cell_type": "code",
   "execution_count": 18,
   "metadata": {},
   "outputs": [
    {
     "data": {
      "text/plain": [
       "'42'"
      ]
     },
     "execution_count": 18,
     "metadata": {},
     "output_type": "execute_result"
    }
   ],
   "source": [
    "x = 42\n",
    "\n",
    "int(\"15\") # → 15\n",
    "\n",
    "int(\"3f\",16) # → 63 can specify integer number base in 2nd parameter\n",
    "\n",
    "int(15.56) # → 15 truncate decimal part\n",
    "\n",
    "float(\"-11.24e8\") # → -1124000000.0\n",
    "\n",
    "round(15.56,1) # → 15.6 rounding to 1 decimal (0 decimal → integer number)\n",
    "\n",
    "bool(x) # False for null x, empty container x , None or False x ; True for other x\n",
    "\n",
    "str(x) #→ \"…\" representation string of x for display (cf. formatting on the back)\n",
    "\n",
    "chr(64) #→'@' ord('@')→64 code ↔ char\n",
    "\n",
    "repr(x) #→ \"…\" literal representation string of x"
   ]
  },
  {
   "cell_type": "code",
   "execution_count": 20,
   "metadata": {},
   "outputs": [
    {
     "data": {
      "text/plain": [
       "[1, 29, -3]"
      ]
     },
     "execution_count": 20,
     "metadata": {},
     "output_type": "execute_result"
    }
   ],
   "source": [
    "list(\"abc\") # → ['a','b','c']\n",
    "\n",
    "dict([(3,\"three\"),(1,\"one\")]) # → {1:'one',3:'three'}\n",
    "\n",
    "set([\"one\",\"two\"]) # → {'one','two'}\n",
    "\n",
    "#separator str and sequence of str → assembled str\n",
    "':'.join(['toto','12','pswd']) # → 'toto:12:pswd'\n",
    "\n",
    "#str splitted on whitespaces → list of str\n",
    "\"words with spaces\".split() # → ['words','with','spaces']\n",
    "\n",
    "#str splitted on separator str → list of str\n",
    "\"1,4,8,2\".split(\",\") # → ['1','4','8','2']\n",
    "\n",
    "#sequence of one type → list of another type (via list comprehension)\n",
    "[int(x) for x in ('1','29','-3')] # → [1,29,-3]"
   ]
  },
  {
   "cell_type": "code",
   "execution_count": null,
   "metadata": {},
   "outputs": [],
   "source": []
  },
  {
   "cell_type": "markdown",
   "metadata": {},
   "source": [
    "Sequence Containers Indexing\n",
    "\n",
    "- for lists, tuples, strings, bytes…\n",
    "- index from 0\n",
    "- Individual access to items via lst[index]"
   ]
  },
  {
   "cell_type": "code",
   "execution_count": 30,
   "metadata": {},
   "outputs": [],
   "source": [
    "lst = [10, 20, 30, 40, 50]\n",
    "\n",
    "len(lst)\n",
    "\n",
    "lst[0] # →10\n",
    "lst[-1] # →50\n",
    "lst[1] # →20\n",
    "lst[-2] # →40\n",
    "\n",
    "\n",
    "lst[4]=25\n",
    "\n",
    "# Access to sub-sequences via lst[start slice:end slice:step]\n",
    "lst[:-1] # →[10,20,30,40]\n",
    "lst[1:-1] # →[20,30,40]\n",
    "lst[3:] # →[40,50]\n",
    "\n",
    "lst[::2]# →[10,30,50]\n",
    "lst[::-1] # →[50,40,30,20,10]\n",
    "lst[::-2] # →[50,30,10]\n",
    "\n",
    "lst[1:3] # →[20,30]\n",
    "lst[-3:-1] # →[30,40]\n",
    "\n",
    "lst[:3]# → [10,20,30]\n",
    "lst[3:] # → [40,50]\n",
    "\n",
    "# modify\n",
    "lst[1:4] = [15,25]\n",
    "\n",
    "# delete\n",
    "del lst[3]"
   ]
  },
  {
   "cell_type": "markdown",
   "metadata": {},
   "source": [
    "Generic Operations on Containers"
   ]
  },
  {
   "cell_type": "code",
   "execution_count": 21,
   "metadata": {},
   "outputs": [
    {
     "data": {
      "text/plain": [
       "1"
      ]
     },
     "execution_count": 21,
     "metadata": {},
     "output_type": "execute_result"
    }
   ],
   "source": [
    "val = 20\n",
    "\n",
    "c = [10, 20, 30, -42]\n",
    "c2 = [42]\n",
    "\n",
    "len(c) # №→ items count\n",
    "min(c)\n",
    "max(c) \n",
    "sum(c)\n",
    "sorted(c) #→ list sorted copy\n",
    "val in c # → boolean, membership operator in (absence not in)\n",
    "all(c) # → True if all c items evaluated to true, else False\n",
    "any(c) #→ True if at least one item of c evaluated true, else False\n",
    "\n",
    "\n",
    "# Specific to ordered sequences containers (lists, tuples, strings, bytes…)\n",
    "reversed(c) #→ inversed iterator\n",
    "c*5 #→ duplicate\n",
    "c+c2 #→ concatenate\n",
    "c.index(val) #→ position\n",
    "c.count(val) #→ events count"
   ]
  },
  {
   "cell_type": "code",
   "execution_count": 29,
   "metadata": {},
   "outputs": [
    {
     "name": "stdout",
     "output_type": "stream",
     "text": [
      "[-42, 30, 20, 10]\n"
     ]
    }
   ],
   "source": [
    "c.reverse()\n",
    "print(c)"
   ]
  },
  {
   "cell_type": "code",
   "execution_count": 30,
   "metadata": {},
   "outputs": [],
   "source": [
    "val = 20\n",
    "\n",
    "c = [10, 20, 30, -42]\n",
    "c2 = [42, 37]"
   ]
  },
  {
   "cell_type": "code",
   "execution_count": 31,
   "metadata": {},
   "outputs": [
    {
     "data": {
      "text/plain": [
       "[-42, 10, 20, 30]"
      ]
     },
     "execution_count": 31,
     "metadata": {},
     "output_type": "execute_result"
    }
   ],
   "source": [
    "sorted(c)"
   ]
  },
  {
   "cell_type": "code",
   "execution_count": 32,
   "metadata": {},
   "outputs": [
    {
     "data": {
      "text/plain": [
       "[10, 20, 30, -42]"
      ]
     },
     "execution_count": 32,
     "metadata": {},
     "output_type": "execute_result"
    }
   ],
   "source": [
    "c"
   ]
  },
  {
   "cell_type": "code",
   "execution_count": 33,
   "metadata": {},
   "outputs": [
    {
     "name": "stdout",
     "output_type": "stream",
     "text": [
      "10\n",
      "20\n",
      "30\n",
      "-42\n"
     ]
    }
   ],
   "source": [
    "for elemnt in c:\n",
    "    print(elemnt)"
   ]
  },
  {
   "cell_type": "code",
   "execution_count": null,
   "metadata": {},
   "outputs": [],
   "source": []
  },
  {
   "cell_type": "code",
   "execution_count": 53,
   "metadata": {},
   "outputs": [
    {
     "name": "stdout",
     "output_type": "stream",
     "text": [
      "0 10\n",
      "1 20\n",
      "2 30\n",
      "3 -42\n"
     ]
    }
   ],
   "source": [
    "# iterator on (index, value)\n",
    "\n",
    "for i, x in enumerate(c):\n",
    "    print(i, x)"
   ]
  },
  {
   "cell_type": "code",
   "execution_count": 54,
   "metadata": {},
   "outputs": [
    {
     "data": {
      "text/plain": [
       "[10, 20, 30, -42]"
      ]
     },
     "execution_count": 54,
     "metadata": {},
     "output_type": "execute_result"
    }
   ],
   "source": [
    "c"
   ]
  },
  {
   "cell_type": "code",
   "execution_count": 55,
   "metadata": {},
   "outputs": [
    {
     "data": {
      "text/plain": [
       "['a', 'b', 'c', 'd']"
      ]
     },
     "execution_count": 55,
     "metadata": {},
     "output_type": "execute_result"
    }
   ],
   "source": [
    "['a', 'b', 'c', 'd']"
   ]
  },
  {
   "cell_type": "code",
   "execution_count": 56,
   "metadata": {},
   "outputs": [
    {
     "name": "stdout",
     "output_type": "stream",
     "text": [
      "(10, 'a')\n",
      "(20, 'b')\n",
      "(30, 'c')\n",
      "(-42, 'd')\n"
     ]
    }
   ],
   "source": [
    "# iterator on tuples containing ci items at same index\n",
    "\n",
    "for x in zip(c, ['a', 'b', 'c', 'd']):\n",
    "    print(x)"
   ]
  },
  {
   "cell_type": "code",
   "execution_count": null,
   "metadata": {},
   "outputs": [],
   "source": []
  },
  {
   "cell_type": "markdown",
   "metadata": {},
   "source": [
    "#### Task: check if all odd elements of $c$ are greater than all corresponding even elements -- $\\forall i: c_{2i} > c_{2i+1}$ -- in one line using $zip()$ and $all()$"
   ]
  },
  {
   "cell_type": "code",
   "execution_count": 22,
   "metadata": {},
   "outputs": [
    {
     "name": "stdout",
     "output_type": "stream",
     "text": [
      "[-7, 1, 23, 0.36787944117144233]\n",
      "[3, 3, 54, -131.94689145077132]\n"
     ]
    },
    {
     "data": {
      "text/plain": [
       "False"
      ]
     },
     "execution_count": 22,
     "metadata": {},
     "output_type": "execute_result"
    }
   ],
   "source": [
    "import math\n",
    "\n",
    "c = [-7, 3, 1, 3, 23, 54, 1/math.e, -42*math.pi]\n",
    "\n",
    "# task: print all odd elements\n",
    "odd = c[::2]\n",
    "print(odd)\n",
    "\n",
    "# task: print all even elements\n",
    "\n",
    "even = c[1::2]\n",
    "print(even)\n",
    "\n",
    "# task: check if all odd elements of  c  are greater than all corresponding even elements\n",
    "#print(c[::2] < c[1::2]) # wrong!\n",
    "zip_lst = zip(odd, even)\n",
    "\n",
    "all([True if x > y else False for x, y in zip_lst])\n",
    "\n"
   ]
  },
  {
   "cell_type": "code",
   "execution_count": null,
   "metadata": {},
   "outputs": [],
   "source": []
  },
  {
   "cell_type": "markdown",
   "metadata": {},
   "source": [
    "Operations on Lists"
   ]
  },
  {
   "cell_type": "code",
   "execution_count": 52,
   "metadata": {},
   "outputs": [],
   "source": [
    "val = 777\n",
    "idx = 2\n",
    "\n",
    "lst = [10, 20, 30, 40, 50]\n",
    "seq = [42, val]\n",
    "\n",
    "lst.append(val) # add item at end\n",
    "lst.extend(seq) # add sequence of items at end\n",
    "lst.insert(idx,val) # insert item at index\n",
    "lst.remove(val) # remove first item with value val\n",
    "lst.pop(idx) # remove & return item at index idx (default last)\n",
    "lst.sort() # sort / reverse liste in place\n",
    "lst.reverse() "
   ]
  },
  {
   "cell_type": "code",
   "execution_count": null,
   "metadata": {},
   "outputs": [],
   "source": []
  },
  {
   "cell_type": "markdown",
   "metadata": {},
   "source": [
    "Operations on Dictionaries"
   ]
  },
  {
   "cell_type": "code",
   "execution_count": null,
   "metadata": {},
   "outputs": [],
   "source": [
    "d = {}\n",
    "key = 'a'\n",
    "value = 1\n",
    "\n",
    "d[key] = value"
   ]
  },
  {
   "cell_type": "code",
   "execution_count": null,
   "metadata": {},
   "outputs": [],
   "source": []
  },
  {
   "cell_type": "markdown",
   "metadata": {},
   "source": [
    "#### Task: create a dict of dicts from the following \"table\" using  $.split()$ and $dict()$"
   ]
  },
  {
   "cell_type": "code",
   "execution_count": 14,
   "metadata": {},
   "outputs": [
    {
     "name": "stdout",
     "output_type": "stream",
     "text": [
      "dict_keys(['TLRY', 'UBER', 'ROKU', 'ABEO', 'COUP', 'AMZN', 'LYFT', 'ARDX'])\n"
     ]
    },
    {
     "data": {
      "text/plain": [
       "{'Symbol': 'UBER',\n",
       " 'Name': 'Uber Technologies, Inc.',\n",
       " 'Last Price': '30.70',\n",
       " 'Market Time': '4:00PM EDT',\n",
       " 'Change': '-1.87',\n",
       " '% Change': '-5.74%',\n",
       " 'Volume': '12.017M',\n",
       " 'Avg Vol (3 month)': '10.644M',\n",
       " 'Market Cap': '52.222B'}"
      ]
     },
     "execution_count": 14,
     "metadata": {},
     "output_type": "execute_result"
    }
   ],
   "source": [
    "# https://finance.yahoo.com/trending-tickers\n",
    "\n",
    "news = \"\"\"\n",
    "Symbol\tName\tLast Price\tMarket Time\tChange\t% Change\tVolume\tAvg Vol (3 month)\tMarket Cap\tIntraday High/Low\t52 Week Range\tDay Chart\n",
    "TLRY\tTilray, Inc.\t30.10\t4:00PM EDT\t+4.43\t+17.26%\t4.562M\t1.744M\t3.114B\t\t\t\n",
    "UBER\tUber Technologies, Inc.\t30.70\t4:00PM EDT\t-1.87\t-5.74%\t12.017M\t10.644M\t52.222B\t\t\t\n",
    "ROKU\tRoku, Inc.\t156.88\t4:00PM EDT\t+5.52\t+3.65%\t12.22M\t9.962M\t17.576B\t\t\t\n",
    "ABEO\tAbeona Therapeutics Inc.\t2.9400\t4:00PM EDT\t+1.4000\t+90.91%\t23.16M\t1.04M\t168.526M\t\t\t\n",
    "COUP\tCoupa Software Incorporated\t134.40\t4:00PM EDT\t-4.53\t-3.26%\t2.917M\t1.565M\t8.384B\t\t\t\n",
    "AMZN\tAmazon.com, Inc.\t1,789.84\t4:00PM EDT\t+13.55\t+0.76%\t3.24M\t3.558M\t879.354B\t\t\t\n",
    "LYFT\tLyft, Inc.\t45.42\t4:00PM EDT\t-3.55\t-7.25%\t9.281M\t4.389M\t13.265B\t\t\t\n",
    "ARDX\tArdelyx, Inc.\t5.82\t4:00PM EDT\t+2.42\t+71.18%\t19.393M\t511,617\t365.501M\n",
    "\"\"\"\n",
    "\n",
    "my_dict = dict()\n",
    "\n",
    "header = news.split('\\n')[1].split('\\t')[0:-3]\n",
    "good_rows = news.split('\\n')[2:-1]\n",
    "\n",
    "\n",
    "while good_rows:\n",
    "\n",
    "    stats = good_rows.pop(0).split('\\t')\n",
    "\n",
    "    zip_lst = zip(header, stats)\n",
    "    curr_dict = dict(zip_lst)\n",
    "\n",
    "    my_dict[stats[0]] = curr_dict\n",
    "\n",
    "\n",
    "print(my_dict.keys())\n",
    "my_dict['UBER']"
   ]
  },
  {
   "cell_type": "code",
   "execution_count": 27,
   "metadata": {},
   "outputs": [
    {
     "data": {
      "text/plain": [
       "['Symbol',\n",
       " 'Name',\n",
       " 'Last',\n",
       " 'Price',\n",
       " 'Market',\n",
       " 'Time',\n",
       " 'Change',\n",
       " '%',\n",
       " 'Change',\n",
       " 'Volume',\n",
       " 'Avg',\n",
       " 'Vol',\n",
       " '(3',\n",
       " 'month)',\n",
       " 'Market',\n",
       " 'Cap',\n",
       " 'Intraday',\n",
       " 'High/Low',\n",
       " '52',\n",
       " 'Week',\n",
       " 'Range',\n",
       " 'Day',\n",
       " 'Chart',\n",
       " 'TLRY',\n",
       " 'Tilray,',\n",
       " 'Inc.',\n",
       " '30.10',\n",
       " '4:00PM',\n",
       " 'EDT',\n",
       " '+4.43',\n",
       " '+17.26%',\n",
       " '4.562M',\n",
       " '1.744M',\n",
       " '3.114B',\n",
       " 'UBER',\n",
       " 'Uber',\n",
       " 'Technologies,',\n",
       " 'Inc.',\n",
       " '30.70',\n",
       " '4:00PM',\n",
       " 'EDT',\n",
       " '-1.87',\n",
       " '-5.74%',\n",
       " '12.017M',\n",
       " '10.644M',\n",
       " '52.222B',\n",
       " 'ROKU',\n",
       " 'Roku,',\n",
       " 'Inc.',\n",
       " '156.88',\n",
       " '4:00PM',\n",
       " 'EDT',\n",
       " '+5.52',\n",
       " '+3.65%',\n",
       " '12.22M',\n",
       " '9.962M',\n",
       " '17.576B',\n",
       " 'ABEO',\n",
       " 'Abeona',\n",
       " 'Therapeutics',\n",
       " 'Inc.',\n",
       " '2.9400',\n",
       " '4:00PM',\n",
       " 'EDT',\n",
       " '+1.4000',\n",
       " '+90.91%',\n",
       " '23.16M',\n",
       " '1.04M',\n",
       " '168.526M',\n",
       " 'COUP',\n",
       " 'Coupa',\n",
       " 'Software',\n",
       " 'Incorporated',\n",
       " '134.40',\n",
       " '4:00PM',\n",
       " 'EDT',\n",
       " '-4.53',\n",
       " '-3.26%',\n",
       " '2.917M',\n",
       " '1.565M',\n",
       " '8.384B',\n",
       " 'AMZN',\n",
       " 'Amazon.com,',\n",
       " 'Inc.',\n",
       " '1,789.84',\n",
       " '4:00PM',\n",
       " 'EDT',\n",
       " '+13.55',\n",
       " '+0.76%',\n",
       " '3.24M',\n",
       " '3.558M',\n",
       " '879.354B',\n",
       " 'LYFT',\n",
       " 'Lyft,',\n",
       " 'Inc.',\n",
       " '45.42',\n",
       " '4:00PM',\n",
       " 'EDT',\n",
       " '-3.55',\n",
       " '-7.25%',\n",
       " '9.281M',\n",
       " '4.389M',\n",
       " '13.265B',\n",
       " 'ARDX',\n",
       " 'Ardelyx,',\n",
       " 'Inc.',\n",
       " '5.82',\n",
       " '4:00PM',\n",
       " 'EDT',\n",
       " '+2.42',\n",
       " '+71.18%',\n",
       " '19.393M',\n",
       " '511,617',\n",
       " '365.501M']"
      ]
     },
     "execution_count": 27,
     "metadata": {},
     "output_type": "execute_result"
    }
   ],
   "source": [
    "total_lst = news.split()\n",
    "total_lst\n"
   ]
  },
  {
   "cell_type": "markdown",
   "metadata": {},
   "source": [
    "Operations on Sets"
   ]
  },
  {
   "cell_type": "code",
   "execution_count": null,
   "metadata": {},
   "outputs": [],
   "source": [
    "| # → union (vertical bar char)\n",
    "& # → intersection\n",
    "- ^ # → difference/symmetric diff.\n",
    "< <= > >= # → inclusion relations\n",
    "\n",
    "s.add(key)\n",
    "s.remove(key)"
   ]
  },
  {
   "cell_type": "code",
   "execution_count": 27,
   "metadata": {},
   "outputs": [
    {
     "name": "stdout",
     "output_type": "stream",
     "text": [
      "['TLRY', 'UBER', 'ROKU', 'ABEO', 'COUP', 'AMZN', 'LYFT', 'ARDX']\n",
      "['TLRY', 'UBER', 'ROKU', 'ABEO', 'COUP', 'AMZN', 'LYFT', 'ARDX', 'XOM', 'CRM', 'TLRY', 'UBER']\n",
      "['UBER', 'ABEO', 'LYFT', 'ROKU', 'TLRY', 'CRM', 'XOM', 'ARDX', 'COUP', 'AMZN']\n"
     ]
    }
   ],
   "source": [
    "a = list(my_dict.keys())\n",
    "\n",
    "print(a)\n",
    "\n",
    "a = a + ['XOM', 'CRM', 'TLRY', 'UBER']\n",
    "\n",
    "print(a)\n",
    "\n",
    "# changes the order but removes duplicates\n",
    "print(list(set(a)))"
   ]
  },
  {
   "cell_type": "markdown",
   "metadata": {},
   "source": [
    "Operations on Strings, Formatting"
   ]
  },
  {
   "cell_type": "code",
   "execution_count": null,
   "metadata": {},
   "outputs": [],
   "source": [
    "s.startswith(prefix[,start[,end]])\n",
    "s.endswith(suffix[,start[,end]]) \n",
    "s.strip([chars])\n",
    "\n",
    "s.count(sub[,start[,end]])\n",
    "s.partition(sep)→ (before,sep,after)\n",
    "s.index(sub[,start[,end]])\n",
    "s.find(sub[,start[,end]])\n",
    "s.isalpha() \n",
    "s.isdigit() #  tests on chars categories (ex. s.isalpha())\n",
    "\n",
    "s.upper()\n",
    "s.lower()\n",
    "s.title()\n",
    "s.swapcase()\n",
    "\n",
    "s.casefold()\n",
    "s.capitalize()\n",
    "s.center([width,fill])\n",
    "\n",
    "s.ljust([width,fill])\n",
    "s.rjust([width,fill])\n",
    "s.zfill([width])\n",
    "s.encode(encoding)\n",
    "s.split([sep])\n",
    "s.join(seq)\n",
    "\n",
    "\n",
    "\"model {} {} {}\".format(x,y,r)\n",
    "\n",
    "# \"{selection:formatting!conversion}\"\n",
    "\"{:+2.3f}\".format(45.72793) #'+45.728'\n",
    "\"{x!r}\".format(x=\"I'm\") # →'\"I\\'m\"'"
   ]
  },
  {
   "cell_type": "code",
   "execution_count": null,
   "metadata": {},
   "outputs": [],
   "source": []
  },
  {
   "cell_type": "markdown",
   "metadata": {},
   "source": [
    "Function Definition and Call"
   ]
  },
  {
   "cell_type": "code",
   "execution_count": 65,
   "metadata": {},
   "outputs": [],
   "source": [
    "def my_power(x):\n",
    "    \n",
    "    result = x * x\n",
    "    \n",
    "    return result\n",
    "\n",
    "#Advanced:\n",
    "#def fct(x,y,z,*args,a=3,b=5,**kwargs):\n",
    "# *args variable positional arguments (→tuple), default values,\n",
    "# **kwargs variable named arguments (→dict)"
   ]
  },
  {
   "cell_type": "code",
   "execution_count": 67,
   "metadata": {},
   "outputs": [
    {
     "data": {
      "text/plain": [
       "9.8596"
      ]
     },
     "execution_count": 67,
     "metadata": {},
     "output_type": "execute_result"
    }
   ],
   "source": [
    "my_power(3.14)"
   ]
  },
  {
   "cell_type": "markdown",
   "metadata": {},
   "source": [
    "lambda functions"
   ]
  },
  {
   "cell_type": "code",
   "execution_count": 15,
   "metadata": {},
   "outputs": [
    {
     "data": {
      "text/plain": [
       "144"
      ]
     },
     "execution_count": 15,
     "metadata": {},
     "output_type": "execute_result"
    }
   ],
   "source": [
    "f = lambda x: x*x\n",
    "\n",
    "f(12)"
   ]
  },
  {
   "cell_type": "code",
   "execution_count": null,
   "metadata": {},
   "outputs": [],
   "source": []
  },
  {
   "cell_type": "markdown",
   "metadata": {},
   "source": [
    "#### Task: write a function that calculates NPV and prints an investment decision (with nice formatting)"
   ]
  },
  {
   "cell_type": "code",
   "execution_count": 17,
   "metadata": {},
   "outputs": [
    {
     "name": "stdout",
     "output_type": "stream",
     "text": [
      "NPV of this project is: 10.996516631377617\n",
      "Nice, let's add it to our portfolio\n"
     ]
    }
   ],
   "source": [
    "def my_npv(I, CFs, wacc=0.17):\n",
    "    \n",
    "    NPV = -I \n",
    "\n",
    "    for t, x in enumerate(CFs):\n",
    "        NPV += x / (1 + wacc)**(t + 1)\n",
    "\n",
    "    print(f'NPV of this project is: {NPV}')\n",
    "\n",
    "    if NPV > 0:\n",
    "        print(\"Nice, let's add it to our portfolio\")\n",
    "    else:\n",
    "        print(\"Let's forget about this project\")\n",
    "\n",
    "        \n",
    "I = 100\n",
    "CFs = [10, 20, 50, 70]\n",
    "wacc = 0.10\n",
    "\n",
    "my_npv(I, CFs, wacc)"
   ]
  },
  {
   "cell_type": "code",
   "execution_count": 18,
   "metadata": {},
   "outputs": [
    {
     "name": "stdout",
     "output_type": "stream",
     "text": [
      "NPV of this project is: -8.268689234503057\n",
      "Let's forget about this project\n"
     ]
    }
   ],
   "source": [
    "my_npv(I, CFs)"
   ]
  },
  {
   "cell_type": "code",
   "execution_count": null,
   "metadata": {},
   "outputs": [],
   "source": []
  },
  {
   "cell_type": "markdown",
   "metadata": {},
   "source": [
    "Class declaration"
   ]
  },
  {
   "cell_type": "markdown",
   "metadata": {},
   "source": [
    "#### Task: add  a method that calculates NPV and prints an investment decision"
   ]
  },
  {
   "cell_type": "code",
   "execution_count": 19,
   "metadata": {},
   "outputs": [
    {
     "name": "stdout",
     "output_type": "stream",
     "text": [
      "50\n",
      "10.996516631377617\n"
     ]
    }
   ],
   "source": [
    "class Project:\n",
    "    def __init__(self, cfs, inv, r, project_name=''):\n",
    "        self.name = project_name\n",
    "        self.cfs = cfs\n",
    "        self.inv = inv\n",
    "        self.r = r\n",
    "        \n",
    "        \n",
    "    def get_dummy_decision(self):\n",
    "        \n",
    "        return sum(self.cfs) - self.inv\n",
    "        \n",
    "    \n",
    "    def get_npv(self):\n",
    "        NPV = self.inv * (-1)\n",
    "\n",
    "        for t, x in enumerate(self.cfs):\n",
    "            NPV += x / (1 + self.r)**(t + 1)\n",
    "            \n",
    "        return NPV\n",
    "    \n",
    "\n",
    "    \n",
    "    \n",
    "little_project = Project(CFs, I, wacc)\n",
    "\n",
    "print(little_project.get_dummy_decision())\n",
    "print(little_project.get_npv())"
   ]
  }
 ],
 "metadata": {
  "kernelspec": {
   "display_name": "Python 3 (ipykernel)",
   "language": "python",
   "name": "python3"
  },
  "language_info": {
   "codemirror_mode": {
    "name": "ipython",
    "version": 3
   },
   "file_extension": ".py",
   "mimetype": "text/x-python",
   "name": "python",
   "nbconvert_exporter": "python",
   "pygments_lexer": "ipython3",
   "version": "3.11.5"
  }
 },
 "nbformat": 4,
 "nbformat_minor": 2
}
